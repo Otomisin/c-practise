{
 "cells": [
  {
   "cell_type": "code",
   "execution_count": 1,
   "metadata": {},
   "outputs": [],
   "source": [
    "import os\n",
    "import pandas as pd\n",
    "import os"
   ]
  },
  {
   "cell_type": "code",
   "execution_count": 170,
   "metadata": {},
   "outputs": [
    {
     "data": {
      "text/plain": [
       "'C:\\\\Users\\\\orena\\\\OneDrive\\\\02_JOBS\\\\IOM\\\\08_KNOWLEDGE\\\\07_Skills\\\\Excel'"
      ]
     },
     "execution_count": 170,
     "metadata": {},
     "output_type": "execute_result"
    }
   ],
   "source": [
    "os.getcwd()"
   ]
  },
  {
   "cell_type": "code",
   "execution_count": 2,
   "metadata": {},
   "outputs": [
    {
     "name": "stderr",
     "output_type": "stream",
     "text": [
      "UsageError: Cell magic `%%sql` not found.\n"
     ]
    }
   ],
   "source": [
    "%%sql sqlite:///chinook.db"
   ]
  },
  {
   "cell_type": "code",
   "execution_count": 3,
   "metadata": {},
   "outputs": [],
   "source": [
    "import sqlite3"
   ]
  },
  {
   "cell_type": "code",
   "execution_count": 4,
   "metadata": {},
   "outputs": [],
   "source": [
    "conn = sqlite3.connect('chinook.db')"
   ]
  },
  {
   "cell_type": "code",
   "execution_count": 5,
   "metadata": {},
   "outputs": [],
   "source": [
    "cursor = conn.cursor()"
   ]
  },
  {
   "cell_type": "code",
   "execution_count": 16,
   "metadata": {},
   "outputs": [
    {
     "data": {
      "text/plain": [
       "<sqlite3.Cursor at 0x29dd780a740>"
      ]
     },
     "execution_count": 16,
     "metadata": {},
     "output_type": "execute_result"
    }
   ],
   "source": [
    "cursor.execute(\"SELECT * FROM Employees\")"
   ]
  },
  {
   "cell_type": "code",
   "execution_count": 14,
   "metadata": {},
   "outputs": [
    {
     "data": {
      "text/plain": [
       "<sqlite3.Cursor at 0x29dd780a740>"
      ]
     },
     "execution_count": 14,
     "metadata": {},
     "output_type": "execute_result"
    }
   ],
   "source": [
    "cursor.execute(\"SELECT Firstname, LastName, Hiredate FROM Employees\")"
   ]
  },
  {
   "cell_type": "code",
   "execution_count": 17,
   "metadata": {},
   "outputs": [
    {
     "name": "stdout",
     "output_type": "stream",
     "text": [
      "(1, 'Adams', 'Andrew', 'General Manager', None, '1962-02-18 00:00:00', '2002-08-14 00:00:00', '11120 Jasper Ave NW', 'Edmonton', 'AB', 'Canada', 'T5K 2N1', '+1 (780) 428-9482', '+1 (780) 428-3457', 'andrew@chinookcorp.com')\n",
      "(2, 'Edwards', 'Nancy', 'Sales Manager', 1, '1958-12-08 00:00:00', '2002-05-01 00:00:00', '825 8 Ave SW', 'Calgary', 'AB', 'Canada', 'T2P 2T3', '+1 (403) 262-3443', '+1 (403) 262-3322', 'nancy@chinookcorp.com')\n",
      "(3, 'Peacock', 'Jane', 'Sales Support Agent', 2, '1973-08-29 00:00:00', '2002-04-01 00:00:00', '1111 6 Ave SW', 'Calgary', 'AB', 'Canada', 'T2P 5M5', '+1 (403) 262-3443', '+1 (403) 262-6712', 'jane@chinookcorp.com')\n",
      "(4, 'Park', 'Margaret', 'Sales Support Agent', 2, '1947-09-19 00:00:00', '2003-05-03 00:00:00', '683 10 Street SW', 'Calgary', 'AB', 'Canada', 'T2P 5G3', '+1 (403) 263-4423', '+1 (403) 263-4289', 'margaret@chinookcorp.com')\n",
      "(5, 'Johnson', 'Steve', 'Sales Support Agent', 2, '1965-03-03 00:00:00', '2003-10-17 00:00:00', '7727B 41 Ave', 'Calgary', 'AB', 'Canada', 'T3B 1Y7', '1 (780) 836-9987', '1 (780) 836-9543', 'steve@chinookcorp.com')\n",
      "(6, 'Mitchell', 'Michael', 'IT Manager', 1, '1973-07-01 00:00:00', '2003-10-17 00:00:00', '5827 Bowness Road NW', 'Calgary', 'AB', 'Canada', 'T3B 0C5', '+1 (403) 246-9887', '+1 (403) 246-9899', 'michael@chinookcorp.com')\n",
      "(7, 'King', 'Robert', 'IT Staff', 6, '1970-05-29 00:00:00', '2004-01-02 00:00:00', '590 Columbia Boulevard West', 'Lethbridge', 'AB', 'Canada', 'T1K 5N8', '+1 (403) 456-9986', '+1 (403) 456-8485', 'robert@chinookcorp.com')\n",
      "(8, 'Callahan', 'Laura', 'IT Staff', 6, '1968-01-09 00:00:00', '2004-03-04 00:00:00', '923 7 ST NW', 'Lethbridge', 'AB', 'Canada', 'T1H 1Y8', '+1 (403) 467-3351', '+1 (403) 467-8772', 'laura@chinookcorp.com')\n"
     ]
    }
   ],
   "source": [
    "# Fetch one result\n",
    "result = cursor.fetchone()\n",
    "print(result)\n",
    "\n",
    "# Fetch all results\n",
    "results = cursor.fetchall()\n",
    "for row in results:\n",
    "    print(row)\n"
   ]
  },
  {
   "cell_type": "code",
   "execution_count": null,
   "metadata": {},
   "outputs": [],
   "source": [
    "%%sql\n",
    "\n",
    "Select \n",
    "  FirstName,\n",
    "  LastName,\n",
    "  HireDate\n",
    "FROM\n",
    "  employees;"
   ]
  },
  {
   "cell_type": "code",
   "execution_count": 171,
   "metadata": {},
   "outputs": [],
   "source": [
    "# df = pd.read_csv(r\"C:\\Users\\orena\\OneDrive\\01_ORENAIKE\\02_CAREER AND DEVELOPMENTS\\01_Schools\\ALX\\Codes\\c-practise\\practise_data.csv\")\n",
    "df_excel = pd.read_excel(r\"C:\\Users\\orena\\OneDrive\\01_ORENAIKE\\02_CAREER AND DEVELOPMENTS\\01_Schools\\ALX\\Codes\\c-practise\\Data _Practise.xlsx\", sheet_name= \"B2 - BaselineM\")"
   ]
  },
  {
   "cell_type": "code",
   "execution_count": 172,
   "metadata": {},
   "outputs": [
    {
     "data": {
      "text/html": [
       "<div>\n",
       "<style scoped>\n",
       "    .dataframe tbody tr th:only-of-type {\n",
       "        vertical-align: middle;\n",
       "    }\n",
       "\n",
       "    .dataframe tbody tr th {\n",
       "        vertical-align: top;\n",
       "    }\n",
       "\n",
       "    .dataframe thead th {\n",
       "        text-align: right;\n",
       "    }\n",
       "</style>\n",
       "<table border=\"1\" class=\"dataframe\">\n",
       "  <thead>\n",
       "    <tr style=\"text-align: right;\">\n",
       "      <th></th>\n",
       "      <th>Unnamed: 0</th>\n",
       "      <th>id</th>\n",
       "      <th>Conso_Col</th>\n",
       "      <th>date_of_survey</th>\n",
       "      <th>Language</th>\n",
       "    </tr>\n",
       "  </thead>\n",
       "  <tbody>\n",
       "    <tr>\n",
       "      <th>0</th>\n",
       "      <td>1</td>\n",
       "      <td>423679_Somalia_4_2021</td>\n",
       "      <td>Forced movement due to Conflict</td>\n",
       "      <td>44316</td>\n",
       "      <td>English</td>\n",
       "    </tr>\n",
       "    <tr>\n",
       "      <th>1</th>\n",
       "      <td>2</td>\n",
       "      <td>423681_Somalia_4_2021</td>\n",
       "      <td>Economic reasons</td>\n",
       "      <td>44308</td>\n",
       "      <td>English</td>\n",
       "    </tr>\n",
       "  </tbody>\n",
       "</table>\n",
       "</div>"
      ],
      "text/plain": [
       "   Unnamed: 0                     id                        Conso_Col  \\\n",
       "0           1  423679_Somalia_4_2021  Forced movement due to Conflict   \n",
       "1           2  423681_Somalia_4_2021                 Economic reasons   \n",
       "\n",
       "   date_of_survey Language  \n",
       "0           44316  English  \n",
       "1           44308  English  "
      ]
     },
     "execution_count": 172,
     "metadata": {},
     "output_type": "execute_result"
    }
   ],
   "source": [
    "df.head(2)"
   ]
  },
  {
   "cell_type": "code",
   "execution_count": 173,
   "metadata": {},
   "outputs": [
    {
     "name": "stdout",
     "output_type": "stream",
     "text": [
      "<class 'pandas.core.frame.DataFrame'>\n",
      "RangeIndex: 199855 entries, 0 to 199854\n",
      "Data columns (total 5 columns):\n",
      " #   Column          Non-Null Count   Dtype \n",
      "---  ------          --------------   ----- \n",
      " 0   Unnamed: 0      199855 non-null  int64 \n",
      " 1   id              199855 non-null  object\n",
      " 2   Conso_Col       171998 non-null  object\n",
      " 3   date_of_survey  199855 non-null  int64 \n",
      " 4   Language        199855 non-null  object\n",
      "dtypes: int64(2), object(3)\n",
      "memory usage: 7.6+ MB\n"
     ]
    }
   ],
   "source": [
    "df.info()"
   ]
  },
  {
   "cell_type": "code",
   "execution_count": 174,
   "metadata": {},
   "outputs": [
    {
     "data": {
      "text/html": [
       "<div>\n",
       "<style scoped>\n",
       "    .dataframe tbody tr th:only-of-type {\n",
       "        vertical-align: middle;\n",
       "    }\n",
       "\n",
       "    .dataframe tbody tr th {\n",
       "        vertical-align: top;\n",
       "    }\n",
       "\n",
       "    .dataframe thead th {\n",
       "        text-align: right;\n",
       "    }\n",
       "</style>\n",
       "<table border=\"1\" class=\"dataframe\">\n",
       "  <thead>\n",
       "    <tr style=\"text-align: right;\">\n",
       "      <th></th>\n",
       "      <th>type_of_interview/observation</th>\n",
       "      <th>type_of_interview/phone_call</th>\n",
       "      <th>type_of_interview/face_to_face</th>\n",
       "      <th>assessment_round_num</th>\n",
       "      <th>_automatic_coordinates_latitude</th>\n",
       "      <th>_automatic_coordinates_longitude</th>\n",
       "      <th>_automatic_coordinates_altitude</th>\n",
       "      <th>_automatic_coordinates_precision</th>\n",
       "      <th>manual_long</th>\n",
       "      <th>manual_lat</th>\n",
       "      <th>number_of_households_return</th>\n",
       "      <th>num_of_individuals_return</th>\n",
       "      <th>_index</th>\n",
       "    </tr>\n",
       "  </thead>\n",
       "  <tbody>\n",
       "    <tr>\n",
       "      <th>count</th>\n",
       "      <td>63.0</td>\n",
       "      <td>63.000000</td>\n",
       "      <td>63.000000</td>\n",
       "      <td>63.000000</td>\n",
       "      <td>28.000000</td>\n",
       "      <td>28.000000</td>\n",
       "      <td>28.000000</td>\n",
       "      <td>28.000000</td>\n",
       "      <td>34.000000</td>\n",
       "      <td>34.000000</td>\n",
       "      <td>35.000000</td>\n",
       "      <td>35.000000</td>\n",
       "      <td>63.000000</td>\n",
       "    </tr>\n",
       "    <tr>\n",
       "      <th>mean</th>\n",
       "      <td>0.0</td>\n",
       "      <td>0.238095</td>\n",
       "      <td>0.761905</td>\n",
       "      <td>3.587302</td>\n",
       "      <td>0.653564</td>\n",
       "      <td>42.108493</td>\n",
       "      <td>34.544816</td>\n",
       "      <td>130.568714</td>\n",
       "      <td>41.897702</td>\n",
       "      <td>1.228642</td>\n",
       "      <td>114.428571</td>\n",
       "      <td>686.571429</td>\n",
       "      <td>235.190476</td>\n",
       "    </tr>\n",
       "    <tr>\n",
       "      <th>std</th>\n",
       "      <td>0.0</td>\n",
       "      <td>0.429339</td>\n",
       "      <td>0.429339</td>\n",
       "      <td>7.268214</td>\n",
       "      <td>1.421840</td>\n",
       "      <td>0.565779</td>\n",
       "      <td>45.323852</td>\n",
       "      <td>660.349330</td>\n",
       "      <td>0.486428</td>\n",
       "      <td>2.055879</td>\n",
       "      <td>152.982368</td>\n",
       "      <td>917.894210</td>\n",
       "      <td>290.146951</td>\n",
       "    </tr>\n",
       "    <tr>\n",
       "      <th>min</th>\n",
       "      <td>0.0</td>\n",
       "      <td>0.000000</td>\n",
       "      <td>0.000000</td>\n",
       "      <td>1.000000</td>\n",
       "      <td>-0.342233</td>\n",
       "      <td>41.003239</td>\n",
       "      <td>-17.104586</td>\n",
       "      <td>3.920000</td>\n",
       "      <td>40.997158</td>\n",
       "      <td>-1.281331</td>\n",
       "      <td>1.000000</td>\n",
       "      <td>6.000000</td>\n",
       "      <td>1.000000</td>\n",
       "    </tr>\n",
       "    <tr>\n",
       "      <th>25%</th>\n",
       "      <td>0.0</td>\n",
       "      <td>0.000000</td>\n",
       "      <td>1.000000</td>\n",
       "      <td>1.000000</td>\n",
       "      <td>-0.340842</td>\n",
       "      <td>42.062031</td>\n",
       "      <td>-0.807406</td>\n",
       "      <td>4.599250</td>\n",
       "      <td>41.729623</td>\n",
       "      <td>-0.979506</td>\n",
       "      <td>10.500000</td>\n",
       "      <td>63.000000</td>\n",
       "      <td>30.500000</td>\n",
       "    </tr>\n",
       "    <tr>\n",
       "      <th>50%</th>\n",
       "      <td>0.0</td>\n",
       "      <td>0.000000</td>\n",
       "      <td>1.000000</td>\n",
       "      <td>1.000000</td>\n",
       "      <td>0.399673</td>\n",
       "      <td>42.185428</td>\n",
       "      <td>34.244261</td>\n",
       "      <td>4.916000</td>\n",
       "      <td>41.818393</td>\n",
       "      <td>0.868824</td>\n",
       "      <td>50.000000</td>\n",
       "      <td>300.000000</td>\n",
       "      <td>123.000000</td>\n",
       "    </tr>\n",
       "    <tr>\n",
       "      <th>75%</th>\n",
       "      <td>0.0</td>\n",
       "      <td>0.000000</td>\n",
       "      <td>1.000000</td>\n",
       "      <td>1.000000</td>\n",
       "      <td>0.523802</td>\n",
       "      <td>42.561196</td>\n",
       "      <td>50.509998</td>\n",
       "      <td>7.362750</td>\n",
       "      <td>42.148897</td>\n",
       "      <td>3.315653</td>\n",
       "      <td>130.000000</td>\n",
       "      <td>780.000000</td>\n",
       "      <td>265.000000</td>\n",
       "    </tr>\n",
       "    <tr>\n",
       "      <th>max</th>\n",
       "      <td>0.0</td>\n",
       "      <td>1.000000</td>\n",
       "      <td>1.000000</td>\n",
       "      <td>29.000000</td>\n",
       "      <td>4.162264</td>\n",
       "      <td>42.602035</td>\n",
       "      <td>158.760012</td>\n",
       "      <td>3500.000000</td>\n",
       "      <td>42.775421</td>\n",
       "      <td>3.840290</td>\n",
       "      <td>500.000000</td>\n",
       "      <td>3000.000000</td>\n",
       "      <td>1062.000000</td>\n",
       "    </tr>\n",
       "  </tbody>\n",
       "</table>\n",
       "</div>"
      ],
      "text/plain": [
       "       type_of_interview/observation  type_of_interview/phone_call  \\\n",
       "count                           63.0                     63.000000   \n",
       "mean                             0.0                      0.238095   \n",
       "std                              0.0                      0.429339   \n",
       "min                              0.0                      0.000000   \n",
       "25%                              0.0                      0.000000   \n",
       "50%                              0.0                      0.000000   \n",
       "75%                              0.0                      0.000000   \n",
       "max                              0.0                      1.000000   \n",
       "\n",
       "       type_of_interview/face_to_face  assessment_round_num  \\\n",
       "count                       63.000000             63.000000   \n",
       "mean                         0.761905              3.587302   \n",
       "std                          0.429339              7.268214   \n",
       "min                          0.000000              1.000000   \n",
       "25%                          1.000000              1.000000   \n",
       "50%                          1.000000              1.000000   \n",
       "75%                          1.000000              1.000000   \n",
       "max                          1.000000             29.000000   \n",
       "\n",
       "       _automatic_coordinates_latitude  _automatic_coordinates_longitude  \\\n",
       "count                        28.000000                         28.000000   \n",
       "mean                          0.653564                         42.108493   \n",
       "std                           1.421840                          0.565779   \n",
       "min                          -0.342233                         41.003239   \n",
       "25%                          -0.340842                         42.062031   \n",
       "50%                           0.399673                         42.185428   \n",
       "75%                           0.523802                         42.561196   \n",
       "max                           4.162264                         42.602035   \n",
       "\n",
       "       _automatic_coordinates_altitude  _automatic_coordinates_precision  \\\n",
       "count                        28.000000                         28.000000   \n",
       "mean                         34.544816                        130.568714   \n",
       "std                          45.323852                        660.349330   \n",
       "min                         -17.104586                          3.920000   \n",
       "25%                          -0.807406                          4.599250   \n",
       "50%                          34.244261                          4.916000   \n",
       "75%                          50.509998                          7.362750   \n",
       "max                         158.760012                       3500.000000   \n",
       "\n",
       "       manual_long  manual_lat  number_of_households_return  \\\n",
       "count    34.000000   34.000000                    35.000000   \n",
       "mean     41.897702    1.228642                   114.428571   \n",
       "std       0.486428    2.055879                   152.982368   \n",
       "min      40.997158   -1.281331                     1.000000   \n",
       "25%      41.729623   -0.979506                    10.500000   \n",
       "50%      41.818393    0.868824                    50.000000   \n",
       "75%      42.148897    3.315653                   130.000000   \n",
       "max      42.775421    3.840290                   500.000000   \n",
       "\n",
       "       num_of_individuals_return       _index  \n",
       "count                  35.000000    63.000000  \n",
       "mean                  686.571429   235.190476  \n",
       "std                   917.894210   290.146951  \n",
       "min                     6.000000     1.000000  \n",
       "25%                    63.000000    30.500000  \n",
       "50%                   300.000000   123.000000  \n",
       "75%                   780.000000   265.000000  \n",
       "max                  3000.000000  1062.000000  "
      ]
     },
     "execution_count": 174,
     "metadata": {},
     "output_type": "execute_result"
    }
   ],
   "source": [
    "df_excel.describe()"
   ]
  },
  {
   "cell_type": "code",
   "execution_count": 175,
   "metadata": {},
   "outputs": [
    {
     "data": {
      "text/html": [
       "<div>\n",
       "<style scoped>\n",
       "    .dataframe tbody tr th:only-of-type {\n",
       "        vertical-align: middle;\n",
       "    }\n",
       "\n",
       "    .dataframe tbody tr th {\n",
       "        vertical-align: top;\n",
       "    }\n",
       "\n",
       "    .dataframe thead th {\n",
       "        text-align: right;\n",
       "    }\n",
       "</style>\n",
       "<table border=\"1\" class=\"dataframe\">\n",
       "  <thead>\n",
       "    <tr style=\"text-align: right;\">\n",
       "      <th></th>\n",
       "      <th>Unnamed: 0</th>\n",
       "      <th>id</th>\n",
       "      <th>Conso_Col</th>\n",
       "      <th>date_of_survey</th>\n",
       "      <th>Language</th>\n",
       "    </tr>\n",
       "  </thead>\n",
       "  <tbody>\n",
       "    <tr>\n",
       "      <th>0</th>\n",
       "      <td>1</td>\n",
       "      <td>423679_Somalia_4_2021</td>\n",
       "      <td>Forced movement due to Conflict</td>\n",
       "      <td>44316</td>\n",
       "      <td>English</td>\n",
       "    </tr>\n",
       "    <tr>\n",
       "      <th>1</th>\n",
       "      <td>2</td>\n",
       "      <td>423681_Somalia_4_2021</td>\n",
       "      <td>Economic reasons</td>\n",
       "      <td>44308</td>\n",
       "      <td>English</td>\n",
       "    </tr>\n",
       "    <tr>\n",
       "      <th>2</th>\n",
       "      <td>3</td>\n",
       "      <td>423722_Somalia_4_2021</td>\n",
       "      <td>Access to services</td>\n",
       "      <td>44309</td>\n",
       "      <td>English</td>\n",
       "    </tr>\n",
       "    <tr>\n",
       "      <th>3</th>\n",
       "      <td>4</td>\n",
       "      <td>423750_Somalia_4_2021</td>\n",
       "      <td>Economic reasons</td>\n",
       "      <td>44299</td>\n",
       "      <td>English</td>\n",
       "    </tr>\n",
       "    <tr>\n",
       "      <th>4</th>\n",
       "      <td>5</td>\n",
       "      <td>423753_Somalia_4_2021</td>\n",
       "      <td>Access to services</td>\n",
       "      <td>44299</td>\n",
       "      <td>English</td>\n",
       "    </tr>\n",
       "  </tbody>\n",
       "</table>\n",
       "</div>"
      ],
      "text/plain": [
       "   Unnamed: 0                     id                        Conso_Col  \\\n",
       "0           1  423679_Somalia_4_2021  Forced movement due to Conflict   \n",
       "1           2  423681_Somalia_4_2021                 Economic reasons   \n",
       "2           3  423722_Somalia_4_2021               Access to services   \n",
       "3           4  423750_Somalia_4_2021                 Economic reasons   \n",
       "4           5  423753_Somalia_4_2021               Access to services   \n",
       "\n",
       "   date_of_survey Language  \n",
       "0           44316  English  \n",
       "1           44308  English  \n",
       "2           44309  English  \n",
       "3           44299  English  \n",
       "4           44299  English  "
      ]
     },
     "execution_count": 175,
     "metadata": {},
     "output_type": "execute_result"
    }
   ],
   "source": [
    "df.columns \n",
    "df.head()"
   ]
  },
  {
   "cell_type": "code",
   "execution_count": 176,
   "metadata": {},
   "outputs": [
    {
     "data": {
      "text/plain": [
       "423679_Somalia_4_2021      1\n",
       "13706_Somalia_5_2018       1\n",
       "1264463_Burundi_1_2022     1\n",
       "1264503_Burundi_1_2022     1\n",
       "1264524_Burundi_1_2022     1\n",
       "                          ..\n",
       "1568473_Somalia_12_2022    1\n",
       "1568611_Somalia_12_2022    1\n",
       "1605722_Ethiopia_1_2023    1\n",
       "1588514_Djibouti_1_2023    1\n",
       "547118_Somalia_9_2021      1\n",
       "Name: id, Length: 199855, dtype: int64"
      ]
     },
     "execution_count": 176,
     "metadata": {},
     "output_type": "execute_result"
    }
   ],
   "source": [
    "df[\"id\"].value_counts(dropna=False)"
   ]
  },
  {
   "cell_type": "code",
   "execution_count": 177,
   "metadata": {},
   "outputs": [
    {
     "data": {
      "text/plain": [
       "{'name': 'Tosin', 'age': 23, 'class': 23}"
      ]
     },
     "execution_count": 177,
     "metadata": {},
     "output_type": "execute_result"
    }
   ],
   "source": [
    "df_test = {\"name\":\"Tosin\", \"age\":23, \"class\": 23}\n",
    "# type(df_test)\n",
    "\n",
    "df_testdf = pd.DataFrame([df_test])\n",
    "df_test"
   ]
  },
  {
   "cell_type": "code",
   "execution_count": 178,
   "metadata": {},
   "outputs": [
    {
     "name": "stdout",
     "output_type": "stream",
     "text": [
      "    name  age  class\n",
      "0  Tosin   23     22\n"
     ]
    }
   ],
   "source": [
    "import pandas as pd\n",
    "\n",
    "df_test = {\"name\": \"Tosin\", \"age\": 23, \"class\": 22}\n",
    "\n",
    "df_test_df = pd.DataFrame([df_test])\n",
    "print(df_test_df)\n"
   ]
  },
  {
   "cell_type": "code",
   "execution_count": 179,
   "metadata": {},
   "outputs": [
    {
     "data": {
      "text/plain": [
       "Bola     2\n",
       "Tosin    1\n",
       "Name: names, dtype: int64"
      ]
     },
     "execution_count": 179,
     "metadata": {},
     "output_type": "execute_result"
    }
   ],
   "source": [
    "import pandas as pd\n",
    "\n",
    "df_test = pd.DataFrame({\"names\": [\"Tosin\", \"Bola\", \"Bola\"], \"age\": [23,20, 20], \"class\": [3,2,2]})\n",
    "df_test\n",
    "\n",
    "# df_test.value_counts().sort_values(ascending=False)\n",
    "\n",
    "df_test.apply(pd.Series.value_counts)\n",
    "df_test[\"names\"].value_counts()"
   ]
  },
  {
   "cell_type": "code",
   "execution_count": 180,
   "metadata": {},
   "outputs": [
    {
     "name": "stderr",
     "output_type": "stream",
     "text": [
      "C:\\Users\\orena\\AppData\\Local\\Temp\\ipykernel_25264\\1210752479.py:1: DtypeWarning: Columns (1,2,4) have mixed types. Specify dtype option on import or set low_memory=False.\n",
      "  df_test2 = pd.read_csv(r\"C:\\Users\\orena\\OneDrive\\01_ORENAIKE\\02_CAREER AND DEVELOPMENTS\\01_Schools\\ALX\\Codes\\c-practise\\practise_data2.csv\")\n"
     ]
    }
   ],
   "source": [
    "df_test2 = pd.read_csv(r\"C:\\Users\\orena\\OneDrive\\01_ORENAIKE\\02_CAREER AND DEVELOPMENTS\\01_Schools\\ALX\\Codes\\c-practise\\practise_data2.csv\")"
   ]
  },
  {
   "cell_type": "code",
   "execution_count": 181,
   "metadata": {},
   "outputs": [
    {
     "data": {
      "text/plain": [
       "423679_Somalia_4_2021     2\n",
       "423681_Somalia_4_2021     2\n",
       "423722_Somalia_4_2021     2\n",
       "423750_Somalia_4_2021     1\n",
       "423753_Somalia_4_2021     1\n",
       "4243_Ethiopia_7_2018      1\n",
       "4286_Ethiopia_7_2018      1\n",
       "4331_Ethiopia_11_2018     1\n",
       "438021_Somalia_2_2021     1\n",
       "438031_Somalia_2_2021     1\n",
       "438065_Somalia_2_2021     1\n",
       "438083_Somalia_2_2021     1\n",
       "438140_Somalia_2_2021     1\n",
       "586796_Djibouti_9_2021    1\n",
       "586798_Djibouti_9_2021    1\n",
       "Name: id, dtype: int64"
      ]
     },
     "execution_count": 181,
     "metadata": {},
     "output_type": "execute_result"
    }
   ],
   "source": [
    "df_test2[\"id\"].value_counts().sort_values(ascending=False)"
   ]
  },
  {
   "cell_type": "code",
   "execution_count": 182,
   "metadata": {},
   "outputs": [
    {
     "data": {
      "text/html": [
       "<div>\n",
       "<style scoped>\n",
       "    .dataframe tbody tr th:only-of-type {\n",
       "        vertical-align: middle;\n",
       "    }\n",
       "\n",
       "    .dataframe tbody tr th {\n",
       "        vertical-align: top;\n",
       "    }\n",
       "\n",
       "    .dataframe thead th {\n",
       "        text-align: right;\n",
       "    }\n",
       "</style>\n",
       "<table border=\"1\" class=\"dataframe\">\n",
       "  <thead>\n",
       "    <tr style=\"text-align: right;\">\n",
       "      <th></th>\n",
       "      <th>Unnamed: 0</th>\n",
       "      <th>id</th>\n",
       "      <th>Conso_Col</th>\n",
       "      <th>date_of_survey</th>\n",
       "      <th>Language</th>\n",
       "    </tr>\n",
       "  </thead>\n",
       "  <tbody>\n",
       "    <tr>\n",
       "      <th>0</th>\n",
       "      <td>1.0</td>\n",
       "      <td>423679_Somalia_4_2021</td>\n",
       "      <td>Forced movement due to Conflict</td>\n",
       "      <td>44316.0</td>\n",
       "      <td>English</td>\n",
       "    </tr>\n",
       "    <tr>\n",
       "      <th>1</th>\n",
       "      <td>2.0</td>\n",
       "      <td>423681_Somalia_4_2021</td>\n",
       "      <td>Economic reasons</td>\n",
       "      <td>44308.0</td>\n",
       "      <td>English</td>\n",
       "    </tr>\n",
       "    <tr>\n",
       "      <th>2</th>\n",
       "      <td>3.0</td>\n",
       "      <td>423722_Somalia_4_2021</td>\n",
       "      <td>Access to services</td>\n",
       "      <td>44309.0</td>\n",
       "      <td>English</td>\n",
       "    </tr>\n",
       "    <tr>\n",
       "      <th>3</th>\n",
       "      <td>4.0</td>\n",
       "      <td>423679_Somalia_4_2021</td>\n",
       "      <td>Forced movement due to Conflict</td>\n",
       "      <td>44316.0</td>\n",
       "      <td>English</td>\n",
       "    </tr>\n",
       "    <tr>\n",
       "      <th>4</th>\n",
       "      <td>5.0</td>\n",
       "      <td>423681_Somalia_4_2021</td>\n",
       "      <td>Economic reasons</td>\n",
       "      <td>44308.0</td>\n",
       "      <td>English</td>\n",
       "    </tr>\n",
       "    <tr>\n",
       "      <th>...</th>\n",
       "      <td>...</td>\n",
       "      <td>...</td>\n",
       "      <td>...</td>\n",
       "      <td>...</td>\n",
       "      <td>...</td>\n",
       "    </tr>\n",
       "    <tr>\n",
       "      <th>170014</th>\n",
       "      <td>NaN</td>\n",
       "      <td>NaN</td>\n",
       "      <td>NaN</td>\n",
       "      <td>NaN</td>\n",
       "      <td>NaN</td>\n",
       "    </tr>\n",
       "    <tr>\n",
       "      <th>170015</th>\n",
       "      <td>NaN</td>\n",
       "      <td>NaN</td>\n",
       "      <td>NaN</td>\n",
       "      <td>NaN</td>\n",
       "      <td>NaN</td>\n",
       "    </tr>\n",
       "    <tr>\n",
       "      <th>170016</th>\n",
       "      <td>NaN</td>\n",
       "      <td>NaN</td>\n",
       "      <td>NaN</td>\n",
       "      <td>NaN</td>\n",
       "      <td>NaN</td>\n",
       "    </tr>\n",
       "    <tr>\n",
       "      <th>170017</th>\n",
       "      <td>NaN</td>\n",
       "      <td>NaN</td>\n",
       "      <td>NaN</td>\n",
       "      <td>NaN</td>\n",
       "      <td>NaN</td>\n",
       "    </tr>\n",
       "    <tr>\n",
       "      <th>170018</th>\n",
       "      <td>NaN</td>\n",
       "      <td>NaN</td>\n",
       "      <td>NaN</td>\n",
       "      <td>NaN</td>\n",
       "      <td>NaN</td>\n",
       "    </tr>\n",
       "  </tbody>\n",
       "</table>\n",
       "<p>170019 rows × 5 columns</p>\n",
       "</div>"
      ],
      "text/plain": [
       "        Unnamed: 0                     id                        Conso_Col  \\\n",
       "0              1.0  423679_Somalia_4_2021  Forced movement due to Conflict   \n",
       "1              2.0  423681_Somalia_4_2021                 Economic reasons   \n",
       "2              3.0  423722_Somalia_4_2021               Access to services   \n",
       "3              4.0  423679_Somalia_4_2021  Forced movement due to Conflict   \n",
       "4              5.0  423681_Somalia_4_2021                 Economic reasons   \n",
       "...            ...                    ...                              ...   \n",
       "170014         NaN                    NaN                              NaN   \n",
       "170015         NaN                    NaN                              NaN   \n",
       "170016         NaN                    NaN                              NaN   \n",
       "170017         NaN                    NaN                              NaN   \n",
       "170018         NaN                    NaN                              NaN   \n",
       "\n",
       "        date_of_survey Language  \n",
       "0              44316.0  English  \n",
       "1              44308.0  English  \n",
       "2              44309.0  English  \n",
       "3              44316.0  English  \n",
       "4              44308.0  English  \n",
       "...                ...      ...  \n",
       "170014             NaN      NaN  \n",
       "170015             NaN      NaN  \n",
       "170016             NaN      NaN  \n",
       "170017             NaN      NaN  \n",
       "170018             NaN      NaN  \n",
       "\n",
       "[170019 rows x 5 columns]"
      ]
     },
     "execution_count": 182,
     "metadata": {},
     "output_type": "execute_result"
    }
   ],
   "source": [
    "# df_test2.apply(pd.Series.value_counts)\n",
    "df_test2"
   ]
  },
  {
   "cell_type": "code",
   "execution_count": 183,
   "metadata": {},
   "outputs": [
    {
     "data": {
      "text/plain": [
       "Unnamed: 0  id                      Conso_Col                                      date_of_survey  Language\n",
       "1           423679_Somalia_4_2021   Forced movement due to Conflict                44316           English     1\n",
       "21          587070_Djibouti_9_2021  Economic reasons                               44458           English     1\n",
       "20          587048_Djibouti_9_2021  Economic reasons                               44457           English     1\n",
       "3           423722_Somalia_4_2021   Access to services                             44309           English     1\n",
       "4           423750_Somalia_4_2021   Economic reasons                               44299           English     1\n",
       "                                                                                                              ..\n",
       "199849      546839_Somalia_8_2021   Access to services (e.g. health, food, water)  44433           French      1\n",
       "199850      546840_Somalia_8_2021   Economic reasons                               44433           English     1\n",
       "199851      5469_Ethiopia_9_2018    Economic reasons                               43347           English     1\n",
       "199852      546968_Somalia_8_2021   Economic reasons                               44413           English     1\n",
       "199855      547118_Somalia_9_2021   Economic reasons                               44466           English     1\n",
       "Length: 171998, dtype: int64"
      ]
     },
     "execution_count": 183,
     "metadata": {},
     "output_type": "execute_result"
    }
   ],
   "source": [
    "df.value_counts().sort_values(ascending = False)"
   ]
  },
  {
   "cell_type": "code",
   "execution_count": 219,
   "metadata": {},
   "outputs": [
    {
     "data": {
      "text/html": [
       "<div>\n",
       "<style scoped>\n",
       "    .dataframe tbody tr th:only-of-type {\n",
       "        vertical-align: middle;\n",
       "    }\n",
       "\n",
       "    .dataframe tbody tr th {\n",
       "        vertical-align: top;\n",
       "    }\n",
       "\n",
       "    .dataframe thead th {\n",
       "        text-align: right;\n",
       "    }\n",
       "</style>\n",
       "<table border=\"1\" class=\"dataframe\">\n",
       "  <thead>\n",
       "    <tr style=\"text-align: right;\">\n",
       "      <th></th>\n",
       "      <th>Unnamed: 0</th>\n",
       "      <th>id</th>\n",
       "      <th>Conso_Col</th>\n",
       "      <th>date_of_survey</th>\n",
       "      <th>Language</th>\n",
       "    </tr>\n",
       "  </thead>\n",
       "  <tbody>\n",
       "    <tr>\n",
       "      <th>0</th>\n",
       "      <td>1.0</td>\n",
       "      <td>423679_Somalia_4_2021</td>\n",
       "      <td>Forced movement due to Conflict</td>\n",
       "      <td>44316.0</td>\n",
       "      <td>English</td>\n",
       "    </tr>\n",
       "    <tr>\n",
       "      <th>1</th>\n",
       "      <td>2.0</td>\n",
       "      <td>423681_Somalia_4_2021</td>\n",
       "      <td>Economic reasons</td>\n",
       "      <td>44308.0</td>\n",
       "      <td>English</td>\n",
       "    </tr>\n",
       "    <tr>\n",
       "      <th>2</th>\n",
       "      <td>3.0</td>\n",
       "      <td>423722_Somalia_4_2021</td>\n",
       "      <td>Access to services</td>\n",
       "      <td>44309.0</td>\n",
       "      <td>English</td>\n",
       "    </tr>\n",
       "    <tr>\n",
       "      <th>3</th>\n",
       "      <td>4.0</td>\n",
       "      <td>423679_Somalia_4_2021</td>\n",
       "      <td>Forced movement due to Conflict</td>\n",
       "      <td>44316.0</td>\n",
       "      <td>English</td>\n",
       "    </tr>\n",
       "    <tr>\n",
       "      <th>4</th>\n",
       "      <td>5.0</td>\n",
       "      <td>423681_Somalia_4_2021</td>\n",
       "      <td>Economic reasons</td>\n",
       "      <td>44308.0</td>\n",
       "      <td>English</td>\n",
       "    </tr>\n",
       "  </tbody>\n",
       "</table>\n",
       "</div>"
      ],
      "text/plain": [
       "   Unnamed: 0                     id                        Conso_Col  \\\n",
       "0         1.0  423679_Somalia_4_2021  Forced movement due to Conflict   \n",
       "1         2.0  423681_Somalia_4_2021                 Economic reasons   \n",
       "2         3.0  423722_Somalia_4_2021               Access to services   \n",
       "3         4.0  423679_Somalia_4_2021  Forced movement due to Conflict   \n",
       "4         5.0  423681_Somalia_4_2021                 Economic reasons   \n",
       "\n",
       "   date_of_survey Language  \n",
       "0         44316.0  English  \n",
       "1         44308.0  English  \n",
       "2         44309.0  English  \n",
       "3         44316.0  English  \n",
       "4         44308.0  English  "
      ]
     },
     "execution_count": 219,
     "metadata": {},
     "output_type": "execute_result"
    }
   ],
   "source": [
    "# df_test2.columns\n",
    "# dup = df_test2[\"id\"].value_counts()\n",
    "\n",
    "# print(dup)\n",
    "type(dup) #pandas.core.series.Series\n",
    "# type(df_test2) #pandas.core.frame.DataFrame\n",
    "# dup[dup > 1]\n",
    "\n",
    "# df_test2[\"id\"].value_counts()[df_test2[\"id\"].value_counts() > 1]\n",
    "\n",
    "df_test2.head()"
   ]
  },
  {
   "cell_type": "code",
   "execution_count": 1,
   "metadata": {},
   "outputs": [
    {
     "name": "stdout",
     "output_type": "stream",
     "text": [
      "Original string: hello world\n",
      "Base64 encoded string: aGVsbG8gd29ybGQ=\n"
     ]
    }
   ],
   "source": [
    "import base64\n",
    "\n",
    "# Original string\n",
    "original_string = \"hello world\"\n",
    "\n",
    "# Convert string to bytes\n",
    "original_string_bytes = original_string.encode(\"utf-8\")\n",
    "\n",
    "# Base64 encode\n",
    "base64_bytes = base64.b64encode(original_string_bytes)\n",
    "\n",
    "# Convert Base64 bytes to string\n",
    "base64_string = base64_bytes.decode(\"utf-8\")\n",
    "\n",
    "print(\"Original string:\", original_string)\n",
    "print(\"Base64 encoded string:\", base64_string)\n"
   ]
  },
  {
   "cell_type": "markdown",
   "metadata": {},
   "source": [
    "Practise"
   ]
  },
  {
   "cell_type": "code",
   "execution_count": 8,
   "metadata": {},
   "outputs": [
    {
     "name": "stdout",
     "output_type": "stream",
     "text": [
      "Newlist:  [1, 23, 3, 1, 2]\n"
     ]
    }
   ],
   "source": [
    "list = [1,2,3,1,2]\n",
    "index = 1\n",
    "\n",
    "def replace_c(list, index, element2replace):\n",
    "  if index < 0 or index >= len(list):\n",
    "    return list\n",
    "  list[index] = element2replace\n",
    "  return list\n",
    "  \n",
    "newlist = replace_c(list, index, 23)\n",
    "\n",
    "print(\"Newlist: \", newlist)"
   ]
  },
  {
   "cell_type": "markdown",
   "metadata": {},
   "source": []
  },
  {
   "cell_type": "code",
   "execution_count": 15,
   "metadata": {},
   "outputs": [
    {
     "name": "stdout",
     "output_type": "stream",
     "text": [
      "[2, 100, 7, 2]\n"
     ]
    }
   ],
   "source": [
    "list = [2,36,7,2]\n",
    "index = 2\n",
    "\n",
    "def replaceList(list, index, elem):\n",
    "  if index < 0 or index >= len(list):\n",
    "    return list\n",
    "  list[index] = elem\n",
    "  return list\n",
    "\n",
    "newlistv1 = replaceList(list, 1, 100)\n",
    "print(newlistv1)"
   ]
  },
  {
   "cell_type": "code",
   "execution_count": 20,
   "metadata": {},
   "outputs": [
    {
     "name": "stdout",
     "output_type": "stream",
     "text": [
      "6\n"
     ]
    }
   ],
   "source": [
    "#Lambda argument: expression\n",
    "\n",
    "function = lambda y,z,x: y + z * x\n",
    "result = function(2,1,4)\n",
    "print(result)\n"
   ]
  },
  {
   "cell_type": "code",
   "execution_count": 24,
   "metadata": {},
   "outputs": [
    {
     "ename": "AssertionError",
     "evalue": "x needs to be greater than 2",
     "output_type": "error",
     "traceback": [
      "\u001b[1;31m---------------------------------------------------------------------------\u001b[0m",
      "\u001b[1;31mAssertionError\u001b[0m                            Traceback (most recent call last)",
      "\u001b[1;32mc:\\Users\\orena\\OneDrive\\01_ORENAIKE\\02_CAREER_AND_DEVELOPMENTS\\01_Schools\\ALX\\Codes\\c-practise\\Practise.ipynb Cell 31\u001b[0m line \u001b[0;36m6\n\u001b[0;32m      <a href='vscode-notebook-cell:/c%3A/Users/orena/OneDrive/01_ORENAIKE/02_CAREER_AND_DEVELOPMENTS/01_Schools/ALX/Codes/c-practise/Practise.ipynb#X42sZmlsZQ%3D%3D?line=2'>3</a>\u001b[0m   \u001b[39massert\u001b[39;00m x \u001b[39m>\u001b[39m \u001b[39m2\u001b[39m, \u001b[39m\"\u001b[39m\u001b[39mx needs to be greater than 2\u001b[39m\u001b[39m\"\u001b[39m\n\u001b[0;32m      <a href='vscode-notebook-cell:/c%3A/Users/orena/OneDrive/01_ORENAIKE/02_CAREER_AND_DEVELOPMENTS/01_Schools/ALX/Codes/c-practise/Practise.ipynb#X42sZmlsZQ%3D%3D?line=3'>4</a>\u001b[0m   \u001b[39mreturn\u001b[39;00m result\n\u001b[1;32m----> <a href='vscode-notebook-cell:/c%3A/Users/orena/OneDrive/01_ORENAIKE/02_CAREER_AND_DEVELOPMENTS/01_Schools/ALX/Codes/c-practise/Practise.ipynb#X42sZmlsZQ%3D%3D?line=5'>6</a>\u001b[0m outcome \u001b[39m=\u001b[39m addTo(\u001b[39m2\u001b[39;49m,\u001b[39m1\u001b[39;49m,\u001b[39m3\u001b[39;49m)\n\u001b[0;32m      <a href='vscode-notebook-cell:/c%3A/Users/orena/OneDrive/01_ORENAIKE/02_CAREER_AND_DEVELOPMENTS/01_Schools/ALX/Codes/c-practise/Practise.ipynb#X42sZmlsZQ%3D%3D?line=6'>7</a>\u001b[0m \u001b[39mprint\u001b[39m(outcome)\n",
      "\u001b[1;32mc:\\Users\\orena\\OneDrive\\01_ORENAIKE\\02_CAREER_AND_DEVELOPMENTS\\01_Schools\\ALX\\Codes\\c-practise\\Practise.ipynb Cell 31\u001b[0m line \u001b[0;36m3\n\u001b[0;32m      <a href='vscode-notebook-cell:/c%3A/Users/orena/OneDrive/01_ORENAIKE/02_CAREER_AND_DEVELOPMENTS/01_Schools/ALX/Codes/c-practise/Practise.ipynb#X42sZmlsZQ%3D%3D?line=0'>1</a>\u001b[0m \u001b[39mdef\u001b[39;00m \u001b[39maddTo\u001b[39m(x, y, z):\n\u001b[0;32m      <a href='vscode-notebook-cell:/c%3A/Users/orena/OneDrive/01_ORENAIKE/02_CAREER_AND_DEVELOPMENTS/01_Schools/ALX/Codes/c-practise/Practise.ipynb#X42sZmlsZQ%3D%3D?line=1'>2</a>\u001b[0m   result \u001b[39m=\u001b[39m x \u001b[39m+\u001b[39m y \u001b[39m+\u001b[39m z\n\u001b[1;32m----> <a href='vscode-notebook-cell:/c%3A/Users/orena/OneDrive/01_ORENAIKE/02_CAREER_AND_DEVELOPMENTS/01_Schools/ALX/Codes/c-practise/Practise.ipynb#X42sZmlsZQ%3D%3D?line=2'>3</a>\u001b[0m   \u001b[39massert\u001b[39;00m x \u001b[39m>\u001b[39m \u001b[39m2\u001b[39m, \u001b[39m\"\u001b[39m\u001b[39mx needs to be greater than 2\u001b[39m\u001b[39m\"\u001b[39m\n\u001b[0;32m      <a href='vscode-notebook-cell:/c%3A/Users/orena/OneDrive/01_ORENAIKE/02_CAREER_AND_DEVELOPMENTS/01_Schools/ALX/Codes/c-practise/Practise.ipynb#X42sZmlsZQ%3D%3D?line=3'>4</a>\u001b[0m   \u001b[39mreturn\u001b[39;00m result\n",
      "\u001b[1;31mAssertionError\u001b[0m: x needs to be greater than 2"
     ]
    }
   ],
   "source": [
    "def addTo(x, y, z):\n",
    "  result = x + y + z\n",
    "  assert x > 2, \"x needs to be greater than 2\"\n",
    "  return result\n",
    "\n",
    "outcome = addTo(2,1,3)\n",
    "print(outcome)\n"
   ]
  },
  {
   "cell_type": "code",
   "execution_count": 25,
   "metadata": {},
   "outputs": [
    {
     "name": "stdout",
     "output_type": "stream",
     "text": [
      "[2, 4, 7, 399]\n"
     ]
    }
   ],
   "source": [
    "listv2 = [2, 4, 7, 8]\n",
    "def replacelistv2(listv2,  indexv2, elementv2):\n",
    "  if indexv2 < 0 or indexv2 >= len(listv2):\n",
    "    return listv2\n",
    "  listv2[indexv2] = elementv2\n",
    "  return listv2\n",
    "\n",
    "newlistv2 = replacelistv2(listv2, 3, 399)\n",
    "print(newlistv2)\n"
   ]
  },
  {
   "cell_type": "code",
   "execution_count": 26,
   "metadata": {},
   "outputs": [
    {
     "name": "stdout",
     "output_type": "stream",
     "text": [
      "11\n"
     ]
    }
   ],
   "source": [
    "add = lambda x,y,z: x+y+z\n",
    "\n",
    "result = add(2,4,5)\n",
    "print(result)"
   ]
  },
  {
   "cell_type": "code",
   "execution_count": 3,
   "metadata": {},
   "outputs": [
    {
     "data": {
      "text/plain": [
       "dict"
      ]
     },
     "execution_count": 3,
     "metadata": {},
     "output_type": "execute_result"
    }
   ],
   "source": [
    "dictExample = {\"Name\": \"Tosin\", \"Age\":\"class\"}\n",
    "type(dictExample)"
   ]
  },
  {
   "cell_type": "markdown",
   "metadata": {},
   "source": [
    "Applicatiion Program Interphase"
   ]
  }
 ],
 "metadata": {
  "kernelspec": {
   "display_name": "Python 3",
   "language": "python",
   "name": "python3"
  },
  "language_info": {
   "codemirror_mode": {
    "name": "ipython",
    "version": 3
   },
   "file_extension": ".py",
   "mimetype": "text/x-python",
   "name": "python",
   "nbconvert_exporter": "python",
   "pygments_lexer": "ipython3",
   "version": "3.12.0"
  },
  "orig_nbformat": 4
 },
 "nbformat": 4,
 "nbformat_minor": 2
}

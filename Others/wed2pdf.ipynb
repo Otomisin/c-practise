{
 "cells": [
  {
   "cell_type": "code",
   "execution_count": 12,
   "metadata": {},
   "outputs": [
    {
     "ename": "OSError",
     "evalue": "No wkhtmltopdf executable found: \"b''\"\nIf this file exists please check that this process can read it or you can pass path to it manually in method call, check README. Otherwise please install wkhtmltopdf - https://github.com/JazzCore/python-pdfkit/wiki/Installing-wkhtmltopdf",
     "output_type": "error",
     "traceback": [
      "\u001b[1;31m---------------------------------------------------------------------------\u001b[0m",
      "\u001b[1;31mFileNotFoundError\u001b[0m                         Traceback (most recent call last)",
      "File \u001b[1;32mc:\\Users\\orena\\AppData\\Local\\Programs\\Python\\Python311\\Lib\\site-packages\\pdfkit\\configuration.py:35\u001b[0m, in \u001b[0;36mConfiguration.__init__\u001b[1;34m(self, wkhtmltopdf, meta_tag_prefix, environ)\u001b[0m\n\u001b[0;32m     33\u001b[0m     \u001b[39mself\u001b[39m\u001b[39m.\u001b[39mwkhtmltopdf \u001b[39m=\u001b[39m lines[\u001b[39m0\u001b[39m]\u001b[39m.\u001b[39mstrip()\n\u001b[1;32m---> 35\u001b[0m \u001b[39mwith\u001b[39;00m \u001b[39mopen\u001b[39m(\u001b[39mself\u001b[39m\u001b[39m.\u001b[39mwkhtmltopdf) \u001b[39mas\u001b[39;00m f:\n\u001b[0;32m     36\u001b[0m     \u001b[39mpass\u001b[39;00m\n",
      "\u001b[1;31mFileNotFoundError\u001b[0m: [Errno 2] No such file or directory: b''",
      "\nDuring handling of the above exception, another exception occurred:\n",
      "\u001b[1;31mOSError\u001b[0m                                   Traceback (most recent call last)",
      "Cell \u001b[1;32mIn[12], line 13\u001b[0m\n\u001b[0;32m     10\u001b[0m pdf_path \u001b[39m=\u001b[39m \u001b[39m'\u001b[39m\u001b[39moutput.pdf\u001b[39m\u001b[39m'\u001b[39m\n\u001b[0;32m     12\u001b[0m \u001b[39m# Use pdfkit to convert the web page to a PDF\u001b[39;00m\n\u001b[1;32m---> 13\u001b[0m pdfkit\u001b[39m.\u001b[39;49mfrom_url(url, pdf_path)\n",
      "File \u001b[1;32mc:\\Users\\orena\\AppData\\Local\\Programs\\Python\\Python311\\Lib\\site-packages\\pdfkit\\api.py:24\u001b[0m, in \u001b[0;36mfrom_url\u001b[1;34m(url, output_path, options, toc, cover, configuration, cover_first, verbose)\u001b[0m\n\u001b[0;32m      7\u001b[0m \u001b[39mdef\u001b[39;00m \u001b[39mfrom_url\u001b[39m(url, output_path\u001b[39m=\u001b[39m\u001b[39mNone\u001b[39;00m, options\u001b[39m=\u001b[39m\u001b[39mNone\u001b[39;00m, toc\u001b[39m=\u001b[39m\u001b[39mNone\u001b[39;00m, cover\u001b[39m=\u001b[39m\u001b[39mNone\u001b[39;00m,\n\u001b[0;32m      8\u001b[0m              configuration\u001b[39m=\u001b[39m\u001b[39mNone\u001b[39;00m, cover_first\u001b[39m=\u001b[39m\u001b[39mFalse\u001b[39;00m, verbose\u001b[39m=\u001b[39m\u001b[39mFalse\u001b[39;00m):\n\u001b[0;32m      9\u001b[0m \u001b[39m    \u001b[39m\u001b[39m\"\"\"\u001b[39;00m\n\u001b[0;32m     10\u001b[0m \u001b[39m    Convert file of files from URLs to PDF document\u001b[39;00m\n\u001b[0;32m     11\u001b[0m \n\u001b[1;32m   (...)\u001b[0m\n\u001b[0;32m     21\u001b[0m \u001b[39m    Returns: True on success\u001b[39;00m\n\u001b[0;32m     22\u001b[0m \u001b[39m    \"\"\"\u001b[39;00m\n\u001b[1;32m---> 24\u001b[0m     r \u001b[39m=\u001b[39m PDFKit(url, \u001b[39m'\u001b[39;49m\u001b[39murl\u001b[39;49m\u001b[39m'\u001b[39;49m, options\u001b[39m=\u001b[39;49moptions, toc\u001b[39m=\u001b[39;49mtoc, cover\u001b[39m=\u001b[39;49mcover,\n\u001b[0;32m     25\u001b[0m                configuration\u001b[39m=\u001b[39;49mconfiguration, cover_first\u001b[39m=\u001b[39;49mcover_first, verbose\u001b[39m=\u001b[39;49mverbose)\n\u001b[0;32m     27\u001b[0m     \u001b[39mreturn\u001b[39;00m r\u001b[39m.\u001b[39mto_pdf(output_path)\n",
      "File \u001b[1;32mc:\\Users\\orena\\AppData\\Local\\Programs\\Python\\Python311\\Lib\\site-packages\\pdfkit\\pdfkit.py:45\u001b[0m, in \u001b[0;36mPDFKit.__init__\u001b[1;34m(self, url_or_file, type_, options, toc, cover, css, configuration, cover_first, verbose)\u001b[0m\n\u001b[0;32m     41\u001b[0m \u001b[39mdef\u001b[39;00m \u001b[39m__init__\u001b[39m(\u001b[39mself\u001b[39m, url_or_file, type_, options\u001b[39m=\u001b[39m\u001b[39mNone\u001b[39;00m, toc\u001b[39m=\u001b[39m\u001b[39mNone\u001b[39;00m, cover\u001b[39m=\u001b[39m\u001b[39mNone\u001b[39;00m,\n\u001b[0;32m     42\u001b[0m              css\u001b[39m=\u001b[39m\u001b[39mNone\u001b[39;00m, configuration\u001b[39m=\u001b[39m\u001b[39mNone\u001b[39;00m, cover_first\u001b[39m=\u001b[39m\u001b[39mFalse\u001b[39;00m, verbose\u001b[39m=\u001b[39m\u001b[39mFalse\u001b[39;00m):\n\u001b[0;32m     44\u001b[0m     \u001b[39mself\u001b[39m\u001b[39m.\u001b[39msource \u001b[39m=\u001b[39m Source(url_or_file, type_)\n\u001b[1;32m---> 45\u001b[0m     \u001b[39mself\u001b[39m\u001b[39m.\u001b[39mconfiguration \u001b[39m=\u001b[39m (Configuration() \u001b[39mif\u001b[39;00m configuration \u001b[39mis\u001b[39;00m \u001b[39mNone\u001b[39;00m\n\u001b[0;32m     46\u001b[0m                           \u001b[39melse\u001b[39;00m configuration)\n\u001b[0;32m     47\u001b[0m     \u001b[39mtry\u001b[39;00m:\n\u001b[0;32m     48\u001b[0m         \u001b[39mself\u001b[39m\u001b[39m.\u001b[39mwkhtmltopdf \u001b[39m=\u001b[39m \u001b[39mself\u001b[39m\u001b[39m.\u001b[39mconfiguration\u001b[39m.\u001b[39mwkhtmltopdf\u001b[39m.\u001b[39mdecode(\u001b[39m'\u001b[39m\u001b[39mutf-8\u001b[39m\u001b[39m'\u001b[39m)\n",
      "File \u001b[1;32mc:\\Users\\orena\\AppData\\Local\\Programs\\Python\\Python311\\Lib\\site-packages\\pdfkit\\configuration.py:38\u001b[0m, in \u001b[0;36mConfiguration.__init__\u001b[1;34m(self, wkhtmltopdf, meta_tag_prefix, environ)\u001b[0m\n\u001b[0;32m     36\u001b[0m         \u001b[39mpass\u001b[39;00m\n\u001b[0;32m     37\u001b[0m \u001b[39mexcept\u001b[39;00m (\u001b[39mIOError\u001b[39;00m, \u001b[39mFileNotFoundError\u001b[39;00m) \u001b[39mas\u001b[39;00m e:\n\u001b[1;32m---> 38\u001b[0m     \u001b[39mraise\u001b[39;00m \u001b[39mIOError\u001b[39;00m(\u001b[39m'\u001b[39m\u001b[39mNo wkhtmltopdf executable found: \u001b[39m\u001b[39m\"\u001b[39m\u001b[39m%s\u001b[39;00m\u001b[39m\"\u001b[39m\u001b[39m\\n\u001b[39;00m\u001b[39m'\u001b[39m\n\u001b[0;32m     39\u001b[0m                   \u001b[39m'\u001b[39m\u001b[39mIf this file exists please check that this process can \u001b[39m\u001b[39m'\u001b[39m\n\u001b[0;32m     40\u001b[0m                   \u001b[39m'\u001b[39m\u001b[39mread it or you can pass path to it manually in method call, \u001b[39m\u001b[39m'\u001b[39m\n\u001b[0;32m     41\u001b[0m                   \u001b[39m'\u001b[39m\u001b[39mcheck README. Otherwise please install wkhtmltopdf - \u001b[39m\u001b[39m'\u001b[39m\n\u001b[0;32m     42\u001b[0m                   \u001b[39m'\u001b[39m\u001b[39mhttps://github.com/JazzCore/python-pdfkit/wiki/Installing-wkhtmltopdf\u001b[39m\u001b[39m'\u001b[39m \u001b[39m%\u001b[39m \u001b[39mself\u001b[39m\u001b[39m.\u001b[39mwkhtmltopdf)\n\u001b[0;32m     45\u001b[0m \u001b[39mself\u001b[39m\u001b[39m.\u001b[39menviron \u001b[39m=\u001b[39m environ\n\u001b[0;32m     47\u001b[0m \u001b[39mif\u001b[39;00m \u001b[39mnot\u001b[39;00m \u001b[39mself\u001b[39m\u001b[39m.\u001b[39menviron:\n",
      "\u001b[1;31mOSError\u001b[0m: No wkhtmltopdf executable found: \"b''\"\nIf this file exists please check that this process can read it or you can pass path to it manually in method call, check README. Otherwise please install wkhtmltopdf - https://github.com/JazzCore/python-pdfkit/wiki/Installing-wkhtmltopdf"
     ]
    }
   ],
   "source": [
    "\n",
    "import pdfkit\n",
    "\n",
    "# config = pdfkit.configuration(wkhtmltopdf='/path/to/wkhtmltopdf')\n",
    "# pdfkit.from_url('http://google.com', 'out.pdf', configuration=config)\n",
    "\n",
    "# Set the URL of the web page you want to convert to a PDF\n",
    "url = 'https://intranet.alxswe.com/planning/me'\n",
    "\n",
    "# Set the path to the output PDF file\n",
    "pdf_path = 'output.pdf'\n",
    "\n",
    "# Use pdfkit to convert the web page to a PDF\n",
    "pdfkit.from_url(url, pdf_path)\n"
   ]
  },
  {
   "attachments": {},
   "cell_type": "markdown",
   "metadata": {},
   "source": [
    "CONSENT\n",
    "\n",
    "- Enumerator presents herself/himself – working as an enumerator for IOM\n",
    "- Now conducting interviews for the Migrant Presence Monitoring program\n",
    "- MPM first round conducted between 2020 and 2021 – now second round – looking to update figures\n",
    "- MPM aims at locating migrants in Lebanon – their presence, nationalities, numbers, and demography\n",
    "- MPM round 1 report – accessible online – can be shared\n",
    "- MPM used for statistical purposes – supports humanitarian community to build assistance – helps IOM programming – not providing direct assistance\n",
    "- Contacting to receive figures from her/him for\n",
    "- Appreciate your time and support\n",
    "- KI has the right to refuse or stop survey anytime\n",
    "We are about to ask you a few questions regarding the population residing in ____________ (neighborhood)."
   ]
  },
  {
   "cell_type": "code",
   "execution_count": 1,
   "metadata": {},
   "outputs": [],
   "source": [
    "import os as os"
   ]
  },
  {
   "cell_type": "code",
   "execution_count": 2,
   "metadata": {},
   "outputs": [
    {
     "name": "stdout",
     "output_type": "stream",
     "text": [
      "\u001b[1;31mType:\u001b[0m        module\n",
      "\u001b[1;31mString form:\u001b[0m <module 'os' from 'C:\\\\Program Files\\\\WindowsApps\\\\PythonSoftwareFoundation.Python.3.10_3.10.3056.0_x64__qbz5n2kfra8p0\\\\lib\\\\os.py'>\n",
      "\u001b[1;31mFile:\u001b[0m        c:\\program files\\windowsapps\\pythonsoftwarefoundation.python.3.10_3.10.3056.0_x64__qbz5n2kfra8p0\\lib\\os.py\n",
      "\u001b[1;31mDocstring:\u001b[0m  \n",
      "OS routines for NT or Posix depending on what system we're on.\n",
      "\n",
      "This exports:\n",
      "  - all functions from posix or nt, e.g. unlink, stat, etc.\n",
      "  - os.path is either posixpath or ntpath\n",
      "  - os.name is either 'posix' or 'nt'\n",
      "  - os.curdir is a string representing the current directory (always '.')\n",
      "  - os.pardir is a string representing the parent directory (always '..')\n",
      "  - os.sep is the (or a most common) pathname separator ('/' or '\\\\')\n",
      "  - os.extsep is the extension separator (always '.')\n",
      "  - os.altsep is the alternate pathname separator (None or '/')\n",
      "  - os.pathsep is the component separator used in $PATH etc\n",
      "  - os.linesep is the line separator in text files ('\\r' or '\\n' or '\\r\\n')\n",
      "  - os.defpath is the default search path for executables\n",
      "  - os.devnull is the file path of the null device ('/dev/null', etc.)\n",
      "\n",
      "Programs that import and use 'os' stand a better chance of being\n",
      "portable between different platforms.  Of course, they must then\n",
      "only use functions that are defined by all platforms (e.g., unlink\n",
      "and opendir), and leave all pathname manipulation to os.path\n",
      "(e.g., split and join)."
     ]
    }
   ],
   "source": [
    "os?"
   ]
  },
  {
   "cell_type": "code",
   "execution_count": null,
   "metadata": {},
   "outputs": [],
   "source": []
  }
 ],
 "metadata": {
  "kernelspec": {
   "display_name": "Python 3",
   "language": "python",
   "name": "python3"
  },
  "language_info": {
   "codemirror_mode": {
    "name": "ipython",
    "version": 3
   },
   "file_extension": ".py",
   "mimetype": "text/x-python",
   "name": "python",
   "nbconvert_exporter": "python",
   "pygments_lexer": "ipython3",
   "version": "3.11.3"
  },
  "orig_nbformat": 4
 },
 "nbformat": 4,
 "nbformat_minor": 2
}

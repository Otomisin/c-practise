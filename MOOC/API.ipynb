{
 "cells": [
  {
   "cell_type": "code",
   "execution_count": 21,
   "metadata": {},
   "outputs": [
    {
     "data": {
      "text/plain": [
       "'{\"results\":[{\"gender\":\"female\",\"name\":{\"title\":\"Mrs\",\"first\":\"Andrea\",\"last\":\"Olsen\"},\"location\":{\"street\":{\"number\":4315,\"name\":\"Kildeparken\"},\"city\":\"Nørre Sundby\",\"state\":\"Midtjylland\",\"country\":\"Denmark\",\"postcode\":61210,\"coordinates\":{\"latitude\":\"-40.1729\",\"longitude\":\"122.5177\"},\"timezone\":{\"offset\":\"-9:00\",\"description\":\"Alaska\"}},\"email\":\"andrea.olsen@example.com\",\"login\":{\"uuid\":\"1a916686-9677-4387-abe2-9a5a0ee9c6b0\",\"username\":\"blackmeercat693\",\"password\":\"tacobell\",\"salt\":\"zEBnFElR\",\"md5\":\"c846fce688d0eb2067300d6e02d2b484\",\"sha1\":\"f21e5a978fab9651eeec02ce6fe03d16d9472225\",\"sha256\":\"e3495c04b5a2647240346cb7446ada578cdfbdcac963280daad3a9ca7c19d2a5\"},\"dob\":{\"date\":\"1963-04-28T00:42:09.939Z\",\"age\":60},\"registered\":{\"date\":\"2015-09-13T00:52:56.424Z\",\"age\":8},\"phone\":\"98673705\",\"cell\":\"28638486\",\"id\":{\"name\":\"CPR\",\"value\":\"270463-1133\"},\"picture\":{\"large\":\"https://randomuser.me/api/portraits/women/3.jpg\",\"medium\":\"https://randomuser.me/api/portraits/med/women/3.jpg\",\"thumbnail\":\"https://randomuser.me/api/portraits/thumb/women/3.jpg\"},\"nat\":\"DK\"}],\"info\":{\"seed\":\"19f9d210e0677d07\",\"results\":1,\"page\":1,\"version\":\"1.4\"}}'"
      ]
     },
     "execution_count": 21,
     "metadata": {},
     "output_type": "execute_result"
    }
   ],
   "source": [
    "import requests\n",
    "import pandas as pd\n",
    "response = requests.get(\"https://randomuser.me/api/\")\n",
    "responseText = response.text\n",
    "responseText"
   ]
  },
  {
   "cell_type": "markdown",
   "metadata": {},
   "source": []
  },
  {
   "cell_type": "code",
   "execution_count": 19,
   "metadata": {},
   "outputs": [
    {
     "name": "stdout",
     "output_type": "stream",
     "text": [
      "gender                            object\n",
      "email                             object\n",
      "phone                             object\n",
      "cell                              object\n",
      "nat                               object\n",
      "name.title                        object\n",
      "name.first                        object\n",
      "name.last                         object\n",
      "location.street.number             int64\n",
      "location.street.name              object\n",
      "location.city                     object\n",
      "location.state                    object\n",
      "location.country                  object\n",
      "location.postcode                  int64\n",
      "location.coordinates.latitude     object\n",
      "location.coordinates.longitude    object\n",
      "location.timezone.offset          object\n",
      "location.timezone.description     object\n",
      "login.uuid                        object\n",
      "login.username                    object\n",
      "login.password                    object\n",
      "login.salt                        object\n",
      "login.md5                         object\n",
      "login.sha1                        object\n",
      "login.sha256                      object\n",
      "dob.date                          object\n",
      "dob.age                            int64\n",
      "registered.date                   object\n",
      "registered.age                     int64\n",
      "id.name                           object\n",
      "id.value                          object\n",
      "picture.large                     object\n",
      "picture.medium                    object\n",
      "picture.thumbnail                 object\n",
      "dtype: object\n"
     ]
    }
   ],
   "source": [
    "import requests\n",
    "import pandas as pd\n",
    "\n",
    "\n"
   ]
  }
 ],
 "metadata": {
  "kernelspec": {
   "display_name": "dataenv",
   "language": "python",
   "name": "python3"
  },
  "language_info": {
   "codemirror_mode": {
    "name": "ipython",
    "version": 3
   },
   "file_extension": ".py",
   "mimetype": "text/x-python",
   "name": "python",
   "nbconvert_exporter": "python",
   "pygments_lexer": "ipython3",
   "version": "3.10.12"
  }
 },
 "nbformat": 4,
 "nbformat_minor": 2
}

{
 "cells": [
  {
   "cell_type": "code",
   "execution_count": 21,
   "metadata": {},
   "outputs": [
    {
     "data": {
      "text/plain": [
       "'{\"results\":[{\"gender\":\"female\",\"name\":{\"title\":\"Mrs\",\"first\":\"Andrea\",\"last\":\"Olsen\"},\"location\":{\"street\":{\"number\":4315,\"name\":\"Kildeparken\"},\"city\":\"Nørre Sundby\",\"state\":\"Midtjylland\",\"country\":\"Denmark\",\"postcode\":61210,\"coordinates\":{\"latitude\":\"-40.1729\",\"longitude\":\"122.5177\"},\"timezone\":{\"offset\":\"-9:00\",\"description\":\"Alaska\"}},\"email\":\"andrea.olsen@example.com\",\"login\":{\"uuid\":\"1a916686-9677-4387-abe2-9a5a0ee9c6b0\",\"username\":\"blackmeercat693\",\"password\":\"tacobell\",\"salt\":\"zEBnFElR\",\"md5\":\"c846fce688d0eb2067300d6e02d2b484\",\"sha1\":\"f21e5a978fab9651eeec02ce6fe03d16d9472225\",\"sha256\":\"e3495c04b5a2647240346cb7446ada578cdfbdcac963280daad3a9ca7c19d2a5\"},\"dob\":{\"date\":\"1963-04-28T00:42:09.939Z\",\"age\":60},\"registered\":{\"date\":\"2015-09-13T00:52:56.424Z\",\"age\":8},\"phone\":\"98673705\",\"cell\":\"28638486\",\"id\":{\"name\":\"CPR\",\"value\":\"270463-1133\"},\"picture\":{\"large\":\"https://randomuser.me/api/portraits/women/3.jpg\",\"medium\":\"https://randomuser.me/api/portraits/med/women/3.jpg\",\"thumbnail\":\"https://randomuser.me/api/portraits/thumb/women/3.jpg\"},\"nat\":\"DK\"}],\"info\":{\"seed\":\"19f9d210e0677d07\",\"results\":1,\"page\":1,\"version\":\"1.4\"}}'"
      ]
     },
     "execution_count": 21,
     "metadata": {},
     "output_type": "execute_result"
    }
   ],
   "source": [
    "import requests\n",
    "import pandas as pd\n",
    "response = requests.get(\"https://randomuser.me/api/\")\n",
    "responseText = response.text\n",
    "responseText"
   ]
  },
  {
   "cell_type": "markdown",
   "metadata": {},
   "source": []
  },
  {
   "cell_type": "markdown",
   "metadata": {},
   "source": [
    "## CAT API"
   ]
  },
  {
   "cell_type": "code",
   "execution_count": 23,
   "metadata": {},
   "outputs": [
    {
     "data": {
      "text/plain": [
       "'{\"message\":\"The Cat API\",\"version\":\"1.3.6\"}'"
      ]
     },
     "execution_count": 23,
     "metadata": {},
     "output_type": "execute_result"
    }
   ],
   "source": [
    "import requests\n",
    "import pandas as pd\n",
    "\n",
    "result = requests.get('https://api.thecatapi.com/')\n",
    "result.text"
   ]
  },
  {
   "cell_type": "code",
   "execution_count": 54,
   "metadata": {},
   "outputs": [
    {
     "data": {
      "text/plain": [
       "'Not Found'"
      ]
     },
     "execution_count": 54,
     "metadata": {},
     "output_type": "execute_result"
    }
   ],
   "source": [
    "catImage = requests.get('https://api.thecatapi.com/v1/images/0XYvRd7oD')\n",
    "catImage.text\n",
    "catImage.content\n",
    "catImage.headers\n",
    "catImage.status_code\n",
    "catImage.reason\n",
    "\n",
    "# state = catImage.request\n",
    "# state.method\n",
    "# state.path_url\n",
    "# state.url\n",
    "# state.headers\n",
    "\n",
    "# ## For fail response\n",
    "# failresponse = requests.get(\"https://api.thecatapi.com/v1/breedz\")\n",
    "# failresponse.status_code\n",
    "# failresponse.reason\n",
    "  "
   ]
  },
  {
   "cell_type": "markdown",
   "metadata": {},
   "source": [
    "Headers and content type"
   ]
  },
  {
   "cell_type": "code",
   "execution_count": 61,
   "metadata": {},
   "outputs": [
    {
     "data": {
      "text/plain": [
       "'image/png'"
      ]
     },
     "execution_count": 61,
     "metadata": {},
     "output_type": "execute_result"
    }
   ],
   "source": [
    "## Headers\n",
    "\n",
    "headResponse = requests.get(\"https://api.thecatapi.com/v1/breeds/abys\")\n",
    "\n",
    "# To inspect the header\n",
    "headResponse.request.headers\n",
    "\n",
    "# Check the Conent type\n",
    "headResponse.headers.get(\"Content-Type\")\n",
    "\n",
    "imageApi = requests.get('https://image-charts.com/chart?chs=700x125&cht=ls&chd=t:23,15,28')\n",
    "imageApi.status_code\n",
    "imageApi.request.headers\n",
    "imageApi.headers.get('Content-Type')\n",
    "\n",
    "# Storing item picture in a file\n",
    "with open(\"chart.png\", mode = \"wb\") as file:\n",
    "  file.write(imageApi.content)\n"
   ]
  },
  {
   "cell_type": "markdown",
   "metadata": {},
   "source": [
    "Response Content"
   ]
  },
  {
   "cell_type": "code",
   "execution_count": 59,
   "metadata": {},
   "outputs": [
    {
     "data": {
      "text/plain": [
       "'Abyssinian'"
      ]
     },
     "execution_count": 59,
     "metadata": {},
     "output_type": "execute_result"
    }
   ],
   "source": [
    "import requests\n",
    "\n",
    "CatRespCont = requests.get(\"https://api.thecatapi.com/v1/breeds/abys\")\n",
    "\n",
    "CatRespCont.request.headers\n",
    "CatRespCont.headers.get('Content-Type')\n",
    "\n",
    "#Return in json format\n",
    "CatRespCont.json()\n",
    "\n",
    "CatRespCont.json()['weight']\n",
    "CatRespCont.json()['name']"
   ]
  },
  {
   "cell_type": "markdown",
   "metadata": {},
   "source": [
    "Query Parameter"
   ]
  },
  {
   "cell_type": "code",
   "execution_count": 75,
   "metadata": {},
   "outputs": [
    {
     "data": {
      "text/plain": [
       "{'results': [{'gender': 'female',\n",
       "   'name': {'title': 'Mrs', 'first': 'Sonja', 'last': 'Happel'},\n",
       "   'location': {'street': {'number': 7430, 'name': 'Schillerstraße'},\n",
       "    'city': 'Herrnhut',\n",
       "    'state': 'Bayern',\n",
       "    'country': 'Germany',\n",
       "    'postcode': 50327,\n",
       "    'coordinates': {'latitude': '-0.3314', 'longitude': '137.5559'},\n",
       "    'timezone': {'offset': '-10:00', 'description': 'Hawaii'}},\n",
       "   'email': 'sonja.happel@example.com',\n",
       "   'login': {'uuid': '4a1bd617-2c17-4493-a858-801b2f3d4934',\n",
       "    'username': 'greenleopard555',\n",
       "    'password': 'lexingky',\n",
       "    'salt': 'jYgBrKmj',\n",
       "    'md5': '2bf5845497ed41cc1791c5688bcad3eb',\n",
       "    'sha1': 'cdffc4c631904d9f8a1cdb6cf63e51e10cd74bd4',\n",
       "    'sha256': '93c3aa4d02181800d441ad2be95da9bec006ab669d87cae0b6c420c2d80b0b63'},\n",
       "   'dob': {'date': '1947-06-09T02:44:53.270Z', 'age': 76},\n",
       "   'registered': {'date': '2004-03-25T04:51:11.714Z', 'age': 19},\n",
       "   'phone': '0192-8262284',\n",
       "   'cell': '0176-8806155',\n",
       "   'id': {'name': 'SVNR', 'value': '89 080647 H 792'},\n",
       "   'picture': {'large': 'https://randomuser.me/api/portraits/women/72.jpg',\n",
       "    'medium': 'https://randomuser.me/api/portraits/med/women/72.jpg',\n",
       "    'thumbnail': 'https://randomuser.me/api/portraits/thumb/women/72.jpg'},\n",
       "   'nat': 'DE'}],\n",
       " 'info': {'seed': '4229c441d3bbf9c0',\n",
       "  'results': 1,\n",
       "  'page': 1,\n",
       "  'version': '1.4'}}"
      ]
     },
     "execution_count": 75,
     "metadata": {},
     "output_type": "execute_result"
    }
   ],
   "source": [
    "import requests\n",
    "\n",
    "# Random outputs\n",
    "queryImport = requests.get(\"https://randomuser.me/api/\").json()\n",
    "\n",
    "# Generate only female \n",
    "queryImport = requests.get(\"https://randomuser.me/api/?gender ?gender = female\").json()\n",
    "\n",
    "# Generate only female users from Germany\n",
    "queryImport = requests.get(\"https://randomuser.me/api/?gender=female&nat=de\").json()\n",
    "\n",
    "queryImport"
   ]
  },
  {
   "cell_type": "markdown",
   "metadata": {},
   "source": [
    "Using params to query"
   ]
  },
  {
   "cell_type": "code",
   "execution_count": 78,
   "metadata": {},
   "outputs": [
    {
     "data": {
      "text/plain": [
       "{'results': [{'gender': 'female',\n",
       "   'name': {'title': 'Mrs', 'first': 'Ludmila', 'last': 'Tremmel'},\n",
       "   'location': {'street': {'number': 7376, 'name': 'Mühlweg'},\n",
       "    'city': 'Schnaittenbach',\n",
       "    'state': 'Sachsen-Anhalt',\n",
       "    'country': 'Germany',\n",
       "    'postcode': 12408,\n",
       "    'coordinates': {'latitude': '-33.5525', 'longitude': '46.7093'},\n",
       "    'timezone': {'offset': '-6:00',\n",
       "     'description': 'Central Time (US & Canada), Mexico City'}},\n",
       "   'email': 'ludmila.tremmel@example.com',\n",
       "   'login': {'uuid': 'ea3bbcd0-822b-47bf-88ae-967134255f36',\n",
       "    'username': 'redtiger632',\n",
       "    'password': 'licking',\n",
       "    'salt': 'GllTCR8r',\n",
       "    'md5': '346ab19b6a69942d814d6473460ffcd3',\n",
       "    'sha1': '23debc494f948903356a1dbdad6651a9c2c4a563',\n",
       "    'sha256': '1310e4a072bb2cc97f9b9320d599954720f24eec674f00d2fe1263394de66467'},\n",
       "   'dob': {'date': '1966-02-21T19:20:40.391Z', 'age': 57},\n",
       "   'registered': {'date': '2012-01-14T14:32:08.048Z', 'age': 11},\n",
       "   'phone': '0121-3392458',\n",
       "   'cell': '0179-4186971',\n",
       "   'id': {'name': 'SVNR', 'value': '56 210266 T 895'},\n",
       "   'picture': {'large': 'https://randomuser.me/api/portraits/women/6.jpg',\n",
       "    'medium': 'https://randomuser.me/api/portraits/med/women/6.jpg',\n",
       "    'thumbnail': 'https://randomuser.me/api/portraits/thumb/women/6.jpg'},\n",
       "   'nat': 'DE'}],\n",
       " 'info': {'seed': '08f64f1c250a9d37',\n",
       "  'results': 1,\n",
       "  'page': 1,\n",
       "  'version': '1.4'}}"
      ]
     },
     "execution_count": 78,
     "metadata": {},
     "output_type": "execute_result"
    }
   ],
   "source": [
    "import requests\n",
    "\n",
    "query_params = {\"gender\":\"female\", \"nat\": \"de\"}\n",
    "requests.get(\"https://randomuser.me/api/\", params=query_params).json()"
   ]
  }
 ],
 "metadata": {
  "kernelspec": {
   "display_name": "dataenv",
   "language": "python",
   "name": "python3"
  },
  "language_info": {
   "codemirror_mode": {
    "name": "ipython",
    "version": 3
   },
   "file_extension": ".py",
   "mimetype": "text/x-python",
   "name": "python",
   "nbconvert_exporter": "python",
   "pygments_lexer": "ipython3",
   "version": "3.10.12"
  }
 },
 "nbformat": 4,
 "nbformat_minor": 2
}

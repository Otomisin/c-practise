{
 "cells": [
  {
   "cell_type": "markdown",
   "metadata": {},
   "source": [
    "## Consuming APIs"
   ]
  },
  {
   "cell_type": "code",
   "execution_count": 21,
   "metadata": {},
   "outputs": [
    {
     "data": {
      "text/plain": [
       "'{\"results\":[{\"gender\":\"female\",\"name\":{\"title\":\"Mrs\",\"first\":\"Andrea\",\"last\":\"Olsen\"},\"location\":{\"street\":{\"number\":4315,\"name\":\"Kildeparken\"},\"city\":\"Nørre Sundby\",\"state\":\"Midtjylland\",\"country\":\"Denmark\",\"postcode\":61210,\"coordinates\":{\"latitude\":\"-40.1729\",\"longitude\":\"122.5177\"},\"timezone\":{\"offset\":\"-9:00\",\"description\":\"Alaska\"}},\"email\":\"andrea.olsen@example.com\",\"login\":{\"uuid\":\"1a916686-9677-4387-abe2-9a5a0ee9c6b0\",\"username\":\"blackmeercat693\",\"password\":\"tacobell\",\"salt\":\"zEBnFElR\",\"md5\":\"c846fce688d0eb2067300d6e02d2b484\",\"sha1\":\"f21e5a978fab9651eeec02ce6fe03d16d9472225\",\"sha256\":\"e3495c04b5a2647240346cb7446ada578cdfbdcac963280daad3a9ca7c19d2a5\"},\"dob\":{\"date\":\"1963-04-28T00:42:09.939Z\",\"age\":60},\"registered\":{\"date\":\"2015-09-13T00:52:56.424Z\",\"age\":8},\"phone\":\"98673705\",\"cell\":\"28638486\",\"id\":{\"name\":\"CPR\",\"value\":\"270463-1133\"},\"picture\":{\"large\":\"https://randomuser.me/api/portraits/women/3.jpg\",\"medium\":\"https://randomuser.me/api/portraits/med/women/3.jpg\",\"thumbnail\":\"https://randomuser.me/api/portraits/thumb/women/3.jpg\"},\"nat\":\"DK\"}],\"info\":{\"seed\":\"19f9d210e0677d07\",\"results\":1,\"page\":1,\"version\":\"1.4\"}}'"
      ]
     },
     "execution_count": 21,
     "metadata": {},
     "output_type": "execute_result"
    }
   ],
   "source": [
    "import requests\n",
    "import pandas as pd\n",
    "response = requests.get(\"https://randomuser.me/api/\")\n",
    "responseText = response.text\n",
    "responseText"
   ]
  },
  {
   "cell_type": "markdown",
   "metadata": {},
   "source": []
  },
  {
   "cell_type": "markdown",
   "metadata": {},
   "source": [
    "## CAT API"
   ]
  },
  {
   "cell_type": "code",
   "execution_count": 23,
   "metadata": {},
   "outputs": [
    {
     "data": {
      "text/plain": [
       "'{\"message\":\"The Cat API\",\"version\":\"1.3.6\"}'"
      ]
     },
     "execution_count": 23,
     "metadata": {},
     "output_type": "execute_result"
    }
   ],
   "source": [
    "import requests\n",
    "import pandas as pd\n",
    "\n",
    "result = requests.get('https://api.thecatapi.com/')\n",
    "\n",
    "# Get the content of the API"
   ]
  },
  {
   "cell_type": "markdown",
   "metadata": {},
   "source": [
    "Interacting with API"
   ]
  },
  {
   "cell_type": "code",
   "execution_count": 95,
   "metadata": {},
   "outputs": [
    {
     "data": {
      "text/plain": [
       "'/v1/images/0XYvRd7oD'"
      ]
     },
     "execution_count": 95,
     "metadata": {},
     "output_type": "execute_result"
    }
   ],
   "source": [
    "response = requests.get('https://api.thecatapi.com/v1/images/0XYvRd7oD')\n",
    "response.headers['content-type']\n",
    "response.reason\n",
    "\n",
    "\n",
    "state = response.request\n",
    "state.method\n",
    "state.path_url"
   ]
  },
  {
   "cell_type": "code",
   "execution_count": 54,
   "metadata": {},
   "outputs": [
    {
     "data": {
      "text/plain": [
       "'Not Found'"
      ]
     },
     "execution_count": 54,
     "metadata": {},
     "output_type": "execute_result"
    }
   ],
   "source": [
    "catImage = requests.get('https://api.thecatapi.com/v1/images/0XYvRd7oD')\n",
    "\n",
    "## Check the conent\n",
    "catImage.text\n",
    "catImage.content\n",
    "catImage.headers\n",
    "catImage.method\n",
    "\n",
    "## Check the status \n",
    "catImage.status_code\n",
    "catImage.reason\n",
    "\n",
    "## To get extra url information on the GET\n",
    "state = catImage.request\n",
    "state.method\n",
    "state.path_url\n",
    "state.url\n",
    "state.headers  "
   ]
  },
  {
   "cell_type": "markdown",
   "metadata": {},
   "source": [
    "Headers and content type"
   ]
  },
  {
   "cell_type": "code",
   "execution_count": 61,
   "metadata": {},
   "outputs": [
    {
     "data": {
      "text/plain": [
       "'image/png'"
      ]
     },
     "execution_count": 61,
     "metadata": {},
     "output_type": "execute_result"
    }
   ],
   "source": [
    "## Headers\n",
    "\n",
    "headResponse = requests.get(\"https://api.thecatapi.com/v1/breeds/abys\")\n",
    "\n",
    "# To inspect the header\n",
    "headResponse.request.headers\n",
    "\n",
    "# Check the Conent type\n",
    "headResponse.headers.get(\"Content-Type\")\n",
    "\n",
    "imageApi = requests.get('https://image-charts.com/chart?chs=700x125&cht=ls&chd=t:23,15,28')\n",
    "imageApi.status_code\n",
    "imageApi.request.headers\n",
    "imageApi.headers.get('Content-Type')\n",
    "\n",
    "# Storing item picture in a file\n",
    "with open(\"chart.png\", mode = \"wb\") as file:\n",
    "  file.write(imageApi.content)\n"
   ]
  },
  {
   "cell_type": "markdown",
   "metadata": {},
   "source": [
    "Response Content and filtering content"
   ]
  },
  {
   "cell_type": "code",
   "execution_count": null,
   "metadata": {},
   "outputs": [],
   "source": [
    "import requests\n",
    "import pandas as pd\n",
    "import json\n",
    "from pandas import json_normalize\n",
    "\n",
    "CatRespCont = requests.get(\"https://api.thecatapi.com/v1/breeds/abys\")\n",
    "\n",
    "CatRespCont.request.headers\n",
    "CatRespCont.headers.get('Content-Type')\n",
    "\n",
    "#Return in json format\n",
    "CatRespCont.json()"
   ]
  },
  {
   "cell_type": "markdown",
   "metadata": {},
   "source": [
    "Query Parameter"
   ]
  },
  {
   "cell_type": "code",
   "execution_count": null,
   "metadata": {},
   "outputs": [],
   "source": [
    "import requests\n",
    "\n",
    "# Random outputs\n",
    "queryImport = requests.get(\"https://randomuser.me/api/\").json()\n",
    "\n",
    "# Generate only female \n",
    "queryImport = requests.get(\"https://randomuser.me/api/?gender ?gender = female\").json()\n",
    "\n",
    "# Generate only female users from Germany\n",
    "queryImport = requests.get(\"https://randomuser.me/api/?gender=female&nat=de\").json()\n",
    "\n",
    "queryImport"
   ]
  },
  {
   "cell_type": "markdown",
   "metadata": {},
   "source": [
    "Using params to query"
   ]
  },
  {
   "cell_type": "code",
   "execution_count": 79,
   "metadata": {},
   "outputs": [
    {
     "data": {
      "text/plain": [
       "{'results': [{'gender': 'female',\n",
       "   'name': {'title': 'Miss', 'first': 'Sigrid', 'last': 'Lindemann'},\n",
       "   'location': {'street': {'number': 2400, 'name': 'Parkstraße'},\n",
       "    'city': 'Gütersloh',\n",
       "    'state': 'Sachsen',\n",
       "    'country': 'Germany',\n",
       "    'postcode': 74338,\n",
       "    'coordinates': {'latitude': '-41.6741', 'longitude': '131.5797'},\n",
       "    'timezone': {'offset': '-9:00', 'description': 'Alaska'}},\n",
       "   'email': 'sigrid.lindemann@example.com',\n",
       "   'login': {'uuid': '8413b5cb-4b8b-44a4-a36f-65eef87d91ff',\n",
       "    'username': 'greenzebra477',\n",
       "    'password': 'catfish',\n",
       "    'salt': 'pRGUqPqk',\n",
       "    'md5': '7e2ce4316fdbe3d16a978096e1a78b21',\n",
       "    'sha1': 'fb68ea8bf09c5ed03b34cc7594b8be480b76eb42',\n",
       "    'sha256': '482c372a74116b872a6f1e8e20e0af8ecc80d88f801fc67de9a1657ca29951b4'},\n",
       "   'dob': {'date': '1964-09-08T13:36:50.585Z', 'age': 59},\n",
       "   'registered': {'date': '2021-02-05T17:56:16.203Z', 'age': 2},\n",
       "   'phone': '0954-8509902',\n",
       "   'cell': '0172-0719455',\n",
       "   'id': {'name': 'SVNR', 'value': '72 080964 L 911'},\n",
       "   'picture': {'large': 'https://randomuser.me/api/portraits/women/90.jpg',\n",
       "    'medium': 'https://randomuser.me/api/portraits/med/women/90.jpg',\n",
       "    'thumbnail': 'https://randomuser.me/api/portraits/thumb/women/90.jpg'},\n",
       "   'nat': 'DE'}],\n",
       " 'info': {'seed': 'f3c0534d0feeb457',\n",
       "  'results': 1,\n",
       "  'page': 1,\n",
       "  'version': '1.4'}}"
      ]
     },
     "execution_count": 79,
     "metadata": {},
     "output_type": "execute_result"
    }
   ],
   "source": [
    "query_params = {\"gender\":\"female\", \"nat\": \"de\"}\n",
    "requests.get(\"https://randomuser.me/api/\", params=query_params).json()"
   ]
  },
  {
   "cell_type": "markdown",
   "metadata": {},
   "source": [
    "## Practise with Reallife API"
   ]
  },
  {
   "cell_type": "markdown",
   "metadata": {},
   "source": [
    "Youtube API for Python: How to Create a Unique Data Portfolio Project   <br>\n",
    "https://www.youtube.com/watch?v=D56_Cx36oGY"
   ]
  },
  {
   "cell_type": "code",
   "execution_count": 116,
   "metadata": {},
   "outputs": [],
   "source": [
    "# Get Your API from a json file\n",
    "with open(r\"C:\\Users\\orena\\OneDrive\\01_ORENAIKE\\02_CAREER_AND_DEVELOPMENTS\\01_Schools\\ALX\\Codes\\APIs\\Api.json\") as f:\n",
    "  data = json.load(f)\n",
    "  api_key = data[\"YoutubeApi_Key\"]\n",
    "  \n",
    "  # Channel IDs\n",
    "  channel_ids = ['UCoOae5nYA7VqaXzerajD0lg']"
   ]
  },
  {
   "cell_type": "code",
   "execution_count": 123,
   "metadata": {},
   "outputs": [
    {
     "data": {
      "application/json": {
       "etag": "k6tVzqfYS_-4YFJ0Q3a3Tmpm-pQ",
       "items": [
        {
         "contentDetails": {
          "relatedPlaylists": {
           "likes": "",
           "uploads": "UUoOae5nYA7VqaXzerajD0lg"
          }
         },
         "etag": "j0d7EYvFtlRbAsYKTgt3Dd5UGCc",
         "id": "UCoOae5nYA7VqaXzerajD0lg",
         "kind": "youtube#channel",
         "snippet": {
          "country": "GB",
          "customUrl": "@aliabdaal",
          "description": "Check out my new book Feel-Good Productivity at the link below! 📚\n\nhttps://www.feelgoodproductivity.com/?utm_campaign=preorder&utm_source=youtubeaboutpage&utm_medium=aboutpage\n\nHey, I'm Ali, a doctor turned entrepreneur, and the world’s most followed productivity expert 😜 \n\nOn this channel, we explore evidence-based strategies and tools that can help us be more productive, and build a life that we love. \n\nIf that sounds interesting, consider subscribing! See you in the next video x",
          "localized": {
           "description": "Check out my new book Feel-Good Productivity at the link below! 📚\n\nhttps://www.feelgoodproductivity.com/?utm_campaign=preorder&utm_source=youtubeaboutpage&utm_medium=aboutpage\n\nHey, I'm Ali, a doctor turned entrepreneur, and the world’s most followed productivity expert 😜 \n\nOn this channel, we explore evidence-based strategies and tools that can help us be more productive, and build a life that we love. \n\nIf that sounds interesting, consider subscribing! See you in the next video x",
           "title": "Ali Abdaal"
          },
          "publishedAt": "2007-11-20T18:53:34Z",
          "thumbnails": {
           "default": {
            "height": 88,
            "url": "https://yt3.ggpht.com/ytc/APkrFKYkhzkXX7kIN6NxFoEsWUB3YR07Y2NCezcqBNsY=s88-c-k-c0x00ffffff-no-rj",
            "width": 88
           },
           "high": {
            "height": 800,
            "url": "https://yt3.ggpht.com/ytc/APkrFKYkhzkXX7kIN6NxFoEsWUB3YR07Y2NCezcqBNsY=s800-c-k-c0x00ffffff-no-rj",
            "width": 800
           },
           "medium": {
            "height": 240,
            "url": "https://yt3.ggpht.com/ytc/APkrFKYkhzkXX7kIN6NxFoEsWUB3YR07Y2NCezcqBNsY=s240-c-k-c0x00ffffff-no-rj",
            "width": 240
           }
          },
          "title": "Ali Abdaal"
         },
         "statistics": {
          "hiddenSubscriberCount": false,
          "subscriberCount": "4900000",
          "videoCount": "742",
          "viewCount": "373379369"
         }
        }
       ],
       "kind": "youtube#channelListResponse",
       "pageInfo": {
        "resultsPerPage": 5,
        "totalResults": 1
       }
      },
      "text/plain": [
       "<IPython.core.display.JSON object>"
      ]
     },
     "execution_count": 123,
     "metadata": {
      "application/json": {
       "expanded": false,
       "root": "root"
      }
     },
     "output_type": "execute_result"
    }
   ],
   "source": [
    "import os\n",
    "\n",
    "from googleapiclient.discovery import build\n",
    "import json\n",
    "from IPython.display import JSON\n",
    "\n",
    "# import google_auth_oauthlib.flow\n",
    "# import googleapiclient.discovery\n",
    "# import googleapiclient.errors\n",
    "\n",
    "# scopes = [\"https://www.googleapis.com/auth/youtube.readonly\"]#\n",
    "\n",
    "api_service_name = \"youtube\"\n",
    "api_version = \"v3\"\n",
    "\n",
    "youtube = build(api_service_name, api_version, developerKey = api_key)\n",
    "\n",
    "request = youtube.channels().list(\n",
    "    part = \"snippet,contentDetails,statistics\",\n",
    "    id = \",\".join(channel_ids)\n",
    ")\n",
    "\n",
    "response = request.execute()\n",
    "JSON(response)\n",
    "# print(response)"
   ]
  }
 ],
 "metadata": {
  "kernelspec": {
   "display_name": "dataenv",
   "language": "python",
   "name": "python3"
  },
  "language_info": {
   "codemirror_mode": {
    "name": "ipython",
    "version": 3
   },
   "file_extension": ".py",
   "mimetype": "text/x-python",
   "name": "python",
   "nbconvert_exporter": "python",
   "pygments_lexer": "ipython3",
   "version": "3.10.12"
  }
 },
 "nbformat": 4,
 "nbformat_minor": 2
}

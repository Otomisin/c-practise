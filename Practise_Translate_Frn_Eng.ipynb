{
 "cells": [
  {
   "cell_type": "code",
   "execution_count": 7,
   "metadata": {},
   "outputs": [
    {
     "name": "stdout",
     "output_type": "stream",
     "text": [
      "['ArithmeticError', 'AssertionError', 'AttributeError', 'BaseException', 'BaseExceptionGroup', 'BlockingIOError', 'BrokenPipeError', 'BufferError', 'BytesWarning', 'ChildProcessError', 'ConnectionAbortedError', 'ConnectionError', 'ConnectionRefusedError', 'ConnectionResetError', 'DeprecationWarning', 'EOFError', 'Ellipsis', 'EncodingWarning', 'EnvironmentError', 'Exception', 'ExceptionGroup', 'False', 'FileExistsError', 'FileNotFoundError', 'FloatingPointError', 'FutureWarning', 'GeneratorExit', 'IOError', 'ImportError', 'ImportWarning', 'IndentationError', 'IndexError', 'InterruptedError', 'IsADirectoryError', 'KeyError', 'KeyboardInterrupt', 'LookupError', 'MemoryError', 'ModuleNotFoundError', 'NameError', 'None', 'NotADirectoryError', 'NotImplemented', 'NotImplementedError', 'OSError', 'OverflowError', 'PendingDeprecationWarning', 'PermissionError', 'ProcessLookupError', 'RecursionError', 'ReferenceError', 'ResourceWarning', 'RuntimeError', 'RuntimeWarning', 'StopAsyncIteration', 'StopIteration', 'SyntaxError', 'SyntaxWarning', 'SystemError', 'SystemExit', 'TabError', 'TimeoutError', 'True', 'TypeError', 'UnboundLocalError', 'UnicodeDecodeError', 'UnicodeEncodeError', 'UnicodeError', 'UnicodeTranslateError', 'UnicodeWarning', 'UserWarning', 'ValueError', 'Warning', 'WindowsError', 'ZeroDivisionError', '__IPYTHON__', '__build_class__', '__debug__', '__doc__', '__import__', '__loader__', '__name__', '__package__', '__spec__', 'abs', 'aiter', 'all', 'anext', 'any', 'ascii', 'bin', 'bool', 'breakpoint', 'bytearray', 'bytes', 'callable', 'chr', 'classmethod', 'compile', 'complex', 'copyright', 'credits', 'delattr', 'dict', 'dir', 'display', 'divmod', 'enumerate', 'eval', 'exec', 'execfile', 'filter', 'float', 'format', 'frozenset', 'get_ipython', 'getattr', 'globals', 'hasattr', 'hash', 'help', 'hex', 'id', 'input', 'int', 'isinstance', 'issubclass', 'iter', 'len', 'license', 'list', 'locals', 'map', 'max', 'memoryview', 'min', 'next', 'object', 'oct', 'open', 'ord', 'pow', 'print', 'property', 'range', 'repr', 'reversed', 'round', 'runfile', 'set', 'setattr', 'slice', 'sorted', 'staticmethod', 'str', 'sum', 'super', 'tuple', 'type', 'vars', 'zip']\n",
      "['ArithmeticError', 'AssertionError', 'AttributeError', 'BaseException', 'BaseExceptionGroup', 'BlockingIOError', 'BrokenPipeError', 'BufferError', 'BytesWarning', 'ChildProcessError', 'ConnectionAbortedError', 'ConnectionError', 'ConnectionRefusedError', 'ConnectionResetError', 'DeprecationWarning', 'EOFError', 'Ellipsis', 'EncodingWarning', 'EnvironmentError', 'Exception', 'ExceptionGroup', 'False', 'FileExistsError', 'FileNotFoundError', 'FloatingPointError', 'FutureWarning', 'GeneratorExit', 'IOError', 'ImportError', 'ImportWarning', 'IndentationError', 'IndexError', 'InterruptedError', 'IsADirectoryError', 'KeyError', 'KeyboardInterrupt', 'LookupError', 'MemoryError', 'ModuleNotFoundError', 'NameError', 'None', 'NotADirectoryError', 'NotImplemented', 'NotImplementedError', 'OSError', 'OverflowError', 'PendingDeprecationWarning', 'PermissionError', 'ProcessLookupError', 'RecursionError', 'ReferenceError', 'ResourceWarning', 'RuntimeError', 'RuntimeWarning', 'StopAsyncIteration', 'StopIteration', 'SyntaxError', 'SyntaxWarning', 'SystemError', 'SystemExit', 'TabError', 'TimeoutError', 'True', 'TypeError', 'UnboundLocalError', 'UnicodeDecodeError', 'UnicodeEncodeError', 'UnicodeError', 'UnicodeTranslateError', 'UnicodeWarning', 'UserWarning', 'ValueError', 'Warning', 'WindowsError', 'ZeroDivisionError', '__IPYTHON__', '__build_class__', '__debug__', '__doc__', '__import__', '__loader__', '__name__', '__package__', '__spec__', 'abs', 'aiter', 'all', 'anext', 'any', 'ascii', 'bin', 'bool', 'breakpoint', 'bytearray', 'bytes', 'callable', 'chr', 'classmethod', 'compile', 'complex', 'copyright', 'credits', 'delattr', 'dict', 'dir', 'display', 'divmod', 'enumerate', 'eval', 'exec', 'execfile', 'filter', 'float', 'format', 'frozenset', 'get_ipython', 'getattr', 'globals', 'hasattr', 'hash', 'help', 'hex', 'id', 'input', 'int', 'isinstance', 'issubclass', 'iter', 'len', 'license', 'list', 'locals', 'map', 'max', 'memoryview', 'min', 'next', 'object', 'oct', 'open', 'ord', 'pow', 'print', 'property', 'range', 'repr', 'reversed', 'round', 'runfile', 'set', 'setattr', 'slice', 'sorted', 'staticmethod', 'str', 'sum', 'super', 'tuple', 'type', 'vars', 'zip']\n"
     ]
    }
   ],
   "source": [
    "print(dir(locals()['__builtins__']))\n",
    "print(dir(locals()['__builtins__']))"
   ]
  },
  {
   "cell_type": "code",
   "execution_count": 8,
   "metadata": {},
   "outputs": [
    {
     "name": "stdout",
     "output_type": "stream",
     "text": [
      "The 'age' key does not exist in the dictionary.\n"
     ]
    }
   ],
   "source": [
    "my_dict = {'name': 'John'}\n",
    "\n",
    "try:\n",
    "    value = my_dict['age']\n",
    "    print(value)\n",
    "except KeyError:\n",
    "    print(\"The 'age' key does not exist in the dictionary.\")\n"
   ]
  },
  {
   "cell_type": "code",
   "execution_count": 21,
   "metadata": {},
   "outputs": [
    {
     "name": "stdout",
     "output_type": "stream",
     "text": [
      "¿Hola, cómo estás?\n"
     ]
    }
   ],
   "source": [
    "from googletrans import Translator\n",
    "\n",
    "# Create a Translator object\n",
    "translator = Translator()\n",
    "\n",
    "# Translate a text from one language to another\n",
    "text_to_translate = \"Hello, how are you?\"\n",
    "translated_text = translator.translate(text_to_translate, src='en', dest='es')\n",
    "\n",
    "# Print the translated text\n",
    "print(translated_text.text)\n"
   ]
  },
  {
   "cell_type": "code",
   "execution_count": 26,
   "metadata": {},
   "outputs": [
    {
     "name": "stdout",
     "output_type": "stream",
     "text": [
      "Collecting nltk\n",
      "  Downloading nltk-3.8.1-py3-none-any.whl (1.5 MB)\n",
      "     ---------------------------------------- 0.0/1.5 MB ? eta -:--:--\n",
      "     ------ --------------------------------- 0.3/1.5 MB 7.7 MB/s eta 0:00:01\n",
      "     -------------------- ------------------- 0.8/1.5 MB 9.7 MB/s eta 0:00:01\n",
      "     ---------------------------------- ----- 1.3/1.5 MB 10.2 MB/s eta 0:00:01\n",
      "     ---------------------------------------  1.5/1.5 MB 9.5 MB/s eta 0:00:01\n",
      "     ---------------------------------------- 1.5/1.5 MB 8.0 MB/s eta 0:00:00\n",
      "Collecting joblib\n",
      "  Downloading joblib-1.3.2-py3-none-any.whl (302 kB)\n",
      "     ---------------------------------------- 0.0/302.2 kB ? eta -:--:--\n",
      "     -------------------------------------- 302.2/302.2 kB 9.4 MB/s eta 0:00:00\n",
      "Collecting regex>=2021.8.3\n",
      "  Downloading regex-2023.8.8-cp310-cp310-win_amd64.whl (268 kB)\n",
      "     ---------------------------------------- 0.0/268.3 kB ? eta -:--:--\n",
      "     ------------------------------------- 268.3/268.3 kB 17.2 MB/s eta 0:00:00\n",
      "Collecting tqdm\n",
      "  Downloading tqdm-4.66.1-py3-none-any.whl (78 kB)\n",
      "     ---------------------------------------- 0.0/78.3 kB ? eta -:--:--\n",
      "     ---------------------------------------- 78.3/78.3 kB 4.5 MB/s eta 0:00:00\n",
      "Requirement already satisfied: click in c:\\users\\orena\\appdata\\local\\packages\\pythonsoftwarefoundation.python.3.10_qbz5n2kfra8p0\\localcache\\local-packages\\python310\\site-packages (from nltk) (8.1.3)\n",
      "Requirement already satisfied: colorama in c:\\users\\orena\\appdata\\local\\packages\\pythonsoftwarefoundation.python.3.10_qbz5n2kfra8p0\\localcache\\local-packages\\python310\\site-packages (from click->nltk) (0.4.6)\n",
      "Installing collected packages: tqdm, regex, joblib, nltk\n",
      "Successfully installed joblib-1.3.2 nltk-3.8.1 regex-2023.8.8 tqdm-4.66.1\n"
     ]
    },
    {
     "name": "stderr",
     "output_type": "stream",
     "text": [
      "\n",
      "[notice] A new release of pip is available: 23.0.1 -> 23.2.1\n",
      "[notice] To update, run: C:\\Users\\orena\\AppData\\Local\\Microsoft\\WindowsApps\\PythonSoftwareFoundation.Python.3.10_qbz5n2kfra8p0\\python.exe -m pip install --upgrade pip\n"
     ]
    }
   ],
   "source": [
    "# pip3 install googletrans==4.0.0-rc1\n",
    "\n",
    "# !c:/Users/orena/anaconda3/python.exe -m pip install googletrans==4.0.0-rc1\n",
    "\n",
    "# !c:/Users/orena/AppData/Local/Microsoft/WindowsApps/PythonSoftwareFoundation.Python.3.10_qbz5n2kfra8p0/python.exe -m pip install googletrans==4.0.0-rc1\n",
    "\n",
    "!c:/Users/orena/AppData/Local/Microsoft/WindowsApps/PythonSoftwareFoundation.Python.3.10_qbz5n2kfra8p0/python.exe -m pip install nltk\n"
   ]
  },
  {
   "cell_type": "code",
   "execution_count": 5,
   "metadata": {},
   "outputs": [
    {
     "data": {
      "text/plain": [
       "'C:\\\\Users\\\\orena\\\\AppData\\\\Local\\\\Microsoft\\\\WindowsApps\\\\PythonSoftwareFoundation.Python.3.10_qbz5n2kfra8p0\\\\python.exe'"
      ]
     },
     "execution_count": 5,
     "metadata": {},
     "output_type": "execute_result"
    }
   ],
   "source": [
    "import sys\n",
    "sys.executable\n"
   ]
  },
  {
   "cell_type": "code",
   "execution_count": 3,
   "metadata": {},
   "outputs": [
    {
     "name": "stdout",
     "output_type": "stream",
     "text": [
      "       FrenchText   EnglishText\n",
      "0         Bonjour  Good morning\n",
      "1  Comment ça va?  How are you?\n",
      "2           Merci        THANKS\n"
     ]
    }
   ],
   "source": [
    "import pandas as pd\n",
    "from googletrans import Translator\n",
    "\n",
    "# Sample data\n",
    "data = {'FrenchText': [\"Bonjour\", \"Comment ça va?\", \"Merci\"]}\n",
    "df = pd.DataFrame(data)\n",
    "\n",
    "# Translator instance\n",
    "translator = Translator()\n",
    "\n",
    "# Translate column\n",
    "df['EnglishText'] = df['FrenchText'].apply(lambda x: translator.translate(x, src='fr', dest='en').text)\n",
    "\n",
    "print(df)\n"
   ]
  },
  {
   "cell_type": "code",
   "execution_count": 4,
   "metadata": {},
   "outputs": [],
   "source": [
    "import pandas as pd\n",
    "\n",
    "# Load the CSV file into a DataFrame\n",
    "# df = pd.read_csv('Fms_clean.csv')\n",
    "df = pd.read_csv(r'C:\\Users\\orena\\OneDrive\\02_JOBS\\IOM\\4_OTHERS\\Hackthon_v2\\Datasets\\FMS_data\\Fms_clean.csv')\n",
    "\n"
   ]
  },
  {
   "cell_type": "code",
   "execution_count": 6,
   "metadata": {},
   "outputs": [
    {
     "data": {
      "text/plain": [
       "Index(['Unnamed: 0', 'id', 'Conso_Col', 'date_of_survey'], dtype='object')"
      ]
     },
     "execution_count": 6,
     "metadata": {},
     "output_type": "execute_result"
    }
   ],
   "source": [
    "df.columns"
   ]
  },
  {
   "cell_type": "code",
   "execution_count": 7,
   "metadata": {},
   "outputs": [
    {
     "name": "stderr",
     "output_type": "stream",
     "text": [
      "[nltk_data] Downloading package words to\n",
      "[nltk_data]     C:\\Users\\orena\\AppData\\Roaming\\nltk_data...\n",
      "[nltk_data]   Package words is already up-to-date!\n"
     ]
    },
    {
     "name": "stdout",
     "output_type": "stream",
     "text": [
      "                         Conso_Col Language\n",
      "0  Forced movement due to Conflict  English\n",
      "1                 Economic reasons   French\n",
      "2               Access to services   French\n",
      "3                 Economic reasons   French\n",
      "4               Access to services   French\n"
     ]
    }
   ],
   "source": [
    "import nltk\n",
    "from nltk.corpus import words\n",
    "\n",
    "# Download the words dataset if you haven't\n",
    "nltk.download('words')\n",
    "\n",
    "# Load the set of English words\n",
    "english_words = set(words.words())\n",
    "\n",
    "def classify_language(text):\n",
    "    if not isinstance(text, str):\n",
    "        return 'Unknown'  # for non-string data types\n",
    "\n",
    "    tokens = text.lower().split()\n",
    "    \n",
    "    # Count how many tokens are in the English dictionary\n",
    "    english_count = sum(1 for token in tokens if token in english_words)\n",
    "    \n",
    "    # If more than 70% of words are English, classify as English\n",
    "    if english_count / len(tokens) > 0.7:\n",
    "        return 'English'\n",
    "    else:\n",
    "        return 'French'\n",
    "\n",
    "# Assuming you've loaded your dataframe as df\n",
    "\n",
    "# Classify language and create a new column\n",
    "df['Language'] = df['Conso_Col'].apply(classify_language)\n",
    "\n",
    "# Check the result\n",
    "print(df[['Conso_Col', 'Language']].head())\n"
   ]
  },
  {
   "cell_type": "code",
   "execution_count": 23,
   "metadata": {},
   "outputs": [
    {
     "name": "stdout",
     "output_type": "stream",
     "text": [
      "                         Conso_Col Language\n",
      "0  Forced movement due to Conflict  English\n",
      "1                 Economic reasons  English\n",
      "2               Access to services  English\n",
      "3                 Economic reasons  English\n",
      "4               Access to services  English\n",
      "5                 Economic reasons  English\n",
      "6                 Economic reasons  English\n",
      "7                 Economic reasons  English\n",
      "8  Forced movement due to Conflict  English\n",
      "9                 Economic reasons  English\n"
     ]
    }
   ],
   "source": [
    "# Extending the English words set\n",
    "additional_english_words = [\"economic\", \"reasons\", \"access\", \"services\", \"forced\", \"movement\", \"due\", \"conflict\",\"Access to services (e.g. health, food, water)\",\"Re-join Family\", \"Natural disasters (i.e. floods drought earthquake etc)\", \"Attend/Visit family (wedding, funeral, etc.)\",\"Cultural practices\",\"Deported\",\"Fundraising\", \"Higheducation\", \"Looking\", \"Political\", \"Visting\", \"Re-join\" ,\"War/ conflict\", \"Seasonal Migration (cattle, farming, harvesting)\", \"Bookingfor job\", \"Job\", \"Job opportunity.\", \"Job opportunities\",\"Deported\", \"Journalists\", \"Looking\", \"Migrating\", \"Medical treatments\", \"Personal issues\", \"Returning\", \"Sudden\", \"Touring\", \"Visitors\",\"Checking livestock\",\"Fishers\",\"Farm\",\"friends\",\"Return\"]\n",
    "english_words = english_words.union(additional_english_words)\n",
    "\n",
    "def classify_language(text):\n",
    "    if not isinstance(text, str):\n",
    "        return 'Unknown'\n",
    "\n",
    "    # If the exact text/phrase is in our additional English word list, return 'English'\n",
    "    if text.lower() in [phrase.lower() for phrase in additional_english_words]:\n",
    "        return 'English'\n",
    "    \n",
    "    tokens = text.lower().split()\n",
    "\n",
    "    # Count how many tokens are in the English dictionary\n",
    "    english_count = sum(1 for token in tokens if token in english_words)\n",
    "    \n",
    "    # Adjust the threshold\n",
    "    if english_count / len(tokens) > 0.5:  # Reducing the threshold to 50%\n",
    "        return 'English'\n",
    "    else:\n",
    "        return 'French'\n",
    "\n",
    "# Update the Language column with improved classification\n",
    "df['Language'] = df['Conso_Col'].apply(classify_language)\n",
    "\n",
    "# Check the result\n",
    "print(df[['Conso_Col', 'Language']].head(10))\n"
   ]
  },
  {
   "cell_type": "code",
   "execution_count": 24,
   "metadata": {},
   "outputs": [],
   "source": [
    "# Constructing the full path\n",
    "path = \"C:\\\\Users\\\\orena\\\\OneDrive\\\\02_JOBS\\\\IOM\\\\4_OTHERS\\\\Hackthon_v2\\\\Datasets\\\\FMS_data\\\\output_filename4.csv\"\n",
    "\n",
    "# Export DataFrame to CSV\n",
    "df.to_csv(path, index=False)\n"
   ]
  },
  {
   "cell_type": "code",
   "execution_count": 17,
   "metadata": {},
   "outputs": [
    {
     "data": {
      "text/html": [
       "<div>\n",
       "<style scoped>\n",
       "    .dataframe tbody tr th:only-of-type {\n",
       "        vertical-align: middle;\n",
       "    }\n",
       "\n",
       "    .dataframe tbody tr th {\n",
       "        vertical-align: top;\n",
       "    }\n",
       "\n",
       "    .dataframe thead th {\n",
       "        text-align: right;\n",
       "    }\n",
       "</style>\n",
       "<table border=\"1\" class=\"dataframe\">\n",
       "  <thead>\n",
       "    <tr style=\"text-align: right;\">\n",
       "      <th></th>\n",
       "      <th>Unnamed: 0</th>\n",
       "      <th>id</th>\n",
       "      <th>Conso_Col</th>\n",
       "      <th>date_of_survey</th>\n",
       "      <th>Language</th>\n",
       "    </tr>\n",
       "  </thead>\n",
       "  <tbody>\n",
       "    <tr>\n",
       "      <th>16</th>\n",
       "      <td>17</td>\n",
       "      <td>586853_Djibouti_9_2021</td>\n",
       "      <td>War/ conflict</td>\n",
       "      <td>44451</td>\n",
       "      <td>French</td>\n",
       "    </tr>\n",
       "    <tr>\n",
       "      <th>25</th>\n",
       "      <td>26</td>\n",
       "      <td>590620_Burundi_7_2021</td>\n",
       "      <td>Retour à la maison</td>\n",
       "      <td>44381</td>\n",
       "      <td>French</td>\n",
       "    </tr>\n",
       "    <tr>\n",
       "      <th>29</th>\n",
       "      <td>30</td>\n",
       "      <td>68705_Somalia_3_2020</td>\n",
       "      <td>Natural disasters (i.e. floods drought earthqu...</td>\n",
       "      <td>43921</td>\n",
       "      <td>French</td>\n",
       "    </tr>\n",
       "    <tr>\n",
       "      <th>38</th>\n",
       "      <td>39</td>\n",
       "      <td>5873_Somalia_7_2018</td>\n",
       "      <td>Attend/Visit family (wedding, funeral, etc.)</td>\n",
       "      <td>43289</td>\n",
       "      <td>French</td>\n",
       "    </tr>\n",
       "    <tr>\n",
       "      <th>40</th>\n",
       "      <td>41</td>\n",
       "      <td>590584_Burundi_7_2021</td>\n",
       "      <td>Retour à mon pays de résidence habituel</td>\n",
       "      <td>44385</td>\n",
       "      <td>French</td>\n",
       "    </tr>\n",
       "    <tr>\n",
       "      <th>...</th>\n",
       "      <td>...</td>\n",
       "      <td>...</td>\n",
       "      <td>...</td>\n",
       "      <td>...</td>\n",
       "      <td>...</td>\n",
       "    </tr>\n",
       "    <tr>\n",
       "      <th>199840</th>\n",
       "      <td>199841</td>\n",
       "      <td>546560_Somalia_8_2021</td>\n",
       "      <td>Access to services (e.g. health, food, water)</td>\n",
       "      <td>44419</td>\n",
       "      <td>French</td>\n",
       "    </tr>\n",
       "    <tr>\n",
       "      <th>199841</th>\n",
       "      <td>199842</td>\n",
       "      <td>546575_Somalia_8_2021</td>\n",
       "      <td>Access to services (e.g. health, food, water)</td>\n",
       "      <td>44419</td>\n",
       "      <td>French</td>\n",
       "    </tr>\n",
       "    <tr>\n",
       "      <th>199842</th>\n",
       "      <td>199843</td>\n",
       "      <td>546594_Somalia_8_2021</td>\n",
       "      <td>Access to services (e.g. health, food, water)</td>\n",
       "      <td>44420</td>\n",
       "      <td>French</td>\n",
       "    </tr>\n",
       "    <tr>\n",
       "      <th>199847</th>\n",
       "      <td>199848</td>\n",
       "      <td>546802_Somalia_8_2021</td>\n",
       "      <td>Access to services (e.g. health, food, water)</td>\n",
       "      <td>44423</td>\n",
       "      <td>French</td>\n",
       "    </tr>\n",
       "    <tr>\n",
       "      <th>199848</th>\n",
       "      <td>199849</td>\n",
       "      <td>546839_Somalia_8_2021</td>\n",
       "      <td>Access to services (e.g. health, food, water)</td>\n",
       "      <td>44433</td>\n",
       "      <td>French</td>\n",
       "    </tr>\n",
       "  </tbody>\n",
       "</table>\n",
       "<p>31278 rows × 5 columns</p>\n",
       "</div>"
      ],
      "text/plain": [
       "        Unnamed: 0                      id  \\\n",
       "16              17  586853_Djibouti_9_2021   \n",
       "25              26   590620_Burundi_7_2021   \n",
       "29              30    68705_Somalia_3_2020   \n",
       "38              39     5873_Somalia_7_2018   \n",
       "40              41   590584_Burundi_7_2021   \n",
       "...            ...                     ...   \n",
       "199840      199841   546560_Somalia_8_2021   \n",
       "199841      199842   546575_Somalia_8_2021   \n",
       "199842      199843   546594_Somalia_8_2021   \n",
       "199847      199848   546802_Somalia_8_2021   \n",
       "199848      199849   546839_Somalia_8_2021   \n",
       "\n",
       "                                                Conso_Col  date_of_survey  \\\n",
       "16                                          War/ conflict           44451   \n",
       "25                                     Retour à la maison           44381   \n",
       "29      Natural disasters (i.e. floods drought earthqu...           43921   \n",
       "38           Attend/Visit family (wedding, funeral, etc.)           43289   \n",
       "40                Retour à mon pays de résidence habituel           44385   \n",
       "...                                                   ...             ...   \n",
       "199840      Access to services (e.g. health, food, water)           44419   \n",
       "199841      Access to services (e.g. health, food, water)           44419   \n",
       "199842      Access to services (e.g. health, food, water)           44420   \n",
       "199847      Access to services (e.g. health, food, water)           44423   \n",
       "199848      Access to services (e.g. health, food, water)           44433   \n",
       "\n",
       "       Language  \n",
       "16       French  \n",
       "25       French  \n",
       "29       French  \n",
       "38       French  \n",
       "40       French  \n",
       "...         ...  \n",
       "199840   French  \n",
       "199841   French  \n",
       "199842   French  \n",
       "199847   French  \n",
       "199848   French  \n",
       "\n",
       "[31278 rows x 5 columns]"
      ]
     },
     "execution_count": 17,
     "metadata": {},
     "output_type": "execute_result"
    }
   ],
   "source": [
    "# # Set display options\n",
    "# pd.set_option('display.max_rows', None)  # Show all rows\n",
    "# pd.set_option('display.max_columns', None)  # Show all columns\n",
    "\n",
    "# Reset display options to defaults\n",
    "pd.reset_option('display.max_rows')\n",
    "pd.reset_option('display.max_columns')\n",
    "\n",
    "df[df['Language'] == 'French']"
   ]
  }
 ],
 "metadata": {
  "kernelspec": {
   "display_name": "Python 3",
   "language": "python",
   "name": "python3"
  },
  "language_info": {
   "codemirror_mode": {
    "name": "ipython",
    "version": 3
   },
   "file_extension": ".py",
   "mimetype": "text/x-python",
   "name": "python",
   "nbconvert_exporter": "python",
   "pygments_lexer": "ipython3",
   "version": "3.10.11"
  },
  "orig_nbformat": 4
 },
 "nbformat": 4,
 "nbformat_minor": 2
}

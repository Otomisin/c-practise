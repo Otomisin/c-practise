{
 "cells": [
  {
   "attachments": {},
   "cell_type": "markdown",
   "metadata": {},
   "source": [
    "## Common Unix/Linux commands\n",
    "- **`ls`**: lists the files and directories in a directory.\n",
    "- **`cd`**: changes the current working directory.\n",
    "- **`cp`**: copies files and directories.\n",
    "- **`mv`**: moves or renames files and directories.\n",
    "- **`rm`**: removes files and directories.\n",
    "- **`mkdir`**: creates a new directory.\n",
    "- **`rmdir`**: removes an empty directory.\n",
    "- **`cat`**: concatenates and displays the contents of files.\n",
    "- **`head`**: displays the first few lines of a file.\n",
    "- **`tail`**: displays the last few lines of a file.\n",
    "- **`grep`**: searches for a pattern in a file or stream of data.\n",
    "- **`sed`**: performs text transformations on a file or stream of data.\n",
    "- **`awk`**: processes and analyzes text files.\n",
    "- **`sort`**: sorts the lines of a file or stream of data.\n",
    "- **`uniq`**: removes duplicate lines from a file or stream of data.\n",
    "- **`tar`**: archives and compresses files and directories.\n",
    "- **`ssh`**: connects to a remote system over a secure shell (SSH) connection.\n",
    "- **`scp`**: copies files to or from a remote system over a secure shell (SSH) connection."
   ]
  },
  {
   "attachments": {},
   "cell_type": "markdown",
   "metadata": {},
   "source": [
    "- su for changing users\n",
    "- id user to check the user's permission\n",
    "\n",
    "### cut\n",
    "The **`cut`** command is a utility in Unix/Linux operating systems that is used to extract sections (or columns) from each line of a file or from a stream of data. It is often used to filter out unwanted columns or fields of data from a text file or other input.\n",
    "\n",
    "The basic syntax of the **`cut`** command is:\n",
    "\n",
    "```\n",
    "cssCopy code\n",
    "cut [options] [file(s)]\n",
    "\n",
    "```\n",
    "\n",
    "Here are some common options for the **`cut`** command:\n",
    "\n",
    "- **`c`** or **`-characters`**: selects a range of characters from each line, specified by a list of character positions or ranges separated by commas. For example, **`cut -c 1-3,6 file.txt`** would extract the 1st, 2nd, 3rd, and 6th characters from each line of **`file.txt`**.\n",
    "- **`f`** or **`-fields`**: selects a range of fields (columns) from each line, specified by a list of field positions or ranges separated by commas. Fields are separated by a specified delimiter (usually a tab or space character). For example, **`cut -f 1,3-5 file.txt`** would extract the 1st, 3rd, 4th, and 5th fields from each line of **`file.txt`**.\n",
    "\n",
    "Here are some examples of how **`cut`** can be used:\n",
    "\n",
    "```\n",
    "bashCopy code\n",
    "# Extract the first field (column) from a CSV file\n",
    "cut -d ',' -f 1 data.csv\n",
    "\n",
    "# Extract the first and third fields (columns) from a TSV file\n",
    "cut -d $'\\t' -f 1,3 data.tsv\n",
    "\n",
    "# Extract the first 10 characters from each line of a file\n",
    "cut -c 1-10 file.txt\n",
    "\n",
    "```\n"
   ]
  },
  {
   "attachments": {},
   "cell_type": "markdown",
   "metadata": {},
   "source": [
    "### rev\n",
    "\n",
    "The **`rev`** command is a Unix/Linux utility that is used to reverse the order of characters in each line of a file or standard input. The basic syntax of the **`rev`** command is:\n",
    "\n",
    "```\n",
    "cssCopy code\n",
    "rev [options] [file(s)]\n",
    "\n",
    "```\n",
    "\n",
    "Here are some common options for the **`rev`** command:\n",
    "\n",
    "- **`V`** or **`-version`**: prints the version of **`rev`** and exits.\n",
    "- **`h`** or **`-help`**: prints help information for **`rev`** and exits.\n",
    "\n",
    "Here's an example of how **`rev`** can be used:\n",
    "\n",
    "```\n",
    "bashCopy code\n",
    "# Reverse the order of characters in each line of a file\n",
    "rev file.txt\n",
    "\n",
    "```\n",
    "\n",
    "For example, if **`file.txt`** contains the following lines:\n",
    "\n",
    "```\n",
    "Copy code\n",
    "hello world\n",
    "foo bar baz\n",
    "12345\n",
    "\n",
    "```\n",
    "\n",
    "The output of **`rev file.txt`** would be:\n",
    "\n",
    "```\n",
    "Copy code\n",
    "dlrow olleh\n",
    "zab rab oof\n",
    "54321\n",
    "\n",
    "```\n",
    "\n",
    "In summary, the **`rev`** command is a simple utility that can be used to reverse the order of characters in each line of a file or standard input."
   ]
  },
  {
   "attachments": {},
   "cell_type": "markdown",
   "metadata": {},
   "source": [
    "### tr\n",
    "\n",
    "The **`tr`** command is a Unix/Linux utility that is used to translate or delete characters in a stream of data. The basic syntax of the **`tr`** command is:\n",
    "\n",
    "```\n",
    "cssCopy code\n",
    "tr [options] [set1] [set2]\n",
    "\n",
    "```\n",
    "\n",
    "Here are some common options for the **`tr`** command:\n",
    "\n",
    "- **`d`** or **`-delete`**: deletes all characters in set1 from the input.\n",
    "- **`c`** or **`-complement`**: replaces all characters not in set1 with the corresponding character in set2.\n",
    "- **`s`** or **`-squeeze-repeats`**: replaces each sequence of repeated characters in set1 with a single occurrence of that character.\n",
    "\n",
    "Here are some examples of how **`tr`** can be used:\n",
    "\n",
    "```\n",
    "bashCopy code\n",
    "# Replace all occurrences of 'a' with 'b' in a file\n",
    "tr 'a' 'b' < file.txt\n",
    "\n",
    "# Delete all occurrences of 'x' from a file\n",
    "tr -d 'x' < file.txt\n",
    "\n",
    "# Replace all non-alphabetic characters with spaces\n",
    "tr -c '[:alpha:]' ' ' < file.txt\n",
    "\n",
    "# Replace all occurrences of consecutive spaces with a single space\n",
    "tr -s ' ' < file.txt\n",
    "\n",
    "```\n",
    "\n",
    "In summary, the **`tr`** command is a versatile utility that can be used to translate or delete characters in a stream of data. It is often used in combination with other Unix/Linux commands to perform text processing tasks."
   ]
  },
  {
   "attachments": {},
   "cell_type": "markdown",
   "metadata": {},
   "source": [
    "### grep \n",
    "\n",
    "The grep command is a Unix/Linux utility that is used to search for a specified pattern or regular expression in a file or stream of data. The basic syntax of the grep command is:\n",
    "\n",
    "css\n",
    "Copy code\n",
    "grep [options] pattern [file(s)]\n",
    "Here are some common options for the grep command:\n",
    "\n",
    "-i or --ignore-case: ignores case distinctions in both the pattern and input files.\n",
    "-v or --invert-match: selects all non-matching lines.\n",
    "-w or --word-regexp: selects only those lines containing matches that form whole words.\n",
    "-c or --count: prints only a count of the matching lines.\n",
    "-n or --line-number: prints the line number before each matching line.\n",
    "Here are some examples of how grep can be used:\n",
    "\n",
    "perl\n",
    "Copy code\n",
    "#Search for the string 'hello' in a file\n",
    "grep 'hello' file.txt\n",
    "\n",
    "#Search for the string 'hello' case-insensitively in a file\n",
    "grep -i 'hello' file.txt\n",
    "\n",
    "#Search for the string 'hello' in all text files in a directory\n",
    "grep 'hello' *.txt\n",
    "\n",
    "#Search for the word 'hello' in a file\n",
    "grep -w 'hello' file.txt\n",
    "\n",
    "#Count the number of lines containing the word 'hello' in a file\n",
    "grep -c 'hello' file.txt\n",
    "In summary, the grep command is a powerful utility that can be used to search for patterns or regular expressions in files or streams of data. It has many useful options that can be used to customize its behavior."
   ]
  },
  {
   "attachments": {},
   "cell_type": "markdown",
   "metadata": {},
   "source": [
    "### sed\n",
    "\n",
    "The sed command is a Unix/Linux utility that is used to perform text transformations on a file or stream of data. The basic syntax of the sed command is:\n",
    "\n",
    "css\n",
    "Copy code\n",
    "sed [options] command [file(s)]\n",
    "Here are some common options for the sed command:\n",
    "\n",
    "-i or --in-place: modifies the input files in place.\n",
    "-e or --expression: adds a script of editing commands to the command line.\n",
    "-n or --quiet: suppresses automatic printing of pattern space.\n",
    "-r or --regexp-extended: uses extended regular expressions.\n",
    "Here are some examples of how sed can be used:\n",
    "\n",
    "lua\n",
    "Copy code\n",
    "#Replace the string 'foo' with 'bar' in a file\n",
    "sed 's/foo/bar/g' file.txt\n",
    "\n",
    "#Delete the lines containing the string 'foo' in a file\n",
    "sed '/foo/d' file.txt\n",
    "\n",
    "#Print only the lines containing the string 'foo' in a file\n",
    "sed -n '/foo/p' file.txt\n",
    "\n",
    "#Replace the string 'foo' with 'bar' in a file, modifying the file in place\n",
    "sed -i 's/foo/bar/g' file.txt\n",
    "In summary, the sed command is a versatile utility that can be used to perform text transformations on a file or stream of data. It is often used in combination with other Unix/Linux commands to perform text processing tasks"
   ]
  },
  {
   "attachments": {},
   "cell_type": "markdown",
   "metadata": {},
   "source": [
    "### find\n",
    "\n",
    "The find command is a Unix/Linux utility that is used to search for files and directories in a specified directory hierarchy. The basic syntax of the find command is:\n",
    "\n",
    "css\n",
    "Copy code\n",
    "find [path] [expression]\n",
    "Here are some common expressions for the find command:\n",
    "\n",
    "-name or -iname: searches for files or directories with the specified name or pattern.\n",
    "-type: searches for files of a specific type (e.g., -type f for regular files, -type d for directories).\n",
    "-size: searches for files of a specific size (e.g., -size +10M for files larger than 10 megabytes).\n",
    "-mtime or -ctime: searches for files that were modified or created within a specific time range.\n",
    "Here are some examples of how find can be used:\n",
    "\n",
    "bash\n",
    "Copy code\n",
    "#Find all files in the current directory and its subdirectories\n",
    "find .\n",
    "\n",
    "#Find all directories in the current directory and its subdirectories\n",
    "find . -type d\n",
    "\n",
    "#Find all files with the name 'example.txt' in the current directory and its subdirectories\n",
    "find . -name 'example.txt'\n",
    "\n",
    "#Find all files larger than 10 megabytes in the current directory and its subdirectories\n",
    "find . -type f -size +10M\n",
    "\n",
    "#Find all files modified in the last 24 hours in the current directory and its subdirectories\n",
    "find . -type f -mtime -1\n",
    "In summary, the find command is a powerful utility that can be used to search for files and directories in a directory hierarchy based on various criteria. It can be used in combination with other Unix/Linux commands to perform various file operations."
   ]
  },
  {
   "attachments": {},
   "cell_type": "markdown",
   "metadata": {},
   "source": [
    "### awk\n",
    "\n",
    "**`awk`** is a versatile Unix/Linux utility that is used for processing and analyzing text files. It is a scripting language that is primarily used for manipulating and transforming data in a file or stream.\n",
    "\n",
    "The basic syntax of an **`awk`** command is as follows:\n",
    "\n",
    "```\n",
    "cssCopy code\n",
    "awk '[pattern] {action}' [filename]\n",
    "\n",
    "```\n",
    "\n",
    "Here is a brief explanation of each component:\n",
    "\n",
    "- **`pattern`**: specifies the pattern to match in the input data. If a pattern is not specified, the action will be applied to every line of the input data.\n",
    "- **`action`**: specifies the action to perform on the lines that match the pattern. An action can be any combination of commands, including printing, manipulating data, and performing arithmetic or logical operations.\n",
    "- **`filename`**: specifies the name of the input file. If a filename is not specified, **`awk`** reads from standard input (e.g., a pipe).\n",
    "\n",
    "Here are some examples of how **`awk`** can be used:\n",
    "\n",
    "```\n",
    "bashCopy code\n",
    "# Print the first field of each line in a file\n",
    "awk '{print $1}' myfile.txt\n",
    "\n",
    "# Print the lines in a file that contain the word 'example'\n",
    "awk '/example/ {print}' myfile.txt\n",
    "\n",
    "# Calculate the total size of a list of files\n",
    "ls -l | awk '{total += $5} END {print total}'\n",
    "\n",
    "# Replace all occurrences of 'foo' with 'bar' in a file\n",
    "awk '{gsub(/foo/, \"bar\"); print}' myfile.txt\n",
    "\n",
    "```\n",
    "\n",
    "**`awk`** is a very powerful tool that can perform a wide variety of data processing and analysis tasks. It is particularly useful for working with structured data, such as CSV files or log files."
   ]
  },
  {
   "attachments": {},
   "cell_type": "markdown",
   "metadata": {},
   "source": [
    "## Loops, conditions and parsing\n",
    "\n",
    "- How to create SSH keys\n",
    "- What is the advantage of using `#!/usr/bin/env bash` over `#!/bin/bash`\n",
    "- How to use `while`, `until` and `for` loops\n",
    "- How to use `if`, `else`, `elif` and `case` condition statements\n",
    "- How to use the `cut` command\n",
    "- What are files and other comparison operators, and how to use them"
   ]
  },
  {
   "attachments": {},
   "cell_type": "markdown",
   "metadata": {},
   "source": [
    "### How to create SSH keys"
   ]
  },
  {
   "cell_type": "code",
   "execution_count": null,
   "metadata": {
    "vscode": {
     "languageId": "shellscript"
    }
   },
   "outputs": [],
   "source": [
    "#!/bin/bash\n",
    "\n",
    "# Generate SSH key pair\n",
    "ssh-keygen -t rsa -b 4096 -C \"your_email@example.com\"\n",
    "\n",
    "# Provide location and name for the SSH key files\n",
    "private_key_path=\"$HOME/.ssh/id_rsa\"\n",
    "public_key_path=\"$HOME/.ssh/id_rsa.pub\"\n",
    "\n",
    "# Set appropriate permissions for SSH key files\n",
    "chmod 400 \"$private_key_path\"\n",
    "chmod 644 \"$public_key_path\"\n",
    "\n",
    "echo \"SSH key pair generated successfully!\"\n"
   ]
  },
  {
   "attachments": {},
   "cell_type": "markdown",
   "metadata": {},
   "source": [
    "### What is the advantage of using `#!/usr/bin/env bash` over `#!/bin/bash`"
   ]
  },
  {
   "attachments": {},
   "cell_type": "markdown",
   "metadata": {},
   "source": [
    "### Using While, Until, and For Loops"
   ]
  },
  {
   "attachments": {},
   "cell_type": "markdown",
   "metadata": {},
   "source": [
    "### Using If, Else, Elif, and Case Condition Statements:"
   ]
  },
  {
   "cell_type": "code",
   "execution_count": 6,
   "metadata": {
    "vscode": {
     "languageId": "shellscript"
    }
   },
   "outputs": [
    {
     "name": "stdout",
     "output_type": "stream",
     "text": [
      "\n",
      "4 is not equal to 5\n",
      "(arithmetic comparison)\n"
     ]
    }
   ],
   "source": [
    "%%bash\n",
    "\n",
    "a=4\n",
    "b=5\n",
    "\n",
    "echo\n",
    "\n",
    "if [ \"$a\" -ne \"$b\" ]; then\n",
    "  echo \"$a is not equal to $b\"\n",
    "  echo \"(arithmetic comparison)\"\n",
    "fi"
   ]
  },
  {
   "attachments": {},
   "cell_type": "markdown",
   "metadata": {},
   "source": [
    "### Using the Cut Command:"
   ]
  },
  {
   "cell_type": "code",
   "execution_count": 7,
   "metadata": {
    "vscode": {
     "languageId": "shellscript"
    }
   },
   "outputs": [
    {
     "ename": "SyntaxError",
     "evalue": "invalid syntax (1585404996.py, line 5)",
     "output_type": "error",
     "traceback": [
      "\u001b[1;36m  Cell \u001b[1;32mIn[7], line 5\u001b[1;36m\u001b[0m\n\u001b[1;33m    cut -d ',' -f 1,3 \"$csv_file\" # Extracting columns 1 and 3 separated by comma\u001b[0m\n\u001b[1;37m           ^\u001b[0m\n\u001b[1;31mSyntaxError\u001b[0m\u001b[1;31m:\u001b[0m invalid syntax\n"
     ]
    }
   ],
   "source": [
    "#!/bin/bash\n",
    "\n",
    "# Cut command to extract columns from a CSV file\n",
    "csv_file=\"data.csv\"\n",
    "cut -d ',' -f 1,3 \"$csv_file\" # Extracting columns 1 and 3 separated by comma\n"
   ]
  },
  {
   "attachments": {},
   "cell_type": "markdown",
   "metadata": {},
   "source": [
    "### Using File and Other Comparison Operators:"
   ]
  },
  {
   "cell_type": "code",
   "execution_count": 8,
   "metadata": {
    "vscode": {
     "languageId": "shellscript"
    }
   },
   "outputs": [
    {
     "ename": "SyntaxError",
     "evalue": "invalid syntax. Perhaps you forgot a comma? (685645908.py, line 8)",
     "output_type": "error",
     "traceback": [
      "\u001b[1;36m  Cell \u001b[1;32mIn[8], line 8\u001b[1;36m\u001b[0m\n\u001b[1;33m    if [ -e \"$file1\" ]; then\u001b[0m\n\u001b[1;37m         ^\u001b[0m\n\u001b[1;31mSyntaxError\u001b[0m\u001b[1;31m:\u001b[0m invalid syntax. Perhaps you forgot a comma?\n"
     ]
    }
   ],
   "source": [
    "#!/bin/bash\n",
    "\n",
    "# File and other comparison operators\n",
    "file1=\"file1.txt\"\n",
    "file2=\"file2.txt\"\n",
    "\n",
    "# Check if file1 exists\n",
    "if [ -e \"$file1\" ]; then\n",
    "    echo \"File1 exists\"\n",
    "fi\n",
    "\n",
    "# Check if file2 is a regular file\n",
    "if [ -f \"$file2\" ]; then\n",
    "    echo \"File2 is a regular file\"\n",
    "fi\n",
    "\n",
    "# Check if file1 is executable\n",
    "if [ -x \"$file1\" ]; then\n",
    "    echo \"File1 is executable\"\n",
    "fi\n",
    "\n",
    "# Check if file1 is newer than file2\n",
    "if [ \"$file1\" -nt \"$file2\" ]; then\n",
    "    echo \"File1 is newer than file2\"\n",
    "fi\n",
    "\n",
    "# Check if file1 is older than file2\n",
    "if [ \"$file1\" -ot\n"
   ]
  }
 ],
 "metadata": {
  "kernelspec": {
   "display_name": "Python 3",
   "language": "python",
   "name": "python3"
  },
  "language_info": {
   "codemirror_mode": {
    "name": "ipython",
    "version": 3
   },
   "file_extension": ".py",
   "mimetype": "text/x-python",
   "name": "python",
   "nbconvert_exporter": "python",
   "pygments_lexer": "ipython3",
   "version": "3.11.1"
  },
  "orig_nbformat": 4
 },
 "nbformat": 4,
 "nbformat_minor": 2
}

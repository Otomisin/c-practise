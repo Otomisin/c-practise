{
 "cells": [
  {
   "cell_type": "code",
   "execution_count": 1,
   "metadata": {},
   "outputs": [
    {
     "name": "stdout",
     "output_type": "stream",
     "text": [
      "c:\\Users\\orena\\OneDrive\\01_ORENAIKE\\02_CAREER AND DEVELOPMENTS\\01_Schools\\ALX\\Codes\\c-practise\\Practise_code\\Pyhton_practise\\ReadAndWriteFiles\n",
      "['random.txt', 'Read and write files.ipynb', 'tempCodeRunnerFile.py', 'test.py']\n"
     ]
    }
   ],
   "source": [
    "import csv\n",
    "import os\n",
    "cwd = os.getcwd()  # Get the current working directory (cwd)\n",
    "print(cwd)\n",
    "files = os.listdir(cwd)  # Get all the files in that directory\n",
    "print(files)"
   ]
  },
  {
   "cell_type": "code",
   "execution_count": 7,
   "metadata": {},
   "outputs": [],
   "source": [
    "## Traditional Method"
   ]
  },
  {
   "cell_type": "code",
   "execution_count": null,
   "metadata": {},
   "outputs": [],
   "source": [
    "f = open('random.txt', 'r')"
   ]
  },
  {
   "attachments": {},
   "cell_type": "markdown",
   "metadata": {},
   "source": [
    "## Alternative method: Context Manager"
   ]
  },
  {
   "cell_type": "code",
   "execution_count": 6,
   "metadata": {},
   "outputs": [
    {
     "name": "stdout",
     "output_type": "stream",
     "text": [
      "As absolute is by amounted repeated entirely ye returned. These ready timed enjoy might sir yet one since. Years drift never if could forty being no. On estimable dependent as suffering on my. Rank it long have sure in room what as he. Possession travelling sufficient yet our. Talked vanity looked in to. Gay perceive led believed endeavor. Rapturous no of estimable oh therefore direction up. Sons the ever not fine like eyes all sure.\n",
      " \n",
      " Arrived compass prepare an on as. Reasonable particular on my it in sympathize. Size now easy eat hand how. Unwilling he departure elsewhere dejection at. Heart large seems may purse means few blind. Exquisite newspaper attending on certainty oh suspicion of. He less do quit evil is. Add matter family active mutual put wishes happen.\n",
      " \n",
      " He do subjects prepared bachelor juvenile ye oh. He feelings removing informed he as ignorant we prepared. Evening do forming observe spirits is in. Country hearted be of justice sending. On so they as with room cold ye. Be call four my went mean. Celebrated if remarkably especially an. Going eat set she books found met aware.\n",
      " \n",
      " Is post each that just leaf no. He connection interested so we an sympathize advantages. To said is it shed want do. Occasional middletons everything so to. Have spot part for his quit may. Enable it is square my an regard. Often merit stuff first oh up hills as he. Servants contempt as although addition dashwood is procured. Interest in yourself an do of numerous feelings cheerful confined.\n",
      " "
     ]
    }
   ],
   "source": [
    "# More efficient\n",
    "with open('random.txt', 'r') as f:\n",
    "     for line in f:\n",
    "          print(line, end =\" \" )\n"
   ]
  },
  {
   "cell_type": "code",
   "execution_count": 10,
   "metadata": {},
   "outputs": [
    {
     "name": "stdout",
     "output_type": "stream",
     "text": [
      "As absolute is by amounted repeated entirely ye returned. These ready timed enjoy might sir yet one \n"
     ]
    }
   ],
   "source": [
    "# This prints all at ones, online the first method, which print line by line. \n",
    "# In this method you don't have to usse the close\n",
    "with open('random.txt', 'r') as f:\n",
    "     print(f.read(100)) # You can pass values to read the first 100 charater "
   ]
  },
  {
   "cell_type": "markdown",
   "metadata": {},
   "source": [
    "## HOW TO WRITE A FILE"
   ]
  },
  {
   "cell_type": "code",
   "execution_count": 12,
   "metadata": {},
   "outputs": [],
   "source": [
    "# This method write a file. \n",
    "with open ('Another.txt', 'w') as f:\n",
    "     f.write('i am writing in a text file here')\n",
    "\n",
    "# To Avoid overwriting an exiting file with the same name, use the append (a) mode instead of the write mode"
   ]
  },
  {
   "cell_type": "code",
   "execution_count": 14,
   "metadata": {},
   "outputs": [],
   "source": [
    "with open('Another.txt', 'a') as f:\n",
    "     f.write('\\nThis is anoher test file')\n",
    "\n",
    "# This adds to the existing file"
   ]
  },
  {
   "cell_type": "code",
   "execution_count": null,
   "metadata": {},
   "outputs": [],
   "source": [
    "with open('random.txt', 'r') as readfile:\n",
    "     for line in readfile:\n",
    "          if line.startswith('Arrived') is True:\n",
    "               with open('ArrivedFile.txt', 'a') as appendfile:\n",
    "                    appendfile.write(line)"
   ]
  }
 ],
 "metadata": {
  "kernelspec": {
   "display_name": "Python 3",
   "language": "python",
   "name": "python3"
  },
  "language_info": {
   "codemirror_mode": {
    "name": "ipython",
    "version": 3
   },
   "file_extension": ".py",
   "mimetype": "text/x-python",
   "name": "python",
   "nbconvert_exporter": "python",
   "pygments_lexer": "ipython3",
   "version": "3.10.9"
  },
  "orig_nbformat": 4,
  "vscode": {
   "interpreter": {
    "hash": "8f60924c770a5b78a3c055fbf437a768b94cadb0da39d7de8584be4d1611e218"
   }
  }
 },
 "nbformat": 4,
 "nbformat_minor": 2
}

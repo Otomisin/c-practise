{
 "cells": [
  {
   "attachments": {},
   "cell_type": "markdown",
   "metadata": {},
   "source": [
    "# Reading and writig files in Python\n",
    "\n",
    "Resources and outline\n",
    "\n",
    "- [7.2. Reading and Writing Files](https://intranet.alxswe.com/rltoken/hFlrZ9E1XROVWcjwwyF52A)\n",
    "- [8.7. Predefined Clean-up Actions](https://intranet.alxswe.com/rltoken/0OZ9fzPRjmKWZsID9IRJSg)\n",
    "- [Dive Into Python 3: Chapter 11. Files](https://intranet.alxswe.com/rltoken/0osPfNU5d3Shh9PFWgYm9A) (*until “11.4 Binary Files” (included)*)\n",
    "- [JSON encoder and decoder](https://intranet.alxswe.com/rltoken/l0B9_pFn1tgBvE7FrT14Zw)\n",
    "- [Learn to Program 8 : Reading / Writing Files](https://intranet.alxswe.com/rltoken/ZvtAdnUzjnEVu1sjg3m_tQ)\n",
    "- [Automate the Boring Stuff with Python](https://intranet.alxswe.com/rltoken/Ej8YjhxLXpzHW7_rNMd9XQ) (*ch. 8 p 180-183 and ch. 14 p 326-333*)\n",
    "- [All about py-file I/O](https://intranet.alxswe.com/rltoken/TUatlpPV27S4zPogmQIPnQ)\n",
    "\n",
    "Objectives\n",
    "\n",
    "- How to open a file\n",
    "- How to write text in a file\n",
    "- How to read the full content of a file\n",
    "- How to read a file line by line\n",
    "- How to move the cursor in a file\n",
    "- How to make sure a file is closed after using it\n",
    "- What is and how to use the `with` statement\n",
    "- What is `JSON`\n",
    "- What is serialization\n",
    "- What is deserialization\n",
    "- How to convert a Python data structure to a JSON string\n",
    "- How to convert a JSON string to a Python data structure"
   ]
  },
  {
   "attachments": {},
   "cell_type": "markdown",
   "metadata": {},
   "source": [
    "### Reading Files\n",
    "\n",
    "Resources\n",
    "\n",
    "  - https://realpython.com/read-write-files-python/#what-is-a-file\n",
    "  - https://www.youtube.com/watch?v=Uh2ebFW8OYM\n",
    "\n",
    "**What's a file?**\n",
    "\n",
    "At its core, a file is a contiguous set of bytes used to store data. This data is organized in a specific format and can be anything as simple as a text file or as complicated as a program executable. In the end, these byte files are then translated into binary 1 and 0 for easier processing by the computer.\n",
    "Files on most modern file systems are composed of three main parts:\n",
    "\n",
    "1. **Header:** metadata about the contents of the file (file name, size, type, and so on)\n",
    "2. **Data:** contents of the file as written by the creator or editor\n",
    "3. **End of file (EOF):** special character that indicates the end of the file\n",
    "\n",
    "What a file represent depends on the extension of the file, some examples are pdf, gif,  tif. There are thousands of [list](https://en.wikipedia.org/wiki/List_of_filename_extensions) out there.\n",
    "\n",
    "**Considerations in reading and opening a file**<br>\n",
    "**LINE ENDINGS**\n",
    "Some other consideration when reading and writing a file is the LINE ENDING. Line ending are also know as newline characters that indicate the end of a line of a text. Different operatiing systems use different characters to represent line endings:\n",
    "  - Unix and Linux use a single newline character (/n)\n",
    "      ```\n",
    "    Pug/r\n",
    "    /n\n",
    "    Jack Russell Terrier/r\n",
    "    /n\n",
    "    English Springer Spaniel/r\n",
    "    /n\n",
    "    ```\n",
    "  - Windows uses two characters, a carriage return followed by a newline (/r/n)\n",
    "    ```\n",
    "    Pug/r/n\n",
    "    Jack Russell Terrier/r/n\n",
    "    English Springer Spaniel/r/n\n",
    "    German Shepherd/r/n\n",
    "    ```\n",
    "  - Macintosh systems prior to Mac OS X use a single carriage return (/r)\n",
    "\n",
    "**Character Encodings** Another consideration is common problem is the Character Encodings. An encoding is a translation from byte data to human readable characters, which is done by assigning a numerical value to human readable chracters. The two most common encodings are the [ASCII](https://www.ascii-code.com/)\n",
    " and [UNICODE](https://home.unicode.org/)  Formats. It’s important to note that parsing a file with the incorrect character encoding can lead to failures or misrepresentation of the characte\n",
    "\n",
    "**Opneing and closing a file** You can open a file with  open() built-in function open() and close it in two ways; The first is file.close() and the second way to close a file is to use the with statement.\n",
    "\n",
    "The default and most common is 'r', which represents opening the file in read-only mode as a text file. Other modes includes;\n",
    "\n",
    "| Mode | Function |\n",
    "| --- | --- |\n",
    "| r | Open a file for reading. This is the default mode. |\n",
    "| w | Open a file for writing. If the file already exists, overwrite its contents. Create a new file if the file does not exist. |\n",
    "| a | Open a file for appending. Preserve the file’s contents, add new data to the end of the file. |\n",
    "| r+ | Open a file for reading and writing. |\n",
    "| w+ | Allows to write as well as read from the file. |\n",
    "| a+ | Allows appending as well as reading from the file. |\n",
    "\n",
    "Methods to reading a file\n",
    "\n",
    "| Method | What It Does |\n",
    "| --- | --- |\n",
    "| [.read(size=-1)](https://docs.python.org/3.7/library/io.html#io.RawIOBase.read) | This reads from the file based on the number of size bytes. If no argument is passed or None or -1 is passed, then the entire file is read. |\n",
    "| [.readline(size = 1)](https://docs.python.org/3.7/library/io.html#io.IOBase.readline) | This reads at most size number of characters from the line. This continues to the end of the line and then wraps back around. If no argument is passed or None or -1 is passed, then the entire line (or rest of the line) is read. |\n",
    "| [.readlines()](https://docs.python.org/3.7/library/io.html#io.IOBase.readlines) | This reads the remaining lines from the file object and returns them as a list. |\n"
   ]
  },
  {
   "cell_type": "code",
   "execution_count": 29,
   "metadata": {},
   "outputs": [
    {
     "name": "stdout",
     "output_type": "stream",
     "text": [
      "Pug\n",
      "Jack Russell Terrier\n",
      "English Springer Spaniel\n",
      "German Shepherd\n",
      "Staffordshire Bull Terrier\n",
      "Cavalie"
     ]
    }
   ],
   "source": [
    "# THIS READS THE ENTRIRE FILE\n",
    "# with open('dog_breeds.txt', 'r') as reader:\n",
    "#     # Read & print the entire file\n",
    "#     print(reader.read())\n",
    "\n",
    "# with open('dog_breeds.txt', 'r') as reader:\n",
    "#     # Read the numbers of character specified\n",
    "#     fconent = reader.read(20)\n",
    "#     print(fconent, end='')\n",
    "\n",
    "with open('dog_breeds.txt', 'r') as reader:\n",
    "    # Read the numbers of character specified\n",
    "    print(reader.read(100), end='')\n",
    "\n",
    "\n",
    "# # THIS READS THE FILE CHAR BY CHAR\n",
    "# with open('dog_breeds.txt', 'r') as reader:\n",
    "#     # Read & print the first 5 characters of the line 5 times\n",
    "#     print(reader.readline(5))\n",
    "#     # Read & print the next first 7 characters each time including the space\n",
    "#     print(reader.readline(7))\n",
    "\n",
    "# # THIS ITERATES OVER THE WHOLE LINE\n",
    "# with open('dog_breeds.txt', 'r') as reader:\n",
    "#     for line in reader:\n",
    "#         print(line, end='')"
   ]
  },
  {
   "cell_type": "code",
   "execution_count": 107,
   "metadata": {},
   "outputs": [
    {
     "name": "stdout",
     "output_type": "stream",
     "text": [
      "Pug\n",
      "Jack Russell Terrier\n",
      "English Springer Spaniel\n",
      "German Shepherd\n",
      "Staffordshire Bull Terrier\n",
      "Cavalier King Charles Spaniel\n",
      "Golden Retriever\n",
      "West Highland White Terrier\n",
      "Boxer\n",
      "Border Terrier\n",
      "Pug\n",
      "Jack Russell Terrier\n",
      "English Springer Spaniel\n",
      "German Shepherd\n",
      "Staffordshire Bull Terrier\n",
      "Cavalier King Charles Spaniel\n",
      "Golden Retriever\n",
      "West Highland White Terrier\n",
      "Boxer\n",
      "Border Terrier\n",
      "\n",
      "This is the content \n",
      " of the new file I am writing\n",
      "\n",
      "This is the content \n",
      " of the new file I am writing\n",
      "\n",
      "We offer a truly innovative approach to education:\n",
      "focus on building reliable applications and scalable systems, take on real-world challenges, collaborate with your peers. We offer a truly innovative approach to education:\n",
      " This is next\n",
      "\n",
      "This School is so cool!\n",
      "\n",
      "The file\n",
      "1) This is a test file\n",
      "2) With multiple lines of data...\n",
      "3) Third line\n",
      "4) Fourth line\n",
      "5) Fifth line\n",
      "6) Sixth line\n",
      "7) Seventh line\n",
      "8) Eighth line\n",
      "9) Ninth line\n",
      "10) Tenth line\n"
     ]
    }
   ],
   "source": [
    "# Read multiple files  \n",
    "import os\n",
    "\n",
    "directory = os.getcwd()\n",
    "for filename in os.listdir(directory):\n",
    "    if filename.endswith('.txt'):\n",
    "        with open(os.path.join(directory, filename), 'r') as file:\n",
    "            contents = file.read()\n",
    "            print(contents)\n",
    "            # Do something with the contents of the file\n"
   ]
  },
  {
   "attachments": {},
   "cell_type": "markdown",
   "metadata": {},
   "source": [
    "### Writing Files\n",
    "\n",
    "| Method | What It Does |\n",
    "| --- | --- |\n",
    "| .write(string) | This writes the string to the file. |\n",
    "| .writelines(seq) | This writes the sequence to the file. No line endings are appended to each sequence item. It’s up to you to add the appropriate line ending(s). |"
   ]
  },
  {
   "cell_type": "code",
   "execution_count": 47,
   "metadata": {},
   "outputs": [
    {
     "name": "stdout",
     "output_type": "stream",
     "text": [
      "w\n"
     ]
    }
   ],
   "source": [
    "with open('dog_breeds_write.txt', 'w') as f: #The name of the new file is 'dog_breeds_write'\n",
    "    f.write('This is the content /n of the new file I am writing/n')\n",
    "\n",
    "print(f.mode)\n"
   ]
  },
  {
   "attachments": {},
   "cell_type": "markdown",
   "metadata": {},
   "source": [
    "# Working With Files in Python\n",
    "\n",
    "https://realpython.com/working-with-files-in-python/"
   ]
  },
  {
   "attachments": {},
   "cell_type": "markdown",
   "metadata": {},
   "source": [
    "Making Directories"
   ]
  },
  {
   "cell_type": "code",
   "execution_count": 60,
   "metadata": {},
   "outputs": [
    {
     "name": "stdout",
     "output_type": "stream",
     "text": [
      "['27_JSON', 'AlxNote_Inandout.ipynb', 'ALX_input_output_Ex.ipynb', 'dog_breeds.txt', 'dog_breeds_reversed.txt', 'dog_breeds_reverseds.txt', 'dog_breeds_write.txt', 'dog_breeds_write2.txt', 'filename', 'input_output.ipynb', 'my_file_0.txt', 'my_first_file.txt', 'newdir', 'New_file.txt', 'Test.py', 'test.txt']\n"
     ]
    }
   ],
   "source": [
    "import os\n",
    "\n",
    "path = os.getcwd()\n",
    "print (os.listdir(path))\n",
    "\n",
    "# Rename the file\n",
    "# os.rename('dog_breeds_write.txt','dog_breeds_write2.txt') \n",
    "\n",
    "# Make a new directory\n",
    "# os.mkdir(\"newdir\")\n",
    "\n",
    "# Change the directory\n",
    "# # os.chdir(\"newdir\") \n",
    "\n",
    "# Check the directory\n",
    "# os.getcwd() \n",
    "\n",
    "# path = os.getcwd()\n",
    "os.chdir(r\"../26_input-output\") # Move backward directory\n",
    "# os.getcwd() # Check the directory"
   ]
  },
  {
   "attachments": {},
   "cell_type": "markdown",
   "metadata": {},
   "source": [
    "Filename Pattern Matching\n",
    "\n",
    "https://realpython.com/working-with-files-in-python/#filename-pattern-matching\n",
    "\n",
    "**Using fnmatch.fnmatch()**\n",
    "Let’s suppose you want to find .txt files that meet certain criteria. For example, you could be only interested in finding .txt files that contain the word data, a number between a set of underscores, and the word backup in their filename"
   ]
  },
  {
   "cell_type": "code",
   "execution_count": 94,
   "metadata": {},
   "outputs": [
    {
     "name": "stdout",
     "output_type": "stream",
     "text": [
      "dog_breeds.txt\n",
      "dog_breeds_reversed.txt\n",
      "dog_breeds_reverseds.txt\n",
      "dog_breeds_write.txt\n",
      "dog_breeds_write2.txt\n",
      "dog_breeds.txt\n",
      "dog_breeds_reversed.txt\n",
      "dog_breeds_reverseds.txt\n",
      "dog_breeds_write.txt\n",
      "dog_breeds_write2.txt\n"
     ]
    }
   ],
   "source": [
    "# Simple Filename Pattern Matching Using fnmatch\n",
    "import os\n",
    "path = os.getcwd()\n",
    "# os.listdir() # List all files in the current directory\n",
    "\n",
    "# Print all the files in the directory\n",
    "# for file in os.listdir(path):\n",
    "#     if file.endswith('.txt'):\n",
    "#       print(file)\n",
    "\n",
    "\n",
    "# Find all teh files that starts with dogs \n",
    "import fnmatch\n",
    "for file in os.listdir(path):\n",
    "   if fnmatch.fnmatch(file, 'dog*'):\n",
    "      print(file)\n",
    "\n",
    "# Find all teh files that starts with dogs using glob. glob also supports shell-style wildcards to match patterns\n",
    "import glob\n",
    "for file in glob.glob('dog*'):\n",
    "   print(file)"
   ]
  },
  {
   "attachments": {},
   "cell_type": "markdown",
   "metadata": {},
   "source": [
    "Traversing Directories and Processing Files\n",
    "https://realpython.com/working-with-files-in-python/#traversing-directories-and-processing-files"
   ]
  },
  {
   "cell_type": "code",
   "execution_count": 95,
   "metadata": {},
   "outputs": [
    {
     "name": "stdout",
     "output_type": "stream",
     "text": [
      "Found directory: .\n",
      "AlxNote_Inandout.ipynb\n",
      "ALX_input_output_Ex.ipynb\n",
      "dog_breeds.txt\n",
      "dog_breeds_reversed.txt\n",
      "dog_breeds_reverseds.txt\n",
      "dog_breeds_write.txt\n",
      "dog_breeds_write2.txt\n",
      "filename_dog\n",
      "input_output.ipynb\n",
      "my_file_0.txt\n",
      "my_first_file.txt\n",
      "New_file.txt\n",
      "Test.py\n",
      "test.txt\n",
      "Found directory: .\\27_JSON\n",
      "data_file.json\n",
      "Deserialization.py\n",
      "Esri.json\n",
      "Json_Practise.ipynb\n",
      "Loading JSON.ipynb\n",
      "moviefile.txt\n",
      "new_states.json\n",
      "new_states_TO.json\n",
      "Seirealization.py\n",
      "states.json\n",
      "World Terrain with Labels_v1.json\n",
      "Yahoo_API_Data_Ex.ipynb\n",
      "Found directory: .\\newdir\n",
      "dog_breeds_write.txt\n"
     ]
    }
   ],
   "source": [
    "for dirpath, dirnames, files in os.walk('.'):\n",
    "    print(f'Found directory: {dirpath}')\n",
    "    for file_name in files:\n",
    "        print(file_name)"
   ]
  },
  {
   "attachments": {},
   "cell_type": "markdown",
   "metadata": {},
   "source": [
    "Read multiple files\n",
    "\n",
    "https://realpython.com/working-with-files-in-python/#reading-multiple-files"
   ]
  },
  {
   "cell_type": "code",
   "execution_count": 103,
   "metadata": {},
   "outputs": [
    {
     "ename": "FileNotFoundError",
     "evalue": "[Errno 2] No such file or directory: '--ip=127.0.0.1'",
     "output_type": "error",
     "traceback": [
      "\u001b[1;31m---------------------------------------------------------------------------\u001b[0m",
      "\u001b[1;31mFileNotFoundError\u001b[0m                         Traceback (most recent call last)",
      "Cell \u001b[1;32mIn[103], line 6\u001b[0m\n\u001b[0;32m      3\u001b[0m \u001b[39mimport\u001b[39;00m \u001b[39msys\u001b[39;00m\n\u001b[0;32m      5\u001b[0m files \u001b[39m=\u001b[39m fileinput\u001b[39m.\u001b[39minput()\n\u001b[1;32m----> 6\u001b[0m \u001b[39mfor\u001b[39;00m line \u001b[39min\u001b[39;00m files:\n\u001b[0;32m      7\u001b[0m     \u001b[39mif\u001b[39;00m fileinput\u001b[39m.\u001b[39misfirstline():\n\u001b[0;32m      8\u001b[0m         \u001b[39mprint\u001b[39m(\u001b[39mf\u001b[39m\u001b[39m'\u001b[39m\u001b[39m\\n\u001b[39;00m\u001b[39m--- Reading \u001b[39m\u001b[39m{\u001b[39;00mfileinput\u001b[39m.\u001b[39mfilename()\u001b[39m}\u001b[39;00m\u001b[39m ---\u001b[39m\u001b[39m'\u001b[39m)\n",
      "File \u001b[1;32mc:\\Users\\orena\\AppData\\Local\\Programs\\Python\\Python311\\Lib\\fileinput.py:251\u001b[0m, in \u001b[0;36mFileInput.__next__\u001b[1;34m(self)\u001b[0m\n\u001b[0;32m    249\u001b[0m \u001b[39mdef\u001b[39;00m \u001b[39m__next__\u001b[39m(\u001b[39mself\u001b[39m):\n\u001b[0;32m    250\u001b[0m     \u001b[39mwhile\u001b[39;00m \u001b[39mTrue\u001b[39;00m:\n\u001b[1;32m--> 251\u001b[0m         line \u001b[39m=\u001b[39m \u001b[39mself\u001b[39;49m\u001b[39m.\u001b[39;49m_readline()\n\u001b[0;32m    252\u001b[0m         \u001b[39mif\u001b[39;00m line:\n\u001b[0;32m    253\u001b[0m             \u001b[39mself\u001b[39m\u001b[39m.\u001b[39m_filelineno \u001b[39m+\u001b[39m\u001b[39m=\u001b[39m \u001b[39m1\u001b[39m\n",
      "File \u001b[1;32mc:\\Users\\orena\\AppData\\Local\\Programs\\Python\\Python311\\Lib\\fileinput.py:370\u001b[0m, in \u001b[0;36mFileInput._readline\u001b[1;34m(self)\u001b[0m\n\u001b[0;32m    367\u001b[0m                 \u001b[39mself\u001b[39m\u001b[39m.\u001b[39m_file \u001b[39m=\u001b[39m \u001b[39mself\u001b[39m\u001b[39m.\u001b[39m_openhook(\n\u001b[0;32m    368\u001b[0m                     \u001b[39mself\u001b[39m\u001b[39m.\u001b[39m_filename, \u001b[39mself\u001b[39m\u001b[39m.\u001b[39m_mode, encoding\u001b[39m=\u001b[39m\u001b[39mself\u001b[39m\u001b[39m.\u001b[39m_encoding, errors\u001b[39m=\u001b[39m\u001b[39mself\u001b[39m\u001b[39m.\u001b[39m_errors)\n\u001b[0;32m    369\u001b[0m         \u001b[39melse\u001b[39;00m:\n\u001b[1;32m--> 370\u001b[0m             \u001b[39mself\u001b[39m\u001b[39m.\u001b[39m_file \u001b[39m=\u001b[39m \u001b[39mopen\u001b[39;49m(\u001b[39mself\u001b[39;49m\u001b[39m.\u001b[39;49m_filename, \u001b[39mself\u001b[39;49m\u001b[39m.\u001b[39;49m_mode, encoding\u001b[39m=\u001b[39;49mencoding, errors\u001b[39m=\u001b[39;49m\u001b[39mself\u001b[39;49m\u001b[39m.\u001b[39;49m_errors)\n\u001b[0;32m    371\u001b[0m \u001b[39mself\u001b[39m\u001b[39m.\u001b[39m_readline \u001b[39m=\u001b[39m \u001b[39mself\u001b[39m\u001b[39m.\u001b[39m_file\u001b[39m.\u001b[39mreadline  \u001b[39m# hide FileInput._readline\u001b[39;00m\n\u001b[0;32m    372\u001b[0m \u001b[39mreturn\u001b[39;00m \u001b[39mself\u001b[39m\u001b[39m.\u001b[39m_readline()\n",
      "\u001b[1;31mFileNotFoundError\u001b[0m: [Errno 2] No such file or directory: '--ip=127.0.0.1'"
     ]
    }
   ],
   "source": [
    "# File: fileinput-example.py\n",
    "import fileinput\n",
    "import sys\n",
    "\n",
    "files = fileinput.input()\n",
    "for line in files:\n",
    "    if fileinput.isfirstline():\n",
    "        print(f'\\n--- Reading {fileinput.filename()} ---')\n",
    "    print(' -> ' + line, end='')\n",
    "print()"
   ]
  },
  {
   "attachments": {},
   "cell_type": "markdown",
   "metadata": {},
   "source": [
    "# JSON encoder and decoder\n",
    "\n",
    "Dedicated Note on JSON can be found here \n",
    "[JSON Practise](./27_JSON/Json_Practise.ipynb)\n",
    "\n",
    "https://realpython.com/python-json/\n",
    "\n",
    "JSON is a format for storing and transporting data. JSON is often used when data is sent from a server to a web page.JSON means Java script object notation\n",
    "\n",
    "The process of encoding JSON is usually called **serialization**\n",
    ". This term refers to the transformation of data into a series of bytes\n",
    " (hence serial\n",
    ") to be stored or transmitted across a network. You may also hear the term **marshaling**\n",
    ", but that’s a whole other discussion\n",
    ". Naturally, **deserialization**\n",
    " is the reciprocal process of decoding data that has been stored or delivered in the JSON standard.\n",
    "\n",
    "**JSON Objects:** JSON objects are written inside curly braces. Example ```{\"firstName\":\"John\", \"lastName\":\"Doe\"}```\n",
    "\n",
    "**JSON Arrays:** JSON arrays are written inside square brackets.\n",
    "\n",
    "Resource\n",
    "\n",
    "- [Working With JSON Data in Python](https://www.geeksforgeeks.org/working-with-json-data-in-python/?ref=lbp)\n",
    "- [Python – Difference between json.dump() and json.dumps()](https://www.geeksforgeeks.org/python-difference-between-json-dump-and-json-dumps/?ref=rp)-\n",
    "\n",
    "\n"
   ]
  },
  {
   "cell_type": "code",
   "execution_count": 9,
   "metadata": {},
   "outputs": [
    {
     "name": "stdout",
     "output_type": "stream",
     "text": [
      "<class 'dict'>\n",
      "<class 'str'>\n"
     ]
    }
   ],
   "source": [
    "a = {\"employees\":[\n",
    "  {\"firstName\":\"John\", \"lastName\":\"Doe\"},\n",
    "  {\"firstName\":\"Anna\", \"lastName\":\"Smith\"},\n",
    "  {\"firstName\":\"Peter\", \"lastName\":\"Jones\"}\n",
    "]}\n",
    "\n",
    "# Data is a dictionary\n",
    "print(type(a))\n",
    "\n",
    "## Create a Json file from the dict file\n",
    "import json\n",
    "b= json.dumps(a)\n",
    "\n",
    "print(type(b))"
   ]
  },
  {
   "attachments": {},
   "cell_type": "markdown",
   "metadata": {},
   "source": [
    "Serializing JSON:\n",
    "\n",
    "The process of encoding JSON is usually called serialization. This term refers to the transformation of data into a series of bytes (hence serial) to be stored or transmitted across a network. To handle the data flow in a file, the JSON library in Python uses dump() function to convert the Python objects into their respective JSON object, so it makes it easy to write data to files. See the following table given below. \n",
    "\n",
    "\n",
    "| Python | JSON |\n",
    "| --- | --- |\n",
    "| dict | object |\n",
    "| list, tuple | array |\n",
    "| str | string |\n",
    "| int, long, float | number |\n",
    "| True | true |\n",
    "| False | false |\n",
    "| None | null |"
   ]
  },
  {
   "cell_type": "code",
   "execution_count": 18,
   "metadata": {},
   "outputs": [
    {
     "name": "stdout",
     "output_type": "stream",
     "text": [
      "{\n",
      "    \"name\": \"Alice\",\n",
      "    \"age\": 30,\n",
      "    \"city\": \"New York\"\n",
      "}\n"
     ]
    }
   ],
   "source": [
    "# Serializing Example \n",
    "import json\n",
    "\n",
    "\n",
    "data = {\n",
    "    \"name\": \"Alice\",\n",
    "    \"age\": 30,\n",
    "    \"city\": \"New York\"\n",
    "}\n",
    "\n",
    "# Using Dumps\n",
    "json_string = json.dumps(data, indent=4)\n",
    "print(json_string)\n",
    "\n",
    "# Using dump\n",
    "with open(\"data.json\", \"w\") as f:\n",
    "    json.dump(data, f, indent=4)"
   ]
  },
  {
   "attachments": {},
   "cell_type": "markdown",
   "metadata": {},
   "source": [
    "dump and dumps\n",
    "\n",
    "Both json.dump() and json.dumps() are methods in the Python json module that allow you to encode a Python object into a JSON formatted string. The difference between them is in how they handle the output:\n",
    "\n",
    "json.dumps() returns a string, which can be used to transmit data over a network, or to store data in a file, for example.\n",
    "\n",
    "json.dump() writes the encoded object directly to a file-like object (e.g. a file object), without returning any value."
   ]
  },
  {
   "cell_type": "code",
   "execution_count": 22,
   "metadata": {},
   "outputs": [
    {
     "name": "stdout",
     "output_type": "stream",
     "text": [
      "<class 'dict'>\n"
     ]
    }
   ],
   "source": [
    "# Dump and dumps example\n",
    "var = {\n",
    "      \"Subjects\": {\n",
    "                  \"Maths\":85,\n",
    "                  \"Physics\":90\n",
    "                   }\n",
    "      }\n",
    "\n",
    "print(type(var))\n",
    "\n",
    "# json.dump converts the dictionary file to Json \n",
    "with open(\"data_file2.json\", \"w\") as p:\n",
    "    json.dump(var, p, indent= 4)\n",
    "    \n",
    "\n"
   ]
  },
  {
   "attachments": {},
   "cell_type": "markdown",
   "metadata": {},
   "source": [
    "Deserializing JSON:\n",
    "\n",
    "Deserialization is the opposite of Serialization, i.e. conversion of JSON objects into their respective Python objects. The load() method is used for it. If you have used JSON data from another program or obtained it as a string format of JSON, then it can easily be deserialized with load(), which is usually used to load from a string, otherwise, the root object is in a list or dict.\n",
    "\n",
    "Just like serialization, there is a simple conversion table for deserialization\n",
    "\n",
    "| JSON | Python |\n",
    "| --- | --- |\n",
    "| object | dict |\n",
    "| array | list |\n",
    "| string | str |\n",
    "| number (int) | int |\n",
    "| number (real) | float |\n",
    "| true | True |\n",
    "| false | False |\n",
    "| null | None |"
   ]
  },
  {
   "cell_type": "code",
   "execution_count": 21,
   "metadata": {},
   "outputs": [
    {
     "name": "stdout",
     "output_type": "stream",
     "text": [
      "<class 'dict'>\n"
     ]
    }
   ],
   "source": [
    "json_string = \"\"\"\n",
    "{\n",
    "    \"researcher\": {\n",
    "        \"name\": \"Ford Prefect\",\n",
    "        \"species\": \"Betelgeusian\",\n",
    "        \"relatives\": [\n",
    "            {\n",
    "                \"name\": \"Zaphod Beeblebrox\",\n",
    "                \"species\": \"Betelgeusian\"\n",
    "            }\n",
    "        ]\n",
    "    }\n",
    "}\n",
    "\"\"\"\n",
    "\n",
    "data = json.loads(json_string)\n",
    "\n",
    "print(type(data))"
   ]
  },
  {
   "attachments": {},
   "cell_type": "markdown",
   "metadata": {},
   "source": [
    "json module, json.load() and json.loads() are two methods that can be used to parse JSON data. The difference between them is in how they handle the input:\n",
    "\n",
    "json.load() reads JSON data from a file-like object (e.g. a file object), and returns a Python object corresponding to the JSON data.\n",
    "json.loads() reads a string containing JSON data, and returns a Python object corresponding to the JSON data."
   ]
  },
  {
   "attachments": {},
   "cell_type": "markdown",
   "metadata": {},
   "source": [
    "# TASKS"
   ]
  },
  {
   "attachments": {},
   "cell_type": "markdown",
   "metadata": {},
   "source": [
    "Write a function that writes a string to a text file (`UTF8`) and returns the number of characters written:\n",
    "\n",
    "- Prototype: `def write_file(filename=\"\", text=\"\"):`\n",
    "- You must use the `with` statement\n",
    "- You don’t need to manage file permission exceptions.\n",
    "- Your function should create the file if doesn’t exist.\n",
    "- Your function should overwrite the content of the file if it already exists.\n",
    "- You are not allowed to import any module"
   ]
  },
  {
   "cell_type": "code",
   "execution_count": 24,
   "metadata": {},
   "outputs": [
    {
     "name": "stdout",
     "output_type": "stream",
     "text": [
      "This is the content \n",
      " of the new file I am writing\n"
     ]
    }
   ],
   "source": [
    "def read_file(filename=\"\"):\n",
    "    \"\"\"\"\"reads a text file(UTF8) and prints it to stdout\"\"\"\n",
    "    with open(filename, \"r\", encoding=\"utf-8\") as f:\n",
    "        print(f.read(), end=\"\")\n",
    "\n",
    "read_file('dog_breeds_write.txt')"
   ]
  },
  {
   "attachments": {},
   "cell_type": "markdown",
   "metadata": {},
   "source": [
    "Write a function that appends a string at the end of a text file (`UTF8`) and returns the number of characters added:\n",
    "\n",
    "- Prototype: `def append_write(filename=\"\", text=\"\"):`\n",
    "- If the file doesn’t exist, it should be created\n",
    "- You must use the `with` statement\n",
    "- You don’t need to manage `file permission` or `file doesn't exist` exceptions.\n",
    "- You are not allowed to import any module"
   ]
  },
  {
   "cell_type": "code",
   "execution_count": null,
   "metadata": {},
   "outputs": [],
   "source": [
    "def write_file(filename=\"\", text=\"\"):\n",
    "    \"\"\"returns the number of chars written to \"filename\" from \"text\" \"\"\"\n",
    "    with open(filename, 'w', encoding='utf=8') as f:\n",
    "        return f.write(text)"
   ]
  },
  {
   "attachments": {},
   "cell_type": "markdown",
   "metadata": {},
   "source": [
    "Write a function that returns the JSON representation of an object (string):\n",
    "\n",
    "- Prototype: `def to_json_string(my_obj):`\n",
    "- You don’t need to manage exceptions if the object can’t be serialized.\n",
    "\n"
   ]
  },
  {
   "attachments": {},
   "cell_type": "markdown",
   "metadata": {},
   "source": [
    "Write a function that returns an object (Python data structure) represented by a JSON string:\n",
    "\n",
    "- Prototype: `def from_json_string(my_str):`\n",
    "- You don’t need to manage exceptions if the JSON string doesn’t represent an object.\n",
    "\n"
   ]
  },
  {
   "attachments": {},
   "cell_type": "markdown",
   "metadata": {},
   "source": [
    "Write a function that writes an Object to a text file, using a JSON representation:\n",
    "\n",
    "- Prototype: `def save_to_json_file(my_obj, filename):`\n",
    "- You must use the `with` statement\n",
    "- You don’t need to manage exceptions if the object can’t be serialized.\n",
    "- You don’t need to manage file permission exceptions.\n",
    "\n"
   ]
  },
  {
   "attachments": {},
   "cell_type": "markdown",
   "metadata": {},
   "source": [
    "Write a function that creates an Object from a “JSON file”:\n",
    "\n",
    "- Prototype: `def load_from_json_file(filename):`\n",
    "- You must use the `with` statement\n",
    "- You don’t need to manage exceptions if the JSON string doesn’t represent an object.\n",
    "- You don’t need to manage file permissions / exceptions."
   ]
  },
  {
   "attachments": {},
   "cell_type": "markdown",
   "metadata": {},
   "source": [
    "Write a script that adds all arguments to a Python list, and then save them to a file:\n",
    "\n",
    "- You must use your function `save_to_json_file` from `5-save_to_json_file.py`\n",
    "- You must use your function `load_from_json_file` from `6-load_from_json_file.py`\n",
    "- The list must be saved as a JSON representation in a file named `add_item.json`\n",
    "- If the file doesn’t exist, it should be created\n",
    "- You don’t need to manage file permissions / exceptions.\n",
    "\n",
    "Write a function that returns the dictionary description with simple data structure (list, dictionary, string, integer and boolean) for JSON serialization of an object:\n",
    "\n",
    "- Prototype: `def class_to_json(obj):`\n",
    "- `obj` is an instance of a Class\n",
    "- All attributes of the `obj` Class are serializable: list, dictionary, string, integer and boolean\n",
    "- You are not allowed to import any module\n",
    "\n",
    "Write a class `Student` that defines a student by:\n",
    "\n",
    "- Public instance attributes:\n",
    "    - `first_name`\n",
    "    - `last_name`\n",
    "    - `age`\n",
    "- Instantiation with `first_name`, `last_name` and `age`: `def __init__(self, first_name, last_name, age):`\n",
    "- Public method `def to_json(self):` that retrieves a dictionary representation of a `Student` instance (same as `8-class_to_json.py`)\n",
    "- You are not allowed to import any module\n",
    "\n",
    "Write a class `Student` that defines a student by: (based on `9-student.py`)\n",
    "\n",
    "- Public instance attributes:\n",
    "    - `first_name`\n",
    "    - `last_name`\n",
    "    - `age`\n",
    "- Instantiation with `first_name`, `last_name` and `age`: `def __init__(self, first_name, last_name, age):`\n",
    "- Public method `def to_json(self, attrs=None):` that retrieves a dictionary representation of a `Student` instance (same as `8-class_to_json.py`):\n",
    "    - If `attrs` is a list of strings, only attribute names contained in this list must be retrieved.\n",
    "    - Otherwise, all attributes must be retrieved\n",
    "- You are not allowed to import any module\n",
    "\n",
    "Write a class `Student` that defines a student by: (based on `10-student.py`)\n",
    "\n",
    "- Public instance attributes:\n",
    "    - `first_name`\n",
    "    - `last_name`\n",
    "    - `age`\n",
    "- Instantiation with `first_name`, `last_name` and `age`: `def __init__(self, first_name, last_name, age):`\n",
    "- Public method `def to_json(self, attrs=None):` that retrieves a dictionary representation of a `Student` instance (same as `8-class_to_json.py`):\n",
    "    - If `attrs` is a list of strings, only attributes name contain in this list must be retrieved.\n",
    "    - Otherwise, all attributes must be retrieved\n",
    "- Public method `def reload_from_json(self, json):` that replaces all attributes of the `Student` instance:\n",
    "    - You can assume `json` will always be a dictionary\n",
    "    - A dictionary key will be the public attribute name\n",
    "    - A dictionary value will be the value of the public attribute\n",
    "- You are not allowed to import any module\n",
    "\n",
    "Now, you have a simple implementation of a serialization and deserialization mechanism (concept of representation of an object to another format, without losing any information and allow us to rebuild an object based on this representation)\n",
    "\n",
    "**Technical interview preparation**:\n",
    "\n",
    "- You are not allowed to google anything\n",
    "- Whiteboard first\n",
    "\n",
    "Create a function `def pascal_triangle(n):` that returns a list of lists of integers representing the Pascal’s triangle of `n`:\n",
    "\n",
    "- Returns an empty list if `n <= 0`\n",
    "- You can assume `n` will be always an integer\n",
    "- You are not allowed to import any module\n",
    "\n",
    "Write a function that inserts a line of text to a file, after each line containing a specific string (see example):\n",
    "\n",
    "- Prototype: `def append_after(filename=\"\", search_string=\"\", new_string=\"\"):`\n",
    "- You must use the `with` statement\n",
    "- You don’t need to manage `file permission` or `file doesn't exist` exceptions.\n",
    "- You are not allowed to import any module\n",
    "\n",
    "Write a script that reads `stdin` line by line and computes metrics:\n",
    "\n",
    "- Input format: `<IP Address> - [<date>] \"GET /projects/260 HTTP/1.1\" <status code> <file size>`\n",
    "- Each 10 lines and after a keyboard interruption (`CTRL + C`), prints those statistics since the beginning:\n",
    "    - Total file size: `File size: <total size>`\n",
    "    - where is the sum of all previous (see input format above)\n",
    "    - Number of lines by status code:\n",
    "        - possible status code: `200`, `301`, `400`, `401`, `403`, `404`, `405` and `500`\n",
    "        - if a status code doesn’t appear, don’t print anything for this status code\n",
    "        - format: `<status code>: <number>`\n",
    "        - status codes should be printed in ascending order"
   ]
  }
 ],
 "metadata": {
  "kernelspec": {
   "display_name": "Python 3",
   "language": "python",
   "name": "python3"
  },
  "language_info": {
   "codemirror_mode": {
    "name": "ipython",
    "version": 3
   },
   "file_extension": ".py",
   "mimetype": "text/x-python",
   "name": "python",
   "nbconvert_exporter": "python",
   "pygments_lexer": "ipython3",
   "version": "3.11.1"
  },
  "orig_nbformat": 4,
  "vscode": {
   "interpreter": {
    "hash": "d8b3b4e871d7619eccb36f657c81b8358b8c67e5d821a2a1d625fcc2f39d1588"
   }
  }
 },
 "nbformat": 4,
 "nbformat_minor": 2
}

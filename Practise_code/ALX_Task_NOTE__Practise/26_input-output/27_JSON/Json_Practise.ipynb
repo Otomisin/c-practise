{
 "cells": [
  {
   "attachments": {},
   "cell_type": "markdown",
   "metadata": {},
   "source": [
    "## JSON Data Types\n",
    "https://www.w3schools.com/js/js_json_datatypes.asp\n",
    "\n",
    "In JSON, values must be one of the following data types:\n",
    "\n",
    "- **String** : Strings in JSON must be writen in double quotes. Examples\n",
    "`{\"name\": \"John\"}`\n",
    "\n",
    "- **Number**: Numbers in JSON must be an integer or a floating point. Example \n",
    "`{\"name\":23}`\n",
    "-  **An Object(JSON Object)**: Values in JSON can be objects.\n",
    "    ```\n",
    "    {\n",
    "      \"employee:{\"name\":\"Tosin\", \"age\": 30, \"city\": \"New York\"}\n",
    "    }\n",
    "    ```\n",
    "-  **An array**: Values in JSON can be arrays\n",
    "    ```\n",
    "      {\n",
    "        \"employee\":[\"John\",\"Anna\", \"Pete\"]\n",
    "      }\n",
    "    ```\n",
    "-  **A boolean** : Values in JSON can be true/false.\n",
    "`{\"sale\":true}`\n",
    "\n",
    "-  **Null :** Values in JSON can be null.`{\"middlename\":null}`"
   ]
  },
  {
   "attachments": {},
   "cell_type": "markdown",
   "metadata": {},
   "source": [
    "## JSON Syntax\n",
    "\n",
    "To bring all together, A JSON object is a collection of key-value pairs, where keys are always strings and values can be one of the following six data types: string, number, object, array, boolean, or null. The syntax for a JSON object is as follows:\n",
    "\n",
    "```\n",
    "{\n",
    "  \"key1\": \"value1\",\n",
    "  \"key2\": {\n",
    "    \"key3\": \"value3\",\n",
    "    \"key4\": [1, 2, 3]\n",
    "  },\n",
    "  \"key5\": true,\n",
    "  \"key6\": null\n",
    "}\n",
    "\n",
    "```\n",
    "\n",
    "In this example, we have a JSON object with six key-value pairs.\n",
    "\n",
    "- The first key is \"key1\" with a value of \"value1\", which is a string.\n",
    "- The second key is \"key2\" with a value that is an object containing two key-value pairs, \"key3\" with a value of \"value3\" (a string) and \"key4\" with a value of an array containing three numbers.\n",
    "- The third key is \"key5\" with a value of true, which is a boolean.\n",
    "- The fourth key is \"key6\" with a value of null, which is a null value.\n",
    "\n",
    "It's important to note that the keys in a JSON object must always be unique, and the entire object must be enclosed in curly braces {}."
   ]
  },
  {
   "attachments": {},
   "cell_type": "markdown",
   "metadata": {},
   "source": [
    "## JSON Parsing\n",
    "\n",
    "JSON files are using to transfer files over the web, when receiving data from a web server, the data is always a string and there is a need to convert it into a useable formart in python or JavaScripts (Also when sending data to the webserver, the data has to be a string.). There are several reasons why it's necessary to parse JSON strings:\n",
    "\n",
    "1. Interoperability: JSON is a commonly used data format for exchanging data between different systems and programming languages. Parsing JSON strings allows you to convert JSON data into a format that can be understood by your programming language or system.\n",
    "2. Data manipulation: JSON strings can be used to represent complex data structures, such as arrays and objects. By parsing a JSON string, you can access and manipulate the data within these structures.\n",
    "3. Data validation: When working with JSON data, it's important to ensure that the data is valid and conforms to a specific format. Parsing JSON strings allows you to validate the data and ensure that it's structured correctly.\n",
    "4. Data storage: JSON strings are often used as a lightweight data storage format. By parsing JSON strings, you can convert the data into a format that can be stored and retrieved from a database or file system."
   ]
  },
  {
   "attachments": {},
   "cell_type": "markdown",
   "metadata": {},
   "source": [
    "### Converting JSON String to Python Object"
   ]
  },
  {
   "cell_type": "code",
   "execution_count": 14,
   "metadata": {},
   "outputs": [
    {
     "name": "stdout",
     "output_type": "stream",
     "text": [
      "The file was formerly <class 'str'>\n",
      "\n",
      "{'name': 'John', 'age': 30, 'city': 'New York'}\n",
      "The file is now <class 'dict'>\n"
     ]
    }
   ],
   "source": [
    "# Converting JSON String to Python Object\n",
    "import json\n",
    "\n",
    "json_string = '{ \"name\": \"John\", \"age\": 30, \"city\": \"New York\" }'\n",
    "print(f'The file was formerly {type(json_string)}\\n')\n",
    "\n",
    "# Parse the JSON string into a Python object\n",
    "python_object = json.loads(json_string)\n",
    "\n",
    "# Print the Python object\n",
    "print(python_object)\n",
    "print(f'The file is now {type(python_object)}')\n",
    "\n",
    "  # In the example above, the json_string variable is a string that contains a JSON object. The json.loads() method is used to parse the JSON string into a Python object. The resulting Python object is a dictionary with keys and values corresponding to the JSON object."
   ]
  },
  {
   "attachments": {},
   "cell_type": "markdown",
   "metadata": {},
   "source": [
    "### Converting Python Object to JSON String"
   ]
  },
  {
   "cell_type": "code",
   "execution_count": 7,
   "metadata": {},
   "outputs": [
    {
     "name": "stdout",
     "output_type": "stream",
     "text": [
      "<class 'dict'>\n",
      "{\"name\": \"John\", \"age\": 30, \"city\": \"New York\"}\n",
      "<class 'str'>\n"
     ]
    }
   ],
   "source": [
    "# Converting Python Object to JSON String\n",
    "import json\n",
    "\n",
    "python_object = {\n",
    "    \"name\": \"John\",\n",
    "    \"age\": 30,\n",
    "    \"city\": \"New York\"\n",
    "}\n",
    "\n",
    "print(type(python_object))\n",
    "\n",
    "# Convert the Python object into a JSON string\n",
    "json_string = json.dumps(python_object)\n",
    "\n",
    "# Print the JSON string\n",
    "print(json_string)\n",
    "print(type(json_string))\n"
   ]
  },
  {
   "attachments": {},
   "cell_type": "markdown",
   "metadata": {},
   "source": [
    "### Content Types and respective parsing format\n",
    "\n",
    "\n",
    "You can determin the content of an request by parseing  the code below, this would determine the parsing method to use. \n",
    "\n",
    "```\n",
    "import requests\n",
    "\n",
    "response = requests.get('https://example.com')\n",
    "print(response.headers['Content-Type'])\n",
    "\n",
    "```\n",
    "\n",
    "| Content-Type | Parsing method |\n",
    "| --- | --- |\n",
    "| text/html | BeautifulSoup or other HTML parsing library |\n",
    "| text/plain | No parsing necessary |\n",
    "| application/json | json.loads() |\n",
    "| application/xml | ElementTree or other XML parsing library |\n",
    "| text/xml | ElementTree or other XML parsing library |\n",
    "| image/jpeg | Pillow or other image processing library |\n",
    "| image/png | Pillow or other image processing library |\n",
    "| image/gif | Pillow or other image processing library |\n",
    "| audio/mpeg | Pydub or other audio processing library |\n",
    "| audio/wav | Pydub or other audio processing library |\n",
    "| video/mp4 | OpenCV or other video processing library |\n",
    "| video/quicktime | OpenCV or other video processing library |\n",
    "\n",
    "In the case of a JSON file, we use json.loads().\n",
    "\n",
    "In the example below you take a real-life example of the implementation of the JSON in python. A good source for practice purposes is JSON_placeholder. \n",
    "link: https://www.geeksforgeeks.org/working-with-json-data-in-python/"
   ]
  },
  {
   "cell_type": "code",
   "execution_count": 24,
   "metadata": {},
   "outputs": [
    {
     "name": "stdout",
     "output_type": "stream",
     "text": [
      "application/json; charset=utf-8\n"
     ]
    }
   ],
   "source": [
    "import json\n",
    "import requests\n",
    "\n",
    "res = requests.get(\"https://jsonplaceholder.typicode.com/todos\")\n",
    "print(res.headers['Content-TYpe'])\n",
    "\n",
    "var = json.loads(res.text) #Parse the json file. To view the json file, run var.\n",
    "\n",
    "# Now our Goal is to find the User who have\n",
    "# maximum completed their task !!\n",
    "# i.e we would count the True value of a\n",
    "# User in completed key.\n",
    "\n",
    "def find(todo):\n",
    "    check = todo [\"completed\"]\n"
   ]
  },
  {
   "attachments": {},
   "cell_type": "markdown",
   "metadata": {},
   "source": [
    "# Manipulting Examples\n",
    "\n",
    "- [REAL Python Examples](./RealPython_Json_Examples.py)"
   ]
  },
  {
   "cell_type": "code",
   "execution_count": 30,
   "metadata": {},
   "outputs": [
    {
     "name": "stdout",
     "output_type": "stream",
     "text": [
      "<class 'str'>\n"
     ]
    }
   ],
   "source": [
    "import json\n",
    "\n",
    "people_string = '''\n",
    "{\n",
    "     \"people\": [\n",
    "          {\n",
    "               \"name\": \"John Smith\",\n",
    "               \"phone\": \"08023453\",\n",
    "               \"emails\": [\"john@bosu.com\",\"john.smith@work.com\"],\n",
    "               \"has_license\": false\n",
    "          },\n",
    "          {\n",
    "               \"name\": \"John Doe\",\n",
    "               \"phone\": \"080233\",\n",
    "               \"emails\": null,\n",
    "               \"has_license\": true\n",
    "          },\n",
    "          {\n",
    "               \"name\": \"Tosin Orenaike\",\n",
    "               \"phone\": \"023331\",\n",
    "               \"emails\": \"oren@mog.com\",\n",
    "               \"has_license\": true\n",
    "          }\n",
    "     ]\n",
    "\n",
    "}\n",
    "\n",
    "'''\n",
    "\n",
    "print(type(people_string))\n",
    "\n",
    "data = json.loads(people_string)"
   ]
  },
  {
   "cell_type": "code",
   "execution_count": 43,
   "metadata": {},
   "outputs": [
    {
     "name": "stdout",
     "output_type": "stream",
     "text": [
      "<class 'dict'>\n",
      "{'name': 'Tosin Orenaike', 'phone': '023331', 'emails': 'oren@mog.com', 'has_license': True}\n"
     ]
    }
   ],
   "source": [
    "print(type(data[\"people\"][0]))\n",
    "\n",
    "print(data[\"people\"][2])"
   ]
  },
  {
   "attachments": {},
   "cell_type": "markdown",
   "metadata": {},
   "source": [
    "### Convert JSON string into Python object"
   ]
  },
  {
   "cell_type": "code",
   "execution_count": 31,
   "metadata": {},
   "outputs": [
    {
     "name": "stdout",
     "output_type": "stream",
     "text": [
      "[{'name': 'John Smith', 'phone': '08023453', 'emails': ['john@bosu.com', 'john.smith@work.com'], 'has_license': False}, {'name': 'John Doe', 'phone': '080233', 'emails': None, 'has_license': True}, {'name': 'Tosin Orenaike', 'phone': '023331', 'emails': 'oren@mog.com', 'has_license': True}]\n"
     ]
    }
   ],
   "source": [
    "data = json.loads(people_string)\n",
    "print(data['people'])"
   ]
  },
  {
   "cell_type": "code",
   "execution_count": 32,
   "metadata": {},
   "outputs": [
    {
     "name": "stdout",
     "output_type": "stream",
     "text": [
      "John Smith ['emails']\n",
      "John Doe ['emails']\n",
      "Tosin Orenaike ['emails']\n"
     ]
    }
   ],
   "source": [
    "for people in data['people']:\n",
    "     print (people['name'],['emails'])"
   ]
  },
  {
   "cell_type": "code",
   "execution_count": 33,
   "metadata": {},
   "outputs": [
    {
     "name": "stdout",
     "output_type": "stream",
     "text": [
      "John Smith\n",
      "John Doe\n",
      "Tosin Orenaike\n"
     ]
    }
   ],
   "source": [
    "for person in data['people']:\n",
    "     print(person['name'])"
   ]
  },
  {
   "attachments": {},
   "cell_type": "markdown",
   "metadata": {},
   "source": [
    "## Convert back to JSON from python objects"
   ]
  },
  {
   "cell_type": "code",
   "execution_count": 34,
   "metadata": {},
   "outputs": [],
   "source": [
    "for person in data['people']:\n",
    "     del person['phone']"
   ]
  },
  {
   "cell_type": "code",
   "execution_count": 35,
   "metadata": {},
   "outputs": [
    {
     "name": "stdout",
     "output_type": "stream",
     "text": [
      "{\n",
      "  \"people\": [\n",
      "    {\n",
      "      \"emails\": [\n",
      "        \"john@bosu.com\",\n",
      "        \"john.smith@work.com\"\n",
      "      ],\n",
      "      \"has_license\": false,\n",
      "      \"name\": \"John Smith\"\n",
      "    },\n",
      "    {\n",
      "      \"emails\": null,\n",
      "      \"has_license\": true,\n",
      "      \"name\": \"John Doe\"\n",
      "    },\n",
      "    {\n",
      "      \"emails\": \"oren@mog.com\",\n",
      "      \"has_license\": true,\n",
      "      \"name\": \"Tosin Orenaike\"\n",
      "    }\n",
      "  ]\n",
      "}\n"
     ]
    }
   ],
   "source": [
    "new_string = json.dumps(data, indent=2, sort_keys= True) #If you want to formart the dump into a readable format then use \"indet = n\". 2) you can also sort the keys by using \"sort_Keys = True\"\n",
    "print(new_string)"
   ]
  },
  {
   "cell_type": "code",
   "execution_count": 46,
   "metadata": {},
   "outputs": [
    {
     "name": "stdout",
     "output_type": "stream",
     "text": [
      "<class 'dict'>\n",
      "{'Name': 'Danu', 'Contact': 123455}\n"
     ]
    }
   ],
   "source": [
    "data ={\n",
    "  \"Name\": \"Danu\",\n",
    "  \"Contact\": 123455\n",
    "}\n",
    "\n",
    "print(type(data))\n",
    "print(data)"
   ]
  },
  {
   "cell_type": "code",
   "execution_count": 54,
   "metadata": {},
   "outputs": [
    {
     "name": "stdout",
     "output_type": "stream",
     "text": [
      "[]\n"
     ]
    }
   ],
   "source": [
    "list = []\n",
    "\n",
    "for item in list:\n",
    "    list += 1\n",
    "print (list)"
   ]
  },
  {
   "cell_type": "code",
   "execution_count": 55,
   "metadata": {},
   "outputs": [
    {
     "data": {
      "text/plain": [
       "15"
      ]
     },
     "execution_count": 55,
     "metadata": {},
     "output_type": "execute_result"
    }
   ],
   "source": [
    "a = 10\n",
    "a += 5\n",
    "a"
   ]
  }
 ],
 "metadata": {
  "kernelspec": {
   "display_name": "Python 3",
   "language": "python",
   "name": "python3"
  },
  "language_info": {
   "codemirror_mode": {
    "name": "ipython",
    "version": 3
   },
   "file_extension": ".py",
   "mimetype": "text/x-python",
   "name": "python",
   "nbconvert_exporter": "python",
   "pygments_lexer": "ipython3",
   "version": "3.10.11"
  },
  "orig_nbformat": 4,
  "vscode": {
   "interpreter": {
    "hash": "d8b3b4e871d7619eccb36f657c81b8358b8c67e5d821a2a1d625fcc2f39d1588"
   }
  }
 },
 "nbformat": 4,
 "nbformat_minor": 2
}

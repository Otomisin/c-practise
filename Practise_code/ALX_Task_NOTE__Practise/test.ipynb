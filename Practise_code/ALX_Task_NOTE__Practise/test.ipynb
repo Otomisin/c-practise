{
 "cells": [
  {
   "cell_type": "code",
   "execution_count": 8,
   "metadata": {},
   "outputs": [
    {
     "name": "stdout",
     "output_type": "stream",
     "text": [
      "10\n",
      "10\n"
     ]
    }
   ],
   "source": [
    "# Sample dataset\n",
    "dataset = [1, 2, 3, 4, 5, 6, 7, 8, 9, 10]\n",
    "\n",
    "# Define page size and calculate total number of items\n",
    "page_size = 3\n",
    "total_items = len(dataset)\n",
    "print(total_items)\n",
    "\n",
    "# Calculate total number of pages\n",
    "total_pages = (total_items + page_size - 1) // page_size\n",
    "print(total_items)"
   ]
  },
  {
   "cell_type": "code",
   "execution_count": 10,
   "metadata": {},
   "outputs": [],
   "source": [
    "def index_range(page, page_size):\n",
    "    \"\"\"\n",
    "    Determine the start and end index for a given page number and page size.\n",
    "\n",
    "    Args:\n",
    "    - page (int): The current page number (1-indexed).\n",
    "    - page_size (int): The number of items per page.\n",
    "\n",
    "    Returns:\n",
    "    - tuple: (start_index, end_index)\n",
    "    \"\"\"\n",
    "    start_index = (page - 1) * page_size\n",
    "    end_index = page * page_size\n",
    "    return start_index, end_index\n"
   ]
  },
  {
   "cell_type": "code",
   "execution_count": 11,
   "metadata": {},
   "outputs": [
    {
     "name": "stdout",
     "output_type": "stream",
     "text": [
      "<class 'tuple'>\n",
      "(0, 7)\n"
     ]
    }
   ],
   "source": [
    "res = index_range(1, 7)\n",
    "print(type(res))\n",
    "print(res)"
   ]
  },
  {
   "cell_type": "code",
   "execution_count": 13,
   "metadata": {},
   "outputs": [
    {
     "ename": "NameError",
     "evalue": "name 'Server' is not defined",
     "output_type": "error",
     "traceback": [
      "\u001b[1;31m---------------------------------------------------------------------------\u001b[0m",
      "\u001b[1;31mNameError\u001b[0m                                 Traceback (most recent call last)",
      "Cell \u001b[1;32mIn[13], line 23\u001b[0m\n\u001b[0;32m     19\u001b[0m     \u001b[39massert\u001b[39;00m \u001b[39mlen\u001b[39m(custom_page) \u001b[39m==\u001b[39m \u001b[39m5\u001b[39m, \u001b[39m\"\u001b[39m\u001b[39mPage size of 5 should return 5 records.\u001b[39m\u001b[39m\"\u001b[39m\n\u001b[0;32m     21\u001b[0m     \u001b[39mprint\u001b[39m(\u001b[39m\"\u001b[39m\u001b[39mAll tests passed!\u001b[39m\u001b[39m\"\u001b[39m)\n\u001b[1;32m---> 23\u001b[0m test_get_page()\n",
      "Cell \u001b[1;32mIn[13], line 2\u001b[0m, in \u001b[0;36mtest_get_page\u001b[1;34m()\u001b[0m\n\u001b[0;32m      1\u001b[0m \u001b[39mdef\u001b[39;00m \u001b[39mtest_get_page\u001b[39m():\n\u001b[1;32m----> 2\u001b[0m     server \u001b[39m=\u001b[39m Server()\n\u001b[0;32m      4\u001b[0m     \u001b[39m# Test default values\u001b[39;00m\n\u001b[0;32m      5\u001b[0m     page1 \u001b[39m=\u001b[39m server\u001b[39m.\u001b[39mget_page()\n",
      "\u001b[1;31mNameError\u001b[0m: name 'Server' is not defined"
     ]
    }
   ],
   "source": [
    "def test_get_page():\n",
    "    server = Server()\n",
    "\n",
    "    # Test default values\n",
    "    page1 = server.get_page()\n",
    "    assert len(page1) == 10, \"Default page size should return 10 records.\"\n",
    "    assert page1[0][1] == \"Liam\", \"First record of the dataset should be Liam.\"\n",
    "\n",
    "    # Test a larger page size\n",
    "    page2 = server.get_page(page_size=20)\n",
    "    assert len(page2) == 20, \"Page size of 20 should return 20 records.\"\n",
    "\n",
    "    # Test a page out of range\n",
    "    page_out_of_range = server.get_page(page=1000, page_size=10)\n",
    "    assert page_out_of_range == [], \"Out of range page should return an empty list.\"\n",
    "\n",
    "    # Test a custom page and page size\n",
    "    custom_page = server.get_page(page=2, page_size=5)\n",
    "    assert len(custom_page) == 5, \"Page size of 5 should return 5 records.\"\n",
    "\n",
    "    print(\"All tests passed!\")\n",
    "\n",
    "test_get_page()\n"
   ]
  }
 ],
 "metadata": {
  "kernelspec": {
   "display_name": "Python 3",
   "language": "python",
   "name": "python3"
  },
  "language_info": {
   "codemirror_mode": {
    "name": "ipython",
    "version": 3
   },
   "file_extension": ".py",
   "mimetype": "text/x-python",
   "name": "python",
   "nbconvert_exporter": "python",
   "pygments_lexer": "ipython3",
   "version": "3.10.9"
  },
  "orig_nbformat": 4,
  "vscode": {
   "interpreter": {
    "hash": "8f60924c770a5b78a3c055fbf437a768b94cadb0da39d7de8584be4d1611e218"
   }
  }
 },
 "nbformat": 4,
 "nbformat_minor": 2
}

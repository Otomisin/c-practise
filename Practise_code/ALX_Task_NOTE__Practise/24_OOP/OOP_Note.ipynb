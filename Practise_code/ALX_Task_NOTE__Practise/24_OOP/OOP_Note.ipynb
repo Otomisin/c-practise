{
 "cells": [
  {
   "attachments": {},
   "cell_type": "markdown",
   "metadata": {},
   "source": [
    "# 0x06. Python - Classes and Objects Outline\n",
    "\n",
    "- <input type=\"checkbox\" checked> Why Python programming is awesome <input>\n",
    "- What is OOP\n",
    "- “first-class everything”\n",
    "- What is a class\n",
    "- What is an object and an instance\n",
    "- What is the difference between a class and an object or instance\n",
    "- What is an attribute\n",
    "- What are and how to use public, protected and private attributes\n",
    "- What is self\n",
    "- What is a method\n",
    "- What is the special __init__ method and how to use it\n",
    "- What is Data Abstraction, Data Encapsulation, and Information Hiding\n",
    "- What is a property\n",
    "- What is the difference between an attribute and a property in Python\n",
    "- What is the Pythonic way to write getters and setters in Python\n",
    "- How to dynamically create arbitrary new attributes for existing instances of a class\n",
    "- How to bind attributes to object and classes\n",
    "- What is the __dict__ of a class and/or instance of a class and what does it contain\n",
    "- How does Python find the attributes of an object or class\n",
    "- How to use the getattr function"
   ]
  },
  {
   "attachments": {},
   "cell_type": "markdown",
   "metadata": {},
   "source": [
    "Resources for practies\n",
    "\n",
    "1. Resource : https://python.swaroopch.com/oop.html\n",
    "2. [8. Object Oriented Programming](https://www.youtube.com/watch?v=-DP1i2ZU9gk)\n",
    "3. [Python Classes and Objects || Python Tutorial || Learn Python Programming](https://www.youtube.com/watch?v=apACNr7DC_s)\n",
    "4. [Learn to Program 9 : Object Oriented Programming](https://www.youtube.com/watch?v=1AGyBuVCTeE)\n",
    "5. [Object-Oriented Programming (OOP) in Python 3](https://realpython.com/python3-object-oriented-programming/)\n",
    "6. [Python OOP Projects | Source code and example](https://copyassignment.com/python-oop-projects-source-code-and-example/)\n",
    "7. [Classes and Objects in Python](https://pynative.com/python-classes-and-objects/)\n",
    "- [https://python.swaroopch.com/oop.html](https://python.swaroopch.com/oop.html)\n",
    "- [https://www.youtube.com/watch?v=JeznW_7DlB0](https://www.youtube.com/watch?v=JeznW_7DlB0)\n",
    "- [https://www.youtube.com/watch?v=rq8cL2XMM5M](https://www.youtube.com/watch?v=ZDa-Z5JzLYM&list=PL-osiE80TeTsqhIuOqKhwlXsIBIdSeYtc)\n",
    "- [https://realpython.com/python3-object-oriented-programming/](https://realpython.com/python3-object-oriented-programming/)\n",
    "- [https://static.realpython.com/guides/oop-in-python-best-resources.pdf](https://static.realpython.com/guides/oop-in-python-best-resources.pdf)\n",
    "- [U****nderstanding: Managing Attributes With Python's property():****](https://getliner.com/picked-by-liner/reader-mode?url=https%3A%2F%2Frealpython.com%2Fpython-property%2F)"
   ]
  },
  {
   "attachments": {},
   "cell_type": "markdown",
   "metadata": {},
   "source": [
    "## What is OOP\n",
    "\n",
    "Other kind of programming in which a blocks of statements which manipulate data is called procedure-oriented programming. Most times when writing large programs it's better to OOP.\n"
   ]
  },
  {
   "attachments": {},
   "cell_type": "markdown",
   "metadata": {},
   "source": [
    "## A Class in OOP\n",
    "- A class is a blueprint for an the creation of an object\n",
    "- An object is an instance of a class with attributes and behaviours (methods)\n",
    "- Here is a snapshot of a class and object"
   ]
  },
  {
   "attachments": {},
   "cell_type": "markdown",
   "metadata": {},
   "source": [
    "Instance and Class Variable/Attributes\n",
    "\n",
    "- How to create a class and Objects variable\n",
    "- How to access class and objects\n",
    "- How to modify class and objects\n",
    "\n",
    "Instance variables are attributes attached to a an instance of a class, and it’s defined in the constructors (__ init __)"
   ]
  },
  {
   "attachments": {},
   "cell_type": "markdown",
   "metadata": {},
   "source": [
    "Example: Staff"
   ]
  },
  {
   "cell_type": "code",
   "execution_count": 44,
   "metadata": {},
   "outputs": [
    {
     "data": {
      "text/plain": [
       "('UNICEF', 'London')"
      ]
     },
     "execution_count": 44,
     "metadata": {},
     "output_type": "execute_result"
    }
   ],
   "source": [
    "class staff:\n",
    "    # Class Variable\n",
    "    company = 'IOM'\n",
    "    location = 'London'\n",
    "\n",
    "    def __init__(self, name, sex, age, profession):\n",
    "    #instance Variable\n",
    "        self.name = name\n",
    "        self.sex = sex\n",
    "        self.age = age\n",
    "        self.proession = profession\n",
    "\n",
    "    #nstance method\n",
    "    def department(self):\n",
    "        print(f\"{self.profession}\")\n",
    "\n",
    "\n",
    "# Create objects\n",
    "s1 = staff('Tosn', 'male', 30, 'Data Analyst')\n",
    "s2 = staff('Meryem','Female', 28, 'Reporting officer')\n",
    "s3 = staff('Jane','Female', 24, 'Reporting officer')\n",
    "# Accessing instance variable\n",
    "s1.name, s2.name\n",
    "\n",
    "# Modifying object class variable\n",
    "staff.company = 'UNICEF' # Class variable changed to UNICEF\n",
    "staff.company, staff.location\n",
    "\n",
    "# # Modifying instance variable\n",
    "# s3.name = 'Camila'\n",
    "# s3.name\"\n"
   ]
  },
  {
   "attachments": {},
   "cell_type": "markdown",
   "metadata": {},
   "source": [
    "## Class Method vs. Static Method vs. Instance Method\n",
    "\n",
    "Instance method is used to access or modify the object state. when an instance variable is used inside a method, it is known as instance method. [source](https://www.markdownguide.org/basic-syntax/#:~:text=To%20bold%20text%2C%20add%20two,without%20spaces%20around%20the%20letters.)\n",
    "\n",
    "  - **Instance method** performs a set of actions on the data/value provided by the instance variables. If we use instance variables inside a method, such methods are called instance methods.\n",
    "  - **Class method** is method that is called on the class itself, not on a specific object instance. Therefore, it belongs to a class level, and all class instances share a class method.\n",
    "  - **Static method** is a general utility method that performs a task in isolation. This method doesn’t have access to the instance and class variable."
   ]
  },
  {
   "cell_type": "code",
   "execution_count": 37,
   "metadata": {},
   "outputs": [],
   "source": [
    "class staff:\n",
    "    # Class Variable\n",
    "    company = 'IOM'\n",
    "    Staffno = 0\n",
    "\n",
    "    def __init__(self, name, sex, age, profession):\n",
    "    #instance Variable\n",
    "        self.name = name\n",
    "        self.sex = sex\n",
    "        self.age = age\n",
    "        self.proession = profession\n",
    "\n",
    "    #nstance method\n",
    "    def department(self):\n",
    "        print(f\"{self.profession}\")\n",
    "        \n",
    "    # Class method\n",
    "    @classmethod\n",
    "    def getStaffno(cls):\n",
    "        return cls.Staffno\n",
    "        \n",
    "\n",
    "\n",
    "# Create an object1\n",
    "s1 = staff('Tosn', 'male', 30, 'Data Analyst')\n",
    "s2 = staff('Meryem','Female', 28, 'Reporting officer')\n",
    "s3 = staff('Jane','Female', 24, 'Reporting officer')\n",
    "\n",
    "# Accessing instance variable\n",
    "s1.name, s2.name\n",
    "\n",
    "# add new instance variable 'marks' to s1(Staff 1)\n",
    "s1.marks = 75\n",
    "s1.name, s1.marks\n",
    "\n",
    "# # Modifying class variable\n",
    "# staff.company = 'UNICEF' # Class variable changed to UNICEF\n",
    "# staff.company\n",
    "\n",
    "# # Modifying instance variable\n",
    "# s3.name = 'Camila'\n",
    "# s3.name\n",
    "\n",
    "# # Deleting an instance Variable\n",
    "del s1.marks\n",
    "# s1.marks # marks no longer exist"
   ]
  },
  {
   "attachments": {},
   "cell_type": "markdown",
   "metadata": {},
   "source": [
    "## Inheretance\n",
    "\n",
    "https://pynative.com/python-class-variables/"
   ]
  },
  {
   "attachments": {},
   "cell_type": "markdown",
   "metadata": {},
   "source": [
    "Class and Instance methods\n",
    "\n",
    "In Python, an instance method is a method that is bound to a specific instance of a class. It can access and modify instance variables, and it is called on an instance of the class.\n",
    "\n",
    "Instance methods are commonly used in Python classes to implement behaviors that depend on the state of an individual object. The method can access and manipulate the attributes of the instance, which enables it to modify the state of the object or retrieve information about the object.\n",
    "\n",
    "In this example, we have defined a class Car with an instance method drive. The __init__ method initializes the instance variables make, model, year, and mileage of the Car object. The drive method takes one parameter, distance, which is the number of miles that the car has been driven. The method updates the mileage instance variable of the Car object by adding the distance parameter to it and then prints a message that indicates the amount of distance driven and the total mileage of the car.\n",
    "\n",
    "The drive method is an instance method because it is defined inside the Car class and operates on the mileage instance variable of the Car object. We create an instance of the Car class (car1) and call the drive method on it, passing 100 as the distance parameter. The output shows the message generated by the drive method, which reflects the updated mileage of the car"
   ]
  },
  {
   "cell_type": "code",
   "execution_count": 38,
   "metadata": {},
   "outputs": [
    {
     "name": "stdout",
     "output_type": "stream",
     "text": [
      "The Toyota Corolla has been driven 100 miles. Total mileage: 5100.\n"
     ]
    }
   ],
   "source": [
    "class Car:\n",
    "    def __init__(self, make, model, year, mileage):\n",
    "        self.make = make\n",
    "        self.model = model\n",
    "        self.year = year\n",
    "        self.mileage = mileage\n",
    "    \n",
    "    def drive(self, distance):\n",
    "        self.mileage += distance\n",
    "        print(f\"The {self.make} {self.model} has been driven {distance} miles. Total mileage: {self.mileage}.\")\n",
    "        \n",
    "car1 = Car(\"Toyota\", \"Corolla\", 2021, 5000)\n",
    "car1.drive(100)  # Output: The Toyota Corolla has been driven 100 miles. Total mileage: 5100."
   ]
  },
  {
   "attachments": {},
   "cell_type": "markdown",
   "metadata": {},
   "source": [
    "## Class method\n",
    "\n",
    "In Python, a class method is a method that is bound to the class and not to the instance of the class. It can access and modify class-level attributes, and it is called on the class itself.\n",
    "\n",
    "Class methods are commonly used in Python classes when you need to perform an operation that involves the class itself or class-level attributes, rather than the instance-level attributes. This is useful when you want to maintain a global state for the class or need to perform a computation that is independent of the instance state.\n",
    "\n",
    "Here's an example to illustrate the concept of class methods"
   ]
  },
  {
   "cell_type": "code",
   "execution_count": 39,
   "metadata": {},
   "outputs": [
    {
     "name": "stdout",
     "output_type": "stream",
     "text": [
      "1.04\n",
      "1.04\n",
      "1.04\n",
      "1.05\n",
      "1.05\n",
      "1.05\n"
     ]
    }
   ],
   "source": [
    "class Employee:\n",
    "    # Class variable \n",
    "    num_of_employees = 0\n",
    "    raise_amt = 1.04\n",
    "\n",
    "    def __init__(self, first_name, last_name, salary):\n",
    "        self.first_name = first_name # Instance-level attribute to store the first name of the staff\n",
    "        self.last_name = last_name  # Instance-level attribute to store the last name of the staff\n",
    "        self.salary = salary        # Instance-level attribute to store the salary of the staff\n",
    "        Employee.num_of_employees += 1 # Increment the number of staffs each time a new object is created\n",
    "\n",
    "    # Instance method to return the full name of the staff\n",
    "    def full_name(self):\n",
    "        return f\"{self.first_name} {self.last_name}\"\n",
    "    \n",
    "    # Instance method\n",
    "    def apply_raise(self):\n",
    "        self.salary = int(self.salary * self.raise_amt)\n",
    "\n",
    "    # Class method\n",
    "    @classmethod\n",
    "    def set_raise_amt(cls, amount):\n",
    "        cls.raise_amt = amount #Class method to set the value of raise_amt attribute for the Staff class\n",
    "\n",
    "emp1 = Employee(\"John\", \"Doe\", 50000)\n",
    "emp2 = Employee(\"Jane\", \"Doe\", 60000)\n",
    "\n",
    "print(Employee.raise_amt)    # Output: 1.04\n",
    "print(emp1.raise_amt)        # Output: 1.04\n",
    "print(emp2.raise_amt)        # Output: 1.04\n",
    "\n",
    "Employee.set_raise_amt(1.05)\n",
    "\n",
    "print(Employee.raise_amt)    # Output: 1.05\n",
    "print(emp1.raise_amt)        # Output: 1.05\n",
    "print(emp2.raise_amt)        # Output: 1.05\n"
   ]
  },
  {
   "attachments": {},
   "cell_type": "markdown",
   "metadata": {},
   "source": [
    "## Decorators\n",
    "\n",
    "What is a decorator?\n",
    " - A decorator is a design pattern in Python that allows a user to add new functionality to an existing object without modifying its structure. Decorators are usually called before the definition of a function you want to decorate.\n",
    "\n",
    " - A decorator takes another function as an argument and extends the behavior of the latter function without modifying its source code. In Python, decorators are indicated by an @ symbol followed by the name of the decorator function. They are commonly used to modify the behavior of functions or classes by adding new functionality or modifying existing functionality.\n",
    "\n"
   ]
  },
  {
   "attachments": {},
   "cell_type": "markdown",
   "metadata": {},
   "source": [
    "Using Normal function"
   ]
  },
  {
   "cell_type": "code",
   "execution_count": 34,
   "metadata": {},
   "outputs": [
    {
     "name": "stdout",
     "output_type": "stream",
     "text": [
      "<function my_decorator.<locals>.wrapper at 0x000002405D4BEAC0>\n"
     ]
    }
   ],
   "source": [
    "def my_decorator(func):\n",
    "    def wrapper():\n",
    "        print(\"Before the function is called.\")\n",
    "        func()\n",
    "        print(\"After the function is called.\")\n",
    "    return wrapper\n",
    "\n",
    "@my_decorator\n",
    "def say_hello():\n",
    "    print(\"Hello world!\")\n"
   ]
  },
  {
   "attachments": {},
   "cell_type": "markdown",
   "metadata": {},
   "source": [
    "Using a decorator"
   ]
  },
  {
   "cell_type": "code",
   "execution_count": 27,
   "metadata": {},
   "outputs": [
    {
     "name": "stdout",
     "output_type": "stream",
     "text": [
      "Can't dividde by 0\n",
      "None\n"
     ]
    }
   ],
   "source": [
    "# Define a decorator function called `check` that takes a function as its argument.\n",
    "def check(func):\n",
    "    # Define a new function called `inside` that takes two arguments, `a` and `b`.\n",
    "    def inside (a ,b):\n",
    "        # If `b` is equal to zero, print an error message and return nothing.\n",
    "        if b == 0:\n",
    "            print(\"Can't dividde by 0\")\n",
    "            return\n",
    "        # Otherwise, call the original function (`func`) with the given arguments.\n",
    "        func(a, b)\n",
    "    # Return the `inside` function as the new function that will replace the original function.\n",
    "    return inside\n",
    "\n",
    "# Define a function called `div` that takes two arguments, `a` and `b`, and returns their division.\n",
    "@check\n",
    "def div (a, b):\n",
    "    return a/b\n",
    "\n",
    "# Call the `div` function with arguments 10 and 0. Because of the `check` decorator, an error message will be printed instead of dividing by zero.\n",
    "print (div(10, 0))\n"
   ]
  },
  {
   "cell_type": "code",
   "execution_count": 21,
   "metadata": {},
   "outputs": [
    {
     "name": "stdout",
     "output_type": "stream",
     "text": [
      "Before function is called.\n",
      "Inside the function.\n",
      "After function is called.\n"
     ]
    }
   ],
   "source": [
    "def my_decorator(func):        # The decorator function takes a function as an argument\n",
    "    def wrapper():             # This is the wrapper function that will replace the original function\n",
    "        print(\"Before function is called.\")  # Do something before the original function is called\n",
    "        func()                  # Call the original function\n",
    "        print(\"After function is called.\")   # Do something after the original function is called\n",
    "    return wrapper              # Return the wrapper function\n",
    "\n",
    "@my_decorator                   # This is where the decorator is applied to the function below\n",
    "def my_function():\n",
    "    print(\"Inside the function.\")    # This is the original function that we want to decorate\n",
    "\n",
    "my_function()                   # Call the decorated function"
   ]
  },
  {
   "attachments": {},
   "cell_type": "markdown",
   "metadata": {},
   "source": [
    "## Property()\n",
    "\n",
    "[Python's property(): Add Managed Attributes to Your Classes](https://realpython.com/python-property/#managing-attributes-in-your-classes)\n",
    "\n",
    "- A property is a special type of class attribute that provides a way to access and modify the value of a private attribute without directly accessing it. Properties are accessed and modified using getter and setter methods, which are also called accessors and mutators. They are used to control access to the underlying data of an object and ensure that it is accessed and modified in a safe and consistent manner.\n",
    "\n",
    "- There are two ways to manage an attribute, you can either access and mutate directly or you can do so using methods.\n",
    "    Is is recommended to  never expose your attributes instead use getter and setter methods, which is also known as accessors and mutators\n",
    "\n",
    "- In this example, the Person class has two private attributes _name and _age. The @property decorator is used to create getter methods for these attributes, and the @name.setter and @age.setter decorators are used to create setter methods for them. This allows the name and age of a person object to be accessed and modified using the name and age properties."
   ]
  },
  {
   "cell_type": "code",
   "execution_count": null,
   "metadata": {},
   "outputs": [],
   "source": [
    "class Person:\n",
    "    def __init__(self, name, age):\n",
    "        self._name = name\n",
    "        self._age = age\n",
    "    \n",
    "    @property\n",
    "    def name(self):\n",
    "        return self._name\n",
    "    \n",
    "    @name.setter\n",
    "    def name(self, value):\n",
    "        self._name = value\n",
    "    \n",
    "    @property\n",
    "    def age(self):\n",
    "        return self._age\n",
    "    \n",
    "    @age.setter\n",
    "    def age(self, value):\n",
    "        if value < 0:\n",
    "            raise ValueError(\"Age cannot be negative\")\n",
    "        self._age = value\n"
   ]
  },
  {
   "attachments": {},
   "cell_type": "markdown",
   "metadata": {},
   "source": [
    "## Setters and Getters\n",
    "\n",
    "Resources\n",
    "-   [Getters and Setters: Manage Attributes in Python](https://realpython.com/python-getter-setter/)\n",
    "\n",
    "Note:\n",
    "\n",
    "- Getters and setters are methods that are used to access and modify the value of an attribute in an object. Getters are used to retrieve the value of an attribute, while setters are used to modify it. Getters and setters are often used in conjunction with properties to control access to an object's attributes.\n",
    "\n",
    "- What are getters and setters?\n",
    "    - **Getter:** A method that allows you to *access* an attribute in a given class.  It returns the targets attribute’s value.\n",
    "    - **Setter:** A method that allows you to *set* or *mutate* the value of an attribute in a class. It takes a new value and assign it to the underlying attribute, hence updating the value.\n",
    "    - Why use getters and setters?\n",
    "        - Getters and Setter allow you to access and mutate private attributes while maintaining **encapsulation (***Encapsulation is **a way to restrict the direct access to some components of an object** , so users cannot access state values for all of the variables of a particular object. Encapsulation can be used to hide both data members and data functions or methods associated with an instantiated class or object***)**\n",
    "        - Setter and getters are not the same in other programing languages\n",
    "        - The main purpose of using setters and getters in OOP is ensure data encapsulation.\n",
    "        - To avoid direct access of a class field i.e. private variables cannot be accessed directly or modified by external user\n",
    "    - If you expose the attributes of a class to your users, then those attributes automatically become part of the class’s public [API](https://en.wikipedia.org/wiki/API). They’ll be **public attributes**, which means that your users will directly access and mutate the attributes in their code.\n",
    "- How to write **getter** and **setter** methods in your classes\n",
    "    - implementing a setter and getter requires you to make the atrtibutes public and write a getter and setter method for each attribute.\n",
    "    - You can access and mutate attributes in two ways:\n",
    "        - Access and mutate attribute directly\n",
    "        - Use methods to access and mutate the attribute"
   ]
  },
  {
   "cell_type": "code",
   "execution_count": null,
   "metadata": {},
   "outputs": [
    {
     "name": "stdout",
     "output_type": "stream",
     "text": [
      "37\n",
      "98.60000000000001\n",
      "68.0\n"
     ]
    }
   ],
   "source": [
    "# https://www.programiz.com/python-programming/property\n",
    "\n",
    "# Making Getters and Setter methods\n",
    "class Celsius:\n",
    "    def __init__(self, temperature=0):\n",
    "        self.set_temperature(temperature)\n",
    "\n",
    "    def to_fahrenheit(self):\n",
    "        return (self.get_temperature() * 1.8) + 32\n",
    "\n",
    "    # getter method\n",
    "    def get_temperature(self):\n",
    "        return self._temperature\n",
    "\n",
    "    # setter method\n",
    "    def set_temperature(self, value):\n",
    "        if value < -273.15:\n",
    "            raise ValueError(\"Temperature below -273.15 is not possible.\")\n",
    "        self._temperature = value\n",
    "\n",
    "\n",
    "# Create a new object, set_temperature() internally called by __init__\n",
    "human = Celsius(37)\n",
    "\n",
    "# Get the temperature attribute via a getter\n",
    "print(human.get_temperature())\n",
    "\n",
    "# Get the to_fahrenheit method, get_temperature() called by the method itself\n",
    "print(human.to_fahrenheit())\n",
    "\n",
    "# new constraint implementation\n",
    "human.set_temperature(20)\n",
    "\n",
    "# Get the to_fahreheit method\n",
    "print(human.to_fahrenheit())"
   ]
  },
  {
   "attachments": {},
   "cell_type": "markdown",
   "metadata": {},
   "source": [
    "All in one; Decorators, Properties, Setters and getters\n",
    "\n",
    "In this code, we define a Person class that has two instance attributes, first_name and last_name, which are initialized in the constructor (__init__ method).\n",
    "\n",
    "We then define a full_name property using the @property decorator. This property returns the full name of the person by concatenating the first_name and last_name attributes.\n",
    "\n",
    "Next, we define a full_name setter method using the @full_name.setter decorator. This method allows the user to set the first_name and last_name attributes using a single string input. The string is split into two parts, which are assigned to the first_name and last_name attributes.\n",
    "\n",
    "We also define a full_name deleter method using the @full_name.deleter decorator. This method deletes both the first_name and last_name attributes when the full_name property is deleted.\n",
    "\n",
    "Finally, we define a static method called greet, which is decorated with the @staticmethod decorator. This method can be called on the Person class itself without the need for an instance of the class.\n",
    "\n",
    "Overall, this code demonstrates how decorators, properties, setters, and getters can be used together to create a class with controlled attribute access and additional functionality."
   ]
  },
  {
   "cell_type": "code",
   "execution_count": 35,
   "metadata": {},
   "outputs": [],
   "source": [
    "class Person:\n",
    "    def __init__(self, first_name, last_name):\n",
    "        self.first_name = first_name # initialize instance attribute\n",
    "        self.last_name = last_name # initialize instance attribute\n",
    "    \n",
    "    # define full_name property\n",
    "    @property\n",
    "    def full_name(self):\n",
    "        return f\"{self.first_name} {self.last_name}\"\n",
    "    \n",
    "    # define full_name setter\n",
    "    @full_name.setter\n",
    "    def full_name(self, name):\n",
    "        self.first_name, self.last_name = name.split() # set first_name and last_name attributes using provided name string\n",
    "        \n",
    "    # define full_name deleter\n",
    "    @full_name.deleter\n",
    "    def full_name(self):\n",
    "        del self.first_name # delete first_name attribute\n",
    "        del self.last_name # delete last_name attribute\n",
    "    \n",
    "    @staticmethod\n",
    "    def greet():\n",
    "        print(\"Hello!\") # define static method for class\n"
   ]
  },
  {
   "attachments": {},
   "cell_type": "markdown",
   "metadata": {},
   "source": [
    "## Attribute\n",
    "Attribute\n",
    "- An attribute is a variable that belongs to an object. It is defined in the class and holds a value that can be accessed and modified directly. \n",
    "- Attributes can be public, meaning they can be accessed and modified from outside the class, or private, meaning they can only be accessed and modified from within the class.\n",
    "- In the example below, *width* and *height* are attributes of the Rectangle class.\n",
    "\n",
    "    ```\n",
    "    class Rectangle:\n",
    "        def __init__(self, width, height): \n",
    "            self.width = width\n",
    "            self.height = height\n",
    "    ```\n",
    "Property\n",
    "\n",
    " - property is a special kind of attribute that has getter and setter methods. The getter method is used to retrieve the value of the property, and the setter method is used to set the value of the property. Properties are often used when we want to control access to an attribute or when we want to calculate a value dynamically.\n",
    " - Here is an example of property\n",
    " \n",
    " In this code example, we have a Circle class with three methods that define two properties and one attribute. Here are the comments for each method:\n",
    "\n",
    "    ```__init__:``` This is the constructor method that takes a radius parameter and initializes the _radius attribute with the passed-in value.\n",
    "    radius: This is a property with a getter method that returns the value of the _radius attribute. The property allows us to access the _radius attribute like an attribute, but it is actually a method that calculates the value on-the-fly.\n",
    "\n",
    "    radius.setter: This is a setter method for the radius property. It checks if the new value is negative and raises a ValueError if it is. Otherwise, it sets the _radius attribute to the new value.\n",
    "\n",
    "    area: This is a property with a getter method that calculates and returns the area of the circle based on the _radius attribute. The property allows us to access the area like an attribute, but it is actually a method that calculates the value on-the-fly.\n"
   ]
  },
  {
   "cell_type": "code",
   "execution_count": null,
   "metadata": {},
   "outputs": [
    {
     "name": "stdout",
     "output_type": "stream",
     "text": [
      "public\n",
      "This is a public method\n",
      "protected\n",
      "new_protected\n",
      "protected\n",
      "new_sub_protected\n",
      "private\n",
      "new_private\n",
      "private\n",
      "new_sub_private\n",
      "This is a private method\n",
      "This is a private method\n"
     ]
    }
   ],
   "source": [
    "class MyClass:\n",
    "    def __init__(self, public, _protected, __private):\n",
    "        self.public = public          # public attribute\n",
    "        self._protected = _protected  # protected attribute\n",
    "        self.__private = __private    # private attribute\n",
    "\n",
    "    # public method to get the protected attribute\n",
    "    def get_protected(self):\n",
    "        return self._protected\n",
    "\n",
    "    # public method to set the protected attribute\n",
    "    def set_protected(self, value):\n",
    "        self._protected = value\n",
    "\n",
    "    # public method to get the private attribute\n",
    "    def get_private(self):\n",
    "        return self.__private\n",
    "\n",
    "    # public method to set the private attribute\n",
    "    def set_private(self, value):\n",
    "        self.__private = value\n",
    "\n",
    "    # public method to access the private method\n",
    "    def call_private_method(self):\n",
    "        return self.__private_method()\n",
    "\n",
    "    # public method\n",
    "    def public_method(self):\n",
    "        return \"This is a public method\"\n",
    "\n",
    "    # protected method\n",
    "    def _protected_method(self):\n",
    "        return \"This is a protected method\"\n",
    "\n",
    "    # private method\n",
    "    def __private_method(self):\n",
    "        return \"This is a private method\"\n",
    "\n",
    "class MySubClass(MyClass):\n",
    "    def __init__(self, public, _protected, __private, sub_public):\n",
    "        super().__init__(public, _protected, __private)\n",
    "        self.sub_public = sub_public\n",
    "\n",
    "obj = MyClass(\"public\", \"protected\", \"private\")\n",
    "sub_obj = MySubClass(\"public\", \"protected\", \"private\", \"sub_public\")\n",
    "\n",
    "# Accessing public attributes and methods\n",
    "print(obj.public)           # Output: public\n",
    "print(obj.public_method())  # Output: This is a public method\n",
    "\n",
    "# Accessing protected attributes and methods using public methods\n",
    "print(obj.get_protected())               # Output: protected\n",
    "obj.set_protected(\"new_protected\")\n",
    "print(obj.get_protected())               # Output: new_protected\n",
    "print(sub_obj.get_protected())           # Output: protected\n",
    "sub_obj.set_protected(\"new_sub_protected\")\n",
    "print(sub_obj.get_protected())           # Output: new_sub_protected\n",
    "\n",
    "# Accessing private attributes and methods using public methods\n",
    "print(obj.get_private())               # Output: private\n",
    "obj.set_private(\"new_private\")\n",
    "print(obj.get_private())               # Output: new_private\n",
    "print(sub_obj.get_private())           # Output: private\n",
    "sub_obj.set_private(\"new_sub_private\")\n",
    "print(sub_obj.get_private())           # Output: new_sub_private\n",
    "\n",
    "# Accessing private method using public method\n",
    "print(obj.call_private_method())               # Output: This is a private method\n",
    "print(sub_obj.call_private_method())           # Output: This is a private method\n"
   ]
  },
  {
   "attachments": {},
   "cell_type": "markdown",
   "metadata": {},
   "source": [
    "## getattr ()\n",
    "\n",
    "In Python, the getattr() function is used to get the value of a named attribute of an object. The function takes three parameters:\n",
    "```\n",
    "getattr(object, name[, default])\n",
    "\n",
    "```\n",
    "\n",
    "Here, object is the object whose attribute we want to access, name is a string representing the name of the attribute, and default is an optional parameter that specifies the value to be returned if the attribute does not exist.\n",
    "\n",
    "The getattr() function works by looking up the attribute in the object's __dict__ attribute. If the attribute is not found, the function returns the default value (if specified) or raises an AttributeError.\n",
    "\n",
    "Here's an example that demonstrates how to use getattr():"
   ]
  },
  {
   "cell_type": "code",
   "execution_count": 43,
   "metadata": {},
   "outputs": [
    {
     "name": "stdout",
     "output_type": "stream",
     "text": [
      "Sheeran\n",
      "88\n"
     ]
    }
   ],
   "source": [
    "# Define a class called Student\n",
    "class Student:\n",
    "    # Define class attributes called marks and name\n",
    "    marks = 88\n",
    "    name = 'Sheeran'\n",
    "\n",
    "# Create an instance of the Student class called person\n",
    "person = Student()\n",
    "\n",
    "# Use getattr() function to get the value of the name attribute of the person object\n",
    "name = getattr(person, 'name')\n",
    "# Print the value of the name variable\n",
    "print(name)\n",
    "\n",
    "# Use getattr() function to get the value of the marks attribute of the person object\n",
    "marks = getattr(person, 'marks')\n",
    "# Print the value of the marks variable\n",
    "print(marks)\n"
   ]
  },
  {
   "attachments": {},
   "cell_type": "markdown",
   "metadata": {},
   "source": [
    "## `__dict__` and use\n",
    "\n",
    "In Python, __dict__ is a built-in attribute of objects that stores the object's attributes and their values in a dictionary-like format. It is essentially a dictionary that contains all the attribute-value pairs of the object."
   ]
  },
  {
   "cell_type": "code",
   "execution_count": 49,
   "metadata": {},
   "outputs": [
    {
     "name": "stdout",
     "output_type": "stream",
     "text": [
      "{'x': 3, 'y': 4}\n",
      "{'x': 3, 'y': 4, 'z': 5}\n",
      "{'x': 10, 'y': 4, 'z': 5}\n",
      "{'x': 10, 'z': 5}\n"
     ]
    }
   ],
   "source": [
    "# Define a class with some attributes\n",
    "class MyClass:\n",
    "    def __init__(self, x, y):\n",
    "        self.x = x\n",
    "        self.y = y\n",
    "\n",
    "# Create an instance of the class\n",
    "obj = MyClass(3, 4)\n",
    "\n",
    "# Print the object's dictionary of attributes\n",
    "print(obj.__dict__)\n",
    "# Output: {'x': 3, 'y': 4}\n",
    "\n",
    "# Add a new attribute to the object\n",
    "obj.z = 5\n",
    "print(obj.__dict__)\n",
    "# Output: {'x': 3, 'y': 4, 'z': 5}\n",
    "\n",
    "# Update an existing attribute of the object\n",
    "obj.__dict__['x'] = 10\n",
    "print(obj.__dict__)\n",
    "# Output: {'x': 10, 'y': 4, 'z': 5}\n",
    "\n",
    "# Delete an attribute of the object\n",
    "del obj.y\n",
    "print(obj.__dict__)\n",
    "# Output: {'x': 10, 'z': 5}"
   ]
  },
  {
   "attachments": {},
   "cell_type": "markdown",
   "metadata": {},
   "source": [
    "## Data Abstraction, Data Encapsulation, and Information Hiding\n",
    "\n",
    "Data Abstraction, Data Encapsulation, and Information Hiding are three important concepts in Object-Oriented Programming that are used to design and implement software systems.\n",
    "\n",
    "**Data Abstraction** refers to the process of defining a __simplified interface for complex data structures or systems__. In other words, it is the process of hiding complex details and exposing only the essential features of an object or system to the user. The user does not need to know how the object works internally, they only need to know how to use it.\n",
    "\n",
    "For example, consider a car. A driver does not need to know how the engine works internally or how the transmission system operates. The driver only needs to know how to start the car, accelerate, brake, and change gears. The details of how the car works internally are abstracted away from the driver.\n",
    "\n",
    "**Data Encapsulation** is the process of packaging data and methods that operate on that data into a single unit. This concept is also known as information hiding. Encapsulation provides a mechanism for restricting access to the data and methods of an object. It ensures that the data is accessed only through the methods defined in the class and not directly.\n",
    "\n",
    "For example, consider a bank account. A bank account has data such as the account number, account balance, and account holder name, and methods such as deposit, withdraw, and check balance. The data and methods of the bank account are encapsulated in a class. The data is accessed only through the methods defined in the class, and not directly. This ensures that the data is protected from unauthorized access and modification.\n",
    "\n",
    "**Information Hiding** refers to the process of hiding the implementation details of an object from the user. The user does not need to know how the object works internally, they only need to know how to use it. This concept is closely related to Data Abstraction and Data Encapsulation.\n",
    "\n",
    "For example, consider a smartphone. A user does not need to know how the operating system of the smartphone works internally or how the individual components such as the CPU or RAM operate. The user only needs to know how to use the apps on the smartphone, make calls, send messages, and browse the internet. The implementation details of the smartphone are hidden from the user.\n",
    "\n",
    "In summary, Data Abstraction, Data Encapsulation, and Information Hiding are important concepts in Object-Oriented Programming that help in designing and implementing software systems that are easy to use, maintain, and modify."
   ]
  },
  {
   "cell_type": "code",
   "execution_count": 47,
   "metadata": {},
   "outputs": [],
   "source": [
    "class Circle:\n",
    "    def __init__(self, radius):\n",
    "        self._radius = radius  # Initialize the _radius attribute with the passed in radius value\n",
    "    \n",
    "    @property\n",
    "    def radius(self):\n",
    "        return self._radius  # Getter method for the _radius property\n",
    "    \n",
    "    @radius.setter\n",
    "    def radius(self, value):\n",
    "        if value < 0:  # Check if the new radius value is negative\n",
    "            raise ValueError(\"Radius cannot be negative\")  # Raise a ValueError if the radius is negative\n",
    "        self._radius = value  # Set the _radius attribute to the new value\n",
    "    \n",
    "    @property\n",
    "    def area(self):\n",
    "        return 3.14 * self._radius ** 2  # Calculate and return the area of the circle based on the _radius attribute\n"
   ]
  },
  {
   "attachments": {},
   "cell_type": "markdown",
   "metadata": {},
   "source": [
    "## Public, protected and private attributes \n",
    "\n",
    "In Python, attributes and methods can have different levels of access control. There are three levels of access control: public, protected, and private. Here are the rules for each level:\n",
    "\n",
    "- Public: These attributes and methods are accessible from anywhere, both inside and outside the class. Public attributes and methods are denoted by their names starting with a lowercase letter.\n",
    "- Protected: These attributes and methods are accessible only from within the class and its subclasses. Protected attributes and methods are denoted by their names starting with a single underscore **`_`**.\n",
    "- Private: These attributes and methods are accessible only from within the class. Private attributes and methods are denoted by their names starting with two underscores **`__`**."
   ]
  },
  {
   "attachments": {},
   "cell_type": "markdown",
   "metadata": {},
   "source": [
    "Public attributes and methods Example\n",
    "\n",
    "In this example, x is a public attribute and public_method() is a public method. They can be accessed and called from outside the class using the object obj1."
   ]
  },
  {
   "cell_type": "code",
   "execution_count": 49,
   "metadata": {},
   "outputs": [
    {
     "name": "stdout",
     "output_type": "stream",
     "text": [
      "10\n",
      "This is a public method.\n"
     ]
    }
   ],
   "source": [
    "# Public attributes and methods Example\n",
    "class PublicClass:\n",
    "    def __init__(self, x):\n",
    "        self.x = x   # Public attribute\n",
    "        \n",
    "    def public_method(self):\n",
    "        print(\"This is a public method.\")\n",
    "        \n",
    "obj1 = PublicClass(10)\n",
    "print(obj1.x)   # Accessing public attribute\n",
    "obj1.public_method()   # Calling public method\n"
   ]
  },
  {
   "attachments": {},
   "cell_type": "markdown",
   "metadata": {},
   "source": [
    "Protected attributes and methods example\n",
    "\n",
    "In this example, _x is a protected attribute and _protected_method() is a protected method. They can only be accessed and called from within the class and its subclasses. The subclass SubClass can access the protected attribute and method of the superclass ProtectedClass using the super() function."
   ]
  },
  {
   "cell_type": "code",
   "execution_count": 50,
   "metadata": {},
   "outputs": [
    {
     "name": "stdout",
     "output_type": "stream",
     "text": [
      "10\n",
      "This is a protected method.\n"
     ]
    }
   ],
   "source": [
    "# Protected attributes and methods\n",
    "class ProtectedClass:\n",
    "    def __init__(self, x):\n",
    "        self._x = x   # Protected attribute\n",
    "        \n",
    "    def _protected_method(self):\n",
    "        print(\"This is a protected method.\")\n",
    "        \n",
    "class SubClass(ProtectedClass):\n",
    "    def __init__(self, x, y):\n",
    "        super().__init__(x) # Call the constructor of the superclass\n",
    "        self._y = y\n",
    "        \n",
    "    def print_values(self):\n",
    "        print(self._x)   # Accessing protected attribute\n",
    "        self._protected_method()   # Calling protected method\n",
    "        \n",
    "obj2 = SubClass(10, 20)\n",
    "obj2.print_values()   # Accessing protected attribute and calling protected method\n"
   ]
  },
  {
   "attachments": {},
   "cell_type": "markdown",
   "metadata": {},
   "source": [
    "Private attributes and methods example"
   ]
  },
  {
   "cell_type": "code",
   "execution_count": null,
   "metadata": {},
   "outputs": [],
   "source": [
    "# Private attributes and methods\n",
    "class PrivateClass:\n",
    "    def __init__(self, x):\n",
    "        self.__x = x   # Private attribute\n",
    "        \n",
    "    def __private_method(self):\n",
    "        print(\"This is a private method.\")\n",
    "        \n",
    "class SubClass(PrivateClass):\n",
    "    def __init__(self, x, y):\n",
    "        super().__init__(x)\n",
    "        self.__y = y\n",
    "        \n",
    "    def print_values(self):\n",
    "        print(self._PrivateClass__x)   # Accessing private attribute\n",
    "        self._PrivateClass__private_method()   # Calling private method\n",
    "        \n",
    "obj3 = SubClass(10, 20)\n",
    "obj3.print_values()   # Accessing private attribute and calling private method\n"
   ]
  },
  {
   "attachments": {},
   "cell_type": "markdown",
   "metadata": {},
   "source": [
    "Public, protected and private methods and attribute Example\n",
    "\n",
    "In this example, public is a public attribute, _protected is a protected attribute, and __private is a private attribute. Similarly, public_method() is a public method, _protected_method() is a protected method, and __private_method() is a private method.\n",
    "\n",
    "To access these attributes and methods from within the class, you can use them directly. However, to access protected and private attributes and methods from outside the class, you need to use the protected and private name mangling conventions, respectively. For example, to access the private attribute __private from outside the class, you would use the name _MyClass__private.\n",
    "\n",
    "Note that accessing protected and private attributes and methods from outside the class directly is not recommended, as it goes against the principles of information hiding and can make the code less maintainable."
   ]
  },
  {
   "attachments": {},
   "cell_type": "markdown",
   "metadata": {},
   "source": [
    "## Attribute and a property in Python with examples\n",
    "\n",
    "Attribute\n",
    "- An attribute is a variable that belongs to an object. It is defined in the class and holds a value that can be accessed and modified directly. \n",
    "- Attributes can be public, meaning they can be accessed and modified from outside the class, or private, meaning they can only be accessed and modified from within the class.\n",
    "- In the example below, *width* and *height* are attributes of the Rectangle class.\n",
    "\n",
    "    ```\n",
    "    class Rectangle:\n",
    "        def __init__(self, width, height): \n",
    "            self.width = width\n",
    "            self.height = height\n",
    "    ```\n",
    "Property\n",
    "\n",
    " - property is a special kind of attribute that has getter and setter methods. The getter method is used to retrieve the value of the property, and the setter method is used to set the value of the property. Properties are often used when we want to control access to an attribute or when we want to calculate a value dynamically.\n",
    " - Here is an example of property\n",
    " \n",
    " In this code example, we have a Circle class with three methods that define two properties and one attribute. Here are the comments for each method:\n",
    "\n",
    "    ```__init__:``` This is the constructor method that takes a radius parameter and initializes the _radius attribute with the passed-in value.\n",
    "    radius: This is a property with a getter method that returns the value of the _radius attribute. The property allows us to access the _radius attribute like an attribute, but it is actually a method that calculates the value on-the-fly.\n",
    "\n",
    "    radius.setter: This is a setter method for the radius property. It checks if the new value is negative and raises a ValueError if it is. Otherwise, it sets the _radius attribute to the new value.\n",
    "\n",
    "    area: This is a property with a getter method that calculates and returns the area of the circle based on the _radius attribute. The property allows us to access the area like an attribute, but it is actually a method that calculates the value on-the-fly.\n"
   ]
  },
  {
   "cell_type": "code",
   "execution_count": 52,
   "metadata": {},
   "outputs": [
    {
     "name": "stdout",
     "output_type": "stream",
     "text": [
      "public\n",
      "This is a public method\n",
      "protected\n",
      "new_protected\n",
      "protected\n",
      "new_sub_protected\n",
      "private\n",
      "new_private\n",
      "private\n",
      "new_sub_private\n",
      "This is a private method\n",
      "This is a private method\n"
     ]
    }
   ],
   "source": [
    "class MyClass:\n",
    "    def __init__(self, public, _protected, __private):\n",
    "        self.public = public          # public attribute\n",
    "        self._protected = _protected  # protected attribute\n",
    "        self.__private = __private    # private attribute\n",
    "\n",
    "    # public method to get the protected attribute\n",
    "    def get_protected(self):\n",
    "        return self._protected\n",
    "\n",
    "    # public method to set the protected attribute\n",
    "    def set_protected(self, value):\n",
    "        self._protected = value\n",
    "\n",
    "    # public method to get the private attribute\n",
    "    def get_private(self):\n",
    "        return self.__private\n",
    "\n",
    "    # public method to set the private attribute\n",
    "    def set_private(self, value):\n",
    "        self.__private = value\n",
    "\n",
    "    # public method to access the private method\n",
    "    def call_private_method(self):\n",
    "        return self.__private_method()\n",
    "\n",
    "    # public method\n",
    "    def public_method(self):\n",
    "        return \"This is a public method\"\n",
    "\n",
    "    # protected method\n",
    "    def _protected_method(self):\n",
    "        return \"This is a protected method\"\n",
    "\n",
    "    # private method\n",
    "    def __private_method(self):\n",
    "        return \"This is a private method\"\n",
    "\n",
    "class MySubClass(MyClass):\n",
    "    def __init__(self, public, _protected, __private, sub_public):\n",
    "        super().__init__(public, _protected, __private)\n",
    "        self.sub_public = sub_public\n",
    "\n",
    "obj = MyClass(\"public\", \"protected\", \"private\")\n",
    "sub_obj = MySubClass(\"public\", \"protected\", \"private\", \"sub_public\")\n",
    "\n",
    "# Accessing public attributes and methods\n",
    "print(obj.public)           # Output: public\n",
    "print(obj.public_method())  # Output: This is a public method\n",
    "\n",
    "# Accessing protected attributes and methods using public methods\n",
    "print(obj.get_protected())               # Output: protected\n",
    "obj.set_protected(\"new_protected\")\n",
    "print(obj.get_protected())               # Output: new_protected\n",
    "print(sub_obj.get_protected())           # Output: protected\n",
    "sub_obj.set_protected(\"new_sub_protected\")\n",
    "print(sub_obj.get_protected())           # Output: new_sub_protected\n",
    "\n",
    "# Accessing private attributes and methods using public methods\n",
    "print(obj.get_private())               # Output: private\n",
    "obj.set_private(\"new_private\")\n",
    "print(obj.get_private())               # Output: new_private\n",
    "print(sub_obj.get_private())           # Output: private\n",
    "sub_obj.set_private(\"new_sub_private\")\n",
    "print(sub_obj.get_private())           # Output: new_sub_private\n",
    "\n",
    "# Accessing private method using public method\n",
    "print(obj.call_private_method())               # Output: This is a private method\n",
    "print(sub_obj.call_private_method())           # Output: This is a private method\n"
   ]
  },
  {
   "attachments": {},
   "cell_type": "markdown",
   "metadata": {},
   "source": [
    "## Python super()?\n",
    "\n",
    "Sure! super() is a built-in function in Python that allows you to call methods from a parent class, also known as a superclass. \n",
    "Why use super ()\n",
    "- Allows us to avoid using the base class name explicitly\n",
    "- Working with Multiple Inheritance\n",
    "\n",
    "Here's an example code with comments that demonstrate how super() works:\n",
    "\n",
    "In this code, we have a **`Parent`** class with an **`__init__`** method that sets the **`name`** attribute and a **`say_hello`** method that prints a message with the **`name`**. We also have a **`Child`** class that inherits from **`Parent`** and has its own **`__init__`** method that sets the **`age`** attribute, and a **`say_hello`** method that calls the parent class's **`say_hello`** method and then prints the **`age`**.\n",
    "\n",
    "When we create an instance of **`Child`** and call its **`say_hello`** method, it first calls the **`say_hello`** method from the **`Parent`** class using **`super().say_hello()`**, which prints the message \"Hello, I am Alice!\". Then it prints the message \"I am 10 years old.\", which was added by the **`Child`** class's implementation of **`say_hello`**.\n",
    "\n",
    "By using **`super()`**, we were able to call the **`Parent`** class's **`say_hello`** method without having to rewrite it in the **`Child`** class, and still add our own functionality to the method."
   ]
  },
  {
   "cell_type": "code",
   "execution_count": 55,
   "metadata": {},
   "outputs": [
    {
     "name": "stdout",
     "output_type": "stream",
     "text": [
      "Hello, I am Alice!\n",
      "I am 10 years old.\n"
     ]
    }
   ],
   "source": [
    "class Parent:\n",
    "    def __init__(self, name):\n",
    "        self.name = name\n",
    "\n",
    "    def say_hello(self):\n",
    "        print(f\"Hello, I am {self.name}!\")\n",
    "\n",
    "class Child(Parent):\n",
    "    def __init__(self, name, age):\n",
    "        # Call the parent class's constructor with the name parameter\n",
    "        super().__init__(name)\n",
    "        self.age = age\n",
    "\n",
    "    def say_hello(self):\n",
    "        # Call the parent class's say_hello method\n",
    "        super().say_hello()\n",
    "        print(f\"I am {self.age} years old.\")\n",
    "\n",
    "# Create an instance of Child and call its methods\n",
    "c = Child(\"Alice\", 10)\n",
    "c.say_hello()"
   ]
  },
  {
   "cell_type": "code",
   "execution_count": 59,
   "metadata": {},
   "outputs": [
    {
     "name": "stdout",
     "output_type": "stream",
     "text": [
      "Hello from Parent2!\n"
     ]
    },
    {
     "ename": "AttributeError",
     "evalue": "'super' object has no attribute 'say_hello'",
     "output_type": "error",
     "traceback": [
      "\u001b[1;31m---------------------------------------------------------------------------\u001b[0m",
      "\u001b[1;31mAttributeError\u001b[0m                            Traceback (most recent call last)",
      "Cell \u001b[1;32mIn[59], line 18\u001b[0m\n\u001b[0;32m     16\u001b[0m \u001b[39m# Create an instance of Child and call its say_hello method\u001b[39;00m\n\u001b[0;32m     17\u001b[0m c \u001b[39m=\u001b[39m Child()\n\u001b[1;32m---> 18\u001b[0m c\u001b[39m.\u001b[39;49msay_hello()\n",
      "Cell \u001b[1;32mIn[59], line 14\u001b[0m, in \u001b[0;36mChild.say_hello\u001b[1;34m(self)\u001b[0m\n\u001b[0;32m     12\u001b[0m \u001b[39msuper\u001b[39m(Parent1, \u001b[39mself\u001b[39m)\u001b[39m.\u001b[39msay_hello()\n\u001b[0;32m     13\u001b[0m \u001b[39m# Call the say_hello method from Parent2 using super()\u001b[39;00m\n\u001b[1;32m---> 14\u001b[0m \u001b[39msuper\u001b[39;49m(Parent2, \u001b[39mself\u001b[39;49m)\u001b[39m.\u001b[39;49msay_hello()\n",
      "\u001b[1;31mAttributeError\u001b[0m: 'super' object has no attribute 'say_hello'"
     ]
    }
   ],
   "source": [
    "class Parent1:\n",
    "    def say_hello(self):\n",
    "        print(\"Hello from Parent1!\")\n",
    "\n",
    "class Parent2:\n",
    "    def say_hello(self):\n",
    "        print(\"Hello from Parent2!\")\n",
    "\n",
    "class Child(Parent1, Parent2):\n",
    "    def say_hello(self):\n",
    "        # Call the say_hello method from Parent1 using super()\n",
    "        super(Parent1, self).say_hello()\n",
    "        # Call the say_hello method from Parent2 using super()\n",
    "        super(Parent2, self).say_hello()\n",
    "\n",
    "# Create an instance of Child and call its say_hello method\n",
    "c = Child()\n",
    "c.say_hello()\n"
   ]
  },
  {
   "cell_type": "code",
   "execution_count": 30,
   "metadata": {},
   "outputs": [
    {
     "name": "stdout",
     "output_type": "stream",
     "text": [
      "37\n",
      "98.60000000000001\n",
      "68.0\n"
     ]
    }
   ],
   "source": [
    "# https://www.programiz.com/python-programming/property\n",
    "\n",
    "# Making Getters and Setter methods\n",
    "class Celsius:\n",
    "    def __init__(self, temperature=0):\n",
    "        self.set_temperature(temperature)\n",
    "\n",
    "    def to_fahrenheit(self):\n",
    "        return (self.get_temperature() * 1.8) + 32\n",
    "\n",
    "    # getter method\n",
    "    def get_temperature(self):\n",
    "        return self._temperature\n",
    "\n",
    "    # setter method\n",
    "    def set_temperature(self, value):\n",
    "        if value < -273.15:\n",
    "            raise ValueError(\"Temperature below -273.15 is not possible.\")\n",
    "        self._temperature = value\n",
    "\n",
    "\n",
    "# Create a new object, set_temperature() internally called by __init__\n",
    "human = Celsius(37)\n",
    "\n",
    "# Get the temperature attribute via a getter\n",
    "print(human.get_temperature())\n",
    "\n",
    "# Get the to_fahrenheit method, get_temperature() called by the method itself\n",
    "print(human.to_fahrenheit())\n",
    "\n",
    "# new constraint implementation\n",
    "human.set_temperature(20)\n",
    "\n",
    "# Get the to_fahreheit method\n",
    "print(human.to_fahrenheit())"
   ]
  },
  {
   "attachments": {},
   "cell_type": "markdown",
   "metadata": {},
   "source": [
    "## CLASS EXCERSES 1\n",
    "\n",
    "Please write a Python class named Square that satisfies the following requirements:\n",
    "\n",
    "- The class should have a constructor that initializes the square. The constructor should take an optional parameter named **`size`** (integer type) that represents the size of a side of the square. If **`size`** is not provided, it should default to 0.\n",
    "- The class should have a method named **`area`** that calculates the area of the square. The method should take no parameters and return the area of the square as an integer.\n",
    "- The class should have a getter method for the **`size`** attribute that returns the current value of the **`size`** attribute.\n",
    "- The class should have a setter method for the **`size`** attribute that sets the value of the **`size`** attribute to the provided value. The setter method should check if the provided value is a positive integer; otherwise, it should raise a **`ValueError`** with the message \"size must be >= 0\". If the provided value is not an integer, it should raise a **`TypeError`** with the message \"size must be an integer\".\n",
    "\n",
    "- Test Your code with this\n",
    "    ```\n",
    "    my_square = Square(89)\n",
    "    print(\"Area: {} for size: {}\".format(my_square.area(), my_square.size))\n",
    "\n",
    "    my_square.size = 3\n",
    "    print(\"Area: {} for size: {}\".format(my_square.area(), my_square.size))\n",
    "\n",
    "    try:\n",
    "        my_square.size = \"5 feet\"\n",
    "        print(\"Area: {} for size: {}\".format(my_square.area(), my_square.size))\n",
    "    except Exception as e:\n",
    "        print(e)\n",
    "    ```"
   ]
  },
  {
   "cell_type": "code",
   "execution_count": 51,
   "metadata": {},
   "outputs": [],
   "source": [
    "#!/usr/bin/python3\n",
    "\"\"\"Defines a class Square\"\"\"\n",
    "\n",
    "\n",
    "class Square:\n",
    "    \"\"\"Represents a square\n",
    "    Attributes:\n",
    "        __size (int): size of a side of the square\n",
    "    \"\"\"\n",
    "    def __init__(self, size=0):\n",
    "        \"\"\"initializes the square\n",
    "        Args:\n",
    "            size (int): size of a side of the square\n",
    "        Returns:\n",
    "            None\n",
    "        \"\"\"\n",
    "        self.size = size\n",
    "\n",
    "    def area(self):\n",
    "        \"\"\"calculates the square's area\n",
    "        Returns:\n",
    "            The area of the square\n",
    "        \"\"\"\n",
    "        return (self.__size) ** 2\n",
    "\n",
    "    @property\n",
    "    def size(self):\n",
    "        \"\"\"getter of __size\n",
    "        Returns:\n",
    "            The size of the square\n",
    "        \"\"\"\n",
    "        return self.__size\n",
    "\n",
    "    @size.setter\n",
    "    def size(self, value):\n",
    "        \"\"\"setter of __size\n",
    "        Args:\n",
    "            value (int): the size of a size of the square\n",
    "        Returns:\n",
    "            None\n",
    "        \"\"\"\n",
    "        if type(value) is not int:\n",
    "            raise TypeError(\"size must be an integer\")\n",
    "        else:\n",
    "            if value < 0:\n",
    "                raise ValueError(\"size must be >= 0\")\n",
    "            else:\n",
    "                self.__size = value"
   ]
  },
  {
   "attachments": {},
   "cell_type": "markdown",
   "metadata": {},
   "source": [
    "## CLASS EXCERSES 2\n",
    "\n",
    "Write a Python class named Square that satisfies the following requirements:\n",
    "\n",
    "- The class should have a constructor that initializes the square. The constructor should take an optional parameter named **`size`** (integer type) that represents the size of a side of the square. If **`size`** is not provided, it should default to 0.\n",
    "- The class should have a method named **`area`** that calculates the area of the square. The method should take no parameters and return the area of the square as an integer.\n",
    "- The class should have a getter method for the **`size`** attribute that returns the current value of the **`size`** attribute.\n",
    "- The class should have a setter method for the **`size`** attribute that sets the value of the **`size`** attribute to the provided value. The setter method should check if the provided value is a positive integer; otherwise, it should raise a **`ValueError`** with the message \"size must be >= 0\". If the provided value is not an integer, it should raise a **`TypeError`** with the message \"size must be an integer\".\n",
    "- The class should have a method named **`my_print`** that prints a square using the \"#\" character. The method should take no parameters and return nothing. The size of the square should be equal to the value of the **`size`** attribute. If the **`size`** attribute is 0, the method should print an empty line."
   ]
  },
  {
   "cell_type": "code",
   "execution_count": 50,
   "metadata": {},
   "outputs": [],
   "source": [
    "# Define a constructor that initializes the square\n",
    "def __init__(self, size=0):\n",
    "    \"\"\"initializes the square\n",
    "    Args:\n",
    "        size (int): size of a side of the square\n",
    "    Returns:\n",
    "        None\n",
    "    \"\"\"\n",
    "    self.size = size\n",
    "\n",
    "# Define a method that calculates the area of the square\n",
    "def area(self):\n",
    "    \"\"\"calculates the square's area\n",
    "    Returns:\n",
    "        The area of the square\n",
    "    \"\"\"\n",
    "    return (self.__size) ** 2\n",
    "\n",
    "# Define a getter method for the size attribute\n",
    "@property\n",
    "def size(self):\n",
    "    \"\"\"getter of __size\n",
    "    Returns:\n",
    "        The size of the square\n",
    "    \"\"\"\n",
    "    return self.__size\n",
    "\n",
    "# Define a setter method for the size attribute\n",
    "@size.setter\n",
    "def size(self, value):\n",
    "    \"\"\"setter of __size\n",
    "    Args:\n",
    "        value (int): size of a side of the square\n",
    "    Returns:\n",
    "        None\n",
    "    \"\"\"\n",
    "    if type(value) is not int:\n",
    "        raise TypeError(\"size must be an integer\")\n",
    "    else:\n",
    "        if value < 0:\n",
    "            raise ValueError(\"size must be >= 0\")\n",
    "        else:\n",
    "            self.__size = value\n",
    "\n",
    "# Define a method that prints the square\n",
    "def my_print(self):\n",
    "    \"\"\"prints the square\n",
    "    Returns:\n",
    "        None\n",
    "    \"\"\"\n",
    "    if self.__size == 0:\n",
    "        print()\n",
    "        return\n",
    "    for i in range(self.__size):\n",
    "        print(\"\".join([\"#\" for j in range(self.__size)])) \n"
   ]
  },
  {
   "cell_type": "markdown",
   "metadata": {},
   "source": [
    "# 0x08. Python - More Classes and Objects"
   ]
  },
  {
   "attachments": {},
   "cell_type": "markdown",
   "metadata": {},
   "source": [
    "Resources\n",
    "\n",
    "- [Object Oriented Programming](https://intranet.alxswe.com/rltoken/M-MFweENpRdEfRto_Gzlvg) (*Read everything until the paragraph “Inheritance” (excluded)*)\n",
    "- [Object-Oriented Programming](https://intranet.alxswe.com/rltoken/_Awd8Gn4SBdq2FRd_bY8KA) (*Please be careful: in most of the following paragraphs, the author shows the way you should not use or write a class, in order to help you better understand some concepts and how everything works in Python 3. Make sure you read only the following paragraphs: “General Introduction,” “First-class Everything,” “A Minimal Class in Python,” “Attributes,” “Methods,” “The `__init__` Method,” “Data Abstraction, Data Encapsulation, and Information Hiding,” “`__str__`and `__repr__`Methods,” “Public- Protected- and Private Attributes,” & “Destructor”*)\n",
    "- [Class and Instance Attributes](https://intranet.alxswe.com/rltoken/SGQIevRxW6lTgr4jGDzXbw)\n",
    "- [classmethods and staticmethods](https://intranet.alxswe.com/rltoken/Ij1EnTg02gtIknOkNv4xGA)\n",
    "- [Properties vs. Getters and Setters](https://intranet.alxswe.com/rltoken/xjpk-jUNe0uGEzcNXbwIHQ) (*Mainly the last part “Public instead of Private Attributes”*)\n",
    "- [str vs repr](https://intranet.alxswe.com/rltoken/iu1ILT-t6FMuZvk7vRvfuQ)"
   ]
  },
  {
   "attachments": {},
   "cell_type": "markdown",
   "metadata": {},
   "source": [
    "Ourline: \n",
    "\n",
    "- Why Python programming is awesome\n",
    "- What is OOP\n",
    "- “first-class everything”\n",
    "- What is a class\n",
    "- What is an object and an instance\n",
    "- What is the difference between a class and an object or instance\n",
    "- What is an attribute\n",
    "- What are and how to use public, protected and private attributes\n",
    "- What is `self`\n",
    "- What is a method\n",
    "- What is the special `__init__` method and how to use it\n",
    "- What is Data Abstraction, Data Encapsulation, and Information Hiding\n",
    "- What is a property\n",
    "- What is the difference between an attribute and a property in Python\n",
    "- What is the Pythonic way to write getters and setters in Python\n",
    "- What are the special `__str__` and `__repr__` methods and how to use them\n",
    "- What is the difference between `__str__` and `__repr__`\n",
    "- What is a class attribute\n",
    "- What is the difference between a object attribute and a class attribute\n",
    "- What is a class method\n",
    "- What is a static method\n",
    "- How to dynamically create arbitrary new attributes for existing instances of a class\n",
    "- How to bind attributes to object and classes\n",
    "- What is and what does contain `__dict__` of a class and of an instance of a class\n",
    "- How does Python find the attributes of an object or class\n",
    "- How to use the `getattr` function"
   ]
  },
  {
   "attachments": {},
   "cell_type": "markdown",
   "metadata": {},
   "source": [
    "## **`__str__`** and **`__repr__`** methods and how to use them\n",
    "\n",
    "**`__str__`** and **`__repr__`** are special methods in Python that are used to provide a string representation of an object. Both methods are used to convert an object to a string, but they have different purposes.\n",
    "\n",
    "The __str__() method returns a human-readable, or informal, string representation of an object. This method is called by the built-in print(), str(), and format() functions. If you don’t define a __str__() method for a class, then the built-in object implementation calls the __repr__() method instead.\n",
    "\n",
    "The **`__repr__`** method is used to provide a detailed, unambiguous representation of an object. It is used mainly for debugging purposes and should return a string that can be used to recreate the object. This method is called by the built-in **`repr`** function, and its default implementation returns the string \"<classname object at memory_address>\". You can define this method in your own class to provide a more meaningful representation of your object.\n",
    "\n",
    "The __repr__() method returns a more information-rich, or official, string representation of an object. This method is called by the built-in repr() function. If possible, the string returned should be a valid Python expression that can be used to recreate the object. In all cases, the string should be informative and unambiguous.\n",
    "\n",
    "In general, the __str__() string is intended for users and the __repr__() string is intended for developers.\n",
    "\n",
    "Here is an example of using the **`__repr__`** method:"
   ]
  },
  {
   "attachments": {},
   "cell_type": "markdown",
   "metadata": {},
   "source": [
    "Example 1\n",
    "\n",
    "In this example, we define a Person class with two attributes: name and age. We then define the __str__ and __repr__ methods to provide string representations of a Person object.\n",
    "\n",
    "The __str__ method returns a string that describes the person's name and age in a human-readable format. The __repr__ method returns a string that can be used to recreate the object. In this case, it returns a string in the format Person('name', age)"
   ]
  },
  {
   "cell_type": "code",
   "execution_count": 56,
   "metadata": {},
   "outputs": [
    {
     "name": "stdout",
     "output_type": "stream",
     "text": [
      "Alice is 30 years old\n"
     ]
    },
    {
     "data": {
      "text/plain": [
       "\"Person('Alice', 30)\""
      ]
     },
     "execution_count": 56,
     "metadata": {},
     "output_type": "execute_result"
    }
   ],
   "source": [
    "# Define a class named Person\n",
    "class Person:\n",
    "    \n",
    "    # Constructor method that initializes the instance variables name and age with the passed parameters\n",
    "    def __init__(self, name, age):\n",
    "        self.name = name\n",
    "        self.age = age\n",
    "    \n",
    "    # Special method that returns a string representation of the object, with its name and age\n",
    "    def __str__(self):\n",
    "        return f\"{self.name} is {self.age} years old\"\n",
    "    \n",
    "    # Special method that returns a string that can be used to recreate the object\n",
    "    def __repr__(self):\n",
    "        return f\"Person('{self.name}', {self.age})\"\n",
    "    \n",
    "# Create an object of the class Person, with the name \"Alice\" and age 30\n",
    "person = Person(\"Alice\", 30)\n",
    "\n",
    "# Call the __str__ method on the object and print its result to the console\n",
    "print(person)\n",
    "\n",
    "# Call the __repr__ method on the object and print its result to the console\n",
    "repr(person)\n"
   ]
  },
  {
   "cell_type": "markdown",
   "metadata": {},
   "source": [
    "Example 2"
   ]
  },
  {
   "cell_type": "code",
   "execution_count": 57,
   "metadata": {},
   "outputs": [
    {
     "name": "stdout",
     "output_type": "stream",
     "text": [
      "The creature type is Jellyfish and the age is 5\n",
      "The creature type is Jellyfish and the age is 5\n",
      "Ocean('Jellyfish', 5)\n"
     ]
    }
   ],
   "source": [
    "# Define a class named Ocean\n",
    "class Ocean:\n",
    "    \n",
    "    # Constructor method that initializes the instance variables name and age with the passed parameters\n",
    "    def __init__(self, sea_creature_name, sea_creature_age):\n",
    "        self.name = sea_creature_name\n",
    "        self.age = sea_creature_age\n",
    "    \n",
    "    # Special method that returns a string representation of the object, with its attributes\n",
    "    def __str__(self):\n",
    "        return f'The creature type is {self.name} and the age is {self.age}'\n",
    "    \n",
    "    # Special method that returns a string that can be used to recreate the object\n",
    "    def __repr__(self):\n",
    "        return f'Ocean(\\'{self.name}\\', {self.age})'\n",
    "    \n",
    "\n",
    "# Create an object of the class Ocean, with the name 'Jellyfish' and age 5\n",
    "c = Ocean('Jellyfish', 5)\n",
    "\n",
    "# Call the __str__ method on the object and print its result to the console\n",
    "print(str(c))\n",
    "print(c)\n",
    "\n",
    "# Call the __repr__ method on the object and print its result to the console\n",
    "print(repr(c))\n"
   ]
  },
  {
   "attachments": {},
   "cell_type": "markdown",
   "metadata": {},
   "source": [
    "# 0x09. Python - Everything is object\n",
    "\n",
    "**Reources**\n",
    "\n",
    "- [9.10. Objects and values](https://intranet.alxswe.com/rltoken/MrtBogRzYETxnSKG97E7Sg)\n",
    "- [9.11. Aliasing](https://intranet.alxswe.com/rltoken/Ro-7kVXtmWyAeOXEw7RhSg)\n",
    "- [Immutable vs mutable types](https://intranet.alxswe.com/rltoken/X1lEmkwQRWI3fP4W7bq_qw)\n",
    "- [Mutation](https://intranet.alxswe.com/rltoken/HpKOdgDg6GIoBoG0UPOgPA) (*Only this chapter*)\n",
    "- [9.12. Cloning lists](https://intranet.alxswe.com/rltoken/-Gi4PX4srBYFKpZ5Er6sqA)\n",
    "- [Python tuples: immutable but potentially changing](https://intranet.alxswe.com/rltoken/NZIom4L-tS0HjpY_uEVr9A)\n",
    "\n",
    " **General**\n",
    "\n",
    "- Why Python programming is awesome\n",
    "- What is an object\n",
    "- What is the difference between a class and an object or instance\n",
    "- What is the difference between immutable object and mutable object\n",
    "- What is a reference\n",
    "- What is an assignment\n",
    "- What is an alias\n",
    "- How to know if two variables are identical\n",
    "- How to know if two variables are linked to the same object\n",
    "- How to display the variable identifier (which is the memory address in the CPython implementation)\n",
    "- What is mutable and immutable\n",
    "- What are the built-in mutable types\n",
    "- What are the built-in immutable types\n",
    "- How does Python pass variables to functions"
   ]
  },
  {
   "attachments": {},
   "cell_type": "markdown",
   "metadata": {},
   "source": [
    "Objects and Values\n",
    "\n",
    "- An object is something a variable can refer to\n",
    "- Since strings are immutable, Python optimizes resources by making two names that refer to the same string value refer to the same object.\n",
    "- in example 1, the string refers to the same object for optimization. in example 2, this is not the same. c and d have the same value but do not refer to the same object. "
   ]
  },
  {
   "cell_type": "code",
   "execution_count": 6,
   "metadata": {},
   "outputs": [
    {
     "data": {
      "text/plain": [
       "False"
      ]
     },
     "execution_count": 6,
     "metadata": {},
     "output_type": "execute_result"
    }
   ],
   "source": [
    "# Example 1\n",
    "a = \"banana\"\n",
    "b = \"banana\"\n",
    "\n",
    "a == b, a is b\n",
    "\n",
    "# Example 2\n",
    "c = [1,2,3]\n",
    "d = [1,2,3]\n",
    "\n",
    "c == d\n",
    "c is d"
   ]
  },
  {
   "attachments": {},
   "cell_type": "markdown",
   "metadata": {},
   "source": [
    "Aliasing\n",
    "\n",
    "Since variables refer to objects, if we assign one variable to another, both variables refer to the same object.\n",
    "In the example 3 below, a and b can be refered to as aliased and changes made from one affects the other. it is however safer to avoid aliasing when you are working with mutable objects. Of course, for immutable objects, there’s no problem"
   ]
  },
  {
   "cell_type": "code",
   "execution_count": 8,
   "metadata": {},
   "outputs": [
    {
     "data": {
      "text/plain": [
       "True"
      ]
     },
     "execution_count": 8,
     "metadata": {},
     "output_type": "execute_result"
    }
   ],
   "source": [
    "a = [1, 2, 3]\n",
    "b = a\n",
    "a is b"
   ]
  },
  {
   "attachments": {},
   "cell_type": "markdown",
   "metadata": {},
   "source": [
    " Cloning lists\n",
    "\n",
    " The process of cloning is "
   ]
  },
  {
   "cell_type": "code",
   "execution_count": 12,
   "metadata": {},
   "outputs": [
    {
     "name": "stdout",
     "output_type": "stream",
     "text": [
      "[1, 2, 3]\n"
     ]
    }
   ],
   "source": [
    "a = [1, 2, 3]\n",
    "b = a[:]\n",
    "print (b)"
   ]
  },
  {
   "attachments": {},
   "cell_type": "markdown",
   "metadata": {},
   "source": [
    "Lists and for loops"
   ]
  },
  {
   "cell_type": "code",
   "execution_count": 23,
   "metadata": {},
   "outputs": [
    {
     "name": "stdout",
     "output_type": "stream",
     "text": [
      "0\n",
      "1\n",
      "2\n",
      "3\n",
      "4\n",
      "0 banana\n",
      "1 apple\n",
      "2 pear\n",
      "3 quince\n"
     ]
    }
   ],
   "source": [
    "# for fruit in [\"banana\", \"apple\", \"quince\"]:\n",
    "#     print (\"I like to eat \" + fruit + \"s!\")\n",
    "\n",
    "# for number in range(20):\n",
    "#     if number % 3 == 0:\n",
    "#         print  (number)\n",
    "\n",
    "# numbers = [1, 2, 3, 4, 5]\n",
    "# for index in range(len(numbers)):\n",
    "#     numbers[index] = numbers[index]**2\n",
    "#     print (index)\n",
    "\n",
    "# Using enumerate\n",
    "\n",
    "for index, value in enumerate(['banana', 'apple', 'pear', 'quince']):\n",
    "   print (index, value)"
   ]
  },
  {
   "attachments": {},
   "cell_type": "markdown",
   "metadata": {},
   "source": [
    "# 0x0A. Python - Inheritance **\n",
    "\n",
    "https://intranet.alxswe.com/projects/254\n",
    "\n",
    "**Resources**\n",
    "\n",
    "- [Inheritance](https://intranet.alxswe.com/rltoken/ct-bhZHBxfE-aHYQoAcscQ)\n",
    "- [Multiple inheritance](https://intranet.alxswe.com/rltoken/qq52YyYhDIbKBneA-u0PKw)\n",
    "- [Inheritance in Python](https://intranet.alxswe.com/rltoken/RJVbH9PvRlwDkBxcTloVOQ)\n",
    "- [Learn to Program 10 : Inheritance Magic Methods](https://intranet.alxswe.com/rltoken/CFBGj9h1gP3eNLnEm2Ehhg)\n",
    "\n",
    "**Objectives**\n",
    "- What is a superclass, baseclass or parentclass\n",
    "- What is a subclass\n",
    "- How to list all attributes and methods of a class or instance\n",
    "- When can an instance have new attributes\n",
    "- How to inherit class from another\n",
    "- How to define a class with multiple base classes\n",
    "- What is the default class every class inherit from\n",
    "- How to override a method or attribute inherited from the base class\n",
    "- Which attributes or methods are available by heritage to subclasses\n",
    "- What is the purpose of inheritance\n",
    "- What are, when and how to use `isinstance`, `issubclass`, `type` and `super` built-in functions"
   ]
  },
  {
   "attachments": {},
   "cell_type": "markdown",
   "metadata": {},
   "source": [
    "# 254 0x0A. Python - Inheritance\n",
    "\n",
    "t is a mechanism that allows you to create a hierarchy of classes that share a set of properties and methods by deriving a class from another class. Inheritance is the capability of one class to derive or inherit the properties from another class. "
   ]
  },
  {
   "attachments": {},
   "cell_type": "markdown",
   "metadata": {},
   "source": [
    "Single Inheritance: Example 1\n",
    "\n",
    "When a child class inherits from only one parent class, it is called single inheritance. We saw an example above\n"
   ]
  },
  {
   "cell_type": "code",
   "execution_count": 33,
   "metadata": {},
   "outputs": [
    {
     "name": "stdout",
     "output_type": "stream",
     "text": [
      "Satyam DTM102\n",
      "Mayank DTM104\n",
      "Emp class called\n"
     ]
    }
   ],
   "source": [
    "# Creating a Parent Class\n",
    "# A Python program to demonstrate inheritance\n",
    "\n",
    "class Person(object):\n",
    "\n",
    "  # Constructor\n",
    "  def __init__(self, name, id):\n",
    "    self.name = name\n",
    "    self.id = id\n",
    "\n",
    "  # To check if this person is an employee\n",
    "  def Display(self):\n",
    "    print(self.name, self.id)\n",
    "\n",
    "\n",
    "# Driver code\n",
    "emp = Person(\"Satyam\", \"DTM102\") # An Object of Person\n",
    "emp.Display()\n",
    "\n",
    "\n",
    "# Creating a Child Class\n",
    "\n",
    "class Emp(Person):\n",
    "  def Print(self):\n",
    "    print (\"Emp class called\")\n",
    "Emp_details = Emp (\"Mayank\", \"DTM104\")\n",
    "\n",
    "# calling parent class function\n",
    "Emp_details.Display()\n",
    "\n",
    "# Calling child class function\n",
    "Emp_details.Print()\n"
   ]
  },
  {
   "attachments": {},
   "cell_type": "markdown",
   "metadata": {},
   "source": [
    "Single Inheritance: Example 2"
   ]
  },
  {
   "cell_type": "code",
   "execution_count": 35,
   "metadata": {},
   "outputs": [
    {
     "name": "stdout",
     "output_type": "stream",
     "text": [
      "Tosin False\n",
      "Assad True\n"
     ]
    }
   ],
   "source": [
    "# A Python program to demonstrate inheritance\n",
    "\n",
    "# Base or Super class. Note object in bracket.\n",
    "# (Generally, object is made ancestor of all classes)\n",
    "# In Python 3.x \"class Person\" is\n",
    "# equivalent to \"class Person(object)\"\n",
    "\n",
    "\n",
    "class Person(object):\n",
    "\n",
    "\t# Constructor\n",
    "\tdef __init__(self, name):\n",
    "\t\tself.name = name\n",
    "\n",
    "\t# To get name\n",
    "\tdef getName(self):\n",
    "\t\treturn self.name\n",
    "\n",
    "\t# To check if this person is an employee\n",
    "\tdef isEmployee(self):\n",
    "\t\treturn False\n",
    "\n",
    "\n",
    "# Inherited or Subclass (Note Person in bracket)\n",
    "class Employee(Person):\n",
    "\t# Here we return true\n",
    "\tdef isEmployee(self):\n",
    "\t\treturn True\n",
    "\n",
    "\n",
    "# Driver code\n",
    "emp = Person(\"Tosin\") # An Object of Person\n",
    "print(emp.getName(), emp.isEmployee())\n",
    "\n",
    "emp = Employee(\"Assad\") # An Object of Employee\n",
    "print(emp.getName(), emp.isEmployee())\n"
   ]
  },
  {
   "attachments": {},
   "cell_type": "markdown",
   "metadata": {},
   "source": [
    "Multiple inheritances: \n",
    "\n",
    "When a child class inherits from multiple parent classes, it is called multiple inheritances. "
   ]
  },
  {
   "cell_type": "code",
   "execution_count": 39,
   "metadata": {},
   "outputs": [
    {
     "name": "stdout",
     "output_type": "stream",
     "text": [
      "Base1\n",
      "Base2\n",
      "Derived\n",
      "Geek1 Geek2\n"
     ]
    }
   ],
   "source": [
    "# Python example to show the working of multiple\n",
    "# inheritance\n",
    "\n",
    "\n",
    "class Base1(object):\n",
    "\tdef __init__(self):\n",
    "\t\tself.str1 = \"Geek1\"\n",
    "\t\tprint(\"Base1\")\n",
    "\n",
    "\n",
    "class Base2(object):\n",
    "\tdef __init__(self):\n",
    "\t\tself.str2 = \"Geek2\"\n",
    "\t\tprint(\"Base2\")\n",
    "\n",
    "\n",
    "class Derived(Base1, Base2):\n",
    "\tdef __init__(self):\n",
    "\n",
    "\t\t# Calling constructors of Base1\n",
    "\t\t# and Base2 classes\n",
    "\t\tBase1.__init__(self)\n",
    "\t\tBase2.__init__(self)\n",
    "\t\tprint(\"Derived\")\n",
    "\n",
    "\tdef printStrs(self):\n",
    "\t\tprint(self.str1, self.str2)\n",
    "\n",
    "\n",
    "ob = Derived()\n",
    "ob.printStrs()\n"
   ]
  },
  {
   "attachments": {},
   "cell_type": "markdown",
   "metadata": {},
   "source": [
    "Multilevel inheritance: \n",
    "\n",
    "When we have a child and grandchild relationship. "
   ]
  },
  {
   "cell_type": "code",
   "execution_count": 38,
   "metadata": {},
   "outputs": [
    {
     "name": "stdout",
     "output_type": "stream",
     "text": [
      "Geek1 23 Noida\n"
     ]
    },
    {
     "data": {
      "text/plain": [
       "'Noida'"
      ]
     },
     "execution_count": 38,
     "metadata": {},
     "output_type": "execute_result"
    }
   ],
   "source": [
    "# A Python program to demonstrate inheritance\n",
    "\n",
    "# Base or Super class. Note object in bracket.\n",
    "# (Generally, object is made ancestor of all classes)\n",
    "# In Python 3.x \"class Person\" is\n",
    "# equivalent to \"class Person(object)\"\n",
    "\n",
    "\n",
    "class Base(object):\n",
    "\n",
    "\t# Constructor\n",
    "\tdef __init__(self, name):\n",
    "\t\tself.name = name\n",
    "\n",
    "\t# To get name\n",
    "\tdef getName(self):\n",
    "\t\treturn self.name\n",
    "\n",
    "\n",
    "# Inherited or Sub class (Note Person in bracket)\n",
    "class Child(Base):\n",
    "\n",
    "\t# Constructor\n",
    "\tdef __init__(self, name, age):\n",
    "\t\tBase.__init__(self, name)\n",
    "\t\tself.age = age\n",
    "\n",
    "\t# To get name\n",
    "\tdef getAge(self):\n",
    "\t\treturn self.age\n",
    "\n",
    "# Inherited or Sub class (Note Person in bracket)\n",
    "\n",
    "\n",
    "class GrandChild(Child):\n",
    "\n",
    "\t# Constructor\n",
    "\tdef __init__(self, name, age, address):\n",
    "\t\tChild.__init__(self, name, age)\n",
    "\t\tself.address = address\n",
    "\n",
    "\t# To get address\n",
    "\tdef getAddress(self):\n",
    "\t\treturn self.address\n",
    "\n",
    "\n",
    "# Driver code\n",
    "g = GrandChild(\"Geek1\", 23, \"Noida\")\n",
    "print(g.getName(), g.getAge(), g.getAddress())\n"
   ]
  },
  {
   "attachments": {},
   "cell_type": "markdown",
   "metadata": {},
   "source": [
    "## Tasks"
   ]
  },
  {
   "attachments": {},
   "cell_type": "markdown",
   "metadata": {},
   "source": [
    "Task 0:\n",
    "\n",
    "Write a function that returns the list of available attributes and methods of an object:\n",
    "\n",
    "Prototype: def lookup(obj):\n",
    "Returns a list object\n",
    "You are not allowed to import any module\n",
    "\n",
    "Hint:  dir() to get a list of all the available attributes and methods of an object."
   ]
  },
  {
   "cell_type": "code",
   "execution_count": 44,
   "metadata": {},
   "outputs": [
    {
     "name": "stdout",
     "output_type": "stream",
     "text": [
      "['__add__', '__class__', '__contains__', '__delattr__', '__dir__', '__doc__', '__eq__', '__format__', '__ge__', '__getattribute__', '__getitem__', '__getnewargs__', '__getstate__', '__gt__', '__hash__', '__init__', '__init_subclass__', '__iter__', '__le__', '__len__', '__lt__', '__mod__', '__mul__', '__ne__', '__new__', '__reduce__', '__reduce_ex__', '__repr__', '__rmod__', '__rmul__', '__setattr__', '__sizeof__', '__str__', '__subclasshook__', 'capitalize', 'casefold', 'center', 'count', 'encode', 'endswith', 'expandtabs', 'find', 'format', 'format_map', 'index', 'isalnum', 'isalpha', 'isascii', 'isdecimal', 'isdigit', 'isidentifier', 'islower', 'isnumeric', 'isprintable', 'isspace', 'istitle', 'isupper', 'join', 'ljust', 'lower', 'lstrip', 'maketrans', 'partition', 'removeprefix', 'removesuffix', 'replace', 'rfind', 'rindex', 'rjust', 'rpartition', 'rsplit', 'rstrip', 'split', 'splitlines', 'startswith', 'strip', 'swapcase', 'title', 'translate', 'upper', 'zfill']\n"
     ]
    }
   ],
   "source": [
    "def lookup(obj):\n",
    "    \"\"\"returns a list of available attributes and methods of an object\"\"\"\n",
    "    return dir(obj)\n",
    "\n",
    "tlist = [1,2,3]\n",
    "# lookup(tlist)\n",
    "\n",
    "strto = \"hi\"\n",
    "print(lookup(strto)) "
   ]
  },
  {
   "attachments": {},
   "cell_type": "markdown",
   "metadata": {},
   "source": [
    "Task 1:\n",
    "\n",
    "Write a class `MyList` that inherits from `list`:\n",
    "\n",
    "- Public instance method: `def print_sorted(self):` that prints the list, but sorted (ascending sort)\n",
    "- You can assume that all the elements of the list will be of type `int`\n",
    "- You are not allowed to import any module"
   ]
  },
  {
   "cell_type": "code",
   "execution_count": 63,
   "metadata": {},
   "outputs": [],
   "source": [
    "class MyList(list):\n",
    "    def __init__(self):\n",
    "        super().__init__()\n",
    "    \n",
    "    def print_sorted(self):\n",
    "        sorted_list = sorted(self)\n",
    "        print(sorted_list)\n",
    "\n",
    "\n",
    "\n",
    "# tlist.append(1)\n",
    "# print(tlist)\n",
    "\n",
    "# my_list = MyList([3, 1, 4, 1, 5, 9, 2, 6, 5, 3, 5])\n",
    "# my_list.print_sorted()  # prints [1, 1, 2, 3, 3, 4, 5, 5, 5, 6, 9]\n"
   ]
  },
  {
   "attachments": {},
   "cell_type": "markdown",
   "metadata": {},
   "source": [
    "Task 7\n",
    "\n",
    "Write a class `BaseGeometry` (based on `6-base_geometry.py`).\n",
    "\n",
    "- Public instance method: `def area(self):` that raises an `Exception` with the message `area() is not implemented`\n",
    "- Public instance method: `def integer_validator(self, name, value):` that validates `value`:\n",
    "    - you can assume `name` is always a string\n",
    "    - if `value` is not an integer: raise a `TypeError` exception, with the message `<name> must be an integer`\n",
    "    - if `value` is less or equal to 0: raise a `ValueError` exception with the message `<name> must be greater than 0`\n",
    "- You are not allowed to import any module"
   ]
  },
  {
   "attachments": {},
   "cell_type": "markdown",
   "metadata": {},
   "source": [
    "Task 8\n",
    "\n",
    "Write a class `Rectangle` that inherits from `BaseGeometry` (`7-base_geometry.py`).\n",
    "\n",
    "- Instantiation with `width` and `height`: `def __init__(self, width, height):`\n",
    "    - `width` and `height` must be private. No getter or setter\n",
    "    - `width` and `height` must be positive integers, validated by `integer_validator`"
   ]
  },
  {
   "attachments": {},
   "cell_type": "markdown",
   "metadata": {},
   "source": [
    "Task 9:\n",
    "\n",
    "Write a class `Rectangle` that inherits from `BaseGeometry` (`7-base_geometry.py`). (task based on `8-rectangle.py`)\n",
    "\n",
    "- Instantiation with `width` and `height`: `def __init__(self, width, height):`:\n",
    "    - `width` and `height` must be private. No getter or setter\n",
    "    - `width` and `height` must be positive integers validated by `integer_validator`\n",
    "- the `area()` method must be implemented\n",
    "- `print()` should print, and `str()` should return, the following rectangle description: `[Rectangle] <width>/<height>`"
   ]
  }
 ],
 "metadata": {
  "kernelspec": {
   "display_name": "Python 3",
   "language": "python",
   "name": "python3"
  },
  "language_info": {
   "codemirror_mode": {
    "name": "ipython",
    "version": 3
   },
   "file_extension": ".py",
   "mimetype": "text/x-python",
   "name": "python",
   "nbconvert_exporter": "python",
   "pygments_lexer": "ipython3",
   "version": "3.11.1"
  },
  "orig_nbformat": 4,
  "vscode": {
   "interpreter": {
    "hash": "d8b3b4e871d7619eccb36f657c81b8358b8c67e5d821a2a1d625fcc2f39d1588"
   }
  }
 },
 "nbformat": 4,
 "nbformat_minor": 2
}

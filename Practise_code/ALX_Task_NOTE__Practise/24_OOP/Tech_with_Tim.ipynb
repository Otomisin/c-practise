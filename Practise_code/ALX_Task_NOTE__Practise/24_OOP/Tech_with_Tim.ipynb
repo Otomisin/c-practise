{
 "cells": [
  {
   "cell_type": "code",
   "execution_count": 2,
   "metadata": {},
   "outputs": [
    {
     "name": "stdout",
     "output_type": "stream",
     "text": [
      "23\n"
     ]
    }
   ],
   "source": [
    "class Students:\n",
    "    def __init__(self, name, age, grade):\n",
    "        self.name = name\n",
    "        self.age = age \n",
    "        self.grade = grade\n",
    "# Create an instance of the student\n",
    "student = Students(\"Bola\", 23, 2.5)\n",
    "print(student.age)"
   ]
  },
  {
   "cell_type": "code",
   "execution_count": 12,
   "metadata": {},
   "outputs": [
    {
     "name": "stdout",
     "output_type": "stream",
     "text": [
      "<class '__main__.Book'>\n",
      "The first book on the shelf is by Harper Lee and it was published in 2012\n",
      "Title: To Kill a Mockingbird\n"
     ]
    }
   ],
   "source": [
    "class Book: \n",
    "    def __init__(self, title, author, published_year):\n",
    "        self.title = title\n",
    "        self.author = author\n",
    "        self.published_year = published_year\n",
    "    \n",
    "    def introduce(self):\n",
    "        print(\"Title:\", self.title)\n",
    "\n",
    "# Creating an objet of the book class\n",
    "mockingbird  = Book(\"To Kill a Mockingbird\", \"Harper Lee\", 2012)\n",
    "\n",
    "print(type(book1))\n",
    "print(\"The first book on the shelf is by\", mockingbird.author, \"and it was published in\", mockingbird.published_year)\n",
    "book1.introduce()\n",
    "\n"
   ]
  },
  {
   "cell_type": "code",
   "execution_count": 15,
   "metadata": {},
   "outputs": [
    {
     "name": "stdout",
     "output_type": "stream",
     "text": [
      "5\n"
     ]
    }
   ],
   "source": [
    "# Construct a Rectangle class with instance attributes width and height. Instantiate the Rectangle class with a width of 10 units and a height of 5 units.\n",
    "class Rectangle:\n",
    "    def __init__(self, width, height):\n",
    "        self.width = width\n",
    "        self.height = height\n",
    "\n",
    "rectangle = Rectangle(10, 5)\n",
    "print(rectangle.height)"
   ]
  },
  {
   "cell_type": "code",
   "execution_count": 18,
   "metadata": {},
   "outputs": [
    {
     "name": "stdout",
     "output_type": "stream",
     "text": [
      "Mr John Joe has an account with Zenith Bank and his account number is 123456 wiht an account number:  123456\n"
     ]
    }
   ],
   "source": [
    "# Create a BankAccount class with instance attributes account_number, account_holder, and balance. Make an instance of the BankAccount class for an account with the number 123456, held by \"John Doe\", and having a balance of $1000.\n",
    "\n",
    "class BankAccount:\n",
    "    def __init__(self, account_number, account_holder, balance):\n",
    "        self.accountNumber = account_number # int\n",
    "        self.accountHolder = account_holder\n",
    "        self.balance = balance\n",
    "  \n",
    "bankAccont_TO = BankAccount(123456, \"John Joe\", 23000)\n",
    "print(\"Mr\", bankAccont_TO.accountHolder, \"has an account with Zenith Bank and his account number is\",bankAccont_TO.accountNumber, \"wiht an account number: \", bankAccont_TO.accountNumber)"
   ]
  },
  {
   "cell_type": "code",
   "execution_count": 21,
   "metadata": {},
   "outputs": [
    {
     "name": "stdout",
     "output_type": "stream",
     "text": [
      "<class '__main__.Bus'>\n",
      "True\n"
     ]
    }
   ],
   "source": [
    "class Vehicle:\n",
    "  def __init__(self, name, mileage, capacity):\n",
    "    self.name = name\n",
    "    self.mileage = mileage\n",
    "    self.capacity = capacity\n",
    "\n",
    "class Bus(Vehicle):\n",
    "  pass\n",
    "\n",
    "School_bus = Bus(\"School Volvo\", 12, 50)\n",
    "\n",
    "# Determine the class of School_bus\n",
    "print(type(School_bus))\n",
    "\n",
    "# Determine if School Bus is an instance of the class of School_bus\n",
    "print(isinstance(School_bus, Vehicle))"
   ]
  },
  {
   "cell_type": "code",
   "execution_count": 30,
   "metadata": {},
   "outputs": [
    {
     "name": "stdout",
     "output_type": "stream",
     "text": [
      "{'name': 'Volvo', 'max_speed': 230, 'mileage': 23}\n",
      "white\n",
      "white\n",
      "white Molue Speed: 200 Mileage: 12\n",
      "white Deawo Speed: 548 Mileage: 679\n"
     ]
    }
   ],
   "source": [
    "# OOP Exercise 5: Define a property that must have the same value for every class instance (object) Define a class attribute”color” with a default value white. I.e., Every Vehicle should be white\n",
    "\n",
    "class Vehicle:\n",
    "    \n",
    "    color = \"white\"  # Class attribute for color\n",
    "    \n",
    "    def __init__(self, name, max_speed, mileage):\n",
    "        self.name = name\n",
    "        self.max_speed = max_speed\n",
    "        self.mileage = mileage\n",
    "\n",
    "class Bus(Vehicle):\n",
    "    pass\n",
    "\n",
    "class Car(Vehicle):\n",
    "    pass\n",
    "\n",
    "vehicleA = Vehicle(\"Volvo\", 230, 23)\n",
    "print (vehicleA.__dict__)\n",
    "vehicleA.color\n",
    "\n",
    "# Creating instances of the classes\n",
    "bus_instance = Bus(\"Molue\", \"200\", \"12\")\n",
    "car_instance = Car(\"Deawo\", \"548\", \"679\")\n",
    "\n",
    "# Access the class attributes\n",
    "print(bus_instance.color)\n",
    "print(car_instance.color)\n",
    "\n",
    "print(bus_instance.color, bus_instance.name, \"Speed:\", bus_instance.max_speed, \"Mileage:\", bus_instance.mileage)\n",
    "print(car_instance.color, car_instance.name, \"Speed:\", car_instance.max_speed, \"Mileage:\", car_instance.mileage)"
   ]
  },
  {
   "cell_type": "code",
   "execution_count": 35,
   "metadata": {},
   "outputs": [
    {
     "name": "stdout",
     "output_type": "stream",
     "text": [
      "The color is Blue and it has 4 wheels\n"
     ]
    }
   ],
   "source": [
    "class Vehicle:\n",
    "    def __init__(self):\n",
    "        self.wheels = 4\n",
    "        self.color = \"Blue\"\n",
    "\n",
    "\n",
    "vehicle_instance = Vehicle()\n",
    "vehicle_instance.wheels\n",
    "vehicle_instance.color\n",
    "\n",
    "print(\"The color is\", vehicle_instance.color, \"and it has\", vehicle_instance.wheels, \"wheels\")"
   ]
  },
  {
   "cell_type": "code",
   "execution_count": 37,
   "metadata": {},
   "outputs": [
    {
     "name": "stdout",
     "output_type": "stream",
     "text": [
      "Total Bus fare is: 5001.0\n"
     ]
    }
   ],
   "source": [
    "class Vehicle:\n",
    "  def __init__(self, name, mileage, capacity):\n",
    "    self.name = name\n",
    "    self.mileage = mileage\n",
    "    self.capacity = capacity\n",
    "\n",
    "def fare(self):\n",
    "  return self.capacity * 100\n",
    "\n",
    "class Bus(Vehicle):\n",
    "  def fare(self):\n",
    "    return self.capacity * 100 + (0.01 * 100)\n",
    "\n",
    "School_bus = Bus(\"School Volvo\", 12, 50)\n",
    "print(\"Total Bus fare is:\", School_bus.fare())\n",
    "\n"
   ]
  },
  {
   "cell_type": "code",
   "execution_count": 42,
   "metadata": {},
   "outputs": [
    {
     "name": "stdout",
     "output_type": "stream",
     "text": [
      "Total Bus fare is: 5500.0\n"
     ]
    }
   ],
   "source": [
    "class Vehicle:\n",
    "    def __init__(self, name, mileage, capacity):\n",
    "        self.name = name\n",
    "        self.mileage = mileage\n",
    "        self.capacity = capacity\n",
    "\n",
    "    def fare(self):\n",
    "        return self.capacity * 100\n",
    "\n",
    "class Bus(Vehicle):\n",
    "    def fare(self):\n",
    "        amount = super().fare()\n",
    "        amount += amount * 10 / 100\n",
    "        return amount\n",
    "\n",
    "# Correct indentation for the following lines\n",
    "School_bus = Bus(\"School Volvo\", 12, 50)\n",
    "print(\"Total Bus fare is:\", School_bus.fare())\n"
   ]
  },
  {
   "cell_type": "code",
   "execution_count": 44,
   "metadata": {},
   "outputs": [
    {
     "data": {
      "text/plain": [
       "750"
      ]
     },
     "execution_count": 44,
     "metadata": {},
     "output_type": "execute_result"
    }
   ],
   "source": [
    "class Album:\n",
    "    def __init__(self, tittle, artist, duration, price):\n",
    "        self.tittle = tittle\n",
    "        self.artist = artist\n",
    "        self.duration = duration\n",
    "        self.price = price\n",
    "\n",
    "    def TotalPrice(self):\n",
    "        return self.duration * self.price\n",
    "    \n",
    "class StarSongs(Album):\n",
    "    def price(self):\n",
    "        price = super().TotalPrice()\n",
    "        price += price * 10/100\n",
    "        return price\n",
    "Bunaboy = StarSongs(\"African Giant\", \"Burna Boy\", 15, 50)\n",
    "Bunaboy.TotalPrice()    "
   ]
  },
  {
   "cell_type": "code",
   "execution_count": 88,
   "metadata": {},
   "outputs": [
    {
     "name": "stdout",
     "output_type": "stream",
     "text": [
      "Hi, I am Tosin and the name of my song is Shape of You\n"
     ]
    }
   ],
   "source": [
    "class Song:\n",
    "    def __init__(self, title, artist, duration):\n",
    "        self.title = title\n",
    "        self.artist = artist\n",
    "        self.duration = duration\n",
    "    \n",
    "    def introduce(self):\n",
    "        print(\"Hi, I am\", self.artist, \"and the name of my song is\", self.title)\n",
    "        \n",
    "\n",
    "# Creating an instance of the Song class\n",
    "shape_of_you = Song(\"Shape of You\", \"Ed Sheeran\", \"3:54\")\n",
    "shape_of_you.artist = \"Tosin\"\n",
    "\n",
    "shape_of_you.introduce()"
   ]
  },
  {
   "cell_type": "code",
   "execution_count": 58,
   "metadata": {},
   "outputs": [
    {
     "name": "stdout",
     "output_type": "stream",
     "text": [
      "The area of the circle is: 1661.060000\n"
     ]
    }
   ],
   "source": [
    "class Circle:\n",
    "    def __init__(self, radius):\n",
    "        self.radius = radius\n",
    "\n",
    "    def claculateArea(self):\n",
    "        Area =  3.14 * (self.radius **2)\n",
    "        return Area\n",
    "    \n",
    "\n",
    "cirlce_object = Circle(23)\n",
    "area = cirlce_object.claculateArea()\n",
    "\n",
    "print(f\"The area of the circle is: {area:1f}\")\n"
   ]
  },
  {
   "cell_type": "code",
   "execution_count": 74,
   "metadata": {},
   "outputs": [
    {
     "name": "stdout",
     "output_type": "stream",
     "text": [
      "The book Harry Potter and the Sorcerer's Stone was written by J.K. Rowling \n",
      " The was published in 2020\n"
     ]
    },
    {
     "data": {
      "text/plain": [
       "\"Title: Harry Potter and the Sorcerer's Stone\\nAuthor: J.K. Rowling\\nPublished Year: 2020\""
      ]
     },
     "execution_count": 74,
     "metadata": {},
     "output_type": "execute_result"
    }
   ],
   "source": [
    "class Books:\n",
    "    def __init__(self, title, author, published_year):\n",
    "        self.title = title  # string\n",
    "        self.author = author\n",
    "        self.published = published_year\n",
    "\n",
    "    def get_info(self):\n",
    "        print(\"The book\", self.title, \"was written by\", self.author,\"\\n\",\"The was published in\", \n",
    "              self.published)\n",
    "\n",
    "harry_book = Books(\"Harry Potter and the Sorcerer's Stone\", \"J.K. Rowling\", 2020)\n",
    "\n",
    "harry_book.get_info()"
   ]
  },
  {
   "cell_type": "code",
   "execution_count": 82,
   "metadata": {},
   "outputs": [
    {
     "name": "stdout",
     "output_type": "stream",
     "text": [
      "Area: 52 \n",
      "\n",
      "Perimeter 693\n"
     ]
    }
   ],
   "source": [
    "class Rectangle:\n",
    "    def __init__(self, width, height):\n",
    "        self.width = width\n",
    "        self.height = height\n",
    "    def calculate_area(self):\n",
    "        return (self.width * 2) + ((self.height -1)*4 )\n",
    "    \n",
    "    def calculate_perimeter(self):\n",
    "        return (((self.width*3)+(self.height-1))*(5+6))\n",
    "    \n",
    "rec_instance = Rectangle(20, 4)\n",
    "\n",
    "print(\"Area:\", rec_instance.calculate_area(), \"\\n\")\n",
    "print(\"Perimeter\", rec_instance.calculate_perimeter())\n"
   ]
  },
  {
   "cell_type": "code",
   "execution_count": 86,
   "metadata": {},
   "outputs": [
    {
     "name": "stdout",
     "output_type": "stream",
     "text": [
      "Bingo is barking: Woof woof!\n"
     ]
    }
   ],
   "source": [
    "class Dog:\n",
    "    def __init__(self, name, breed):\n",
    "        self.name = name # instance variable\n",
    "        self.breed = breed\n",
    "\n",
    "    def bark(self):\n",
    "       print(f\"{self.name} is barking: Woof woof!\")\n",
    "\n",
    "dog_inst = Dog(\"Bingo\",\"Golden Retriever\")\n",
    "dog_inst.bark()"
   ]
  },
  {
   "cell_type": "code",
   "execution_count": 92,
   "metadata": {},
   "outputs": [
    {
     "data": {
      "text/plain": [
       "23"
      ]
     },
     "execution_count": 92,
     "metadata": {},
     "output_type": "execute_result"
    }
   ],
   "source": [
    "class Person:\n",
    "    def __init__(self, name, age, address):\n",
    "        self.name = name\n",
    "        self._age = age\n",
    "        self.__address = address\n",
    "\n",
    "    def get_age(self):\n",
    "        return self._age\n",
    "    \n",
    "    def set_age(self, age):\n",
    "        self._age = age\n",
    "\n",
    "# Creating an instance of the Person class\n",
    "alice = Person(\"Alice\", 25, \"123 Main St\")\n",
    "alice.age = 23\n",
    "alice.age\n",
    "\n",
    "# Accessing and updating the protected attribute\n",
    "# alice.set_age(26)\n",
    "# print(f\"Updated age: {alice.get_age()}\")\n",
    "\n",
    "# # Accessing the private attribute (note: name mangling is used for private attributes)\n",
    "# print(f\"Address: {alice._Person__address}\")"
   ]
  },
  {
   "cell_type": "code",
   "execution_count": 94,
   "metadata": {},
   "outputs": [
    {
     "name": "stdout",
     "output_type": "stream",
     "text": [
      "42\n"
     ]
    }
   ],
   "source": [
    "class MyClass:\n",
    "    def __init__(self):\n",
    "        self.__private_var = 42  # This is a private attribute\n",
    "\n",
    "obj = MyClass()\n",
    "# Accessing a private attribute directly (not recommended, but possible using name mangling)\n",
    "print(obj._MyClass__private_var)\n"
   ]
  },
  {
   "cell_type": "code",
   "execution_count": 95,
   "metadata": {},
   "outputs": [
    {
     "name": "stdout",
     "output_type": "stream",
     "text": [
      "Alice, 30 years old\n",
      "Person('Alice', 30)\n"
     ]
    }
   ],
   "source": [
    "class Person:\n",
    "    def __init__(self, name, age):\n",
    "        self.name = name\n",
    "        self.age = age\n",
    "    \n",
    "    def __str__(self):\n",
    "        return f\"{self.name}, {self.age} years old\"\n",
    "    \n",
    "    def __repr__(self):\n",
    "        return f\"Person('{self.name}', {self.age})\"\n",
    "    \n",
    "p = Person(\"Alice\", 30)\n",
    "print(str(p))  # Outputs: Alice, 30 years old\n",
    "print(repr(p))  # Outputs: Person('Alice', 30)\n"
   ]
  },
  {
   "cell_type": "code",
   "execution_count": 104,
   "metadata": {},
   "outputs": [
    {
     "name": "stdout",
     "output_type": "stream",
     "text": [
      "None\n",
      "Employer\n"
     ]
    }
   ],
   "source": [
    "class Employee:\n",
    "    raise_factor = 1.05\n",
    "\n",
    "    def __init__(self, pay):\n",
    "        self.pay = pay\n",
    "\n",
    "    @classmethod\n",
    "    def set_raise_factor(cls, factor):\n",
    "        cls.raise_factor = factor\n",
    "\n",
    "IOM = Employee(2)\n",
    "IOM.set_raise_factor(3)\n",
    "\n",
    "print(IOM.set_raise_factor(2))\n",
    "\n",
    "IOM.new_obj = \"Employer\"\n",
    "print(IOM.new_obj)"
   ]
  },
  {
   "cell_type": "code",
   "execution_count": 106,
   "metadata": {},
   "outputs": [
    {
     "name": "stdout",
     "output_type": "stream",
     "text": [
      "{'_MyClass__private_var': 42, 'x': 10}\n",
      "{'__module__': '__main__', '__init__': <function MyClass.__init__ at 0x000002B664AE80E0>, '__dict__': <attribute '__dict__' of 'MyClass' objects>, '__weakref__': <attribute '__weakref__' of 'MyClass' objects>, '__doc__': None}\n"
     ]
    }
   ],
   "source": [
    "obj = MyClass()\n",
    "obj.x = 10\n",
    "print(obj.__dict__)  # Outputs: {'x': 10}\n",
    "print(MyClass.__dict__) # Outputs a dictionary containing the class's attributes, methods, etc."
   ]
  },
  {
   "cell_type": "code",
   "execution_count": 107,
   "metadata": {},
   "outputs": [
    {
     "name": "stdout",
     "output_type": "stream",
     "text": [
      "Reversed: racecar\n",
      "Is Palindrome: True\n",
      "Is Palindrome: False\n"
     ]
    }
   ],
   "source": [
    "class StringUtils:\n",
    "    @staticmethod\n",
    "    def reverse_string(input_str):\n",
    "        return input_str[::-1]\n",
    "\n",
    "    @staticmethod\n",
    "    def is_palindrome(input_str):\n",
    "        cleaned_str = input_str.replace(\" \", \"\").lower()\n",
    "        return cleaned_str == cleaned_str[::-1]\n",
    "\n",
    "# Example usage\n",
    "text = \"racecar\"\n",
    "reversed_text = StringUtils.reverse_string(text)\n",
    "print(\"Reversed:\", reversed_text)  # Output: \"recaecar\"\n",
    "\n",
    "is_palindrome = StringUtils.is_palindrome(text)\n",
    "print(\"Is Palindrome:\", is_palindrome)  # Output: True\n",
    "\n",
    "non_palindrome = \"hello\"\n",
    "is_palindrome = StringUtils.is_palindrome(non_palindrome)\n",
    "print(\"Is Palindrome:\", is_palindrome)  # Output: False\n"
   ]
  }
 ],
 "metadata": {
  "kernelspec": {
   "display_name": "Python 3",
   "language": "python",
   "name": "python3"
  },
  "language_info": {
   "codemirror_mode": {
    "name": "ipython",
    "version": 3
   },
   "file_extension": ".py",
   "mimetype": "text/x-python",
   "name": "python",
   "nbconvert_exporter": "python",
   "pygments_lexer": "ipython3",
   "version": "3.11.3"
  },
  "orig_nbformat": 4,
  "vscode": {
   "interpreter": {
    "hash": "8f60924c770a5b78a3c055fbf437a768b94cadb0da39d7de8584be4d1611e218"
   }
  }
 },
 "nbformat": 4,
 "nbformat_minor": 2
}

{
 "cells": [
  {
   "attachments": {},
   "cell_type": "markdown",
   "metadata": {},
   "source": [
    "# 0x12. JavaScript - Warm up\n",
    "\n",
    "**Objectives**\n",
    "\n",
    "- Why JavaScript programming is amazing\n",
    "- How to run a JavaScript script\n",
    "- How to create variables and constants\n",
    "- What are differences between `var`, `const` and `let`\n",
    "- What are all the data types available in JavaScript\n",
    "- How to use the `if`, `if ... else` statements\n",
    "- How to use comments\n",
    "- How to affect values to variables\n",
    "- How to use `while` and `for` loops\n",
    "- How to use `break` and `continue` statements\n",
    "- What is a function and how do you use functions\n",
    "- What does a function that does not use any `return` statement return\n",
    "- Scope of variables\n",
    "- What are the arithmetic operators and how to use them\n",
    "- How to manipulate dictionary\n",
    "- How to import a file\n",
    "\n",
    "\n",
    "**Resources:**\n",
    "- [Writing JavaScript Code](https://intranet.alxswe.com/rltoken/3HLjEesLsmyWfRUWnxgUGg)\n",
    "- [Variables](https://intranet.alxswe.com/rltoken/zgOWmcpVLZFEmFlmuwayyg)\n",
    "- [Data Types](https://intranet.alxswe.com/rltoken/VPd6JWaLrwOBzjAeXNAEqg)\n",
    "- [Operators](https://intranet.alxswe.com/rltoken/3HLjEesLsmyWfRUWnxgUGg)\n",
    "- [Operator Precedence](https://intranet.alxswe.com/rltoken/PHtcJJk30gBNmlFQ9R4RVg)\n",
    "- [Controlling Program Flow](https://intranet.alxswe.com/rltoken/tsreKcNh_KmTmLPHsfvJRw)\n",
    "- [Functions](https://intranet.alxswe.com/rltoken/e3EfHIxICdIncGBwwIDbXQ)\n",
    "- [Objects and Arrays](https://intranet.alxswe.com/rltoken/jg7IbvJpV2oLIKgqOAQH1g)\n",
    "- [Intrinsic Objects](https://intranet.alxswe.com/rltoken/jg7IbvJpV2oLIKgqOAQH1g)\n",
    "- [Module patterns](https://intranet.alxswe.com/rltoken/g-MgvO09Ur02RhM63gVyXw)\n",
    "- [var, let and const](https://intranet.alxswe.com/rltoken/gJi61GeJTRX0g-M0Rx-0Iw)\n",
    "- [JavaScript Tutorial](https://intranet.alxswe.com/rltoken/Y8hkOcy5jO22lQGyF6_NiA)\n",
    "- [Modern JS](https://intranet.alxswe.com/rltoken/NZawtiBjWUpiojnrtVywNw)\n",
    "\n",
    "**Other Resource**:\n",
    "\n",
    "https://www.linkedin.com/learning/javascript-essential-training/classes-object-blueprints?autoSkip=true&autoplay=true&resume=false&u=99361346"
   ]
  },
  {
   "attachments": {},
   "cell_type": "markdown",
   "metadata": {},
   "source": [
    "### Why JavaScript programming is amazing:\n",
    "JavaScript is an amazing programming language because it can be used for both frontend and backend web development. It is also easy to learn and has a wide range of libraries and frameworks that make development faster and more efficient. Additionally, JavaScript is constantly evolving and improving, with new features being added all the time.\n",
    "\n",
    "### How to run a JavaScript script:\n",
    "There are several ways to run a JavaScript script. One way is to create an HTML file and include the script using a script tag. Another way is to use the Node.js runtime environment to run JavaScript code directly from the command line. You can also use a web browser console to run JavaScript code.\n"
   ]
  },
  {
   "attachments": {},
   "cell_type": "markdown",
   "metadata": {},
   "source": [
    "\n",
    "### How to create variables and constants:\n",
    "To create a variable in JavaScript, you can use the **`var`**, **`let`**, or **`const`** keyword followed by a variable name. For example: [variables](./JavaFiles/Variables.js).\n",
    "\n",
    "```\n",
    "%%javascript # Use in Jupyternote book\n",
    "var myVariable = 'Hello';\n",
    "let myOtherVariable = 'World';\n",
    "const myConstant = 42;\n",
    "\n",
    "```\n",
    "\n",
    "Variables declared with var and let can be reassigned, while variables declared with const cannot be reassigned\n",
    "\n",
    "**What are the differences between var, const, and let:**\n",
    "\n",
    "var is an **older way of declaring variables** in JavaScript and has some quirks related to scoping. let and const were introduced in ES6 and are more commonly used now. let allows you to declare variables that can be reassigned, while const declares variables that cannot be reassigned. Additionally, const variables must be initialized when they are declared.\n",
    "\n",
    "[Variables Examples](./JavaFiles/Variables.js)"
   ]
  },
  {
   "attachments": {},
   "cell_type": "markdown",
   "metadata": {},
   "source": [
    "### **Data types in JavaScript and conversions:**\n",
    "There are several data types available in JavaScript, including strings, numbers, booleans, undefined, null, objects, and symbols. Additionally, arrays and functions are also considered types in JavaScript. \n",
    "\n",
    "JavaScript has 8 Datatypes: \n",
    "- String\n",
    "- Number\n",
    "- Bight\n",
    "- Boolean\n",
    "- Undefined\n",
    "- Null\n",
    "- Symbol\n",
    "- Object\n",
    "  \n",
    "The Object Datatype\n",
    "- An Object\n",
    "- An Array\n",
    "- A date\n",
    "\n",
    "In Javascript, data type conversion is the process of converting a value from one data type to another. There are two types of data type conversions in Javascript: implicit conversion and explicit conversion.\n",
    "\n",
    "[Practical Example](./JavaFiles/JavaDataType.js)\n"
   ]
  },
  {
   "attachments": {},
   "cell_type": "markdown",
   "metadata": {},
   "source": [
    "### LOOPS\n",
    "- How to use the `if`, `if ... else` statements\n",
    "- How to use comments\n",
    "- How to affect values to variables\n",
    "- How to use `while` and `for` loops\n",
    "  - While Syntax \n",
    "    - `while` - loops through a block of code while a specified condition is true\n",
    "    - `do/while` - also loops through a block of code while a specified condition is true\n",
    "  ```\n",
    "  while (condition) {\n",
    "  // code to be executed repeatedly while the condition is true\n",
    "  }\n",
    "   ```\n",
    "   For loop Syntaxt\n",
    "   ```\n",
    "   for (initialization; condition; increment/decrement) {\n",
    "  // code to be executed repeatedly while the condition is true\n",
    "  }\n",
    "   ```\n",
    "\n",
    "- How to use `break` and `continue` statements\n",
    "- What is a function and how do you use functions\n",
    "- What does a function that does not use any `return` statement return-\n",
    "- [Practise file](./JavaFiles/Loops.js)"
   ]
  },
  {
   "attachments": {},
   "cell_type": "markdown",
   "metadata": {},
   "source": [
    "### Arithmetic operators, Dictionary and and how to import files\n",
    "- [Arithmetic Operators](./JavaFiles/ArithmeticOps.js)\n",
    "- [How to manipulate dictionary](./JavaFiles/DictionaryManipulation.js)\n",
    "- How to import a file\n",
    "\n",
    "[Practise file](./JavaFiles/DictionaryManipulation.js)"
   ]
  },
  {
   "attachments": {},
   "cell_type": "markdown",
   "metadata": {},
   "source": [
    "### ?How to import files"
   ]
  },
  {
   "attachments": {},
   "cell_type": "markdown",
   "metadata": {},
   "source": [
    "### OOP in Javascripts\n",
    "- How to create an object in JavaScript\n",
    "- What `this` means\n",
    "- What `undefined` means\n",
    "- Why the variable type and scope is important\n",
    "- What is a closure\n",
    "- What is a prototype\n",
    "- How to inherit an object from another\n",
    "\n",
    "[Practise files](./JavaFiles/OOP.js)"
   ]
  },
  {
   "attachments": {},
   "cell_type": "markdown",
   "metadata": {},
   "source": [
    "### WEB SCRAPING\n",
    "- Why JavaScript programming is amazing\n",
    "- How to manipulate JSON data\n",
    "- How to use `request` and fetch API\n",
    "- How to read and write a file using `fs` module"
   ]
  }
 ],
 "metadata": {
  "kernelspec": {
   "display_name": "Python 3",
   "language": "python",
   "name": "python3"
  },
  "language_info": {
   "codemirror_mode": {
    "name": "ipython",
    "version": 3
   },
   "file_extension": ".py",
   "mimetype": "text/x-python",
   "name": "python",
   "nbconvert_exporter": "python",
   "pygments_lexer": "ipython3",
   "version": "3.10.11"
  },
  "orig_nbformat": 4
 },
 "nbformat": 4,
 "nbformat_minor": 2
}

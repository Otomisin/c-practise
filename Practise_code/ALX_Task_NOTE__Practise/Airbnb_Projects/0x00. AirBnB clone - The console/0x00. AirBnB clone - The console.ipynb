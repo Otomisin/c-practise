{
 "cells": [
  {
   "attachments": {},
   "cell_type": "markdown",
   "metadata": {},
   "source": [
    "\n",
    "Resoruces and Objectives\n",
    "- [cmd module](https://intranet.alxswe.com/rltoken/8ecCwE6veBmm3Nppw4hz5A)\n",
    "- [cmd module in depth](https://intranet.alxswe.com/rltoken/uEy4RftSdKypoig9NFTvCg)\n",
    "- **packages** concept page\n",
    "- [uuid module](https://intranet.alxswe.com/rltoken/KfL9TqwdI69W6ttG6gTPPQ)\n",
    "- [datetime](https://intranet.alxswe.com/rltoken/1d8I3jSKgnYAtA1IZfEDpA)\n",
    "- [unittest module](https://intranet.alxswe.com/rltoken/IlFiMB8UmqBG2CxA0AD3jA)\n",
    "- [args/kwargs](https://intranet.alxswe.com/rltoken/C_a0EKbtvKdMcwIAuSIZng)\n",
    "- [Python test cheatsheet](https://intranet.alxswe.com/rltoken/tgNVrKKzlWgS4dfl3mQklw)\n",
    "- [cmd module wiki page](https://intranet.alxswe.com/rltoken/EvcaH9uTLlauxuw03WnkOQ)\n",
    "- [python unittest](https://intranet.alxswe.com/rltoken/begh14KQA-3ov29KvD_HvA)\n",
    "\n",
    "Objectives ---\n",
    "- [x] How to create a Python package\n",
    "- [x] How to create a command interpreter in Python using the `cmd` module\n",
    "- [x] What is `args` and `*kwargs` and how to use it\n",
    "- [x] What is Unit testing and how to implement it in a large project\n",
    "- [?] How to serialize and deserialize a Class\n",
    "- [x] How to write and read a JSON file\n",
    "- [?] How to manage `datetime`\n",
    "- [x] What is an `UUID`\n",
    "- How to handle named arguments in a function"
   ]
  },
  {
   "attachments": {},
   "cell_type": "markdown",
   "metadata": {},
   "source": [
    "https://docs.python.org/3.8/library/cmd.html\n",
    "\n",
    "  -[Create line-oriented command processors](http://pymotw.com/2/cmd/)"
   ]
  },
  {
   "attachments": {},
   "cell_type": "markdown",
   "metadata": {},
   "source": [
    "##  How to create a Python package\n",
    "\n",
    "\n",
    "#### Step 1: Set up a project directory\n",
    "\n",
    "[my_package](./my_package/my_package/)\n",
    "\n",
    "        ```\n",
    "        my_package/\n",
    "        ├── my_package/\n",
    "        │   ├── __init__.py\n",
    "        │   └── module.py\n",
    "        └── setup.py\n",
    "\n",
    "        ```\n",
    "\n",
    "- The my_package directory contains the package's source code, which is split across two files: __init__.py and module.py.\n",
    "\n",
    "- The **`my_package`** directory contains the package's source code, which is split across two files: **`__init__.py`** and **`module.py`.**\n",
    "\n",
    "- Finally, there's a **`setup.py`** file at the top level of the project directory. This file contains information about your package and will be used to build and distribute your package. Feel free to name the setup.py file as you wish. This file is not name-specific as our __init__.py file is. , but it’s usually best practice to stick with setup.py.\n",
    "\n",
    "#### Step 2: Write the source code for your package\n",
    "\n",
    "We'll create a simple module that defines a function that returns the sum of two numbers.\n",
    "- Create a file called __init__.py in the my_package subdirectory. This file will be executed when your package is imported, so you can use it to set up your package's namespace. \n",
    "- This file imports the add function from a module. We've also defined a __version__ attribute, which you can use to keep track of the version number of your package.\n",
    "- Create a file called module.py in the my_package subdirectory. This file will define the add function.\n",
    "\n",
    "\n",
    "#### Step 3: Create the setup.py file\n",
    "\n",
    "The **`setup.py`** file is used to build and distribute your package. An Example\n",
    "```\n",
    "from setuptools import setup  # Import the setup function from setuptools\n",
    "\n",
    "setup(\n",
    "    name='my_package',  # The name of the package\n",
    "    version='1.0.0',  # The version number of the package\n",
    "    description='A simple Python package',  # A short description of the package\n",
    "    author='Your Name',  # The name of the package's author\n",
    "    author_email='your.email@example.com',  # The email address of the package's author\n",
    "    packages=['my_package'],  # A list of the packages to include in the distribution\n",
    "    install_requires=[],  # A list of any dependencies required by the package\n",
    "    classifiers=[  # A list of classifiers used to categorize the package on PyPI\n",
    "        'Development Status :: 3 - Alpha',  # The current development status of the package\n",
    "        'Intended Audience :: Developers',  # The intended audience of the package\n",
    "        'License :: OSI Approved :: MIT License',  # The type of license under which the package is released\n",
    "        'Programming Language :: Python :: 3',  # The version(s) of Python the package is compatible with\n",
    "        'Programming Language :: Python :: 3.6',\n",
    "        'Programming Language :: Python :: 3.7',\n",
    "        'Programming Language :: Python :: 3.8',\n",
    "        'Programming Language :: Python :: 3.9',\n",
    "    ],\n",
    ")\n",
    "\n",
    "```"
   ]
  },
  {
   "attachments": {},
   "cell_type": "markdown",
   "metadata": {},
   "source": [
    "#### Step 4: Build and distribute your package\n",
    "\n",
    "To build and distribute your package\n",
    "\n",
    "1. Setup and install [`setuptools`] using [ `pip install setuptools`]\n",
    "2. Next, navigate to the top level of your project directory and run the following command to build a distribution package `python setup.py sdist bdist_wheel`. This will create two distribution packages: a source distribution (in a .tar.gz file) and a binary distribution (in a .whl file).\n",
    "3. Finally, if you want to distribute your package on PyPI, you can upload your package using twine. First, install twine by running: `pip install twine`.\n",
    "4. Then, navigate to the directory where your distribution packages are located and run the following command: `twine upload dist/*`. This will upload all the distribution packages in the dist directory to PyPI.\n",
    "5. Now your package is ready to be installed and used by others. To install your package, others can run. \n",
    "\n",
    "To Use the package: \n",
    "\n",
    "1. Now your package is ready to be installed and used by others. To install your package, others can run: `7. pip install my_package`.:`\n",
    "2.  import and use the add function like this:\n",
    "\n",
    "    ```\n",
    "    from my_package import add\n",
    "\n",
    "    result = add(2, 3)\n",
    "    print(result)  # Output: 5\n",
    "    ```\n"
   ]
  },
  {
   "attachments": {},
   "cell_type": "markdown",
   "metadata": {},
   "source": [
    "## How to create a command interpreter in Python using the `cmd` module"
   ]
  },
  {
   "attachments": {},
   "cell_type": "markdown",
   "metadata": {
    "vscode": {
     "languageId": "plaintext"
    }
   },
   "source": [
    "\n",
    "The cmd module in Python provides a simple framework for building command-line interpreters.\n",
    "\n",
    "#### [Example1 from ChatGPT](./cmd_module/cmd_Sample.py)\n",
    "\n",
    "[Example1](file:///Practise_code/Pyhton_practise/28_cmd_Module/cmd_module/cmd_Sample.py)\n",
    "\n",
    "\n",
    "Let's go through this code step by step:\n",
    "\n",
    "1. We start by importing the **`cmd`** module.\n",
    "2. We create a new class called **`MyCmdInterpreter`** that inherits from **`cmd.Cmd`**. This class defines our custom command interpreter.\n",
    "3. We set two class-level variables: **`prompt`** and **`intro`**. **`prompt`** is the text that will be displayed on the command line to indicate that the interpreter is waiting for input. **`intro`** is the text that will be displayed when the interpreter starts up.\n",
    "4. We define two methods: **`do_hello`** and **`do_quit`**. These methods are the commands that the interpreter will recognize. The **`do_`** prefix is required by the **`cmd`** module to recognize these methods as commands. The **`arg`** parameter is a string that contains the arguments passed to the command. In the case of the **`hello`** command, we use this argument to print a personalized greeting. In the case of the **`quit`** command, we print a goodbye message and return **`True`** to indicate that the interpreter should exit.\n",
    "5. Finally, we check if the script is being run as the main program and create an instance of our **`MyCmdInterpreter`** class. We then call the **`cmdloop`** method to start the interpreter.\n",
    "\n",
    "\n",
    "```\n",
    "import cmd\n",
    "\n",
    "# Define a new class that inherits from cmd.Cmd\n",
    "class MyCmdInterpreter(cmd.Cmd):\n",
    "    \n",
    "    # Define the prompt string that will be displayed to the user\n",
    "    prompt = 'MyCmd> '\n",
    "    \n",
    "    # Define the intro string that will be displayed when the interpreter starts up\n",
    "    intro = 'Welcome to MyCmd! Type ? to list commands'\n",
    "\n",
    "    # Define a command to say hello to the user\n",
    "    def do_hello(self, arg):\n",
    "        \"\"\"Say hello to the user\"\"\"\n",
    "        # Print a personalized greeting using the argument passed to the command\n",
    "        print(f\"Hello, {arg}!\")\n",
    "\n",
    "    # Define a command to quit the interpreter\n",
    "    def do_quit(self, arg):\n",
    "        \"\"\"Quit the command interpreter\"\"\"\n",
    "        # Print a goodbye message\n",
    "        print('Goodbye!')\n",
    "        # Return True to indicate that the interpreter should exit\n",
    "        return True\n",
    "\n",
    "# If this script is being run as the main program, create an instance of MyCmdInterpreter and start the interpreter loop\n",
    "if __name__ == '__main__':\n",
    "    MyCmdInterpreter().cmdloop()\n",
    "\n",
    "```\n",
    "\n",
    "#### [Example2 from PyMOTW]()\n",
    "link: http://pymotw.com/2/cmd/"
   ]
  },
  {
   "attachments": {},
   "cell_type": "markdown",
   "metadata": {},
   "source": [
    "## What is *`args` and `**kwargs` and how to use it\n",
    "\n",
    "  - [Geeksforgeeks](https://www.geeksforgeeks.org/args-kwargs-python/)\n",
    "  - [Real Python](https://realpython.com/python-kwargs-and-args/)\n",
    "\n",
    "Note\n",
    "\n",
    "- *args and **kwargs allow you to pass multiple arguments or keyword arguments to a function. \n",
    "- The unpacking operator (*)\n",
    "- In Python, args and **kwargs are special syntax for passing a variable number of arguments to a function.\n",
    "- Bear in mind that the iterable object you’ll get using the unpacking operator * is not a list but a tuple. A tuple is similar to a list in that they both support slicing and iteration. However, tuples are very different in at least one aspect: lists are mutable, while tuples are not\n",
    "- *args (Non-Keyword Arguments) and **kwargs (Keyword Arguments)"
   ]
  },
  {
   "attachments": {},
   "cell_type": "markdown",
   "metadata": {},
   "source": [
    "*arg Example:\n",
    "\n",
    "args - This is used to pass a variable number of non-keyword arguments to a function. It is represented by an asterisk * followed by a variable name (which can be anything you like, but args is commonly used). When a function is called with *args, any additional arguments passed to the function are collected into a tuple and assigned to the variable name specified with *"
   ]
  },
  {
   "cell_type": "code",
   "execution_count": 12,
   "metadata": {},
   "outputs": [
    {
     "name": "stdout",
     "output_type": "stream",
     "text": [
      "The Numbers are: 1\n",
      "The Numbers are: 2\n",
      "The Numbers are: 3\n",
      "The Numbers are: 6\n"
     ]
    }
   ],
   "source": [
    "def my_function(*args):\n",
    "    for arg in args:\n",
    "        print(\"The Numbers are:\", arg)\n",
    "\n",
    "my_function(1, 2, 3, 6)  # Output: 1 2 3\n"
   ]
  },
  {
   "attachments": {},
   "cell_type": "markdown",
   "metadata": {},
   "source": [
    "**kwargs \n",
    "\n",
    "**kwargs - This is used to pass a variable number of keyword arguments (i.e. named arguments) to a function. It is represented by two asterisks ** followed by a variable name (which can be anything you like, but kwargs is commonly used). When a function is called with **kwargs, any additional named arguments passed to the function are collected into a dictionary and assigned to the variable name specified with **."
   ]
  },
  {
   "cell_type": "code",
   "execution_count": 7,
   "metadata": {},
   "outputs": [
    {
     "name": "stdout",
     "output_type": "stream",
     "text": [
      "name = Alice\n",
      "age = 25\n",
      "location = New York\n",
      "level = 2A\n"
     ]
    }
   ],
   "source": [
    "def my_function(**kwargs):\n",
    "    for key, value in kwargs.items():\n",
    "        print(f\"{key} = {value}\")\n",
    "\n",
    "my_function(name=\"Alice\", age=25, location=\"New York\", level= \"2A\")  # Output: name = Alice age = 25 location = New York\n"
   ]
  },
  {
   "cell_type": "code",
   "execution_count": 14,
   "metadata": {},
   "outputs": [
    {
     "name": "stdout",
     "output_type": "stream",
     "text": [
      "name = Tosin\n",
      "school = ALX\n",
      "2\n"
     ]
    }
   ],
   "source": [
    "def my_function(*args, **kwargs):\n",
    "    for arg in args:\n",
    "        print(arg)\n",
    "    for key, value in kwargs.items():\n",
    "        print(f\"{key} = {value}\")\n",
    "\n",
    "\n",
    "my_function(name=\"Tosin\", school='ALX')\n",
    "my_function(2)"
   ]
  },
  {
   "attachments": {},
   "cell_type": "markdown",
   "metadata": {},
   "source": [
    "## Unit Testing\n",
    "[Note](Practise_code/Pyhton_practise/25_Test_driven/Test-driven_Note.ipynb)"
   ]
  },
  {
   "attachments": {},
   "cell_type": "markdown",
   "metadata": {},
   "source": [
    "## How to serialize and deserialize a Class\n",
    "\n",
    "[A Gentle Introduction to Serialization for Python](https://machinelearningmastery.com/a-gentle-introduction-to-serialization-for-python/)\n",
    "\n",
    "[The Python pickle Module: How to Persist Objects in Python](https://realpython.com/python-pickle-module/#:~:text=the%20next%20level.-,Serialization%20in%20Python,or%20sent%20over%20a%20network.)\n",
    "\n",
    "- Serialization refers to the process of converting a data object (e.g., Python objects, Tensorflow models) into a format that allows us to store or transmit the data and then recreate the object when needed using the reverse process of deserialization.\n",
    "\n",
    "- JSON is one of the many exiting format of serielization. Though it can't differenciate between data type (e.g., numpy float32 vs. float64). It also can not distinguish betweeen tuples and lists"
   ]
  },
  {
   "attachments": {},
   "cell_type": "markdown",
   "metadata": {},
   "source": [
    "## How to manage `datetime`"
   ]
  },
  {
   "attachments": {},
   "cell_type": "markdown",
   "metadata": {},
   "source": [
    "[Using Python datetime to Work With Dates and Times](https://realpython.com/python-datetime/#programming-with-dates-and-times)\n",
    "\n",
    "- Nearly all computers count time from an instant called the Unix epoch. This occurred on January 1, 1970, at 00:00:00 UTC. UTC stands for Coordinated Universal Time and refers to the time at a longitude of 0°. UTC is often also called Greenwich Mean Time, or GMT. UTC is not adjusted for daylight saving time, so it consistently keeps twenty-four hours in every day.\n",
    "- Creating Python datetime Instances"
   ]
  },
  {
   "cell_type": "code",
   "execution_count": 28,
   "metadata": {},
   "outputs": [
    {
     "data": {
      "text/plain": [
       "datetime.datetime(2023, 3, 20, 19, 53, 8)"
      ]
     },
     "execution_count": 28,
     "metadata": {},
     "output_type": "execute_result"
    }
   ],
   "source": [
    "from datetime import date, time, datetime\n",
    "date(year=2020, month=1, day=31)\n",
    "\n",
    "date.today()\n",
    "datetime.now()\n",
    "\n",
    "from datetime import date, time, datetime\n",
    "today = date.today()\n",
    "today\n",
    "\n",
    "now = datetime.now()\n",
    "current_time = time(now.hour, now.minute, now.second)\n",
    "datetime.combine(today, current_time)"
   ]
  },
  {
   "attachments": {
    "image.png": {
     "image/png": "[encoded data removed]"
    }
   },
   "cell_type": "markdown",
   "metadata": {},
   "source": [
    "##  What is an `UUID`\n",
    "\n",
    "- Python UUID Module to Generate Universally Unique Identifiers\n",
    "- ![image.png](attachment:image.png)\n",
    "- What is the difference between uuid.uuid4() and uuid.uuid1()?\n",
    "  - The key difference between these and `uuid4()` is that those three functions all take some form of input and therefore don’t meet the definition of “random” to the extent that a Version 4 UUID does:\n",
    "\n",
    "  - `uuid1()` uses your machine’s host ID and current time by default. Because of the reliance on current time down to nanosecond resolution, this version is where UUID derives the claim “guaranteed uniqueness across time.”\n",
    "  - `uuid3()` and `uuid5()` both take a namespace identifier and a name. The former uses an [MD5](https://en.wikipedia.org/wiki/MD5) hash and the latter uses SHA-1."
   ]
  },
  {
   "cell_type": "code",
   "execution_count": 36,
   "metadata": {},
   "outputs": [
    {
     "name": "stdout",
     "output_type": "stream",
     "text": [
      "Printing my First UUID of version 1\n",
      "9ed14c6c-c759-11ed-9af1-5076afa8952a\n",
      "c4fc4a90-0b28-4541-b26d-5eecb17f0596\n"
     ]
    }
   ],
   "source": [
    "import uuid\n",
    "\n",
    "# make a UUID based on the host address and current time\n",
    "uuidOne = uuid.uuid1()\n",
    "print (\"Printing my First UUID of version 1\")\n",
    "print(uuidOne)\n",
    "\n",
    "id4 = uuid.uuid4()\n",
    "print(id4)"
   ]
  },
  {
   "attachments": {},
   "cell_type": "markdown",
   "metadata": {},
   "source": [
    "## Tasks\n",
    "\n",
    "#### Task 2 Basemodel\n",
    "Write a class BaseModel that defines all common attributes/methods for other classes:\n",
    "\n",
    "Write a class `BaseModel` that defines all common attributes/methods for other classes:\n",
    "\n",
    "- `models/base_model.py`\n",
    "- Public instance attributes:\n",
    "    - `id`: string - assign with an `uuid` when an instance is created:\n",
    "        - you can use `uuid.uuid4()` to generate unique `id` but don’t forget to convert to a string\n",
    "        - the goal is to have unique `id` for each `BaseModel`\n",
    "    - `created_at`: datetime - assign with the current datetime when an instance is created\n",
    "    - `updated_at`: datetime - assign with the current datetime when an instance is created and it will be updated every time you change your object\n",
    "- `__str__`: should print: `[<class name>] (<self.id>) <self.__dict__>`\n",
    "- Public instance methods:\n",
    "    - `save(self)`: updates the public instance attribute `updated_at` with the current datetime\n",
    "    - `to_dict(self)`: returns a dictionary containing all keys/values of `__dict__` of the instance:\n",
    "        - by using `self.__dict__`, only instance attributes set will be returned\n",
    "        - a key `__class__` must be added to this dictionary with the class name of the object\n",
    "        - `created_at` and `updated_at` must be converted to string object in ISO format:\n",
    "            - format: `%Y-%m-%dT%H:%M:%S.%f` (ex: `2017-06-14T22:31:03.285259`)\n",
    "            - you can use `isoformat()` of `datetime` object\n",
    "        - This method will be the first piece of the serialization/deserialization process: create a dictionary representation with “simple object type” of our `BaseModel`\n",
    "\n",
    "#### Solutions\n",
    "\n",
    "#!/usr/bin/python3\n",
    "\"\"\"\n",
    "This File defines the BaseModel class that will\n",
    "serve as the base class for all our models.\n",
    "\"\"\"\n",
    "\n",
    "# Importing necessary modules\n",
    "from uuid import uuid4\n",
    "from datetime import datetime\n",
    "import models\n",
    "\n",
    "\n",
    "class BaseModel:\n",
    "    \"\"\"Base class for all our classes\"\"\"\n",
    "\n",
    "    def __init__(self, *args, **kwargs):\n",
    "        \"\"\"constructor it either deserialize\n",
    "        a serialized class or intialize a new\"\"\"\n",
    "\n",
    "        # If nothing is passed, initialize a new instance\n",
    "        if kwargs == {}:\n",
    "            self.id = str(uuid4())\n",
    "            self.created_at = datetime.utcnow()\n",
    "            self.updated_at = datetime.utcnow()\n",
    "            # Add the new instance to storage\n",
    "            models.storage.new(self)\n",
    "            return\n",
    "\n",
    "        # If kwargs are passed, deserialize and create a new instance\n",
    "        for key, val in kwargs.items():\n",
    "            if key == '__class__':\n",
    "                continue\n",
    "            self.__dict__[key] = val\n",
    "        if 'created_at' in kwargs:\n",
    "            self.created_at = datetime.strptime(\n",
    "                    kwargs['created_at'],\n",
    "                    '%Y-%m-%dT%H:%M:%S.%f')\n",
    "        if 'updated_at' in kwargs:\n",
    "            self.updated_at = datetime.strptime(\n",
    "                    kwargs['updated_at'],\n",
    "                    '%Y-%m-%dT%H:%M:%S.%f')\n",
    "\n",
    "    def __str__(self):\n",
    "        \"\"\"overide str representation of self\"\"\"\n",
    "        fmt = \"[{}] ({}) {}\"\n",
    "        return fmt.format(\n",
    "                type(self).__name__,\n",
    "                self.id,\n",
    "                self.__dict__)\n",
    "\n",
    "    def save(self):\n",
    "        \"\"\"updates last updated variable\"\"\"\n",
    "        # Update the updated_at variable to the current time\n",
    "        self.updated_at = datetime.utcnow()\n",
    "        # Save the instance to storage\n",
    "        models.storage.save()\n",
    "\n",
    "    def to_dict(self):\n",
    "        \"\"\"Returns a dictionary representation of self\"\"\"\n",
    "        # Create a dictionary representation of the instance\n",
    "        temp = {**self.__dict__}\n",
    "        # Add the class name and datetime strings to the dictionary\n",
    "        temp['__class__'] = type(self).__name__\n",
    "        temp['created_at'] = self.created_at.strftime('%Y-%m-%dT%H:%M:%S.%f')\n",
    "        temp['updated_at'] = self.updated_at.strftime('%Y-%m-%dT%H:%M:%S.%f')\n",
    "        return temp\n",
    "\n",
    "    @classmethod\n",
    "    def all(cls):\n",
    "        \"\"\"Retrieve all current instances of cls\"\"\"\n",
    "        # Find all instances of the class in storage and return them\n",
    "        return models.storage.find_all(cls.__name__)\n",
    "\n",
    "    @classmethod\n",
    "    def count(cls):\n",
    "        \"\"\"Get the number of all current instances of cls\"\"\"\n",
    "        # Find all instances of the class in storage and return the length\n",
    "        return len(models.storage.find_all(cls.__name__))\n",
    "\n",
    "    @classmethod\n",
    "    def create(cls, *args, **kwargs):\n",
    "        \"\"\"Creates an Instance\"\"\"\n",
    "        # Create a new instance of the class and return its ID\n",
    "        new = cls(*args, **kwargs)\n",
    "        return new.id\n",
    "\n",
    "    @classmethod\n",
    "    def show(cls, instance_id):\n",
    "        \"\"\"Retrieve an instance\"\"\"\n",
    "        # Find the instance by ID and return it\n",
    "        return models.storage.find_by_id(\n",
    "            cls.__name__,\n",
    "            instance_id\n",
    "        )\n",
    "\n",
    "    @classmethod\n",
    "    def destroy(cls, instance_id):\n",
    "        \"\"\"Deletes an instance\"\"\"\n",
    "        # Delete the instance by ID\n",
    "        return models.storage.delete_by_id(\n",
    "            cls.__name__,\n",
    "            instance_id\n",
    "        )\n",
    "\n",
    "    @classmethod\n",
    "    def update(cls, instance_id, *args):\n",
    "        \"\"\"Updates an instance\n",
    "        if args has one elem and its a dict:\n",
    "        it updates by key value\n",
    "        else:\n",
    "        updates by first being key and second being\n"
   ]
  }
 ],
 "metadata": {
  "kernelspec": {
   "display_name": "Python 3",
   "language": "python",
   "name": "python3"
  },
  "language_info": {
   "codemirror_mode": {
    "name": "ipython",
    "version": 3
   },
   "file_extension": ".py",
   "mimetype": "text/x-python",
   "name": "python",
   "nbconvert_exporter": "python",
   "pygments_lexer": "ipython3",
   "version": "3.11.1"
  },
  "orig_nbformat": 4
 },
 "nbformat": 4,
 "nbformat_minor": 2
}

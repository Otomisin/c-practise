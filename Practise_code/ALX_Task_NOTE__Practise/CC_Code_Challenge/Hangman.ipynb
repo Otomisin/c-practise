{
 "cells": [
  {
   "cell_type": "code",
   "execution_count": 1,
   "metadata": {},
   "outputs": [],
   "source": [
    "word_list = [\"ardvark\", \"baboon\", \"camel\"]"
   ]
  },
  {
   "cell_type": "code",
   "execution_count": 12,
   "metadata": {},
   "outputs": [
    {
     "name": "stdout",
     "output_type": "stream",
     "text": [
      "ardvark\n"
     ]
    }
   ],
   "source": [
    "# using random.choice() to\n",
    "# get a random number\n",
    "\n",
    "import random\n",
    "rand_word = random.choice(word_list)\n",
    "print(rand_word)\n",
    "userGuess = input('Guess an alphabet? ')"
   ]
  }
 ],
 "metadata": {
  "kernelspec": {
   "display_name": "Python 3",
   "language": "python",
   "name": "python3"
  },
  "language_info": {
   "codemirror_mode": {
    "name": "ipython",
    "version": 3
   },
   "file_extension": ".py",
   "mimetype": "text/x-python",
   "name": "python",
   "nbconvert_exporter": "python",
   "pygments_lexer": "ipython3",
   "version": "3.10.9"
  },
  "orig_nbformat": 4,
  "vscode": {
   "interpreter": {
    "hash": "8f60924c770a5b78a3c055fbf437a768b94cadb0da39d7de8584be4d1611e218"
   }
  }
 },
 "nbformat": 4,
 "nbformat_minor": 2
}

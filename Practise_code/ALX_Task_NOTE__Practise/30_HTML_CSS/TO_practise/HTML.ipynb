{
 "cells": [
  {
   "cell_type": "markdown",
   "metadata": {},
   "source": [
    "HTML Basics\n",
    "\n",
    "https://developer.mozilla.org/en-US/docs/Learn/Getting_started_with_the_web/CSS_basics"
   ]
  }
 ],
 "metadata": {
  "kernelspec": {
   "display_name": "Python 3",
   "language": "python",
   "name": "python3"
  },
  "language_info": {
   "codemirror_mode": {
    "name": "ipython",
    "version": 3
   },
   "file_extension": ".py",
   "mimetype": "text/x-python",
   "name": "python",
   "nbconvert_exporter": "python",
   "pygments_lexer": "ipython3",
   "version": "3.11.1"
  },
  "orig_nbformat": 4,
  "vscode": {
   "interpreter": {
    "hash": "d8b3b4e871d7619eccb36f657c81b8358b8c67e5d821a2a1d625fcc2f39d1588"
   }
  }
 },
 "nbformat": 4,
 "nbformat_minor": 2
}

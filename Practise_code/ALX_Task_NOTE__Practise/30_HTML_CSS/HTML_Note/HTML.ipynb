{
 "cells": [
  {
   "cell_type": "markdown",
   "metadata": {},
   "source": [
    "HTML Basics\n",
    "\n",
    "https://developer.mozilla.org/en-US/docs/Learn/Getting_started_with_the_web/CSS_basics"
   ]
  },
  {
   "attachments": {},
   "cell_type": "markdown",
   "metadata": {},
   "source": [
    "Here are some commonly used HTML elements:\n",
    "\n",
    "1. **`<html>`** - The root element that wraps around all other elements.\n",
    "2. **`<head>`** - The element that contains metadata about the HTML document, including the title and links to stylesheets.\n",
    "3. **`<title>`** - The element that specifies the title of the document, which appears in the browser's title bar.\n",
    "4. **`<body>`** - The element that contains the visible content of the HTML document.\n",
    "5. **`<header>`** - The element that typically contains a logo and navigation menu for a website.\n",
    "6. **`<nav>`** - The element that contains links to different pages or sections of a website.\n",
    "7. **`<main>`** - The element that contains the main content of a webpage.\n",
    "8. **`<section>`** - The element that defines a section of a webpage, typically with a heading.\n",
    "9. **`<article>`** - The element that defines a self-contained piece of content, such as a blog post or news article.\n",
    "10. **`<aside>`** - The element that contains content that is related to the main content, but not essential to it.\n",
    "11. **`<footer>`** - The element that typically contains information about the author, copyright, and links to related content.\n",
    "12. **`<h1>`** to **`<h6>`** - The elements that define headings, with **`<h1>`** being the most important and **`<h6>`** being the least important.\n",
    "13. **`<p>`** - The element that defines a paragraph of text.\n",
    "14. **`<ul>`** - The element that creates an unordered list.\n",
    "15. **`<ol>`** - The element that creates an ordered list.\n",
    "16. **`<li>`** - The element that defines a list item.\n",
    "17. **`<a>`** - The element that creates a hyperlink.\n",
    "18. **`<img>`** - The element that inserts an image.\n",
    "19. **`<form>`** - The element that creates a form for user input.\n",
    "20. **`<input>`** - The element that creates a form input field, such as a text box or radi"
   ]
  }
 ],
 "metadata": {
  "kernelspec": {
   "display_name": "Python 3",
   "language": "python",
   "name": "python3"
  },
  "language_info": {
   "codemirror_mode": {
    "name": "ipython",
    "version": 3
   },
   "file_extension": ".py",
   "mimetype": "text/x-python",
   "name": "python",
   "nbconvert_exporter": "python",
   "pygments_lexer": "ipython3",
   "version": "3.11.1"
  },
  "orig_nbformat": 4,
  "vscode": {
   "interpreter": {
    "hash": "d8b3b4e871d7619eccb36f657c81b8358b8c67e5d821a2a1d625fcc2f39d1588"
   }
  }
 },
 "nbformat": 4,
 "nbformat_minor": 2
}

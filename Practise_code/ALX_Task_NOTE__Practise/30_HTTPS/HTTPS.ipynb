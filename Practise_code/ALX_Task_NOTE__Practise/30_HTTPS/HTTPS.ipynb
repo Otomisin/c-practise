{
 "cells": [
  {
   "cell_type": "markdown",
   "metadata": {},
   "source": [
    "Exploring HTTPS With Python\n",
    "\n",
    "https://realpython.com/python-https/#what-is-http"
   ]
  }
 ],
 "metadata": {
  "language_info": {
   "name": "python"
  },
  "orig_nbformat": 4
 },
 "nbformat": 4,
 "nbformat_minor": 2
}

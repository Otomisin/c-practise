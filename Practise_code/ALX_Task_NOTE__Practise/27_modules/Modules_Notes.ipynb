{
 "cells": [
  {
   "attachments": {},
   "cell_type": "markdown",
   "metadata": {},
   "source": [
    "## Outline\n",
    "\n",
    "    How to create a Python module\n",
    "    Locations where the Python interpreter searches for a module\n",
    "    How to obtain access to the objects defined in a module with the import statement\n",
    "    How to create a module that is executable as a standalone script\n",
    "    How to organize modules into packages and subpackages\n",
    "    How to control package initialization**\n",
    "\n",
    "[link](https://realpython.com/python-modules-packages/#importing-from-a-package)"
   ]
  },
  {
   "attachments": {},
   "cell_type": "markdown",
   "metadata": {},
   "source": [
    "## What is a Module in Python\n",
    "\n",
    "In Python, a module can be a simple python file (.py extension file), i.e., a combination of numerous functions that can be used to provide different functionalities in a program. \n",
    "\n",
    "The main difference between a module and a package in Python is that a module is a simple Python script with a .py extension file that contains collections of functions and global variables. In contrast, a package is a directory that contains a collection of modules, and this directory also contains an __init__.py file by which the interpreter interprets it as a package. [Source](https://www.scaler.com/topics/module-and-package-in-python/)"
   ]
  },
  {
   "attachments": {},
   "cell_type": "markdown",
   "metadata": {},
   "source": [
    "## The import statement\n",
    "\n",
    "Use the import statemeent to call the needed modules"
   ]
  },
  {
   "cell_type": "code",
   "execution_count": 3,
   "metadata": {},
   "outputs": [
    {
     "name": "stdout",
     "output_type": "stream",
     "text": [
      "If Comrade Napoleon says it, it must be right.\n",
      "[100, 200, 300]\n"
     ]
    },
    {
     "data": {
      "text/plain": [
       "'c:\\\\Users\\\\orena\\\\OneDrive\\\\01_ORENAIKE\\\\02_CAREER AND DEVELOPMENTS\\\\01_Schools\\\\ALX\\\\Codes\\\\c-practise\\\\code_p\\\\pyhton_Note\\\\23_modules\\\\mod.py'"
      ]
     },
     "execution_count": 3,
     "metadata": {},
     "output_type": "execute_result"
    }
   ],
   "source": [
    "import mod #Mod.py needs to have been create\n",
    "print (mod.s)\n",
    "print (mod.a)\n",
    "mod.a\n",
    "\n",
    "# Determine where a module can be found\n",
    "mod.__file__"
   ]
  },
  {
   "attachments": {},
   "cell_type": "markdown",
   "metadata": {},
   "source": [
    "## dir() Function\n",
    "\n",
    "The dir() function returns all properties and methods of the specified object, without the values. This function will return all the properties and methods, even built-in properties which are default for all object. [source](https://www.w3schools.com/python/ref_func_dir.asp#:~:text=The%20dir()%20function%20returns,are%20default%20for%20all%20object.)\n",
    "\n",
    "Some module examples and using dir() to print the content of modules"
   ]
  },
  {
   "attachments": {},
   "cell_type": "markdown",
   "metadata": {},
   "source": [
    "Print the contents of modules"
   ]
  },
  {
   "cell_type": "code",
   "execution_count": 1,
   "metadata": {},
   "outputs": [
    {
     "data": {
      "text/plain": [
       "['__builtins__',\n",
       " '__cached__',\n",
       " '__doc__',\n",
       " '__file__',\n",
       " '__loader__',\n",
       " '__name__',\n",
       " '__package__',\n",
       " '__spec__',\n",
       " 'a',\n",
       " 'foo',\n",
       " 's']"
      ]
     },
     "execution_count": 1,
     "metadata": {},
     "output_type": "execute_result"
    }
   ],
   "source": [
    "import random\n",
    "#print the content of random\n",
    "# dir(random)\n",
    "\n",
    "#Print the contents of math\n",
    "import math\n",
    "# dir(math)\n",
    "\n",
    "import mod\n",
    "dir(mod)"
   ]
  },
  {
   "cell_type": "code",
   "execution_count": 2,
   "metadata": {},
   "outputs": [
    {
     "name": "stdout",
     "output_type": "stream",
     "text": [
      "['ArithmeticError', 'AssertionError', 'AttributeError', 'BaseException', 'BaseExceptionGroup', 'BlockingIOError', 'BrokenPipeError', 'BufferError', 'BytesWarning', 'ChildProcessError', 'ConnectionAbortedError', 'ConnectionError', 'ConnectionRefusedError', 'ConnectionResetError', 'DeprecationWarning', 'EOFError', 'Ellipsis', 'EncodingWarning', 'EnvironmentError', 'Exception', 'ExceptionGroup', 'False', 'FileExistsError', 'FileNotFoundError', 'FloatingPointError', 'FutureWarning', 'GeneratorExit', 'IOError', 'ImportError', 'ImportWarning', 'IndentationError', 'IndexError', 'InterruptedError', 'IsADirectoryError', 'KeyError', 'KeyboardInterrupt', 'LookupError', 'MemoryError', 'ModuleNotFoundError', 'NameError', 'None', 'NotADirectoryError', 'NotImplemented', 'NotImplementedError', 'OSError', 'OverflowError', 'PendingDeprecationWarning', 'PermissionError', 'ProcessLookupError', 'RecursionError', 'ReferenceError', 'ResourceWarning', 'RuntimeError', 'RuntimeWarning', 'StopAsyncIteration', 'StopIteration', 'SyntaxError', 'SyntaxWarning', 'SystemError', 'SystemExit', 'TabError', 'TimeoutError', 'True', 'TypeError', 'UnboundLocalError', 'UnicodeDecodeError', 'UnicodeEncodeError', 'UnicodeError', 'UnicodeTranslateError', 'UnicodeWarning', 'UserWarning', 'ValueError', 'Warning', 'WindowsError', 'ZeroDivisionError', '__IPYTHON__', '__build_class__', '__debug__', '__doc__', '__import__', '__loader__', '__name__', '__package__', '__spec__', 'abs', 'aiter', 'all', 'anext', 'any', 'ascii', 'bin', 'bool', 'breakpoint', 'bytearray', 'bytes', 'callable', 'chr', 'classmethod', 'compile', 'complex', 'copyright', 'credits', 'delattr', 'dict', 'dir', 'display', 'divmod', 'enumerate', 'eval', 'exec', 'execfile', 'filter', 'float', 'format', 'frozenset', 'get_ipython', 'getattr', 'globals', 'hasattr', 'hash', 'help', 'hex', 'id', 'input', 'int', 'isinstance', 'issubclass', 'iter', 'len', 'license', 'list', 'locals', 'map', 'max', 'memoryview', 'min', 'next', 'object', 'oct', 'open', 'ord', 'pow', 'print', 'property', 'range', 'repr', 'reversed', 'round', 'runfile', 'set', 'setattr', 'slice', 'sorted', 'staticmethod', 'str', 'sum', 'super', 'tuple', 'type', 'vars', 'zip']\n"
     ]
    }
   ],
   "source": [
    "dir()"
   ]
  },
  {
   "attachments": {},
   "cell_type": "markdown",
   "metadata": {},
   "source": [
    "## Executing a module as a script\n",
    "\n",
    "Since any .py file that contains a module is also a python script, they can also be executed, this is why there is a need to distinguish between when the file is loaded as a module and when we run it as a standalone script to avoid conflict. \n",
    "\n",
    "There is a need to use `(__name__ == '__main__')` in the standalone script. \n",
    "\n",
    "\n",
    "\n"
   ]
  },
  {
   "cell_type": "code",
   "execution_count": 12,
   "metadata": {},
   "outputs": [
    {
     "name": "stdout",
     "output_type": "stream",
     "text": [
      "Executing as standalone script\n",
      "If Comrade Napoleon says it, it must be right.\n",
      "[100, 200, 300]\n",
      "arg = quux\n",
      "<__main__.Foo object at 0x000001F5A2439ED0>\n"
     ]
    }
   ],
   "source": [
    "s = \"If Comrade Napoleon says it, it must be right.\"\n",
    "a = [100, 200, 300]\n",
    "\n",
    "def foo(arg):\n",
    "    print(f'arg = {arg}')\n",
    "\n",
    "class Foo:\n",
    "    pass\n",
    "\n",
    "if (__name__ == '__main__'):\n",
    "    print('Executing as standalone script')\n",
    "    print(s)\n",
    "    print(a)\n",
    "    foo('quux')\n",
    "    x = Foo()\n",
    "    print(x)"
   ]
  },
  {
   "attachments": {},
   "cell_type": "markdown",
   "metadata": {},
   "source": [
    "Scripts for modules and standalone\n",
    "\n",
    "More so, It is also important to designed modueles with the capability to run as a standalone script for purposes of testing the functionality that is contained within the module. Suppose you have created a module fact.py containing a factorial function, as follows:"
   ]
  },
  {
   "cell_type": "code",
   "execution_count": 14,
   "metadata": {},
   "outputs": [
    {
     "data": {
      "text/plain": [
       "720"
      ]
     },
     "execution_count": 14,
     "metadata": {},
     "output_type": "execute_result"
    }
   ],
   "source": [
    "from fact import fact\n",
    "fact(6)"
   ]
  },
  {
   "attachments": {},
   "cell_type": "markdown",
   "metadata": {},
   "source": [
    "If you make a change to a module and need to reload it, you need to either restart the interpreter or use a function called reload() from module importlib:"
   ]
  },
  {
   "attachments": {},
   "cell_type": "markdown",
   "metadata": {},
   "source": [
    "## Python Packages\n",
    "\n",
    "Packages packages comes handy when you have many modules. it allow for a hierarchical structuring of the module namespace using dot notation. To import multiple modules, i this case mod1 and mod2 from the directory, pkg.\n",
    "\n",
    "    pkg/\n",
    "        mod1.py\n",
    "        mod2.py\n",
    "\n",
    "You can use the sytax import `<directory>.mod1,<directory>.mod2`"
   ]
  },
  {
   "cell_type": "code",
   "execution_count": 17,
   "metadata": {},
   "outputs": [
    {
     "name": "stdout",
     "output_type": "stream",
     "text": [
      "[mod1] foo()\n"
     ]
    }
   ],
   "source": [
    "import pkg.mod1, pkg.mod2 #The two modules are mod1 and mod2\n",
    "\n",
    "pkg.mod1.foo()"
   ]
  },
  {
   "attachments": {},
   "cell_type": "markdown",
   "metadata": {},
   "source": [
    "## Package Initialization\n",
    "\n",
    "Initializing a package involves creating a special file called __init__.py in the package directory, which Python will execute when the package is imported.\n",
    "\n",
    "To initialize a package in Python, you need to create a file called __init__.py in the package directory. This file can be empty, or it can contain Python code that you want to execute when the package is imported.\n",
    "\n",
    "    By adding this to __init__ in the case above\n",
    "        print(f'Invoking __init__.py for {__name__}')\n",
    "        import pkg.mod1, pkg.mod2\n",
    "        A = ['quux', 'corge', 'grault']\n",
    "\n",
    "    You can call the modules in the pkg directory"
   ]
  },
  {
   "cell_type": "code",
   "execution_count": 23,
   "metadata": {},
   "outputs": [
    {
     "name": "stdout",
     "output_type": "stream",
     "text": [
      "[mod1] foo()\n"
     ]
    }
   ],
   "source": [
    "import pkg #Now you can call all modules in the pkg directory \n",
    "\n",
    "pkg.mod1.foo()"
   ]
  },
  {
   "attachments": {},
   "cell_type": "markdown",
   "metadata": {},
   "source": [
    "# Importing packages"
   ]
  },
  {
   "cell_type": "markdown",
   "metadata": {},
   "source": []
  }
 ],
 "metadata": {
  "kernelspec": {
   "display_name": "Python 3",
   "language": "python",
   "name": "python3"
  },
  "language_info": {
   "codemirror_mode": {
    "name": "ipython",
    "version": 3
   },
   "file_extension": ".py",
   "mimetype": "text/x-python",
   "name": "python",
   "nbconvert_exporter": "python",
   "pygments_lexer": "ipython3",
   "version": "3.11.3"
  },
  "orig_nbformat": 4,
  "vscode": {
   "interpreter": {
    "hash": "d8b3b4e871d7619eccb36f657c81b8358b8c67e5d821a2a1d625fcc2f39d1588"
   }
  }
 },
 "nbformat": 4,
 "nbformat_minor": 2
}

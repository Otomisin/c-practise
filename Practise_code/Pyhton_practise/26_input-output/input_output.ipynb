{
 "cells": [
  {
   "cell_type": "markdown",
   "metadata": {},
   "source": [
    "# Open, read and close a file "
   ]
  },
  {
   "cell_type": "code",
   "execution_count": 28,
   "metadata": {},
   "outputs": [],
   "source": [
    "file = open('New_file.txt') # Create a file pointer\n",
    "file.read() # Reads the content of the file\n",
    "file.close() # Close the file "
   ]
  },
  {
   "cell_type": "code",
   "execution_count": 36,
   "metadata": {},
   "outputs": [],
   "source": [
    "file = open('New_file.txt') # Create a file pointer\n",
    "file.read(4) # Reads four content content of the file\n",
    "file.close() # Close the file "
   ]
  },
  {
   "cell_type": "code",
   "execution_count": 48,
   "metadata": {},
   "outputs": [
    {
     "name": "stdout",
     "output_type": "stream",
     "text": [
      "Pug\n",
      "Jac\n"
     ]
    }
   ],
   "source": [
    "# reading using with\n",
    "with open ('dog_breeds.txt', 'r') as file:\n",
    "     print(file.read(7))"
   ]
  },
  {
   "cell_type": "markdown",
   "metadata": {},
   "source": [
    "## f.readline"
   ]
  },
  {
   "cell_type": "code",
   "execution_count": 33,
   "metadata": {},
   "outputs": [],
   "source": [
    "file = open('New_file.txt') # Create a file pointer\n",
    "file.readline(4) # Reads four content content of the file\n",
    "file.close() # Close the file "
   ]
  },
  {
   "cell_type": "code",
   "execution_count": 45,
   "metadata": {},
   "outputs": [
    {
     "name": "stdout",
     "output_type": "stream",
     "text": [
      "Pug\n",
      "\n"
     ]
    }
   ],
   "source": [
    "with open ('dog_breeds.txt', 'r') as file:\n",
    "     print(file.readline(5))"
   ]
  },
  {
   "attachments": {},
   "cell_type": "markdown",
   "metadata": {},
   "source": [
    "## TRY and FINAAL"
   ]
  },
  {
   "cell_type": "code",
   "execution_count": 14,
   "metadata": {},
   "outputs": [],
   "source": [
    "reader = open('dog_breeds.txt')\n",
    "\n",
    "try:\n",
    "    reader\n",
    "finally:\n",
    "    reader.close()"
   ]
  },
  {
   "cell_type": "markdown",
   "metadata": {},
   "source": [
    "# Using with "
   ]
  },
  {
   "cell_type": "code",
   "execution_count": 7,
   "metadata": {},
   "outputs": [],
   "source": [
    "with open ('New_file.txt') as file:\n",
    "     file.close()"
   ]
  },
  {
   "attachments": {},
   "cell_type": "markdown",
   "metadata": {},
   "source": [
    "## READ A FILE"
   ]
  },
  {
   "cell_type": "code",
   "execution_count": 17,
   "metadata": {},
   "outputs": [
    {
     "name": "stdout",
     "output_type": "stream",
     "text": [
      "Pug\n",
      "Jack Russell Terrier\n",
      "English Springer Spaniel\n",
      "German Shepherd\n",
      "Staffordshire Bull Terrier\n",
      "Cavalier King Charles Spaniel\n",
      "Golden Retriever\n",
      "West Highland White Terrier\n",
      "Boxer\n",
      "Border Terrier\n"
     ]
    }
   ],
   "source": [
    "with open('dog_breeds.txt', 'r') as reader:\n",
    "     print(reader.read())"
   ]
  },
  {
   "cell_type": "code",
   "execution_count": 63,
   "metadata": {},
   "outputs": [
    {
     "name": "stdout",
     "output_type": "stream",
     "text": [
      "Pu\n",
      "r\n"
     ]
    }
   ],
   "source": [
    "f = open('dog_breeds.txt', \"r\")\n",
    "# print(f.read()) #reads the file\n",
    "print(f.read(2)) #reads two characters of the file\n",
    "print(f.mode) # checks the mode of the file\n",
    "f.close() # Close the file"
   ]
  },
  {
   "cell_type": "code",
   "execution_count": 77,
   "metadata": {},
   "outputs": [
    {
     "name": "stdout",
     "output_type": "stream",
     "text": [
      "1) This is a test file\n",
      "2) With multiple lines of data...\n",
      "3) Third line\n",
      "4) Fourth line\n",
      "5) Fifth line\n",
      "6) Sixth line\n",
      "7) Seventh line\n",
      "8) Eighth line\n",
      "9) Ninth line\n",
      "10) Tenth line\n",
      " []\n"
     ]
    }
   ],
   "source": [
    "with open('test.txt', 'r') as f:\n",
    "     f_content1 = f.read()\n",
    "     f_content2 = f.readline() # This reads one line for \n",
    "     f_content3 = f.readlines()\n",
    "\n",
    "     print(f_content1)\n",
    "     print(f_content2, end=' ') # ' ' would remove the spaces at the end of the print line\n",
    "     print(f_content3)"
   ]
  },
  {
   "cell_type": "code",
   "execution_count": 80,
   "metadata": {},
   "outputs": [
    {
     "name": "stdout",
     "output_type": "stream",
     "text": [
      "1) This is a test file\n",
      " 2) With multiple lines of data...\n",
      " 3) Third line\n",
      " 4) Fourth line\n",
      " 5) Fifth line\n",
      " 6) Sixth line\n",
      " 7) Seventh line\n",
      " 8) Eighth line\n",
      " 9) Ninth line\n",
      " 10) Tenth line "
     ]
    }
   ],
   "source": [
    "with open('test.txt', 'r') as f:\n",
    "     for line in f:\n",
    "          print(line, end = ' ')"
   ]
  },
  {
   "cell_type": "code",
   "execution_count": 81,
   "metadata": {},
   "outputs": [
    {
     "name": "stdout",
     "output_type": "stream",
     "text": [
      "1) This is a test file\n",
      "2) With multiple lines of data...\n",
      "3) Third line\n",
      "4) Fourth line\n",
      "5) Fifth line\n",
      "6) Sixth line\n",
      "7) Seventh line\n",
      "8) Eighth line\n",
      "9) Ninth line\n",
      "10) Tenth line "
     ]
    }
   ],
   "source": [
    "with open('test.txt', 'r') as f:\n",
    "     f_content1 = f.read()\n",
    "     print(f_content1, end = ' ')"
   ]
  }
 ],
 "metadata": {
  "kernelspec": {
   "display_name": "Python 3",
   "language": "python",
   "name": "python3"
  },
  "language_info": {
   "codemirror_mode": {
    "name": "ipython",
    "version": 3
   },
   "file_extension": ".py",
   "mimetype": "text/x-python",
   "name": "python",
   "nbconvert_exporter": "python",
   "pygments_lexer": "ipython3",
   "version": "3.11.1 (tags/v3.11.1:a7a450f, Dec  6 2022, 19:58:39) [MSC v.1934 64 bit (AMD64)]"
  },
  "orig_nbformat": 4,
  "vscode": {
   "interpreter": {
    "hash": "d8b3b4e871d7619eccb36f657c81b8358b8c67e5d821a2a1d625fcc2f39d1588"
   }
  }
 },
 "nbformat": 4,
 "nbformat_minor": 2
}

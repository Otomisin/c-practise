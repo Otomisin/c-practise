{
 "cells": [
  {
   "attachments": {},
   "cell_type": "markdown",
   "metadata": {},
   "source": [
    "# LOAD Corey FILE"
   ]
  },
  {
   "cell_type": "code",
   "execution_count": 71,
   "metadata": {},
   "outputs": [
    {
     "name": "stdout",
     "output_type": "stream",
     "text": [
      "<class 'dict'>\n"
     ]
    }
   ],
   "source": [
    "import json\n",
    "\n",
    "with open ('states.json') as f:\n",
    "     data = json.load(f)\n",
    "\n",
    "print(type(data))"
   ]
  },
  {
   "cell_type": "code",
   "execution_count": 27,
   "metadata": {},
   "outputs": [
    {
     "name": "stdout",
     "output_type": "stream",
     "text": [
      "Alabama AL\n",
      "Alaska AK\n",
      "Arizona AZ\n",
      "Arkansas AR\n",
      "California CA\n",
      "Colorado CO\n",
      "Connecticut CT\n",
      "Delaware DE\n",
      "Florida FL\n",
      "Georgia GA\n",
      "Hawaii HI\n",
      "Idaho ID\n",
      "Illinois IL\n",
      "Indiana IN\n",
      "Iowa IA\n",
      "Kansas KS\n",
      "Kentucky KY\n",
      "Louisiana LA\n",
      "Maine ME\n",
      "Maryland MD\n",
      "Massachusetts MA\n",
      "Michigan MI\n",
      "Minnesota MN\n",
      "Mississippi MS\n",
      "Missouri MO\n",
      "Montana MT\n",
      "Nebraska NE\n",
      "Nevada NV\n",
      "New Hampshire NH\n",
      "New Jersey NJ\n",
      "New Mexico NM\n",
      "New York NY\n",
      "North Carolina NC\n",
      "North Dakota ND\n",
      "Ohio OH\n",
      "Oklahoma OK\n",
      "Oregon OR\n",
      "Pennsylvania PA\n",
      "Rhode Island RI\n",
      "South Carolina SC\n",
      "South Dakota SD\n",
      "Tennessee TN\n",
      "Texas TX\n",
      "Utah UT\n",
      "Vermont VT\n",
      "Virginia VA\n",
      "Washington WA\n",
      "West Virginia WV\n",
      "Wisconsin WI\n",
      "Wyoming WY\n"
     ]
    }
   ],
   "source": [
    "for state in data['states']:\n",
    "     print (state['name'], state['abbreviation'])"
   ]
  },
  {
   "cell_type": "code",
   "execution_count": 10,
   "metadata": {},
   "outputs": [],
   "source": [
    "## Remove a data"
   ]
  },
  {
   "cell_type": "code",
   "execution_count": 13,
   "metadata": {},
   "outputs": [],
   "source": [
    "for state in data['states']:\n",
    "     del state['area_codes']"
   ]
  },
  {
   "cell_type": "code",
   "execution_count": 15,
   "metadata": {},
   "outputs": [],
   "source": [
    "with open ('new_states_TO.json', 'w') as f:\n",
    "     json.dump (data, f, indent=2)"
   ]
  },
  {
   "cell_type": "code",
   "execution_count": 20,
   "metadata": {},
   "outputs": [
    {
     "data": {
      "text/plain": [
       "{'states': [{'name': 'Alabama', 'abbreviation': 'AL'},\n",
       "  {'name': 'Alaska', 'abbreviation': 'AK'},\n",
       "  {'name': 'Arizona', 'abbreviation': 'AZ'},\n",
       "  {'name': 'Arkansas', 'abbreviation': 'AR'},\n",
       "  {'name': 'California', 'abbreviation': 'CA'},\n",
       "  {'name': 'Colorado', 'abbreviation': 'CO'},\n",
       "  {'name': 'Connecticut', 'abbreviation': 'CT'},\n",
       "  {'name': 'Delaware', 'abbreviation': 'DE'},\n",
       "  {'name': 'Florida', 'abbreviation': 'FL'},\n",
       "  {'name': 'Georgia', 'abbreviation': 'GA'},\n",
       "  {'name': 'Hawaii', 'abbreviation': 'HI'},\n",
       "  {'name': 'Idaho', 'abbreviation': 'ID'},\n",
       "  {'name': 'Illinois', 'abbreviation': 'IL'},\n",
       "  {'name': 'Indiana', 'abbreviation': 'IN'},\n",
       "  {'name': 'Iowa', 'abbreviation': 'IA'},\n",
       "  {'name': 'Kansas', 'abbreviation': 'KS'},\n",
       "  {'name': 'Kentucky', 'abbreviation': 'KY'},\n",
       "  {'name': 'Louisiana', 'abbreviation': 'LA'},\n",
       "  {'name': 'Maine', 'abbreviation': 'ME'},\n",
       "  {'name': 'Maryland', 'abbreviation': 'MD'},\n",
       "  {'name': 'Massachusetts', 'abbreviation': 'MA'},\n",
       "  {'name': 'Michigan', 'abbreviation': 'MI'},\n",
       "  {'name': 'Minnesota', 'abbreviation': 'MN'},\n",
       "  {'name': 'Mississippi', 'abbreviation': 'MS'},\n",
       "  {'name': 'Missouri', 'abbreviation': 'MO'},\n",
       "  {'name': 'Montana', 'abbreviation': 'MT'},\n",
       "  {'name': 'Nebraska', 'abbreviation': 'NE'},\n",
       "  {'name': 'Nevada', 'abbreviation': 'NV'},\n",
       "  {'name': 'New Hampshire', 'abbreviation': 'NH'},\n",
       "  {'name': 'New Jersey', 'abbreviation': 'NJ'},\n",
       "  {'name': 'New Mexico', 'abbreviation': 'NM'},\n",
       "  {'name': 'New York', 'abbreviation': 'NY'},\n",
       "  {'name': 'North Carolina', 'abbreviation': 'NC'},\n",
       "  {'name': 'North Dakota', 'abbreviation': 'ND'},\n",
       "  {'name': 'Ohio', 'abbreviation': 'OH'},\n",
       "  {'name': 'Oklahoma', 'abbreviation': 'OK'},\n",
       "  {'name': 'Oregon', 'abbreviation': 'OR'},\n",
       "  {'name': 'Pennsylvania', 'abbreviation': 'PA'},\n",
       "  {'name': 'Rhode Island', 'abbreviation': 'RI'},\n",
       "  {'name': 'South Carolina', 'abbreviation': 'SC'},\n",
       "  {'name': 'South Dakota', 'abbreviation': 'SD'},\n",
       "  {'name': 'Tennessee', 'abbreviation': 'TN'},\n",
       "  {'name': 'Texas', 'abbreviation': 'TX'},\n",
       "  {'name': 'Utah', 'abbreviation': 'UT'},\n",
       "  {'name': 'Vermont', 'abbreviation': 'VT'},\n",
       "  {'name': 'Virginia', 'abbreviation': 'VA'},\n",
       "  {'name': 'Washington', 'abbreviation': 'WA'},\n",
       "  {'name': 'West Virginia', 'abbreviation': 'WV'},\n",
       "  {'name': 'Wisconsin', 'abbreviation': 'WI'},\n",
       "  {'name': 'Wyoming', 'abbreviation': 'WY'}]}"
      ]
     },
     "execution_count": 20,
     "metadata": {},
     "output_type": "execute_result"
    }
   ],
   "source": [
    "data"
   ]
  },
  {
   "cell_type": "code",
   "execution_count": 21,
   "metadata": {},
   "outputs": [
    {
     "name": "stdout",
     "output_type": "stream",
     "text": [
      "50\n"
     ]
    }
   ],
   "source": [
    "print(len(data['states']))"
   ]
  },
  {
   "cell_type": "markdown",
   "metadata": {},
   "source": [
    "# LOAD ESRI DATA"
   ]
  },
  {
   "cell_type": "code",
   "execution_count": 78,
   "metadata": {},
   "outputs": [
    {
     "name": "stdout",
     "output_type": "stream",
     "text": [
      "6\n"
     ]
    }
   ],
   "source": [
    "with open(\"World Terrain with Labels_v1.json\") as esri:\n",
    "     edata = json.load(esri)\n",
    "\n",
    "# print(edata['layers'])\n",
    "# print(type(edata))\n",
    "# edata\n",
    "print(len(edata))"
   ]
  },
  {
   "cell_type": "code",
   "execution_count": 43,
   "metadata": {},
   "outputs": [
    {
     "name": "stdout",
     "output_type": "stream",
     "text": [
      "Water line small scale {'line-join': 'round'}\n",
      "Water line medium scale {'line-join': 'round'}\n",
      "Water line large scale {'line-cap': 'round', 'line-join': 'round'}\n",
      "Water line/Waterfall {'line-join': 'round'}\n",
      "Water line/Dam or weir {'line-cap': 'round', 'line-join': 'round'}\n",
      "Water line/Levee {'line-join': 'round', 'visibility': 'visible'}\n",
      "Water line/Canal or ditch {'line-cap': 'round'}\n",
      "Water line/Stream or river intermittent {}\n",
      "Water line/Stream or river {'line-cap': 'round'}\n",
      "Water area small scale {}\n",
      "Water area medium scale/Lake intermittent {'visibility': 'visible'}\n",
      "Water area medium scale/Lake or river {}\n",
      "Water area large scale/Lake or river {}\n",
      "Water area/Lake, river or bay {}\n",
      "Water area/Lake or river intermittent {}\n",
      "Water area/Inundated area {}\n",
      "Water area/Swamp or marsh {}\n",
      "Water area/Playa {}\n",
      "Water area/Ice mass {}\n",
      "Water area/Dam or weir {}\n",
      "Water line/label/Default {'symbol-placement': 'line', 'symbol-avoid-edges': True, 'text-font': ['Arial Italic'], 'text-size': 10, 'text-letter-spacing': 0.07, 'text-max-width': 8, 'text-max-angle': 40, 'text-field': '{_name_global}', 'text-offset': [0, -0.5]}\n",
      "Water line large scale/label/Default {'symbol-placement': 'line', 'symbol-avoid-edges': True, 'text-font': ['Arial Italic'], 'text-size': 9.5, 'text-letter-spacing': 0.1, 'text-max-width': 8, 'text-max-angle': 40, 'text-field': '{_name}', 'text-offset': [0, -0.5]}\n",
      "Water line medium scale/label/Default {'symbol-placement': 'line', 'symbol-avoid-edges': True, 'text-font': ['Arial Italic'], 'text-size': 9.5, 'text-letter-spacing': 0.1, 'text-max-angle': 40, 'text-max-width': 8, 'text-field': '{_name}', 'text-offset': [0, -0.5]}\n"
     ]
    }
   ],
   "source": [
    "for items in edata['layers']:\n",
    "     print (items['id'], items['layout'])"
   ]
  },
  {
   "cell_type": "markdown",
   "metadata": {},
   "source": [
    "# LOAD DATA FROM REAL PYTHON"
   ]
  },
  {
   "cell_type": "code",
   "execution_count": 72,
   "metadata": {},
   "outputs": [],
   "source": [
    "Realdata = '''\n",
    "{\n",
    "    \"firstName\": \"Jane\",\n",
    "    \"lastName\": \"Doe\",\n",
    "    \"hobbies\": [\"running\", \"sky diving\", \"singing\"],\n",
    "    \"age\": 35,\n",
    "    \"children\": [\n",
    "        {\n",
    "            \"firstName\": \"Alice\",\n",
    "            \"age\": 6\n",
    "        },\n",
    "        {\n",
    "            \"firstName\": \"Bob\",\n",
    "            \"age\": 8\n",
    "        }\n",
    "    ]\n",
    "}\n",
    "\n",
    "'''"
   ]
  },
  {
   "cell_type": "code",
   "execution_count": 69,
   "metadata": {},
   "outputs": [
    {
     "name": "stdout",
     "output_type": "stream",
     "text": [
      "<class 'str'>\n"
     ]
    }
   ],
   "source": [
    "print(type(Realdata)) # Data type is a string"
   ]
  },
  {
   "cell_type": "code",
   "execution_count": 68,
   "metadata": {},
   "outputs": [
    {
     "data": {
      "text/plain": [
       "[{'firstName': 'Alice', 'age': 6}, {'firstName': 'Bob', 'age': 8}]"
      ]
     },
     "execution_count": 68,
     "metadata": {},
     "output_type": "execute_result"
    }
   ],
   "source": [
    "rdata = json.loads(Realdata) # Load data from strings\n",
    "type(rdata)\n",
    "# rdata['hobbies']  # Access the keys\n",
    "rdata['children'] # Access the Keys"
   ]
  },
  {
   "cell_type": "markdown",
   "metadata": {},
   "source": [
    "## More example from REAL Python"
   ]
  },
  {
   "cell_type": "code",
   "execution_count": 77,
   "metadata": {},
   "outputs": [
    {
     "name": "stdout",
     "output_type": "stream",
     "text": [
      "200\n"
     ]
    }
   ],
   "source": [
    "import json\n",
    "import requests\n",
    "\n",
    "response = requests.get(\"https://jsonplaceholder.typicode.com/todos\")\n",
    "todos = json.loads(response.text)\n",
    "\n",
    "print(len(todos))"
   ]
  },
  {
   "cell_type": "markdown",
   "metadata": {},
   "source": [
    "### Load from a website"
   ]
  },
  {
   "cell_type": "code",
   "execution_count": 97,
   "metadata": {},
   "outputs": [
    {
     "ename": "TypeError",
     "evalue": "list indices must be integers or slices, not str",
     "output_type": "error",
     "traceback": [
      "\u001b[1;31m---------------------------------------------------------------------------\u001b[0m",
      "\u001b[1;31mTypeError\u001b[0m                                 Traceback (most recent call last)",
      "Cell \u001b[1;32mIn[97], line 15\u001b[0m\n\u001b[0;32m      9\u001b[0m datas \u001b[39m=\u001b[39m json\u001b[39m.\u001b[39mloads(data) \u001b[39m# Convert to a Python object\u001b[39;00m\n\u001b[0;32m     10\u001b[0m \u001b[39m# print(json.dumps(datas, indent = 2)) # Print and view data\u001b[39;00m\n\u001b[0;32m     11\u001b[0m  \n\u001b[0;32m     12\u001b[0m \u001b[39m# print(type(datas)) # Check the data type\u001b[39;00m\n\u001b[0;32m     13\u001b[0m \u001b[39m# print(len(datas)) # Check the len of the data\u001b[39;00m\n\u001b[1;32m---> 15\u001b[0m \u001b[39mfor\u001b[39;00m item \u001b[39min\u001b[39;00m datas[\u001b[39m'\u001b[39;49m\u001b[39muserid\u001b[39;49m\u001b[39m'\u001b[39;49m][\u001b[39m'\u001b[39m\u001b[39mid\u001b[39m\u001b[39m'\u001b[39m]: \u001b[39m# Print and view data\u001b[39;00m\n\u001b[0;32m     16\u001b[0m      name \u001b[39m=\u001b[39m item[\u001b[39m'\u001b[39m\u001b[39mid\u001b[39m\u001b[39m'\u001b[39m]\n",
      "\u001b[1;31mTypeError\u001b[0m: list indices must be integers or slices, not str"
     ]
    }
   ],
   "source": [
    "# Load from website\n",
    "from urllib.request import urlopen\n",
    "with urlopen(\"https://jsonplaceholder.typicode.com/todos\") as todos:\n",
    "     data = todos.read()\n",
    "\n",
    "# print(type(data)) # Check the data type\n",
    "# print(len(data)) # Check the len of the data\n",
    "\n",
    "datas = json.loads(data) # Convert to a Python object\n",
    "# print(json.dumps(datas, indent = 2)) # Print and view data\n",
    " \n",
    "# print(type(datas)) # Check the data type\n",
    "# print(len(datas)) # Check the len of the data\n",
    "\n",
    "for item in datas['userid']['id']: # Print and view data\n",
    "     name = item['id']['']"
   ]
  }
 ],
 "metadata": {
  "kernelspec": {
   "display_name": "Python 3",
   "language": "python",
   "name": "python3"
  },
  "language_info": {
   "codemirror_mode": {
    "name": "ipython",
    "version": 3
   },
   "file_extension": ".py",
   "mimetype": "text/x-python",
   "name": "python",
   "nbconvert_exporter": "python",
   "pygments_lexer": "ipython3",
   "version": "3.11.1"
  },
  "orig_nbformat": 4,
  "vscode": {
   "interpreter": {
    "hash": "d8b3b4e871d7619eccb36f657c81b8358b8c67e5d821a2a1d625fcc2f39d1588"
   }
  }
 },
 "nbformat": 4,
 "nbformat_minor": 2
}

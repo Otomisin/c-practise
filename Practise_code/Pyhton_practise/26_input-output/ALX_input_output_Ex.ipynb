{
 "cells": [
  {
   "attachments": {},
   "cell_type": "markdown",
   "metadata": {},
   "source": [
    "# Read a file\n",
    "\n",
    "Write a function that reads a text file (UTF8) and prints it to stdout:\n",
    "\n",
    "- Prototype: def read_file(filename=\"\"):\n",
    "- You must use the with statement\n",
    "- You don’t need to manage file permission or file doesn't exist exceptions.\n",
    "- You are not allowed to import any module"
   ]
  },
  {
   "cell_type": "code",
   "execution_count": 7,
   "metadata": {},
   "outputs": [],
   "source": [
    "# Write a function that reads a text file (UTF8) and prints it to stdout:\n",
    "\n",
    "def read_file(filename=\"\"):\n",
    "    \"\"\"\"\"reads a text file(UTF8) and prints it to stdout\"\"\"\n",
    "    with open(filename, \"r\", encoding=\"utf-8\") as f:\n",
    "        print(f.read(), end='')\n"
   ]
  },
  {
   "cell_type": "code",
   "execution_count": 6,
   "metadata": {},
   "outputs": [
    {
     "name": "stdout",
     "output_type": "stream",
     "text": [
      "We offer a truly innovative approach to education:\n",
      "focus on building reliable applications and scalable systems, take on real-world challenges, collaborate with your peers. \n"
     ]
    }
   ],
   "source": [
    "read_file('my_file_0.txt')"
   ]
  },
  {
   "attachments": {},
   "cell_type": "markdown",
   "metadata": {},
   "source": [
    "# Write a file\n",
    "\n",
    "Write a function that writes a string to a text file (UTF8) and returns the number of characters written:\n",
    "\n",
    "Prototype: `def write_file(filename=\"\", text=\"\"):`\n",
    "- You must use the with statement\n",
    "- You don’t need to manage file permission exceptions.\n",
    "- Your function should create the file if doesn’t exist.\n",
    "- Your function should overwrite the content of the file if it already exists.\n",
    "- You are not allowed to import any module\n"
   ]
  },
  {
   "cell_type": "code",
   "execution_count": 20,
   "metadata": {},
   "outputs": [],
   "source": [
    "def write_file(filename= \"\", text =\"\"):\n",
    "    \"\"\"returns the number of chars written to \"filename\" from \"text\" \"\"\"\n",
    "    with open(filename, mode=\"w\", encoding=\"utf-8\") as fd:\n",
    "        fd.write(text)\n",
    "    return len(text)\n",
    "\n",
    "#or\n",
    "\n",
    "def write_file(filename = \"\", text = \"\"):\n",
    "    \"\"\"returns the number of chars written to \"filename\" from \"text\" \"\"\"\n",
    "    with open(filename, 'w', encoding='utf=8') as f:\n",
    "        return f.write(text)\n",
    "\n"
   ]
  },
  {
   "cell_type": "code",
   "execution_count": 21,
   "metadata": {},
   "outputs": [
    {
     "name": "stdout",
     "output_type": "stream",
     "text": [
      "24\n"
     ]
    }
   ],
   "source": [
    "char = write_file(\"my_first_file.txt\", \"This School is so cool!\\n\")\n",
    "print(char)"
   ]
  },
  {
   "attachments": {},
   "cell_type": "markdown",
   "metadata": {},
   "source": [
    "# Append to a file\n",
    "\n",
    "Write a function that appends a string at the end of a text file (UTF8) and returns the number of characters added:\n",
    "\n",
    "- Prototype: def append_write(filename=\"\", text=\"\"):\n",
    "- If the file doesn’t exist, it should be created\n",
    "- You must use the with statement\n",
    "- You don’t need to manage file permission or file doesn't exist exceptions.\n",
    "- You are not allowed to import any module"
   ]
  },
  {
   "cell_type": "code",
   "execution_count": 33,
   "metadata": {},
   "outputs": [],
   "source": [
    "def append_write(filename = \" \", text = \" \"):\n",
    "     \"\"\" Append a string at the end of a text file \"\"\"\n",
    "     with open(filename, 'a', encoding='utf=8') as f:\n",
    "          return f.write(text)\n",
    "     return len(text)\n"
   ]
  },
  {
   "cell_type": "code",
   "execution_count": 34,
   "metadata": {},
   "outputs": [
    {
     "data": {
      "text/plain": [
       "65"
      ]
     },
     "execution_count": 34,
     "metadata": {},
     "output_type": "execute_result"
    }
   ],
   "source": [
    "# Testing\n",
    "append_write('my_file_0.txt', \"We offer a truly innovative approach to education:\\n This is next\\n\" )\n"
   ]
  },
  {
   "attachments": {},
   "cell_type": "markdown",
   "metadata": {},
   "source": [
    "# 3. JSON string\n",
    "\n",
    "Write a function that returns the JSON representation of an object (string):\n",
    "\n",
    "- Prototype: ``def to_json_string(my_obj):``\n",
    "- You don’t need to manage exceptions if the object can’t be serialized."
   ]
  },
  {
   "cell_type": "code",
   "execution_count": 3,
   "metadata": {},
   "outputs": [],
   "source": [
    "# Testing \n",
    "import json\n",
    "\n",
    "def to_json_string(my_ob):\n",
    "     return json.dumps(my_ob)"
   ]
  },
  {
   "cell_type": "code",
   "execution_count": 6,
   "metadata": {},
   "outputs": [
    {
     "name": "stdout",
     "output_type": "stream",
     "text": [
      "[TypeError] Object of type set is not JSON serializable\n"
     ]
    }
   ],
   "source": [
    "# my_dict = { \n",
    "#     'id': 12,\n",
    "#     'name': \"John\",\n",
    "#     'places': [ \"San Francisco\", \"Tokyo\" ],\n",
    "#     'is_active': True,\n",
    "#     'info': {\n",
    "#         'age': 36,\n",
    "#         'average': 3.14\n",
    "#     }\n",
    "# }\n",
    "\n",
    "# to_json_string(my_dict)\n",
    "\n",
    "try:\n",
    "    my_set = { 132, 3 }\n",
    "    s_my_set = to_json_string(my_set)\n",
    "    print(s_my_set)\n",
    "    print(type(s_my_set))\n",
    "except Exception as e:\n",
    "    print(\"[{}] {}\".format(e.__class__.__name__, e))"
   ]
  },
  {
   "cell_type": "markdown",
   "metadata": {},
   "source": [
    "# 4. From Json string to Object"
   ]
  },
  {
   "cell_type": "code",
   "execution_count": null,
   "metadata": {},
   "outputs": [],
   "source": [
    "def to_json_string(my_obj):"
   ]
  }
 ],
 "metadata": {
  "kernelspec": {
   "display_name": "Python 3",
   "language": "python",
   "name": "python3"
  },
  "language_info": {
   "codemirror_mode": {
    "name": "ipython",
    "version": 3
   },
   "file_extension": ".py",
   "mimetype": "text/x-python",
   "name": "python",
   "nbconvert_exporter": "python",
   "pygments_lexer": "ipython3",
   "version": "3.11.1 (tags/v3.11.1:a7a450f, Dec  6 2022, 19:58:39) [MSC v.1934 64 bit (AMD64)]"
  },
  "orig_nbformat": 4,
  "vscode": {
   "interpreter": {
    "hash": "d8b3b4e871d7619eccb36f657c81b8358b8c67e5d821a2a1d625fcc2f39d1588"
   }
  }
 },
 "nbformat": 4,
 "nbformat_minor": 2
}

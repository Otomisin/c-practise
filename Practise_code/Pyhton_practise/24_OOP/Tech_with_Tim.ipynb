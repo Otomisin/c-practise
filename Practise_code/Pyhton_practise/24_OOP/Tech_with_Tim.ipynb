{
 "cells": [
  {
   "cell_type": "code",
   "execution_count": 52,
   "metadata": {},
   "outputs": [],
   "source": [
    "# Link to https://www.youtube.com/watch?v=JeznW_7DlB0&list=RDCMUC4JX40jDee_tINbkjycV4Sg&start_radio=1&rv=JeznW_7DlB0&t=2897"
   ]
  },
  {
   "cell_type": "code",
   "execution_count": 53,
   "metadata": {},
   "outputs": [
    {
     "name": "stdout",
     "output_type": "stream",
     "text": [
      "HELLO\n"
     ]
    }
   ],
   "source": [
    "string = \"Hello\"\n",
    "print(string.upper())"
   ]
  },
  {
   "cell_type": "code",
   "execution_count": 54,
   "metadata": {},
   "outputs": [
    {
     "name": "stdout",
     "output_type": "stream",
     "text": [
      "Bark\n",
      "<class '__main__.Dog'>\n",
      "4\n"
     ]
    }
   ],
   "source": [
    "class Dog:\n",
    "     def bark (self):\n",
    "          print('Bark')\n",
    "     def add_one(self, x):\n",
    "          return x + 1\n",
    "\n",
    "\n",
    "b = Dog()\n",
    "b.bark()\n",
    "print(type(b))\n",
    "\n",
    "print(b.add_one(3))\n"
   ]
  },
  {
   "cell_type": "code",
   "execution_count": 55,
   "metadata": {},
   "outputs": [
    {
     "name": "stdout",
     "output_type": "stream",
     "text": [
      "Bill\n",
      "Bill\n",
      "21\n"
     ]
    }
   ],
   "source": [
    "class Dog:\n",
    "     def __init__(self, name,age) -> None:\n",
    "          self.name = name\n",
    "          self.age = age\n",
    "\n",
    "     def get_name(self):\n",
    "          return self.name\n",
    "\n",
    "     def get_age(self):\n",
    "          return self.age\n",
    "\n",
    "     def set_new_age(self, age):\n",
    "          self.age = age\n",
    "\n",
    "d = Dog(\"Bill\", 23)\n",
    "d.set_new_age(21)\n",
    "\n",
    "print(d.get_name())\n",
    "print(d.get_name())\n",
    "print(d.get_age())"
   ]
  },
  {
   "cell_type": "code",
   "execution_count": 64,
   "metadata": {},
   "outputs": [
    {
     "ename": "AttributeError",
     "evalue": "'Course' object has no attribute 'max_students'",
     "output_type": "error",
     "traceback": [
      "\u001b[1;31m---------------------------------------------------------------------------\u001b[0m",
      "\u001b[1;31mAttributeError\u001b[0m                            Traceback (most recent call last)",
      "Cell \u001b[1;32mIn[64], line 31\u001b[0m\n\u001b[0;32m     28\u001b[0m \u001b[39m# Add the students\u001b[39;00m\n\u001b[0;32m     30\u001b[0m course \u001b[39m=\u001b[39m Course(\u001b[39m\"\u001b[39m\u001b[39mScience\u001b[39m\u001b[39m\"\u001b[39m, \u001b[39m2\u001b[39m)\n\u001b[1;32m---> 31\u001b[0m course\u001b[39m.\u001b[39;49madd_student(s1)\n\u001b[0;32m     32\u001b[0m \u001b[39m# course.add_student(s2)\u001b[39;00m\n",
      "Cell \u001b[1;32mIn[64], line 16\u001b[0m, in \u001b[0;36mCourse.add_student\u001b[1;34m(self, student)\u001b[0m\n\u001b[0;32m     15\u001b[0m \u001b[39mdef\u001b[39;00m \u001b[39madd_student\u001b[39m(\u001b[39mself\u001b[39m, student):\n\u001b[1;32m---> 16\u001b[0m      \u001b[39mif\u001b[39;00m \u001b[39mlen\u001b[39m(\u001b[39mself\u001b[39m\u001b[39m.\u001b[39mstudents) \u001b[39m<\u001b[39m \u001b[39mself\u001b[39;49m\u001b[39m.\u001b[39;49mmax_students:\n\u001b[0;32m     17\u001b[0m           \u001b[39mself\u001b[39m\u001b[39m.\u001b[39mstudents\u001b[39m.\u001b[39mappend(student)\n\u001b[0;32m     18\u001b[0m           \u001b[39mreturn\u001b[39;00m \u001b[39mTrue\u001b[39;00m\n",
      "\u001b[1;31mAttributeError\u001b[0m: 'Course' object has no attribute 'max_students'"
     ]
    }
   ],
   "source": [
    "class Student:\n",
    "     def __init__(self, name, age, grade):\n",
    "          self.name = name\n",
    "          self.age = age\n",
    "          self.grade = grade\n",
    "     def get_grade(self):\n",
    "          return self.grade\n",
    "\n",
    "class Course:\n",
    "     def __init__(self, name, max_students):\n",
    "          self.name = name\n",
    "          self.max_studens = max_students\n",
    "          self.students = []\n",
    "          \n",
    "     def add_student(self, student):\n",
    "          if len(self.students) < self.max_students:\n",
    "               self.students.append(student)\n",
    "               return True\n",
    "          return False\n",
    "     def get_average_grade(self):\n",
    "          pass\n",
    "\n",
    "## Create the students\n",
    "s1 = Student(\"Tim\", 23, 95)\n",
    "s2 = Student(\"Bill\", 19, 29)\n",
    "s3 = Student(\"Jill\", 19, 65)\n",
    "\n",
    "# Add the students\n",
    "\n",
    "course = Course(\"Science\", 2)\n",
    "course.add_student(s1)\n",
    "# course.add_student(s2)\n"
   ]
  }
 ],
 "metadata": {
  "kernelspec": {
   "display_name": "Python 3",
   "language": "python",
   "name": "python3"
  },
  "language_info": {
   "codemirror_mode": {
    "name": "ipython",
    "version": 3
   },
   "file_extension": ".py",
   "mimetype": "text/x-python",
   "name": "python",
   "nbconvert_exporter": "python",
   "pygments_lexer": "ipython3",
   "version": "3.10.9"
  },
  "orig_nbformat": 4,
  "vscode": {
   "interpreter": {
    "hash": "8f60924c770a5b78a3c055fbf437a768b94cadb0da39d7de8584be4d1611e218"
   }
  }
 },
 "nbformat": 4,
 "nbformat_minor": 2
}

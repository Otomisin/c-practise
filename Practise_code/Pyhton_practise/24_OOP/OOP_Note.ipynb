{
 "cells": [
  {
   "attachments": {},
   "cell_type": "markdown",
   "metadata": {},
   "source": [
    "1. Resource : https://python.swaroopch.com/oop.html\n",
    "2. [8. Object Oriented Programming](https://www.youtube.com/watch?v=-DP1i2ZU9gk)\n",
    "3. [Python Classes and Objects || Python Tutorial || Learn Python Programming](https://www.youtube.com/watch?v=apACNr7DC_s)\n",
    "4. [Learn to Program 9 : Object Oriented Programming](https://www.youtube.com/watch?v=1AGyBuVCTeE)\n",
    "5. [Object-Oriented Programming (OOP) in Python 3](https://realpython.com/python3-object-oriented-programming/)\n",
    "6. [Python OOP Projects | Source code and example](https://copyassignment.com/python-oop-projects-source-code-and-example/)\n",
    "7. [Classes and Objects in Python](https://pynative.com/python-classes-and-objects/)"
   ]
  },
  {
   "attachments": {},
   "cell_type": "markdown",
   "metadata": {},
   "source": [
    "## What is OOP"
   ]
  },
  {
   "attachments": {},
   "cell_type": "markdown",
   "metadata": {},
   "source": [
    "## A Class in OOP\n",
    "- A class is a blueprint for an the creation of an object\n",
    "- An object is an instance of a class with attributes and behaviours (methods)\n",
    "- Here is a snapshot of a class and object"
   ]
  },
  {
   "attachments": {},
   "cell_type": "markdown",
   "metadata": {},
   "source": [
    "Class Variables and Attributes\n",
    "\n",
    "This section has the following: \n",
    "\n",
    "- How to create a class and Objects\n",
    "- How to access class and objects\n",
    "- How to modify class and objects\n",
    "\n",
    "Instance variables are attributes attached to a an instance of a class, and it’s defined in the constructors (__ init __)"
   ]
  },
  {
   "attachments": {},
   "cell_type": "markdown",
   "metadata": {},
   "source": [
    "Example: Staff"
   ]
  },
  {
   "cell_type": "code",
   "execution_count": 29,
   "metadata": {},
   "outputs": [
    {
     "data": {
      "text/plain": [
       "'Camila'"
      ]
     },
     "execution_count": 29,
     "metadata": {},
     "output_type": "execute_result"
    }
   ],
   "source": [
    "class staff:\n",
    "    # Class Variable\n",
    "    company = 'IOM'\n",
    "\n",
    "    def __init__(self, name, sex, age, profession):\n",
    "    #instance Variable\n",
    "        self.name = name\n",
    "        self.sex = sex\n",
    "        self.age = age\n",
    "        self.proession = profession\n",
    "\n",
    "# Create an object1\n",
    "s1 = staff('Tosn', 'male', 30, 'Data Analyst')\n",
    "s2 = staff('Meryem','Female', 28, 'Reporting officer')\n",
    "s3 = staff('Jane','Female', 24, 'Reporting officer')\n",
    "# Accessing instance variable\n",
    "s1.name, s2.name\n",
    "\n",
    "# Modifying class variable\n",
    "staff.company = 'UNICEF' # Class variable changed to UNICEF\n",
    "staff.company\n",
    "\n",
    "# Modifying instance variable\n",
    "s3.name = 'Camila'\n",
    "s3.name\n",
    "\n",
    "# Deleting an i"
   ]
  },
  {
   "attachments": {},
   "cell_type": "markdown",
   "metadata": {},
   "source": [
    "Class Method vs. Static Method vs. Instance Method\n",
    "\n",
    "Instance method is used to access or modify the object state. when an instance variable is used inside a method, it is known as instance method. [source](https://www.markdownguide.org/basic-syntax/#:~:text=To%20bold%20text%2C%20add%20two,without%20spaces%20around%20the%20letters.)\n",
    "\n",
    "  - **Instance method** performs a set of actions on the data/value provided by the instance variables. If we use instance variables inside a method, such methods are called instance methods.\n",
    "  - **Class method** is method that is called on the class itself, not on a specific object instance. Therefore, it belongs to a class level, and all class instances share a class method.\n",
    "  - **Static method** is a general utility method that performs a task in isolation. This method doesn’t have access to the instance and class variable."
   ]
  },
  {
   "cell_type": "code",
   "execution_count": null,
   "metadata": {},
   "outputs": [],
   "source": []
  }
 ],
 "metadata": {
  "kernelspec": {
   "display_name": "Python 3",
   "language": "python",
   "name": "python3"
  },
  "language_info": {
   "codemirror_mode": {
    "name": "ipython",
    "version": 3
   },
   "file_extension": ".py",
   "mimetype": "text/x-python",
   "name": "python",
   "nbconvert_exporter": "python",
   "pygments_lexer": "ipython3",
   "version": "3.11.1"
  },
  "orig_nbformat": 4,
  "vscode": {
   "interpreter": {
    "hash": "d8b3b4e871d7619eccb36f657c81b8358b8c67e5d821a2a1d625fcc2f39d1588"
   }
  }
 },
 "nbformat": 4,
 "nbformat_minor": 2
}

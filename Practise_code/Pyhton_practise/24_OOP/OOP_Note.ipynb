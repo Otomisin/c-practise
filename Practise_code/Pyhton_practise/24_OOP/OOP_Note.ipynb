{
 "cells": [
  {
   "attachments": {},
   "cell_type": "markdown",
   "metadata": {},
   "source": [
    "# 0x06. Python - Classes and Objects Outline\n",
    "\n",
    "- <input type=\"checkbox\" checked> Why Python programming is awesome <input>\n",
    "- What is OOP\n",
    "- “first-class everything”\n",
    "- What is a class\n",
    "- What is an object and an instance\n",
    "- What is the difference between a class and an object or instance\n",
    "- What is an attribute\n",
    "- What are and how to use public, protected and private attributes\n",
    "- What is self\n",
    "- What is a method\n",
    "- What is the special __init__ method and how to use it\n",
    "- What is Data Abstraction, Data Encapsulation, and Information Hiding\n",
    "- What is a property\n",
    "- What is the difference between an attribute and a property in Python\n",
    "- What is the Pythonic way to write getters and setters in Python\n",
    "- How to dynamically create arbitrary new attributes for existing instances of a class\n",
    "- How to bind attributes to object and classes\n",
    "- What is the __dict__ of a class and/or instance of a class and what does it contain\n",
    "- How does Python find the attributes of an object or class\n",
    "- How to use the getattr function"
   ]
  },
  {
   "attachments": {},
   "cell_type": "markdown",
   "metadata": {},
   "source": [
    "Resources for practies\n",
    "\n",
    "1. Resource : https://python.swaroopch.com/oop.html\n",
    "2. [8. Object Oriented Programming](https://www.youtube.com/watch?v=-DP1i2ZU9gk)\n",
    "3. [Python Classes and Objects || Python Tutorial || Learn Python Programming](https://www.youtube.com/watch?v=apACNr7DC_s)\n",
    "4. [Learn to Program 9 : Object Oriented Programming](https://www.youtube.com/watch?v=1AGyBuVCTeE)\n",
    "5. [Object-Oriented Programming (OOP) in Python 3](https://realpython.com/python3-object-oriented-programming/)\n",
    "6. [Python OOP Projects | Source code and example](https://copyassignment.com/python-oop-projects-source-code-and-example/)\n",
    "7. [Classes and Objects in Python](https://pynative.com/python-classes-and-objects/)\n",
    "- [https://python.swaroopch.com/oop.html](https://python.swaroopch.com/oop.html)\n",
    "- [https://www.youtube.com/watch?v=JeznW_7DlB0](https://www.youtube.com/watch?v=JeznW_7DlB0)\n",
    "- [https://www.youtube.com/watch?v=rq8cL2XMM5M](https://www.youtube.com/watch?v=ZDa-Z5JzLYM&list=PL-osiE80TeTsqhIuOqKhwlXsIBIdSeYtc)\n",
    "- [https://realpython.com/python3-object-oriented-programming/](https://realpython.com/python3-object-oriented-programming/)\n",
    "- [https://static.realpython.com/guides/oop-in-python-best-resources.pdf](https://static.realpython.com/guides/oop-in-python-best-resources.pdf)\n",
    "- [U****nderstanding: Managing Attributes With Python's property():****](https://getliner.com/picked-by-liner/reader-mode?url=https%3A%2F%2Frealpython.com%2Fpython-property%2F)"
   ]
  },
  {
   "attachments": {},
   "cell_type": "markdown",
   "metadata": {},
   "source": [
    "## What is OOP"
   ]
  },
  {
   "attachments": {},
   "cell_type": "markdown",
   "metadata": {},
   "source": [
    "## A Class in OOP\n",
    "- A class is a blueprint for an the creation of an object\n",
    "- An object is an instance of a class with attributes and behaviours (methods)\n",
    "- Here is a snapshot of a class and object"
   ]
  },
  {
   "attachments": {},
   "cell_type": "markdown",
   "metadata": {},
   "source": [
    "Instance and Class Variable\n",
    "\n",
    "- How to create a class and Objects variable\n",
    "- How to access class and objects\n",
    "- How to modify class and objects\n",
    "\n",
    "Instance variables are attributes attached to a an instance of a class, and it’s defined in the constructors (__ init __)"
   ]
  },
  {
   "attachments": {},
   "cell_type": "markdown",
   "metadata": {},
   "source": [
    "Example: Staff"
   ]
  },
  {
   "cell_type": "code",
   "execution_count": 44,
   "metadata": {},
   "outputs": [
    {
     "data": {
      "text/plain": [
       "('UNICEF', 'London')"
      ]
     },
     "execution_count": 44,
     "metadata": {},
     "output_type": "execute_result"
    }
   ],
   "source": [
    "class staff:\n",
    "    # Class Variable\n",
    "    company = 'IOM'\n",
    "    location = 'London'\n",
    "\n",
    "    def __init__(self, name, sex, age, profession):\n",
    "    #instance Variable\n",
    "        self.name = name\n",
    "        self.sex = sex\n",
    "        self.age = age\n",
    "        self.proession = profession\n",
    "\n",
    "    #nstance method\n",
    "    def department(self):\n",
    "        print(f\"{self.profession}\")\n",
    "\n",
    "\n",
    "# Create an object1\n",
    "s1 = staff('Tosn', 'male', 30, 'Data Analyst')\n",
    "s2 = staff('Meryem','Female', 28, 'Reporting officer')\n",
    "s3 = staff('Jane','Female', 24, 'Reporting officer')\n",
    "# Accessing instance variable\n",
    "s1.name, s2.name\n",
    "\n",
    "# Modifying class variable\n",
    "staff.company = 'UNICEF' # Class variable changed to UNICEF\n",
    "staff.company, staff.location\n",
    "\n",
    "# # Modifying instance variable\n",
    "# s3.name = 'Camila'\n",
    "# s3.name\"\n"
   ]
  },
  {
   "attachments": {},
   "cell_type": "markdown",
   "metadata": {},
   "source": [
    "Class Method vs. Static Method vs. Instance Method\n",
    "\n",
    "Instance method is used to access or modify the object state. when an instance variable is used inside a method, it is known as instance method. [source](https://www.markdownguide.org/basic-syntax/#:~:text=To%20bold%20text%2C%20add%20two,without%20spaces%20around%20the%20letters.)\n",
    "\n",
    "  - **Instance method** performs a set of actions on the data/value provided by the instance variables. If we use instance variables inside a method, such methods are called instance methods.\n",
    "  - **Class method** is method that is called on the class itself, not on a specific object instance. Therefore, it belongs to a class level, and all class instances share a class method.\n",
    "  - **Static method** is a general utility method that performs a task in isolation. This method doesn’t have access to the instance and class variable."
   ]
  },
  {
   "cell_type": "code",
   "execution_count": 37,
   "metadata": {},
   "outputs": [],
   "source": [
    "class staff:\n",
    "    # Class Variable\n",
    "    company = 'IOM'\n",
    "    Staffno = 0\n",
    "\n",
    "    def __init__(self, name, sex, age, profession):\n",
    "    #instance Variable\n",
    "        self.name = name\n",
    "        self.sex = sex\n",
    "        self.age = age\n",
    "        self.proession = profession\n",
    "\n",
    "    #nstance method\n",
    "    def department(self):\n",
    "        print(f\"{self.profession}\")\n",
    "        \n",
    "    # Class method\n",
    "    @classmethod\n",
    "    def getStaffno(cls):\n",
    "        return cls.Staffno\n",
    "        \n",
    "\n",
    "\n",
    "# Create an object1\n",
    "s1 = staff('Tosn', 'male', 30, 'Data Analyst')\n",
    "s2 = staff('Meryem','Female', 28, 'Reporting officer')\n",
    "s3 = staff('Jane','Female', 24, 'Reporting officer')\n",
    "\n",
    "# Accessing instance variable\n",
    "s1.name, s2.name\n",
    "\n",
    "# add new instance variable 'marks' to s1(Staff 1)\n",
    "s1.marks = 75\n",
    "s1.name, s1.marks\n",
    "\n",
    "# # Modifying class variable\n",
    "# staff.company = 'UNICEF' # Class variable changed to UNICEF\n",
    "# staff.company\n",
    "\n",
    "# # Modifying instance variable\n",
    "# s3.name = 'Camila'\n",
    "# s3.name\n",
    "\n",
    "# # Deleting an instance Variable\n",
    "del s1.marks\n",
    "# s1.marks # marks no longer exist"
   ]
  },
  {
   "attachments": {},
   "cell_type": "markdown",
   "metadata": {},
   "source": [
    "## Inheretance\n",
    "\n",
    "https://pynative.com/python-class-variables/"
   ]
  },
  {
   "attachments": {},
   "cell_type": "markdown",
   "metadata": {},
   "source": [
    "Class and Instance methods\n",
    "\n",
    "In Python, an instance method is a method that is bound to a specific instance of a class. It can access and modify instance variables, and it is called on an instance of the class.\n",
    "\n",
    "Instance methods are commonly used in Python classes to implement behaviors that depend on the state of an individual object. The method can access and manipulate the attributes of the instance, which enables it to modify the state of the object or retrieve information about the object.\n",
    "\n",
    "In this example, we have defined a class Car with an instance method drive. The __init__ method initializes the instance variables make, model, year, and mileage of the Car object. The drive method takes one parameter, distance, which is the number of miles that the car has been driven. The method updates the mileage instance variable of the Car object by adding the distance parameter to it and then prints a message that indicates the amount of distance driven and the total mileage of the car.\n",
    "\n",
    "The drive method is an instance method because it is defined inside the Car class and operates on the mileage instance variable of the Car object. We create an instance of the Car class (car1) and call the drive method on it, passing 100 as the distance parameter. The output shows the message generated by the drive method, which reflects the updated mileage of the car"
   ]
  },
  {
   "cell_type": "code",
   "execution_count": 38,
   "metadata": {},
   "outputs": [
    {
     "name": "stdout",
     "output_type": "stream",
     "text": [
      "The Toyota Corolla has been driven 100 miles. Total mileage: 5100.\n"
     ]
    }
   ],
   "source": [
    "class Car:\n",
    "    def __init__(self, make, model, year, mileage):\n",
    "        self.make = make\n",
    "        self.model = model\n",
    "        self.year = year\n",
    "        self.mileage = mileage\n",
    "    \n",
    "    def drive(self, distance):\n",
    "        self.mileage += distance\n",
    "        print(f\"The {self.make} {self.model} has been driven {distance} miles. Total mileage: {self.mileage}.\")\n",
    "        \n",
    "car1 = Car(\"Toyota\", \"Corolla\", 2021, 5000)\n",
    "car1.drive(100)  # Output: The Toyota Corolla has been driven 100 miles. Total mileage: 5100."
   ]
  },
  {
   "attachments": {},
   "cell_type": "markdown",
   "metadata": {},
   "source": [
    "Class method\n",
    "\n",
    "In Python, a class method is a method that is bound to the class and not to the instance of the class. It can access and modify class-level attributes, and it is called on the class itself.\n",
    "\n",
    "Class methods are commonly used in Python classes when you need to perform an operation that involves the class itself or class-level attributes, rather than the instance-level attributes. This is useful when you want to maintain a global state for the class or need to perform a computation that is independent of the instance state.\n",
    "\n",
    "Here's an example to illustrate the concept of class methods"
   ]
  },
  {
   "cell_type": "code",
   "execution_count": 39,
   "metadata": {},
   "outputs": [
    {
     "name": "stdout",
     "output_type": "stream",
     "text": [
      "1.04\n",
      "1.04\n",
      "1.04\n",
      "1.05\n",
      "1.05\n",
      "1.05\n"
     ]
    }
   ],
   "source": [
    "class Employee:\n",
    "    # Class variable \n",
    "    num_of_employees = 0\n",
    "    raise_amt = 1.04\n",
    "\n",
    "    def __init__(self, first_name, last_name, salary):\n",
    "        self.first_name = first_name # Instance-level attribute to store the first name of the staff\n",
    "        self.last_name = last_name  # Instance-level attribute to store the last name of the staff\n",
    "        self.salary = salary        # Instance-level attribute to store the salary of the staff\n",
    "        Employee.num_of_employees += 1 # Increment the number of staffs each time a new object is created\n",
    "\n",
    "    # Instance method to return the full name of the staff\n",
    "    def full_name(self):\n",
    "        return f\"{self.first_name} {self.last_name}\"\n",
    "    \n",
    "    # Instance method\n",
    "    def apply_raise(self):\n",
    "        self.salary = int(self.salary * self.raise_amt)\n",
    "\n",
    "    # Class method\n",
    "    @classmethod\n",
    "    def set_raise_amt(cls, amount):\n",
    "        cls.raise_amt = amount #Class method to set the value of raise_amt attribute for the Staff class\n",
    "\n",
    "emp1 = Employee(\"John\", \"Doe\", 50000)\n",
    "emp2 = Employee(\"Jane\", \"Doe\", 60000)\n",
    "\n",
    "print(Employee.raise_amt)    # Output: 1.04\n",
    "print(emp1.raise_amt)        # Output: 1.04\n",
    "print(emp2.raise_amt)        # Output: 1.04\n",
    "\n",
    "Employee.set_raise_amt(1.05)\n",
    "\n",
    "print(Employee.raise_amt)    # Output: 1.05\n",
    "print(emp1.raise_amt)        # Output: 1.05\n",
    "print(emp2.raise_amt)        # Output: 1.05\n"
   ]
  },
  {
   "attachments": {},
   "cell_type": "markdown",
   "metadata": {},
   "source": [
    "Decorators, Setter and Getters\n",
    "\n",
    "- What are getters and setters?\n",
    "    - **Getter:** A method that allows you to *access* an attribute in a given class.  It returns the targets attribute’s value.\n",
    "    - **Setter:** A method that allows you to *set* or *mutate* the value of an attribute in a class. It takes a new value and assign it to the underlying attribute, hence updating the value.\n",
    "    - Why use getters and setters?\n",
    "        - Getters and Setter allow you to access and mutate private attributes while maintaining **encapsulation (***Encapsulation is **a way to restrict the direct access to some components of an object** , so users cannot access state values for all of the variables of a particular object. Encapsulation can be used to hide both data members and data functions or methods associated with an instantiated class or object***)**\n",
    "        - Setter and getters are not the same in other programing languages\n",
    "        - The main purpose of using setters and getters in OOP is ensure data encapsulation.\n",
    "        - To avoid direct access of a class field i.e. private variables cannot be accessed directly or modified by external user\n",
    "    - If you expose the attributes of a class to your users, then those attributes automatically become part of the class’s public [API](https://en.wikipedia.org/wiki/API). They’ll be **public attributes**, which means that your users will directly access and mutate the attributes in their code.\n",
    "- How to write **getter** and **setter** methods in your classes\n",
    "    - implementing a setter and getter requires you to make the atrtibutes public and write a getter and setter method for each attribute.\n",
    "    - You can access and mutate attributes in two ways:\n",
    "        - Access and mutate attribute directly\n",
    "        - Use methods to access and mutate the attribute"
   ]
  },
  {
   "attachments": {},
   "cell_type": "markdown",
   "metadata": {},
   "source": [
    "## Data Abstraction, Data Encapsulation, and Information Hiding\n",
    "\n",
    "Data Abstraction, Data Encapsulation, and Information Hiding are three important concepts in Object-Oriented Programming that are used to design and implement software systems.\n",
    "\n",
    "**Data Abstraction** refers to the process of defining a __simplified interface for complex data structures or systems__. In other words, it is the process of hiding complex details and exposing only the essential features of an object or system to the user. The user does not need to know how the object works internally, they only need to know how to use it.\n",
    "\n",
    "For example, consider a car. A driver does not need to know how the engine works internally or how the transmission system operates. The driver only needs to know how to start the car, accelerate, brake, and change gears. The details of how the car works internally are abstracted away from the driver.\n",
    "\n",
    "**Data Encapsulation** is the process of packaging data and methods that operate on that data into a single unit. This concept is also known as information hiding. Encapsulation provides a mechanism for restricting access to the data and methods of an object. It ensures that the data is accessed only through the methods defined in the class and not directly.\n",
    "\n",
    "For example, consider a bank account. A bank account has data such as the account number, account balance, and account holder name, and methods such as deposit, withdraw, and check balance. The data and methods of the bank account are encapsulated in a class. The data is accessed only through the methods defined in the class, and not directly. This ensures that the data is protected from unauthorized access and modification.\n",
    "\n",
    "**Information Hiding** refers to the process of hiding the implementation details of an object from the user. The user does not need to know how the object works internally, they only need to know how to use it. This concept is closely related to Data Abstraction and Data Encapsulation.\n",
    "\n",
    "For example, consider a smartphone. A user does not need to know how the operating system of the smartphone works internally or how the individual components such as the CPU or RAM operate. The user only needs to know how to use the apps on the smartphone, make calls, send messages, and browse the internet. The implementation details of the smartphone are hidden from the user.\n",
    "\n",
    "In summary, Data Abstraction, Data Encapsulation, and Information Hiding are important concepts in Object-Oriented Programming that help in designing and implementing software systems that are easy to use, maintain, and modify."
   ]
  },
  {
   "attachments": {},
   "cell_type": "markdown",
   "metadata": {},
   "source": [
    "## Difference between an attribute and a property in Python with examples\n",
    "\n",
    "Attribute\n",
    "- An attribute is a variable that belongs to an object. It is defined in the class and holds a value that can be accessed and modified directly. \n",
    "- Attributes can be public, meaning they can be accessed and modified from outside the class, or private, meaning they can only be accessed and modified from within the class.\n",
    "- In the example below, *width* and *height* are attributes of the Rectangle class.\n",
    "\n",
    "    ```\n",
    "    class Rectangle:\n",
    "        def __init__(self, width, height): \n",
    "            self.width = width\n",
    "            self.height = height\n",
    "    ```\n",
    "Property\n",
    "\n",
    " - property is a special kind of attribute that has getter and setter methods. The getter method is used to retrieve the value of the property, and the setter method is used to set the value of the property. Properties are often used when we want to control access to an attribute or when we want to calculate a value dynamically.\n",
    " - Here is an example of property\n",
    " \n",
    " In this code example, we have a Circle class with three methods that define two properties and one attribute. Here are the comments for each method:\n",
    "\n",
    "    ```__init__:``` This is the constructor method that takes a radius parameter and initializes the _radius attribute with the passed-in value.\n",
    "    radius: This is a property with a getter method that returns the value of the _radius attribute. The property allows us to access the _radius attribute like an attribute, but it is actually a method that calculates the value on-the-fly.\n",
    "\n",
    "    radius.setter: This is a setter method for the radius property. It checks if the new value is negative and raises a ValueError if it is. Otherwise, it sets the _radius attribute to the new value.\n",
    "\n",
    "    area: This is a property with a getter method that calculates and returns the area of the circle based on the _radius attribute. The property allows us to access the area like an attribute, but it is actually a method that calculates the value on-the-fly.\n"
   ]
  },
  {
   "cell_type": "code",
   "execution_count": 47,
   "metadata": {},
   "outputs": [],
   "source": [
    "class Circle:\n",
    "    def __init__(self, radius):\n",
    "        self._radius = radius  # Initialize the _radius attribute with the passed in radius value\n",
    "    \n",
    "    @property\n",
    "    def radius(self):\n",
    "        return self._radius  # Getter method for the _radius property\n",
    "    \n",
    "    @radius.setter\n",
    "    def radius(self, value):\n",
    "        if value < 0:  # Check if the new radius value is negative\n",
    "            raise ValueError(\"Radius cannot be negative\")  # Raise a ValueError if the radius is negative\n",
    "        self._radius = value  # Set the _radius attribute to the new value\n",
    "    \n",
    "    @property\n",
    "    def area(self):\n",
    "        return 3.14 * self._radius ** 2  # Calculate and return the area of the circle based on the _radius attribute\n"
   ]
  },
  {
   "attachments": {},
   "cell_type": "markdown",
   "metadata": {},
   "source": [
    "## Public, protected and private attributes \n",
    "\n",
    "In Python, attributes and methods can have different levels of access control. There are three levels of access control: public, protected, and private. Here are the rules for each level:\n",
    "\n",
    "- Public: These attributes and methods are accessible from anywhere, both inside and outside the class. Public attributes and methods are denoted by their names starting with a lowercase letter.\n",
    "- Protected: These attributes and methods are accessible only from within the class and its subclasses. Protected attributes and methods are denoted by their names starting with a single underscore **`_`**.\n",
    "- Private: These attributes and methods are accessible only from within the class. Private attributes and methods are denoted by their names starting with two underscores **`__`**."
   ]
  },
  {
   "attachments": {},
   "cell_type": "markdown",
   "metadata": {},
   "source": [
    "Public attributes and methods Example\n",
    "\n",
    "In this example, x is a public attribute and public_method() is a public method. They can be accessed and called from outside the class using the object obj1."
   ]
  },
  {
   "cell_type": "code",
   "execution_count": 49,
   "metadata": {},
   "outputs": [
    {
     "name": "stdout",
     "output_type": "stream",
     "text": [
      "10\n",
      "This is a public method.\n"
     ]
    }
   ],
   "source": [
    "# Public attributes and methods Example\n",
    "class PublicClass:\n",
    "    def __init__(self, x):\n",
    "        self.x = x   # Public attribute\n",
    "        \n",
    "    def public_method(self):\n",
    "        print(\"This is a public method.\")\n",
    "        \n",
    "obj1 = PublicClass(10)\n",
    "print(obj1.x)   # Accessing public attribute\n",
    "obj1.public_method()   # Calling public method\n"
   ]
  },
  {
   "attachments": {},
   "cell_type": "markdown",
   "metadata": {},
   "source": [
    "Protected attributes and methods example\n",
    "\n",
    "In this example, _x is a protected attribute and _protected_method() is a protected method. They can only be accessed and called from within the class and its subclasses. The subclass SubClass can access the protected attribute and method of the superclass ProtectedClass using the super() function."
   ]
  },
  {
   "cell_type": "code",
   "execution_count": 50,
   "metadata": {},
   "outputs": [
    {
     "name": "stdout",
     "output_type": "stream",
     "text": [
      "10\n",
      "This is a protected method.\n"
     ]
    }
   ],
   "source": [
    "# Protected attributes and methods\n",
    "class ProtectedClass:\n",
    "    def __init__(self, x):\n",
    "        self._x = x   # Protected attribute\n",
    "        \n",
    "    def _protected_method(self):\n",
    "        print(\"This is a protected method.\")\n",
    "        \n",
    "class SubClass(ProtectedClass):\n",
    "    def __init__(self, x, y):\n",
    "        super().__init__(x) # Call the constructor of the superclass\n",
    "        self._y = y\n",
    "        \n",
    "    def print_values(self):\n",
    "        print(self._x)   # Accessing protected attribute\n",
    "        self._protected_method()   # Calling protected method\n",
    "        \n",
    "obj2 = SubClass(10, 20)\n",
    "obj2.print_values()   # Accessing protected attribute and calling protected method\n"
   ]
  },
  {
   "attachments": {},
   "cell_type": "markdown",
   "metadata": {},
   "source": [
    "Private attributes and methods example"
   ]
  },
  {
   "cell_type": "code",
   "execution_count": null,
   "metadata": {},
   "outputs": [],
   "source": [
    "# Private attributes and methods\n",
    "class PrivateClass:\n",
    "    def __init__(self, x):\n",
    "        self.__x = x   # Private attribute\n",
    "        \n",
    "    def __private_method(self):\n",
    "        print(\"This is a private method.\")\n",
    "        \n",
    "class SubClass(PrivateClass):\n",
    "    def __init__(self, x, y):\n",
    "        super().__init__(x)\n",
    "        self.__y = y\n",
    "        \n",
    "    def print_values(self):\n",
    "        print(self._PrivateClass__x)   # Accessing private attribute\n",
    "        self._PrivateClass__private_method()   # Calling private method\n",
    "        \n",
    "obj3 = SubClass(10, 20)\n",
    "obj3.print_values()   # Accessing private attribute and calling private method\n"
   ]
  },
  {
   "attachments": {},
   "cell_type": "markdown",
   "metadata": {},
   "source": [
    "Public, protected and private methods and attribute Example\n",
    "\n",
    "In this example, public is a public attribute, _protected is a protected attribute, and __private is a private attribute. Similarly, public_method() is a public method, _protected_method() is a protected method, and __private_method() is a private method.\n",
    "\n",
    "To access these attributes and methods from within the class, you can use them directly. However, to access protected and private attributes and methods from outside the class, you need to use the protected and private name mangling conventions, respectively. For example, to access the private attribute __private from outside the class, you would use the name _MyClass__private.\n",
    "\n",
    "Note that accessing protected and private attributes and methods from outside the class directly is not recommended, as it goes against the principles of information hiding and can make the code less maintainable."
   ]
  },
  {
   "cell_type": "code",
   "execution_count": 52,
   "metadata": {},
   "outputs": [
    {
     "name": "stdout",
     "output_type": "stream",
     "text": [
      "public\n",
      "This is a public method\n",
      "protected\n",
      "new_protected\n",
      "protected\n",
      "new_sub_protected\n",
      "private\n",
      "new_private\n",
      "private\n",
      "new_sub_private\n",
      "This is a private method\n",
      "This is a private method\n"
     ]
    }
   ],
   "source": [
    "class MyClass:\n",
    "    def __init__(self, public, _protected, __private):\n",
    "        self.public = public          # public attribute\n",
    "        self._protected = _protected  # protected attribute\n",
    "        self.__private = __private    # private attribute\n",
    "\n",
    "    # public method to get the protected attribute\n",
    "    def get_protected(self):\n",
    "        return self._protected\n",
    "\n",
    "    # public method to set the protected attribute\n",
    "    def set_protected(self, value):\n",
    "        self._protected = value\n",
    "\n",
    "    # public method to get the private attribute\n",
    "    def get_private(self):\n",
    "        return self.__private\n",
    "\n",
    "    # public method to set the private attribute\n",
    "    def set_private(self, value):\n",
    "        self.__private = value\n",
    "\n",
    "    # public method to access the private method\n",
    "    def call_private_method(self):\n",
    "        return self.__private_method()\n",
    "\n",
    "    # public method\n",
    "    def public_method(self):\n",
    "        return \"This is a public method\"\n",
    "\n",
    "    # protected method\n",
    "    def _protected_method(self):\n",
    "        return \"This is a protected method\"\n",
    "\n",
    "    # private method\n",
    "    def __private_method(self):\n",
    "        return \"This is a private method\"\n",
    "\n",
    "class MySubClass(MyClass):\n",
    "    def __init__(self, public, _protected, __private, sub_public):\n",
    "        super().__init__(public, _protected, __private)\n",
    "        self.sub_public = sub_public\n",
    "\n",
    "obj = MyClass(\"public\", \"protected\", \"private\")\n",
    "sub_obj = MySubClass(\"public\", \"protected\", \"private\", \"sub_public\")\n",
    "\n",
    "# Accessing public attributes and methods\n",
    "print(obj.public)           # Output: public\n",
    "print(obj.public_method())  # Output: This is a public method\n",
    "\n",
    "# Accessing protected attributes and methods using public methods\n",
    "print(obj.get_protected())               # Output: protected\n",
    "obj.set_protected(\"new_protected\")\n",
    "print(obj.get_protected())               # Output: new_protected\n",
    "print(sub_obj.get_protected())           # Output: protected\n",
    "sub_obj.set_protected(\"new_sub_protected\")\n",
    "print(sub_obj.get_protected())           # Output: new_sub_protected\n",
    "\n",
    "# Accessing private attributes and methods using public methods\n",
    "print(obj.get_private())               # Output: private\n",
    "obj.set_private(\"new_private\")\n",
    "print(obj.get_private())               # Output: new_private\n",
    "print(sub_obj.get_private())           # Output: private\n",
    "sub_obj.set_private(\"new_sub_private\")\n",
    "print(sub_obj.get_private())           # Output: new_sub_private\n",
    "\n",
    "# Accessing private method using public method\n",
    "print(obj.call_private_method())               # Output: This is a private method\n",
    "print(sub_obj.call_private_method())           # Output: This is a private method\n"
   ]
  },
  {
   "attachments": {},
   "cell_type": "markdown",
   "metadata": {},
   "source": [
    "## Python super()?\n",
    "\n",
    "Sure! super() is a built-in function in Python that allows you to call methods from a parent class, also known as a superclass. \n",
    "Why use super ()\n",
    "- Allows us to avoid using the base class name explicitly\n",
    "- Working with Multiple Inheritance\n",
    "\n",
    "Here's an example code with comments that demonstrate how super() works:\n",
    "\n",
    "In this code, we have a **`Parent`** class with an **`__init__`** method that sets the **`name`** attribute and a **`say_hello`** method that prints a message with the **`name`**. We also have a **`Child`** class that inherits from **`Parent`** and has its own **`__init__`** method that sets the **`age`** attribute, and a **`say_hello`** method that calls the parent class's **`say_hello`** method and then prints the **`age`**.\n",
    "\n",
    "When we create an instance of **`Child`** and call its **`say_hello`** method, it first calls the **`say_hello`** method from the **`Parent`** class using **`super().say_hello()`**, which prints the message \"Hello, I am Alice!\". Then it prints the message \"I am 10 years old.\", which was added by the **`Child`** class's implementation of **`say_hello`**.\n",
    "\n",
    "By using **`super()`**, we were able to call the **`Parent`** class's **`say_hello`** method without having to rewrite it in the **`Child`** class, and still add our own functionality to the method."
   ]
  },
  {
   "cell_type": "code",
   "execution_count": 55,
   "metadata": {},
   "outputs": [
    {
     "name": "stdout",
     "output_type": "stream",
     "text": [
      "Hello, I am Alice!\n",
      "I am 10 years old.\n"
     ]
    }
   ],
   "source": [
    "class Parent:\n",
    "    def __init__(self, name):\n",
    "        self.name = name\n",
    "\n",
    "    def say_hello(self):\n",
    "        print(f\"Hello, I am {self.name}!\")\n",
    "\n",
    "class Child(Parent):\n",
    "    def __init__(self, name, age):\n",
    "        # Call the parent class's constructor with the name parameter\n",
    "        super().__init__(name)\n",
    "        self.age = age\n",
    "\n",
    "    def say_hello(self):\n",
    "        # Call the parent class's say_hello method\n",
    "        super().say_hello()\n",
    "        print(f\"I am {self.age} years old.\")\n",
    "\n",
    "# Create an instance of Child and call its methods\n",
    "c = Child(\"Alice\", 10)\n",
    "c.say_hello()"
   ]
  },
  {
   "cell_type": "code",
   "execution_count": 59,
   "metadata": {},
   "outputs": [
    {
     "name": "stdout",
     "output_type": "stream",
     "text": [
      "Hello from Parent2!\n"
     ]
    },
    {
     "ename": "AttributeError",
     "evalue": "'super' object has no attribute 'say_hello'",
     "output_type": "error",
     "traceback": [
      "\u001b[1;31m---------------------------------------------------------------------------\u001b[0m",
      "\u001b[1;31mAttributeError\u001b[0m                            Traceback (most recent call last)",
      "Cell \u001b[1;32mIn[59], line 18\u001b[0m\n\u001b[0;32m     16\u001b[0m \u001b[39m# Create an instance of Child and call its say_hello method\u001b[39;00m\n\u001b[0;32m     17\u001b[0m c \u001b[39m=\u001b[39m Child()\n\u001b[1;32m---> 18\u001b[0m c\u001b[39m.\u001b[39;49msay_hello()\n",
      "Cell \u001b[1;32mIn[59], line 14\u001b[0m, in \u001b[0;36mChild.say_hello\u001b[1;34m(self)\u001b[0m\n\u001b[0;32m     12\u001b[0m \u001b[39msuper\u001b[39m(Parent1, \u001b[39mself\u001b[39m)\u001b[39m.\u001b[39msay_hello()\n\u001b[0;32m     13\u001b[0m \u001b[39m# Call the say_hello method from Parent2 using super()\u001b[39;00m\n\u001b[1;32m---> 14\u001b[0m \u001b[39msuper\u001b[39;49m(Parent2, \u001b[39mself\u001b[39;49m)\u001b[39m.\u001b[39;49msay_hello()\n",
      "\u001b[1;31mAttributeError\u001b[0m: 'super' object has no attribute 'say_hello'"
     ]
    }
   ],
   "source": [
    "class Parent1:\n",
    "    def say_hello(self):\n",
    "        print(\"Hello from Parent1!\")\n",
    "\n",
    "class Parent2:\n",
    "    def say_hello(self):\n",
    "        print(\"Hello from Parent2!\")\n",
    "\n",
    "class Child(Parent1, Parent2):\n",
    "    def say_hello(self):\n",
    "        # Call the say_hello method from Parent1 using super()\n",
    "        super(Parent1, self).say_hello()\n",
    "        # Call the say_hello method from Parent2 using super()\n",
    "        super(Parent2, self).say_hello()\n",
    "\n",
    "# Create an instance of Child and call its say_hello method\n",
    "c = Child()\n",
    "c.say_hello()\n"
   ]
  },
  {
   "attachments": {},
   "cell_type": "markdown",
   "metadata": {},
   "source": [
    "## Setters and Getters ??\n",
    "\n",
    "Resources\n",
    "-   [Getters and Setters: Manage Attributes in Python](https://realpython.com/python-getter-setter/)\n",
    "\n",
    "Note:\n",
    "\n",
    "- **Getter:** A method that allows you to *access* an attribute in a given class.  It returns the targets attribute’s value.\n",
    "- **Setter:** A method that allows you to *set* or *mutate* the value of an attribute in a class. It takes a new value and assign it to the underlying attribute, hence updating the value.\n",
    "- Why use getters and setters?\n",
    "    - Getters and Setter allow you to access and mutate private attributes while maintaining **encapsulation (***Encapsulation is **a way to restrict the direct access to some components of an object** , so users cannot access state values for all of the variables of a particular object. Encapsulation can be used to hide both data members and data functions or methods associated with an instantiated class or object***)**\n",
    "    - Setter and getters are not the same in other programing languages\n",
    "    - The main purpose of using setters and getters in OOP is ensure data encapsulation.\n",
    "    - To avoid direct access of a class field i.e. private variables cannot be accessed directly or modified by external user"
   ]
  },
  {
   "cell_type": "markdown",
   "metadata": {},
   "source": [
    "# 0x08. Python - More Classes and Objects"
   ]
  },
  {
   "attachments": {},
   "cell_type": "markdown",
   "metadata": {},
   "source": [
    "Resources\n",
    "\n",
    "- [Object Oriented Programming](https://intranet.alxswe.com/rltoken/M-MFweENpRdEfRto_Gzlvg) (*Read everything until the paragraph “Inheritance” (excluded)*)\n",
    "- [Object-Oriented Programming](https://intranet.alxswe.com/rltoken/_Awd8Gn4SBdq2FRd_bY8KA) (*Please be careful: in most of the following paragraphs, the author shows the way you should not use or write a class, in order to help you better understand some concepts and how everything works in Python 3. Make sure you read only the following paragraphs: “General Introduction,” “First-class Everything,” “A Minimal Class in Python,” “Attributes,” “Methods,” “The `__init__` Method,” “Data Abstraction, Data Encapsulation, and Information Hiding,” “`__str__`and `__repr__`Methods,” “Public- Protected- and Private Attributes,” & “Destructor”*)\n",
    "- [Class and Instance Attributes](https://intranet.alxswe.com/rltoken/SGQIevRxW6lTgr4jGDzXbw)\n",
    "- [classmethods and staticmethods](https://intranet.alxswe.com/rltoken/Ij1EnTg02gtIknOkNv4xGA)\n",
    "- [Properties vs. Getters and Setters](https://intranet.alxswe.com/rltoken/xjpk-jUNe0uGEzcNXbwIHQ) (*Mainly the last part “Public instead of Private Attributes”*)\n",
    "- [str vs repr](https://intranet.alxswe.com/rltoken/iu1ILT-t6FMuZvk7vRvfuQ)"
   ]
  },
  {
   "attachments": {},
   "cell_type": "markdown",
   "metadata": {},
   "source": [
    "Ourline: \n",
    "\n",
    "- Why Python programming is awesome\n",
    "- What is OOP\n",
    "- “first-class everything”\n",
    "- What is a class\n",
    "- What is an object and an instance\n",
    "- What is the difference between a class and an object or instance\n",
    "- What is an attribute\n",
    "- What are and how to use public, protected and private attributes\n",
    "- What is `self`\n",
    "- What is a method\n",
    "- What is the special `__init__` method and how to use it\n",
    "- What is Data Abstraction, Data Encapsulation, and Information Hiding\n",
    "- What is a property\n",
    "- What is the difference between an attribute and a property in Python\n",
    "- What is the Pythonic way to write getters and setters in Python\n",
    "- What are the special `__str__` and `__repr__` methods and how to use them\n",
    "- What is the difference between `__str__` and `__repr__`\n",
    "- What is a class attribute\n",
    "- What is the difference between a object attribute and a class attribute\n",
    "- What is a class method\n",
    "- What is a static method\n",
    "- How to dynamically create arbitrary new attributes for existing instances of a class\n",
    "- How to bind attributes to object and classes\n",
    "- What is and what does contain `__dict__` of a class and of an instance of a class\n",
    "- How does Python find the attributes of an object or class\n",
    "- How to use the `getattr` function"
   ]
  },
  {
   "cell_type": "markdown",
   "metadata": {},
   "source": [
    "# 0x09. Python - Everything is object**"
   ]
  },
  {
   "attachments": {},
   "cell_type": "markdown",
   "metadata": {},
   "source": [
    "# 254 0x0A. Python - Inheritance**"
   ]
  }
 ],
 "metadata": {
  "kernelspec": {
   "display_name": "Python 3",
   "language": "python",
   "name": "python3"
  },
  "language_info": {
   "codemirror_mode": {
    "name": "ipython",
    "version": 3
   },
   "file_extension": ".py",
   "mimetype": "text/x-python",
   "name": "python",
   "nbconvert_exporter": "python",
   "pygments_lexer": "ipython3",
   "version": "3.11.1"
  },
  "orig_nbformat": 4,
  "vscode": {
   "interpreter": {
    "hash": "d8b3b4e871d7619eccb36f657c81b8358b8c67e5d821a2a1d625fcc2f39d1588"
   }
  }
 },
 "nbformat": 4,
 "nbformat_minor": 2
}

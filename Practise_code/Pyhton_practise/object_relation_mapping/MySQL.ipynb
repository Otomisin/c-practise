{
 "cells": [
  {
   "cell_type": "markdown",
   "metadata": {},
   "source": [
    "**Table of Contents**\n",
    "\n",
    "- [Comparing MySQL to Other SQL Databases](https://realpython.com/python-mysql/#comparing-mysql-to-other-sql-databases)\n",
    "- [Installing MySQL Server and MySQL Connector/Python](https://realpython.com/python-mysql/#installing-mysql-server-and-mysql-connectorpython)\n",
    "    - [Installing MySQL Server](https://realpython.com/python-mysql/#installing-mysql-server)\n",
    "    - [Installing MySQL Connector/Python](https://realpython.com/python-mysql/#installing-mysql-connectorpython)\n",
    "- [Establishing a Connection With MySQL Server](https://realpython.com/python-mysql/#establishing-a-connection-with-mysql-server)\n",
    "    - [Establishing a Connection](https://realpython.com/python-mysql/#establishing-a-connection)\n",
    "    - [Creating a New Database](https://realpython.com/python-mysql/#creating-a-new-database)\n",
    "    - [Connecting to an Existing Database](https://realpython.com/python-mysql/#connecting-to-an-existing-database)\n",
    "- [Creating, Altering, and Dropping a Table](https://realpython.com/python-mysql/#creating-altering-and-dropping-a-table)\n",
    "    - [Defining the Database Schema](https://realpython.com/python-mysql/#defining-the-database-schema)\n",
    "    - [Creating Tables Using the CREATE TABLE Statement](https://realpython.com/python-mysql/#creating-tables-using-the-create-table-statement)\n",
    "    - [Showing a Table Schema Using the DESCRIBE Statement](https://realpython.com/python-mysql/#showing-a-table-schema-using-the-describe-statement)\n",
    "    - [Modifying a Table Schema Using the ALTER Statement](https://realpython.com/python-mysql/#modifying-a-table-schema-using-the-alter-statement)\n",
    "    - [Deleting Tables Using the DROP Statement](https://realpython.com/python-mysql/#deleting-tables-using-the-drop-statement)\n",
    "- [Inserting Records in Tables](https://realpython.com/python-mysql/#inserting-records-in-tables)\n",
    "    - [Using .execute()](https://realpython.com/python-mysql/#using-execute)\n",
    "    - [Using .executemany()](https://realpython.com/python-mysql/#using-executemany)\n",
    "- [Reading Records From the Database](https://realpython.com/python-mysql/#reading-records-from-the-database)\n",
    "    - [Reading Records Using the SELECT Statement](https://realpython.com/python-mysql/#reading-records-using-the-select-statement)\n",
    "    - [Filtering Results Using the WHERE Clause](https://realpython.com/python-mysql/#filtering-results-using-the-where-clause)\n",
    "- [Handling Multiple Tables Using the JOIN Statement](https://realpython.com/python-mysql/#handling-multiple-tables-using-the-join-statement)\n",
    "- [Updating and Deleting Records From the Database](https://realpython.com/python-mysql/#updating-and-deleting-records-from-the-database)\n",
    "    - [UPDATE Command](https://realpython.com/python-mysql/#update-command)\n",
    "    - [DELETE Command](https://realpython.com/python-mysql/#delete-command)\n",
    "- [Other Ways to Connect Python and MySQL](https://realpython.com/python-mysql/#other-ways-to-connect-python-and-mysql)\n",
    "- [Conclusion](https://realpython.com/python-mysql/#conclusion)"
   ]
  },
  {
   "attachments": {},
   "cell_type": "markdown",
   "metadata": {},
   "source": [
    "MySQL and other databases\n",
    "\n",
    "- SQL means Structured Query Langauge and some of the most popular ones are [MySQL](https://www.mysql.com/), [PostgreSQL](https://www.postgresql.org/), [SQLite](https://www.sqlite.org/index.html), and [SQL Server](https://www.microsoft.com/en-us/sql-server/sql-server-2019). All of these databases are compliant with the SQL standards but with varying degrees of compliance. \n",
    "\n",
    "- MySQL is also a part of the Oracle ecosystem. Some it's prefrences are the Ease of installation, Speed and user previleges and security.\n",
    "\n",
    "- While MySQL is famous for its speed and ease of use, you can get more advanced features with PostgreSQL. Also, MySQL isn’t fully SQL compliant and has certain functional limitations, like no support for FULL JOIN clauses.\n",
    "- Check [Introduction to Python SQL Libraries](https://realpython.com/python-sql-libraries/#understanding-the-database-schema) here for more information on using Python and SQLite, MySQL and PostgreSQL.\n",
    "- Here are some key differences between these databases:\n",
    "    1. Architecture: MySQL, PostgreSQL, and SQL Server are client-server RDBMS, while SQLite is a serverless database management system.\n",
    "    2. Scalability: MySQL, PostgreSQL, and SQL Server are all designed to handle large amounts of data and high traffic loads, making them ideal for enterprise-level applications. SQLite, on the other hand, is better suited for small-scale applications or embedded systems.\n",
    "    3. Features: MySQL offers a wide range of features, including support for stored procedures, triggers, views, and user-defined functions. PostgreSQL has a more advanced feature set, including support for nested transactions, table inheritance, and advanced indexing options. SQL Server is known for its support for business intelligence and data warehousing features. SQLite is more lightweight and has a simpler feature set, which makes it easier to use and faster.\n",
    "    4. Performance: Performance varies depending on the specific use case and workload. MySQL, PostgreSQL, and SQL Server are all known for their high performance, while SQLite is generally faster for small-scale databases and simple queries.\n",
    "    5. Licensing: MySQL, PostgreSQL, and SQLite are all open-source software released under permissive licenses. SQL Server is a proprietary software product developed and owned by Microsoft.\n",
    "\n",
    "    In summary, each of these databases has its own strengths and weaknesses, and the choice between them depends on the specific needs and constraints of the project. MySQL and PostgreSQL are powerful RDBMS that are popular choices for enterprise-level applications. SQLite is a lightweight and simple option that is ideal for small-scale applications. SQL Server is a proprietary RDBMS developed by Microsoft that is known for its support for business intelligence and data warehousing features.\n",
    "\n",
    "### Installing MySQL Connector/Python\n",
    "\n",
    "- in Python you need to install a Python MySQL connector to interact with a MySQL database. Many packages follow the DB-API standards, but the most popular among them is MySQL Connector/Python. You can get it with pip:\n",
    "        ```$ pip install mysql-connector-python```.\n",
    "\n",
    "- To test the installation, ```import mysql.connector``` . If the above code executes with no errors, then mysql.connector is installed and ready to use.\n",
    "- check how to connect mysql to vs code on windows later [Link](youtube.com/watch?v=XwVgj1niaKk&t=100s)"
   ]
  },
  {
   "cell_type": "code",
   "execution_count": 1,
   "metadata": {},
   "outputs": [
    {
     "ename": "ModuleNotFoundError",
     "evalue": "No module named 'mysql'",
     "output_type": "error",
     "traceback": [
      "\u001b[1;31m---------------------------------------------------------------------------\u001b[0m",
      "\u001b[1;31mModuleNotFoundError\u001b[0m                       Traceback (most recent call last)",
      "Cell \u001b[1;32mIn[1], line 1\u001b[0m\n\u001b[1;32m----> 1\u001b[0m \u001b[39mimport\u001b[39;00m \u001b[39mmysql\u001b[39;00m\u001b[39m.\u001b[39;00m\u001b[39mconnector\u001b[39;00m\n",
      "\u001b[1;31mModuleNotFoundError\u001b[0m: No module named 'mysql'"
     ]
    }
   ],
   "source": [
    "import mysql.connector"
   ]
  }
 ],
 "metadata": {
  "kernelspec": {
   "display_name": "Python 3",
   "language": "python",
   "name": "python3"
  },
  "language_info": {
   "codemirror_mode": {
    "name": "ipython",
    "version": 3
   },
   "file_extension": ".py",
   "mimetype": "text/x-python",
   "name": "python",
   "nbconvert_exporter": "python",
   "pygments_lexer": "ipython3",
   "version": "3.11.1"
  },
  "orig_nbformat": 4
 },
 "nbformat": 4,
 "nbformat_minor": 2
}

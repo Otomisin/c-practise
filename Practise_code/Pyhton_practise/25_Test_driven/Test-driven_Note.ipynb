{
 "cells": [
  {
   "attachments": {},
   "cell_type": "markdown",
   "metadata": {},
   "source": [
    "## Resources\n",
    "\n",
    "doctest tests source code by running examples embedded in the documentation and verifying that they produce the expected results.\n",
    "\n",
    "- Resources\n",
    "    - [doctest — Test interactive Python examples](https://intranet.alxswe.com/rltoken/BwZJVq2MQ1_Vg_3gphoitQ) (*until “26.2.3.7. Warnings” included*)\n",
    "    - [doctest – Testing through documentation](https://intranet.alxswe.com/rltoken/96kLRRIOHzsn3VDDXT21HA)\n",
    "    - [Unit Tests in Python](https://intranet.alxswe.com/rltoken/wfuUl81Q3Nku1qCzdDHAfA)\n",
    "    - [Unittest module](https://intranet.alxswe.com/rltoken/1v-d9Ol13JabJq8UI6MIPg)\n",
    "    - [Interactive and Non-interactive tests](https://intranet.alxswe.com/rltoken/lB65hNMXBziXy4A0YLIOog)\n",
    "<br> </br>\n",
    "\n",
    "- Objectives\n",
    "    - Why Python programming is awesome\n",
    "    - What’s an interactive test\n",
    "    - Why tests are important\n",
    "    - How to write Docstrings to create tests\n",
    "    - How to write documentation for each module and function\n",
    "    - What are the basic option flags to create tests\n",
    "    - How to find edge cases"
   ]
  },
  {
   "attachments": {},
   "cell_type": "markdown",
   "metadata": {},
   "source": [
    "## Docstrings\n",
    "\n",
    "Docstrings are strings of text that are included at the beginning of a module, function, class, or method definition in Python. They are used to provide documentation and help for the user or developer who is working with the code.\n",
    "\n",
    "In Python, docstrings are defined using triple quotes (\"\"\"), and are typically placed immediately after the definition statement. The text within the triple quotes can contain information about what the function or method does, what arguments it takes, what it returns, and any other relevant information.\n",
    "\n",
    "For example, here's a simple function with a docstring:"
   ]
  },
  {
   "cell_type": "code",
   "execution_count": 14,
   "metadata": {},
   "outputs": [
    {
     "name": "stdout",
     "output_type": "stream",
     "text": [
      "Help on function add_numbers in module __main__:\n",
      "\n",
      "add_numbers(a, b)\n",
      "    Adds two numbers together and returns the result.\n",
      "    \n",
      "    Arguments:\n",
      "    a -- the first number to be added\n",
      "    b -- the second number to be added\n",
      "    \n",
      "    Returns:\n",
      "    The sum of a and b.\n",
      "\n"
     ]
    }
   ],
   "source": [
    "def add_numbers(a, b):\n",
    "    \"\"\"\n",
    "    Adds two numbers together and returns the result.\n",
    "\n",
    "    Arguments:\n",
    "    a -- the first number to be added\n",
    "    b -- the second number to be added\n",
    "\n",
    "    Returns:\n",
    "    The sum of a and b.\n",
    "    \"\"\"\n",
    "    return a + b\n",
    "\n",
    "# Access the docstring\n",
    "help (add_numbers)\n"
   ]
  },
  {
   "attachments": {},
   "cell_type": "markdown",
   "metadata": {},
   "source": [
    "## Doctest\n",
    "\n",
    "**`doctest`** and **`unittest`** are both Python libraries that are used for testing code, but they have some important differences.\n",
    "\n",
    "- **`doctest`** is a testing framework that allows you to write tests in the docstring of a function or module. The tests are written as examples in the docstring, and **`doctest`** extracts and runs them automatically. This can be a convenient way to ensure that examples in documentation stay up to date with changes to the code, and can help catch errors early in development. **`doctest`** is often used for smaller projects or for testing specific functions within a larger project.\n",
    "\n",
    "- In summary, you can use `doctest` for the following purposes:\n",
    "\n",
    "  - Writing **quick and effective test cases** to check your code as you write it\n",
    "  - Running **acceptance**, **regression**, and **integration** test cases on your projects, packages, and modules\n",
    "  - Checking if your **docstrings** are **up-to-date** and in **sync** with the target code\n",
    "  - Verifying if your projects’ **documentation** is **up-to-date**\n",
    "  - Writing **hands-on tutorials** for your projects, packages, and modules\n",
    "  - Illustrating how to **use your projects’ APIs** and what the expected input and output must be.\n",
    "\n",
    "- You can view the docstring by running ```help(name_of_function_or_method)```\n",
    "\n",
    "- In shell you can test your doctest by running ```$ python -m doctest pythonFile.py``` . Running doctest with the -v option produces detailed output that describes the test-running process. in this case you use ```$ python -m doctest -v pythonFile.py```\n",
    "\n",
    "- The simplest way to start using doctest (but not necessarily the way you’ll continue to do it) is to end each module M with: \n",
    "\n",
    "if __name__ == \"__main__\":\n",
    "importdoctestdoctest.testmod()"
   ]
  },
  {
   "attachments": {},
   "cell_type": "markdown",
   "metadata": {},
   "source": [
    "Creating doctest Tests for Checking Returned and Printed Values"
   ]
  },
  {
   "cell_type": "code",
   "execution_count": 23,
   "metadata": {},
   "outputs": [
    {
     "name": "stdout",
     "output_type": "stream",
     "text": [
      "Help on function square in module __main__:\n",
      "\n",
      "square(x)\n",
      "    Returns the square of a number.\n",
      "    \n",
      "    Examples:\n",
      "    >>> square(2)\n",
      "    4\n",
      "    \n",
      "    >>> square(-2)\n",
      "    4\n",
      "\n"
     ]
    }
   ],
   "source": [
    "def square(x):\n",
    "    \"\"\"\n",
    "    Returns the square of a number.\n",
    "\n",
    "    Examples:\n",
    "    >>> square(2)\n",
    "    4\n",
    "\n",
    "    >>> square(-2)\n",
    "    4\n",
    "    \"\"\"\n",
    "    return x ** 2\n",
    "\n",
    "square(3)\n",
    "\n",
    "#Viewing the doctest\n",
    "help(square)"
   ]
  },
  {
   "attachments": {},
   "cell_type": "markdown",
   "metadata": {},
   "source": [
    "Writing doctest Tests for Catching Exceptions"
   ]
  },
  {
   "cell_type": "code",
   "execution_count": 30,
   "metadata": {},
   "outputs": [
    {
     "ename": "ZeroDivisionError",
     "evalue": "division by zero",
     "output_type": "error",
     "traceback": [
      "\u001b[1;31m---------------------------------------------------------------------------\u001b[0m",
      "\u001b[1;31mZeroDivisionError\u001b[0m                         Traceback (most recent call last)",
      "Cell \u001b[1;32mIn[30], line 23\u001b[0m\n\u001b[0;32m     20\u001b[0m     \u001b[39mreturn\u001b[39;00m \u001b[39mfloat\u001b[39m(a \u001b[39m/\u001b[39m b)\n\u001b[0;32m     22\u001b[0m \u001b[39m# help(divide)\u001b[39;00m\n\u001b[1;32m---> 23\u001b[0m divide(\u001b[39m3\u001b[39;49m, \u001b[39m0\u001b[39;49m)\n",
      "Cell \u001b[1;32mIn[30], line 20\u001b[0m, in \u001b[0;36mdivide\u001b[1;34m(a, b)\u001b[0m\n\u001b[0;32m      1\u001b[0m \u001b[39mdef\u001b[39;00m \u001b[39mdivide\u001b[39m(a, b):\n\u001b[0;32m      2\u001b[0m \u001b[39m    \u001b[39m\u001b[39m\"\"\"Compute and return the quotient of two numbers.\u001b[39;00m\n\u001b[0;32m      3\u001b[0m \n\u001b[0;32m      4\u001b[0m \u001b[39m    Usage examples:\u001b[39;00m\n\u001b[1;32m   (...)\u001b[0m\n\u001b[0;32m     18\u001b[0m \u001b[39m    ZeroDivisionError: division by zero\u001b[39;00m\n\u001b[0;32m     19\u001b[0m \u001b[39m    \"\"\"\u001b[39;00m\n\u001b[1;32m---> 20\u001b[0m     \u001b[39mreturn\u001b[39;00m \u001b[39mfloat\u001b[39m(a \u001b[39m/\u001b[39;49m b)\n",
      "\u001b[1;31mZeroDivisionError\u001b[0m: division by zero"
     ]
    }
   ],
   "source": [
    "def divide(a, b):\n",
    "    \"\"\"Compute and return the quotient of two numbers.\n",
    "\n",
    "    Usage examples:\n",
    "    >>> divide(84, 2)\n",
    "    42.0\n",
    "    >>> divide(15, 3)\n",
    "    5.0\n",
    "    >>> divide(42, -2)\n",
    "    -21.0\n",
    "\n",
    "    >>> divide(42, 0)\n",
    "    Traceback (most recent call last):\n",
    "      File \"<stdin>\", line 1, in <module>\n",
    "        divide(42, 0)\n",
    "      File \"<stdin>\", line 2, in divide\n",
    "        return float(a / b)\n",
    "    ZeroDivisionError: division by zero\n",
    "    \"\"\"\n",
    "    return float(a / b)\n",
    "\n",
    "# help(divide)\n",
    "divide(3, 0)\n"
   ]
  },
  {
   "attachments": {},
   "cell_type": "markdown",
   "metadata": {},
   "source": [
    "## Unittest\n",
    "\n",
    "- **`unittest`** is a more traditional testing framework that allows you to write tests in a separate file, which is often called **`test.py`**. **`unittest`** provides a set of assertion methods that you can use to test different aspects of your code. You can also group tests into test cases and test suites to organize your tests more effectively. **`unittest`** is often used for larger projects with more complex testing requirements.\n",
    "\n",
    "- The easiest way to run unittest tests is use the automatic discovery available through the command line interface. ```python3 -m unittest -v unittest_simple.py```\n",
    "\n",
    "- There are two common convension for naming a test module. The first is to call it test_fileName.py, the second is to call it fileName_test.py. in the first case, all test modules are grouped together. in the second, all test files are group with the respective files.\n",
    "\n",
    "- in the example below, we've created a calc.py file and the test module, which needs to be save with a test_fileName.py. \n",
    "\n",
    "[Resource](https://pymotw.com/3/unittest/index.html#module-unittest)"
   ]
  },
  {
   "attachments": {},
   "cell_type": "markdown",
   "metadata": {},
   "source": [
    "Calc.py File"
   ]
  },
  {
   "cell_type": "code",
   "execution_count": 34,
   "metadata": {},
   "outputs": [],
   "source": [
    "def add(x, y):\n",
    "    \"\"\"Add Function\"\"\"\n",
    "    return x + y\n",
    "\n",
    "\n",
    "def subtract(x, y):\n",
    "    \"\"\"Subtract Function\"\"\"\n",
    "    return x - y\n",
    "\n",
    "\n",
    "def multiply(x, y):\n",
    "    \"\"\"Multiply Function\"\"\"\n",
    "    return x * y\n",
    "\n",
    "\n",
    "def divide(x, y):\n",
    "    \"\"\"Divide Function\"\"\"\n",
    "    if y == 0:\n",
    "        raise ValueError('Can not divide by zero!')\n",
    "    return x / y"
   ]
  },
  {
   "attachments": {},
   "cell_type": "markdown",
   "metadata": {},
   "source": [
    "Test File"
   ]
  },
  {
   "cell_type": "code",
   "execution_count": 45,
   "metadata": {},
   "outputs": [],
   "source": [
    "# Define the test_add method to test the add function\n",
    "def test_add(self):\n",
    "    # Check if the add function correctly adds two positive numbers\n",
    "    self.assertEqual(calc.add(10, 5), 15)\n",
    "    # Check if the add function correctly adds a positive number and a negative number\n",
    "    self.assertEqual(calc.add(-1, 1), 0)\n",
    "    # Check if the add function correctly adds two negative numbers\n",
    "    self.assertEqual(calc.add(-1, -1), -2)\n",
    "\n",
    "# Define the test_subtract method to test the subtract function\n",
    "def test_subtract(self):\n",
    "    # Check if the subtract function correctly subtracts two positive numbers\n",
    "    self.assertEqual(calc.subtract(10, 5), 5)\n",
    "    # Check if the subtract function correctly subtracts a positive number from a negative number\n",
    "    self.assertEqual(calc.subtract(-1, 1), -2)\n",
    "    # Check if the subtract function correctly subtracts two negative numbers\n",
    "    self.assertEqual(calc.subtract(-1, -1), 0)\n",
    "\n",
    "# Define the test_multiply method to test the multiply function\n",
    "def test_multiply(self):\n",
    "    # Check if the multiply function correctly multiplies two positive numbers\n",
    "    self.assertEqual(calc.multiply(10, 5), 50)\n",
    "    # Check if the multiply function correctly multiplies a positive number and a negative number\n",
    "    self.assertEqual(calc.multiply(-1, 1), -1)\n",
    "    # Check if the multiply function correctly multiplies two negative numbers\n",
    "    self.assertEqual(calc.multiply(-1, -1), 1)\n",
    "\n",
    "# Define the test_divide method to test the divide function\n",
    "def test_divide(self):\n",
    "    # Check if the divide function correctly divides two positive numbers\n",
    "    self.assertEqual(calc.divide(10, 5), 2)\n",
    "    # Check if the divide function correctly divides a negative number by a positive number\n",
    "    self.assertEqual(calc.divide(-1, 1), -1)\n",
    "    # Check if the divide function correctly divides two negative numbers\n",
    "    self.assertEqual(calc.divide(-1, -1), 1)\n",
    "    # Check if the divide function correctly handles division by a non-zero number\n",
    "    self.assertEqual(calc.divide(5, 2), 2.5)\n",
    "    \n",
    "    # Check if the divide function correctly raises a ValueError when dividing by zero. Exception\n",
    "    with self.assertRaises(ValueError):\n",
    "        calc.divide(10, 0)\n",
    "\n",
    "# Use this so you can run the test direcly from python\n",
    "# if __name__ == '__main__':\n",
    "#     unittest.main()"
   ]
  },
  {
   "attachments": {},
   "cell_type": "markdown",
   "metadata": {},
   "source": [
    "Example2 emploee file"
   ]
  },
  {
   "cell_type": "code",
   "execution_count": null,
   "metadata": {},
   "outputs": [],
   "source": [
    "import requests\n",
    "\n",
    "\n",
    "class Employee:\n",
    "    \"\"\"A sample Employee class\"\"\"\n",
    "\n",
    "    # Class variable that stores the raise amount for all employees\n",
    "    raise_amt = 1.05\n",
    "\n",
    "    # Constructor method that initializes an instance of the Employee class with the provided arguments\n",
    "    def __init__(self, first, last, pay):\n",
    "        self.first = first\n",
    "        self.last = last\n",
    "        self.pay = pay\n",
    "\n",
    "    # Getter method that returns the employee's email\n",
    "    @property\n",
    "    def email(self):\n",
    "        return '{}.{}@email.com'.format(self.first, self.last)\n",
    "\n",
    "    # Getter method that returns the employee's full name\n",
    "    @property\n",
    "    def fullname(self):\n",
    "        return '{} {}'.format(self.first, self.last)\n",
    "\n",
    "    # Method that applies a raise to the employee's pay based on the class variable raise_amt\n",
    "    def apply_raise(self):\n",
    "        self.pay = int(self.pay * self.raise_amt)\n",
    "\n",
    "    # Method that retrieves the employee's schedule for a given month\n",
    "    def monthly_schedule(self, month):\n",
    "        # Make a GET request to the specified URL using the employee's last name and the provided month\n",
    "        response = requests.get(f'http://company.com/{self.last}/{month}')\n",
    "        # If the response was successful, return the schedule\n",
    "        if response.ok:\n",
    "            return response.text\n",
    "        # Otherwise, return an error message\n",
    "        else:\n",
    "            return 'Bad Response!'\n"
   ]
  },
  {
   "attachments": {},
   "cell_type": "markdown",
   "metadata": {},
   "source": [
    "Example 2 Test File"
   ]
  },
  {
   "cell_type": "code",
   "execution_count": null,
   "metadata": {},
   "outputs": [],
   "source": [
    "import unittest\n",
    "# Import patch from unittest.mock to mock the requests.get method\n",
    "from unittest.mock import patch\n",
    "# Import the Employee class from the employee.py module\n",
    "from employee import Employee\n",
    "\n",
    "\n",
    "class TestEmployee(unittest.TestCase):\n",
    "    # Define a setUpClass method that runs once at the beginning of the test suite\n",
    "    @classmethod\n",
    "    def setUpClass(cls):\n",
    "        print('setupClass')\n",
    "\n",
    "    # Define a tearDownClass method that runs once at the end of the test suite\n",
    "    @classmethod\n",
    "    def tearDownClass(cls):\n",
    "        print('teardownClass')\n",
    "\n",
    "    # Define a setUp method that runs before each test method\n",
    "    def setUp(self):\n",
    "        print('setUp')\n",
    "        # Create two Employee instances with different attributes\n",
    "        self.emp_1 = Employee('Corey', 'Schafer', 50000)\n",
    "        self.emp_2 = Employee('Sue', 'Smith', 60000)\n",
    "\n",
    "    # Define a tearDown method that runs after each test method\n",
    "    def tearDown(self):\n",
    "        print('tearDown\\n')\n",
    "\n",
    "    # Define a test method to test the email attribute of the Employee class\n",
    "    def test_email(self):\n",
    "        print('test_email')\n",
    "        # Test that the email attribute is created correctly for the initial Employee instances\n",
    "        self.assertEqual(self.emp_1.email, 'Corey.Schafer@email.com')\n",
    "        self.assertEqual(self.emp_2.email, 'Sue.Smith@email.com')\n",
    "        # Change the first names of the Employee instances and test that the email attribute is updated accordingly\n",
    "        self.emp_1.first = 'John'\n",
    "        self.emp_2.first = 'Jane'\n",
    "        self.assertEqual(self.emp_1.email, 'John.Schafer@email.com')\n",
    "        self.assertEqual(self.emp_2.email, 'Jane.Smith@email.com')\n",
    "\n",
    "    # Define a test method to test the fullname attribute of the Employee class\n",
    "    def test_fullname(self):\n",
    "        print('test_fullname')\n",
    "        # Test that the fullname attribute is created correctly for the initial Employee instances\n",
    "        self.assertEqual(self.emp_1.fullname, 'Corey Schafer')\n",
    "        self.assertEqual(self.emp_2.fullname, 'Sue Smith')\n",
    "        # Change the first names of the Employee instances and test that the fullname attribute is updated accordingly\n",
    "        self.emp_1.first = 'John'\n",
    "        self.emp_2.first = 'Jane'\n",
    "        self.assertEqual(self.emp_1.fullname, 'John Schafer')\n",
    "        self.assertEqual(self.emp_2.fullname, 'Jane Smith')\n",
    "\n",
    "    # Define a test method to test the apply_raise method of the Employee class\n",
    "    def test_apply_raise(self):\n",
    "        print('test_apply_raise')\n",
    "        # Apply a raise to the Employee instances and test that their pay attribute is updated accordingly\n",
    "        self.emp_1.apply_raise()\n",
    "        self.emp_2.apply_raise()\n",
    "        self.assertEqual(self.emp_1.pay, 52500)\n",
    "        self.assertEqual(self.emp_2.pay, 63000)\n",
    "\n",
    "    # Define a test method to test the monthly_schedule method of the Employee class\n",
    "    def test_monthly_schedule(self):\n",
    "        # Use the patch decorator to mock the requests.get method\n",
    "        with patch('employee.requests.get') as mocked_get:\n",
    "            # Set the return value of the mocked requests.get method to a successful response\n",
    "            mocked_get.return_value.ok = True\n",
    "            mocked_get.return_value.text = 'Success'\n",
    "            # Call the monthly_schedule method of the first Employee instance and test that the mocked requests.get method was called with the correct argument and that the return value is as expected\n",
    "            schedule = self.emp_1.monthly_schedule('May')\n",
    "            mocked_get.assert_called_with('http://company.com/Schafer/May')\n",
    "            self.assertEqual(schedule, 'Bad Response!')\n",
    "\n",
    "if __name__ == '__main__':\n",
    "    unittest.main()\n"
   ]
  },
  {
   "cell_type": "code",
   "execution_count": 35,
   "metadata": {},
   "outputs": [],
   "source": [
    "class Customer:\n",
    "    \"\"\"A sample customer class\"\"\"\n",
    "\n",
    "    discount = 0.95\n",
    "\n",
    "    def __init__(self, first_name, last_name, purchase):\n",
    "        self.first_name = first_name\n",
    "        self.last_name = last_name\n",
    "        self.purchase = purchase\n",
    "\n",
    "    @property\n",
    "    def customer_mail(self):\n",
    "        return f'{self.first}.{self.last}@email.com'\n",
    "\n",
    "    @property\n",
    "    def customer_fullname(self):\n",
    "        return f'{self.first} {self.last}'\n",
    "\n",
    "    def apply_discount(self):\n",
    "        self.purchase = int(self.purchase * self.discount)"
   ]
  },
  {
   "cell_type": "code",
   "execution_count": 42,
   "metadata": {},
   "outputs": [
    {
     "ename": "NameError",
     "evalue": "name 'customer_fullname' is not defined",
     "output_type": "error",
     "traceback": [
      "\u001b[1;31m---------------------------------------------------------------------------\u001b[0m",
      "\u001b[1;31mNameError\u001b[0m                                 Traceback (most recent call last)",
      "Cell \u001b[1;32mIn[42], line 2\u001b[0m\n\u001b[0;32m      1\u001b[0m tosin \u001b[39m=\u001b[39m Customer(\u001b[39m'\u001b[39m\u001b[39mTosin\u001b[39m\u001b[39m'\u001b[39m, \u001b[39m'\u001b[39m\u001b[39morenaike\u001b[39m\u001b[39m'\u001b[39m, \u001b[39m30\u001b[39m)\n\u001b[1;32m----> 2\u001b[0m customer_fullname()\n",
      "\u001b[1;31mNameError\u001b[0m: name 'customer_fullname' is not defined"
     ]
    }
   ],
   "source": [
    "tosin = Customer('Tosin', 'orenaike', 30)\n",
    "customer_fullname()"
   ]
  },
  {
   "attachments": {},
   "cell_type": "markdown",
   "metadata": {},
   "source": [
    "Assert Methods\n",
    "\n",
    "https://docs.python.org/3/library/unittest.html#assert-methods"
   ]
  },
  {
   "attachments": {},
   "cell_type": "markdown",
   "metadata": {},
   "source": []
  }
 ],
 "metadata": {
  "kernelspec": {
   "display_name": "Python 3",
   "language": "python",
   "name": "python3"
  },
  "language_info": {
   "codemirror_mode": {
    "name": "ipython",
    "version": 3
   },
   "file_extension": ".py",
   "mimetype": "text/x-python",
   "name": "python",
   "nbconvert_exporter": "python",
   "pygments_lexer": "ipython3",
   "version": "3.11.1"
  },
  "orig_nbformat": 4,
  "vscode": {
   "interpreter": {
    "hash": "d8b3b4e871d7619eccb36f657c81b8358b8c67e5d821a2a1d625fcc2f39d1588"
   }
  }
 },
 "nbformat": 4,
 "nbformat_minor": 2
}

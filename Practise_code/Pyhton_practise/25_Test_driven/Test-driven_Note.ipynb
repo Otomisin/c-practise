{
 "cells": [
  {
   "attachments": {},
   "cell_type": "markdown",
   "metadata": {},
   "source": [
    "## Resources\n",
    "\n",
    "doctest tests source code by running examples embedded in the documentation and verifying that they produce the expected results.\n",
    "\n",
    "- Resources\n",
    "    - [doctest — Test interactive Python examples](https://intranet.alxswe.com/rltoken/BwZJVq2MQ1_Vg_3gphoitQ) (*until “26.2.3.7. Warnings” included*)\n",
    "    - [doctest – Testing through documentation](https://intranet.alxswe.com/rltoken/96kLRRIOHzsn3VDDXT21HA)\n",
    "    - [Unit Tests in Python](https://intranet.alxswe.com/rltoken/wfuUl81Q3Nku1qCzdDHAfA)\n",
    "    - [Unittest module](https://intranet.alxswe.com/rltoken/1v-d9Ol13JabJq8UI6MIPg)\n",
    "    - [Interactive and Non-interactive tests](https://intranet.alxswe.com/rltoken/lB65hNMXBziXy4A0YLIOog)\n",
    "<br> </br>\n",
    "\n",
    "- Objectives\n",
    "    - Why Python programming is awesome\n",
    "    - What’s an interactive test\n",
    "    - Why tests are important\n",
    "    - How to write Docstrings to create tests\n",
    "    - How to write documentation for each module and function\n",
    "    - What are the basic option flags to create tests\n",
    "    - How to find edge cases"
   ]
  },
  {
   "attachments": {},
   "cell_type": "markdown",
   "metadata": {},
   "source": [
    "## Docstrings\n",
    "\n",
    "Docstrings are strings of text that are included at the beginning of a module, function, class, or method definition in Python. They are used to provide documentation and help for the user or developer who is working with the code.\n",
    "\n",
    "In Python, docstrings are defined using triple quotes (\"\"\"), and are typically placed immediately after the definition statement. The text within the triple quotes can contain information about what the function or method does, what arguments it takes, what it returns, and any other relevant information.\n",
    "\n",
    "For example, here's a simple function with a docstring:"
   ]
  },
  {
   "cell_type": "code",
   "execution_count": 14,
   "metadata": {},
   "outputs": [
    {
     "name": "stdout",
     "output_type": "stream",
     "text": [
      "Help on function add_numbers in module __main__:\n",
      "\n",
      "add_numbers(a, b)\n",
      "    Adds two numbers together and returns the result.\n",
      "    \n",
      "    Arguments:\n",
      "    a -- the first number to be added\n",
      "    b -- the second number to be added\n",
      "    \n",
      "    Returns:\n",
      "    The sum of a and b.\n",
      "\n"
     ]
    }
   ],
   "source": [
    "def add_numbers(a, b):\n",
    "    \"\"\"\n",
    "    Adds two numbers together and returns the result.\n",
    "\n",
    "    Arguments:\n",
    "    a -- the first number to be added\n",
    "    b -- the second number to be added\n",
    "\n",
    "    Returns:\n",
    "    The sum of a and b.\n",
    "    \"\"\"\n",
    "    return a + b\n",
    "\n",
    "# Access the docstring\n",
    "help (add_numbers)\n"
   ]
  },
  {
   "attachments": {},
   "cell_type": "markdown",
   "metadata": {},
   "source": [
    "## Doctest\n",
    "\n",
    "**`doctest`** and **`unittest`** are both Python libraries that are used for testing code, but they have some important differences.\n",
    "\n",
    "- **`doctest`** is a testing framework that allows you to write tests in the docstring of a function or module. The tests are written as examples in the docstring, and **`doctest`** extracts and runs them automatically. This can be a convenient way to ensure that examples in documentation stay up to date with changes to the code, and can help catch errors early in development. **`doctest`** is often used for smaller projects or for testing specific functions within a larger project.\n",
    "\n",
    "- In summary, you can use `doctest` for the following purposes:\n",
    "\n",
    "  - Writing **quick and effective test cases** to check your code as you write it\n",
    "  - Running **acceptance**, **regression**, and **integration** test cases on your projects, packages, and modules\n",
    "  - Checking if your **docstrings** are **up-to-date** and in **sync** with the target code\n",
    "  - Verifying if your projects’ **documentation** is **up-to-date**\n",
    "  - Writing **hands-on tutorials** for your projects, packages, and modules\n",
    "  - Illustrating how to **use your projects’ APIs** and what the expected input and output must be.\n",
    "\n",
    "- You can view the docstring by running ```help(name_of_function_or_method)```\n",
    "\n",
    "- In shell you can test your doctest by running ```$ python -m doctest pythonFile.py``` . Running doctest with the -v option produces detailed output that describes the test-running process. in this case you use ```$ python -m doctest -v pythonFile.py```\n",
    "\n",
    "- The simplest way to start using doctest (but not necessarily the way you’ll continue to do it) is to end each module M with: \n",
    "\n",
    "if __name__ == \"__main__\":\n",
    "importdoctestdoctest.testmod()"
   ]
  },
  {
   "attachments": {},
   "cell_type": "markdown",
   "metadata": {},
   "source": [
    "Creating doctest Tests for Checking Returned and Printed Values"
   ]
  },
  {
   "cell_type": "code",
   "execution_count": 23,
   "metadata": {},
   "outputs": [
    {
     "name": "stdout",
     "output_type": "stream",
     "text": [
      "Help on function square in module __main__:\n",
      "\n",
      "square(x)\n",
      "    Returns the square of a number.\n",
      "    \n",
      "    Examples:\n",
      "    >>> square(2)\n",
      "    4\n",
      "    \n",
      "    >>> square(-2)\n",
      "    4\n",
      "\n"
     ]
    }
   ],
   "source": [
    "def square(x):\n",
    "    \"\"\"\n",
    "    Returns the square of a number.\n",
    "\n",
    "    Examples:\n",
    "    >>> square(2)\n",
    "    4\n",
    "\n",
    "    >>> square(-2)\n",
    "    4\n",
    "    \"\"\"\n",
    "    return x ** 2\n",
    "\n",
    "square(3)\n",
    "\n",
    "#Viewing the doctest\n",
    "help(square)"
   ]
  },
  {
   "attachments": {},
   "cell_type": "markdown",
   "metadata": {},
   "source": [
    "Writing doctest Tests for Catching Exceptions"
   ]
  },
  {
   "cell_type": "code",
   "execution_count": 30,
   "metadata": {},
   "outputs": [
    {
     "ename": "ZeroDivisionError",
     "evalue": "division by zero",
     "output_type": "error",
     "traceback": [
      "\u001b[1;31m---------------------------------------------------------------------------\u001b[0m",
      "\u001b[1;31mZeroDivisionError\u001b[0m                         Traceback (most recent call last)",
      "Cell \u001b[1;32mIn[30], line 23\u001b[0m\n\u001b[0;32m     20\u001b[0m     \u001b[39mreturn\u001b[39;00m \u001b[39mfloat\u001b[39m(a \u001b[39m/\u001b[39m b)\n\u001b[0;32m     22\u001b[0m \u001b[39m# help(divide)\u001b[39;00m\n\u001b[1;32m---> 23\u001b[0m divide(\u001b[39m3\u001b[39;49m, \u001b[39m0\u001b[39;49m)\n",
      "Cell \u001b[1;32mIn[30], line 20\u001b[0m, in \u001b[0;36mdivide\u001b[1;34m(a, b)\u001b[0m\n\u001b[0;32m      1\u001b[0m \u001b[39mdef\u001b[39;00m \u001b[39mdivide\u001b[39m(a, b):\n\u001b[0;32m      2\u001b[0m \u001b[39m    \u001b[39m\u001b[39m\"\"\"Compute and return the quotient of two numbers.\u001b[39;00m\n\u001b[0;32m      3\u001b[0m \n\u001b[0;32m      4\u001b[0m \u001b[39m    Usage examples:\u001b[39;00m\n\u001b[1;32m   (...)\u001b[0m\n\u001b[0;32m     18\u001b[0m \u001b[39m    ZeroDivisionError: division by zero\u001b[39;00m\n\u001b[0;32m     19\u001b[0m \u001b[39m    \"\"\"\u001b[39;00m\n\u001b[1;32m---> 20\u001b[0m     \u001b[39mreturn\u001b[39;00m \u001b[39mfloat\u001b[39m(a \u001b[39m/\u001b[39;49m b)\n",
      "\u001b[1;31mZeroDivisionError\u001b[0m: division by zero"
     ]
    }
   ],
   "source": [
    "def divide(a, b):\n",
    "    \"\"\"Compute and return the quotient of two numbers.\n",
    "\n",
    "    Usage examples:\n",
    "    >>> divide(84, 2)\n",
    "    42.0\n",
    "    >>> divide(15, 3)\n",
    "    5.0\n",
    "    >>> divide(42, -2)\n",
    "    -21.0\n",
    "\n",
    "    >>> divide(42, 0)\n",
    "    Traceback (most recent call last):\n",
    "      File \"<stdin>\", line 1, in <module>\n",
    "        divide(42, 0)\n",
    "      File \"<stdin>\", line 2, in divide\n",
    "        return float(a / b)\n",
    "    ZeroDivisionError: division by zero\n",
    "    \"\"\"\n",
    "    return float(a / b)\n",
    "\n",
    "# help(divide)\n",
    "divide(3, 0)\n"
   ]
  },
  {
   "attachments": {},
   "cell_type": "markdown",
   "metadata": {},
   "source": [
    "## Unittest\n",
    "\n",
    "**`unittest`** is a more traditional testing framework that allows you to write tests in a separate file, which is often called **`test.py`**. **`unittest`** provides a set of assertion methods that you can use to test different aspects of your code. You can also group tests into test cases and test suites to organize your tests more effectively. **`unittest`** is often used for larger projects with more complex testing requirements.\n",
    "\n",
    "[Resource](https://pymotw.com/3/unittest/index.html#module-unittest)"
   ]
  }
 ],
 "metadata": {
  "kernelspec": {
   "display_name": "Python 3",
   "language": "python",
   "name": "python3"
  },
  "language_info": {
   "codemirror_mode": {
    "name": "ipython",
    "version": 3
   },
   "file_extension": ".py",
   "mimetype": "text/x-python",
   "name": "python",
   "nbconvert_exporter": "python",
   "pygments_lexer": "ipython3",
   "version": "3.11.1"
  },
  "orig_nbformat": 4,
  "vscode": {
   "interpreter": {
    "hash": "d8b3b4e871d7619eccb36f657c81b8358b8c67e5d821a2a1d625fcc2f39d1588"
   }
  }
 },
 "nbformat": 4,
 "nbformat_minor": 2
}

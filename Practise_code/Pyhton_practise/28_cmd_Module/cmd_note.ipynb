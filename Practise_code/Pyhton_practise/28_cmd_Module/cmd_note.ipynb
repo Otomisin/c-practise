{
 "cells": [
  {
   "attachments": {},
   "cell_type": "markdown",
   "metadata": {},
   "source": [
    "https://docs.python.org/3.8/library/cmd.html\n",
    "\n",
    "  -[Create line-oriented command processors](http://pymotw.com/2/cmd/)"
   ]
  },
  {
   "attachments": {},
   "cell_type": "markdown",
   "metadata": {},
   "source": []
  }
 ],
 "metadata": {
  "language_info": {
   "name": "python"
  },
  "orig_nbformat": 4
 },
 "nbformat": 4,
 "nbformat_minor": 2
}

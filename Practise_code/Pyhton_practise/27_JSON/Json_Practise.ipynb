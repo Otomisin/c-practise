{
 "cells": [
  {
   "cell_type": "markdown",
   "metadata": {},
   "source": [
    "# JSON LIBRARY"
   ]
  },
  {
   "cell_type": "code",
   "execution_count": 29,
   "metadata": {},
   "outputs": [],
   "source": [
    "import json\n",
    "\n",
    "people_string = '''\n",
    "{\n",
    "     \"people\": [\n",
    "          {\n",
    "               \"name\": \"John Smith\",\n",
    "               \"phone\": \"08023453\",\n",
    "               \"emails\": [\"john@bosu.com\",\"john.smith@work.com\"],\n",
    "               \"has_license\": false\n",
    "          },\n",
    "          {\n",
    "               \"name\": \"John Doe\",\n",
    "               \"phone\": \"080233\",\n",
    "               \"emails\": null,\n",
    "               \"has_license\": true\n",
    "          },\n",
    "          {\n",
    "               \"name\": \"Tosin Orenaike\",\n",
    "               \"phone\": \"023331\",\n",
    "               \"emails\": \"oren@mog.com\",\n",
    "               \"has_license\": true\n",
    "          }\n",
    "     ]\n",
    "\n",
    "}\n",
    "\n",
    "'''"
   ]
  },
  {
   "cell_type": "code",
   "execution_count": 30,
   "metadata": {},
   "outputs": [
    {
     "name": "stdout",
     "output_type": "stream",
     "text": [
      "<class 'str'>\n"
     ]
    }
   ],
   "source": [
    "print(type(people_string))"
   ]
  },
  {
   "attachments": {},
   "cell_type": "markdown",
   "metadata": {},
   "source": [
    "### LOAD JSON string into Python object"
   ]
  },
  {
   "cell_type": "code",
   "execution_count": 31,
   "metadata": {},
   "outputs": [
    {
     "name": "stdout",
     "output_type": "stream",
     "text": [
      "[{'name': 'John Smith', 'phone': '08023453', 'emails': ['john@bosu.com', 'john.smith@work.com'], 'has_license': False}, {'name': 'John Doe', 'phone': '080233', 'emails': None, 'has_license': True}, {'name': 'Tosin Orenaike', 'phone': '023331', 'emails': 'oren@mog.com', 'has_license': True}]\n"
     ]
    }
   ],
   "source": [
    "data = json.loads(people_string)\n",
    "print(data['people'])"
   ]
  },
  {
   "cell_type": "code",
   "execution_count": 32,
   "metadata": {},
   "outputs": [
    {
     "name": "stdout",
     "output_type": "stream",
     "text": [
      "John Smith ['emails']\n",
      "John Doe ['emails']\n",
      "Tosin Orenaike ['emails']\n"
     ]
    }
   ],
   "source": [
    "for people in data['people']:\n",
    "     print (people['name'],['emails'])"
   ]
  },
  {
   "cell_type": "code",
   "execution_count": 33,
   "metadata": {},
   "outputs": [
    {
     "name": "stdout",
     "output_type": "stream",
     "text": [
      "John Smith\n",
      "John Doe\n",
      "Tosin Orenaike\n"
     ]
    }
   ],
   "source": [
    "for person in data['people']:\n",
    "     print(person['name'])"
   ]
  },
  {
   "cell_type": "markdown",
   "metadata": {},
   "source": [
    "## Convert back to JSON from python objects"
   ]
  },
  {
   "cell_type": "code",
   "execution_count": null,
   "metadata": {},
   "outputs": [],
   "source": []
  },
  {
   "cell_type": "code",
   "execution_count": 34,
   "metadata": {},
   "outputs": [],
   "source": [
    "for person in data['people']:\n",
    "     del person['phone']"
   ]
  },
  {
   "cell_type": "code",
   "execution_count": 35,
   "metadata": {},
   "outputs": [
    {
     "name": "stdout",
     "output_type": "stream",
     "text": [
      "{\n",
      "  \"people\": [\n",
      "    {\n",
      "      \"emails\": [\n",
      "        \"john@bosu.com\",\n",
      "        \"john.smith@work.com\"\n",
      "      ],\n",
      "      \"has_license\": false,\n",
      "      \"name\": \"John Smith\"\n",
      "    },\n",
      "    {\n",
      "      \"emails\": null,\n",
      "      \"has_license\": true,\n",
      "      \"name\": \"John Doe\"\n",
      "    },\n",
      "    {\n",
      "      \"emails\": \"oren@mog.com\",\n",
      "      \"has_license\": true,\n",
      "      \"name\": \"Tosin Orenaike\"\n",
      "    }\n",
      "  ]\n",
      "}\n"
     ]
    }
   ],
   "source": [
    "new_string = json.dumps(data, indent=2, sort_keys= True) #If you want to formart the dump into a readable format then use \"indet = n\". 2) you can also sort the keys by using \"sort_Keys = True\"\n",
    "print(new_string)"
   ]
  },
  {
   "cell_type": "markdown",
   "metadata": {},
   "source": [
    "# LOAD OBJECTS\n"
   ]
  },
  {
   "cell_type": "code",
   "execution_count": 39,
   "metadata": {},
   "outputs": [],
   "source": [
    "movie = {}\n",
    "movie[\"title\"] = \"Minority Report\"\n",
    "movie[\"director\"] = \"Steven Spielberg\"\n",
    "movie[\"actors\"] = [\"Tom Crusise\", \"Colin Farrell\"]\n",
    "movie['remarks'] = 'Good'\n",
    "movie['budget'] = 10231111\n",
    "movie['cinematographer'] = \"Janusz Kami\\u0144ski\"\n",
    "\n",
    "# Write to a Json format\n",
    "moviefile = open('moviefile.txt','w', encoding=\"utf-8\")\n",
    "\n",
    "# Call the dump method\n",
    "json.dump(movie, moviefile, ensure_ascii=False)\n",
    "moviefile.close()"
   ]
  },
  {
   "cell_type": "code",
   "execution_count": 45,
   "metadata": {},
   "outputs": [
    {
     "name": "stdout",
     "output_type": "stream",
     "text": [
      "1\n"
     ]
    }
   ],
   "source": [
    "import json\n",
    "\n",
    "with open(\"data_file.json\", \"r\") as read_file:\n",
    "    data = json.load(read_file)\n",
    "\n",
    "print(len(data))"
   ]
  }
 ],
 "metadata": {
  "kernelspec": {
   "display_name": "Python 3",
   "language": "python",
   "name": "python3"
  },
  "language_info": {
   "codemirror_mode": {
    "name": "ipython",
    "version": 3
   },
   "file_extension": ".py",
   "mimetype": "text/x-python",
   "name": "python",
   "nbconvert_exporter": "python",
   "pygments_lexer": "ipython3",
   "version": "3.11.1"
  },
  "orig_nbformat": 4,
  "vscode": {
   "interpreter": {
    "hash": "d8b3b4e871d7619eccb36f657c81b8358b8c67e5d821a2a1d625fcc2f39d1588"
   }
  }
 },
 "nbformat": 4,
 "nbformat_minor": 2
}

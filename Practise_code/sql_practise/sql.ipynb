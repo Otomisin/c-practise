{
 "cells": [
  {
   "attachments": {},
   "cell_type": "markdown",
   "metadata": {},
   "source": [
    "# **0x0D. SQL - Introduction**\n",
    "\n",
    " **<h2>What is SQL?</h2>**\n",
    "SQL (Structured Query Language) is a programming language used to manage and manipulate data in a relational database. It is used to create, update, and retrieve data from databases. SQL is a standard language used by many database management systems such as MySQL, PostgreSQL, Oracle, and Microsoft SQL Server\n",
    "\n",
    "### **RELATIONAL AND NON RELATIONAL DATABASE**\n",
    "\n",
    "A relational database is a type of database that stores data in tables with rows and columns, where each row represents a unique record and each column represents a data attribute. These tables are related to each other through common data elements, or keys, which allows data to be linked and queried across multiple tables. Relational databases are based on a set of rules called ACID (Atomicity, Consistency, Isolation, and Durability) that ensure data consistency and reliability.\n",
    "\n",
    "More on ACID\n",
    "\n",
    "- **A**tomicity: transactions are atomic, which means if a transaction fails, the result will be like it never happened.\n",
    "- **C**onsistency: you can define rules for your data, and expect that the data abides by the rules, or else the transaction fails.\n",
    "- **I**solation: run two operations at the same time, and you can expect that the result is as though they were ran one after the other. That’s not the case with the JSON file storage you built: if 2 insert operations are done at the same time, the later one will fetch an outdated collection of users because the earlier one is not finished yet, and therefore overwrite the file without the change that the earlier operation made, totally ignoring that it ever happened.\n",
    "- **D**urability: unplug your server at any time, boot it back up, and it didn’t lose any data.\n",
    "\n",
    "non-relational databases, also known as NoSQL databases, do not use tables to store data. Instead, they use different data models such as key-value, document, column-family, or graph. Each model has its own way of organizing and storing data, but in general, NoSQL databases are designed to handle large volumes of unstructured or semi-structured data that may not fit neatly into a table. NoSQL databases typically offer high scalability, availability, and performance, and are often used in big data and real-time applications.\n",
    "\n",
    "**CRUD** <br>\n",
    "The four operations that can be performed on the data itself:\n",
    "\n",
    "- **C**reate some data;\n",
    "- **R**ead some data;\n",
    "- **U**pdate some data;\n",
    "- **D**estroy some data."
   ]
  },
  {
   "attachments": {},
   "cell_type": "markdown",
   "metadata": {},
   "source": [
    "Data Definition Language (DDL): DDL is used to define the structure of a database. You will need to learn how to use DDL commands such as CREATE TABLE, ALTER TABLE, and DROP TABLE to create, modify, and delete tables in a database"
   ]
  },
  {
   "attachments": {},
   "cell_type": "markdown",
   "metadata": {},
   "source": [
    "Data Manipulation Language (DML): DML is used to manipulate data in a database. You will need to learn how to use DML commands such as INSERT, UPDATE, and DELETE to insert, update, and delete data in a database."
   ]
  }
 ],
 "metadata": {
  "kernelspec": {
   "display_name": "Python 3",
   "language": "python",
   "name": "python3"
  },
  "language_info": {
   "name": "python",
   "version": "3.11.1"
  },
  "orig_nbformat": 4,
  "vscode": {
   "interpreter": {
    "hash": "d8b3b4e871d7619eccb36f657c81b8358b8c67e5d821a2a1d625fcc2f39d1588"
   }
  }
 },
 "nbformat": 4,
 "nbformat_minor": 2
}

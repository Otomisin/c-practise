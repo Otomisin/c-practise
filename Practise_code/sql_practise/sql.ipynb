{
 "cells": [
  {
   "attachments": {},
   "cell_type": "markdown",
   "metadata": {},
   "source": [
    "Resources\n",
    "\n",
    "https://www.youtube.com/watch?v=xiUTqnI6xk8"
   ]
  },
  {
   "attachments": {},
   "cell_type": "markdown",
   "metadata": {},
   "source": [
    "# **0x0D. SQL - Introduction**\n",
    "\n",
    " **<h2>What is SQL?</h2>**\n",
    "SQL (Structured Query Language) is a programming language used to manage and manipulate data in a relational database. It is used to create, update, and retrieve data from databases. SQL is a standard language used by many database management systems such as MySQL, PostgreSQL, Oracle, and Microsoft SQL Server\n",
    "\n",
    "### **RELATIONAL AND NON RELATIONAL DATABASE**\n",
    "\n",
    "A relational database is a type of database that stores data in tables with rows and columns, where each row represents a unique record and each column represents a data attribute. These tables are related to each other through common data elements, or keys, which allows data to be linked and queried across multiple tables. Relational databases are based on a set of rules called ACID (Atomicity, Consistency, Isolation, and Durability) that ensure data consistency and reliability.\n",
    "\n",
    "More on ACID\n",
    "\n",
    "- **A**tomicity: transactions are atomic, which means if a transaction fails, the result will be like it never happened.\n",
    "- **C**onsistency: you can define rules for your data, and expect that the data abides by the rules, or else the transaction fails.\n",
    "- **I**solation: run two operations at the same time, and you can expect that the result is as though they were ran one after the other. That’s not the case with the JSON file storage you built: if 2 insert operations are done at the same time, the later one will fetch an outdated collection of users because the earlier one is not finished yet, and therefore overwrite the file without the change that the earlier operation made, totally ignoring that it ever happened.\n",
    "- **D**urability: unplug your server at any time, boot it back up, and it didn’t lose any data.\n",
    "\n",
    "non-relational databases, also known as NoSQL databases, do not use tables to store data. Instead, they use different data models such as key-value, document, column-family, or graph. Each model has its own way of organizing and storing data, but in general, NoSQL databases are designed to handle large volumes of unstructured or semi-structured data that may not fit neatly into a table. NoSQL databases typically offer high scalability, availability, and performance, and are often used in big data and real-time applications.\n",
    "\n",
    "**CRUD** <br>\n",
    "The four operations that can be performed on the data itself:\n",
    "\n",
    "- **C**reate some data;\n",
    "- **R**ead some data;\n",
    "- **U**pdate some data;\n",
    "- **D**estroy some data."
   ]
  },
  {
   "attachments": {},
   "cell_type": "markdown",
   "metadata": {},
   "source": [
    "Data Definition Language (DDL): DDL is used to define the structure of a database. You will need to learn how to use DDL commands such as CREATE TABLE, ALTER TABLE, and DROP TABLE to create, modify, and delete tables in a database"
   ]
  },
  {
   "attachments": {},
   "cell_type": "markdown",
   "metadata": {},
   "source": [
    "Data Manipulation Language (DML): DML is used to manipulate data in a database. You will need to learn how to use DML commands such as INSERT, UPDATE, and DELETE to insert, update, and delete data in a database."
   ]
  },
  {
   "attachments": {},
   "cell_type": "markdown",
   "metadata": {},
   "source": [
    "## Managing the MySQL service on a Linux system:\n",
    "\n",
    "1. **`sudo service mysql start`**: used to start the MySQL service. This command can be used on Linux systems that do not use **`systemd`**.\n",
    "2. **`sudo service mysql stop`**: used to stop the MySQL service. This command can be used on Linux systems that do not use **`systemd`**.\n",
    "3. **`sudo service mysql restart`**: used to restart the MySQL service. This command can be used on Linux systems that do not use **`systemd`**.\n",
    "4. **`sudo service mysql status`**: used to check the status of the MySQL service. This command can be used on Linux systems that do not use **`systemd`**.\n",
    "5. **`sudo mysqladmin shutdown`**: used to shut down the MySQL service gracefully. This command sends a signal to the MySQL server to shut down, allowing it to complete any pending operations before stopping.\n",
    "6. **`sudo mysql_secure_installation`**: used to secure the MySQL installation by setting a root password, removing anonymous user accounts, and disabling remote root login.\n",
    "7. **`sudo mysqldump`**: used to create backups of MySQL databases.\n",
    "8. **`sudo mysqlcheck`**: used to check, repair, and optimize MySQL databases.\n",
    "9. **`sudo mysql_upgrade`**: used to upgrade the MySQL server and databases to a new version.\n",
    "\n",
    "```sudo systemctl status mysql```\n",
    "\n",
    "sudo systemctl status mysql is a command used to check the status of the MySQL service on a Linux system using the systemd system and service manager.\n",
    "\n",
    "When you run this command with superuser privileges, systemd will report the current status of the MySQL service, including whether it is running, stopped, or in some other state. The output will also include additional information about the service, such as its process ID (PID), memory usage, and any recent log messages.\n",
    "\n",
    "If the MySQL service is running, the output of this command should indicate that the service is active (i.e., running) and provide information about its current state. If the MySQL service is not running, the output will indicate that the service is inactive or failed and may provide information about the cause of the failure.\n",
    "\n",
    "Note that if you do not have the systemd system and service manager installed on your Linux system, this command will not work.\n",
    "\n",
    "```mysql -u root -p``` <br>\n",
    "This is a command used to log in to the MySQL command line client with the **`root`** user account.\n",
    "\n",
    "Here's what each part of the command means:\n",
    "\n",
    "- **`mysql`** is the command used to start the MySQL command line client.\n",
    "- **`u root`** specifies that you want to log in as the **`root`** user account. The **`u`** option stands for \"user\".\n",
    "- **`p`** specifies that you want to be prompted for the password for the **`root`** user account. The **`p`** option stands for \"password\".\n",
    "\n",
    "When you run this command, the MySQL command line client will prompt you for the password for the **`root`** user account. After you enter the correct password, you will be logged in to MySQL and you can start using MySQL commands to interact with the MySQL server.\n",
    "\n"
   ]
  },
  {
   "attachments": {},
   "cell_type": "markdown",
   "metadata": {},
   "source": [
    "## **Commands for managing databases in MySQL on a Linux system:**\n",
    "\n",
    "1. **`mysql -u username -p`**: used to log in to the MySQL database server. Replace **`username`** with the username you want to log in as. This command will prompt you for the user's password.\n",
    "2. **`CREATE DATABASE dbname;`**: used to create a new database in MySQL. Replace **`dbname`** with the name you want to give to the new database.\n",
    "3. **`SHOW DATABASES;`**: used to display a list of all databases on the MySQL server.\n",
    "4. **`USE dbname;`**: used to select a database to work with. Replace **`dbname`** with the name of the database you want to work with.\n",
    "5. **`DROP DATABASE dbname;`**: used to delete a database in MySQL. Replace **`dbname`** with the name of the database you want to delete. Note that this command permanently deletes the database and all its contents, so use it with caution.\n",
    "6. **`CREATE TABLE tablename (column1 datatype, column2 datatype, ...);`**: used to create a new table in a MySQL database. Replace **`tablename`**, **`column1`**, **`column2`**, and **`datatype`** with the names and data types of the columns you want to create.\n",
    "7. **`SHOW TABLES;`**: used to display a list of all tables in the currently selected database.\n",
    "8. **`DESCRIBE tablename;`**: used to display information about the structure of a specific table. Replace **`tablename`** with the name of the table you want to describe.\n",
    "9. **`SELECT * FROM tablename;`**: used to retrieve all records from a table. Replace **`tablename`** with the name of the table you want to retrieve records from.\n",
    "10. **`INSERT INTO tablename (column1, column2, ...) VALUES (value1, value2, ...);`**: used to insert new records into a table. Replace **`tablename`**, **`column1`**, **`column2`**, **`value1`**, **`value2`**, and so on with the appropriate table and column names and values.\n",
    "11. **`UPDATE tablename SET column1=value1, column2=value2, ... WHERE condition;`**: used to update existing records in a table. Replace **`tablename`**, **`column1`**, **`value1`**, **`condition`**, and so on with the appropriate table and column names, values, and conditions.\n",
    "12. **`DELETE FROM tablename WHERE condition;`**: used to delete records from a table. Replace **`tablename`** and **`condition`** with the appropriate table name and conditions for deleting records."
   ]
  },
  {
   "attachments": {},
   "cell_type": "markdown",
   "metadata": {},
   "source": [
    "IMPORT AND DUMP Database\n",
    "\n",
    "https://www.youtube.com/watch?v=zFS1UvYOLhI"
   ]
  },
  {
   "attachments": {},
   "cell_type": "markdown",
   "metadata": {},
   "source": [
    "## TASKS\n",
    "\n",
    "#### Creating a Tables\n",
    "\n",
    "\n",
    "1. Write a script that creates a table called `first_table` in the current database in your MySQL server.\n",
    "\n",
    "- `first_table` description:\n",
    "    - `id` INT\n",
    "    - `name` VARCHAR(256)\n",
    "- The database name will be passed as an argument of the `mysql` command\n",
    "- If the table `first_table` already exists, your script should not fail\n",
    "- You are not allowed to use the `SELECT` or `SHOW` statements\n",
    "\n",
    "2. Write a script that creates a table `second_table` in the database `hbtn_0c_0` in your MySQL server and add multiples rows.\n",
    "\n",
    "- `second_table` description:\n",
    "    - `id` INT\n",
    "    - `name` VARCHAR(256)\n",
    "    - `score` INT\n",
    "- The database name will be passed as an argument to the `mysql` command\n",
    "- If the table `second_table` already exists, your script should not fail\n",
    "- You are not allowed to use the `SELECT` and `SHOW` statements\n",
    "- Your script should create these records:\n",
    "    - `id` = 1, `name` = “John”, `score` = 10\n",
    "    - `id` = 2, `name` = “Alex”, `score` = 3\n",
    "    - `id` = 3, `name` = “Bob”, `score` = 14\n",
    "    - `id` = 4, `name` = “George”, `score` = 8\n",
    "\n",
    "3. Do the following\n",
    "- show the full description of the tables without using `DECRIBE` and `EXPLAIN`\n",
    "- list all the rows of the table first_table and second_table\n",
    "- inserts a new row in the table first_table\n",
    "- displays the number of records with id = 89 in the table first_table of the database\n",
    "- lists all records with a score >= 10 in the table second_table\n",
    "- Write a script that updates the score of Bob to 10 in the table second_table.\n",
    "- computes the score average of all records in the table second_table\n",
    "- lists the number of records with the same score in the table second_table \n",
    "- You need to convert all of the following to `UTF8`:\n",
    "\n",
    "    - Database `hbtn_0c_0`\n",
    "    - Table `first_table`\n",
    "    - Field `name` in `first_table`"
   ]
  },
  {
   "cell_type": "markdown",
   "metadata": {},
   "source": []
  },
  {
   "cell_type": "code",
   "execution_count": null,
   "metadata": {
    "vscode": {
     "languageId": "sql"
    }
   },
   "outputs": [],
   "source": [
    "SHOW GRANTS FOR 'user_0d_2'@'localhost';"
   ]
  },
  {
   "attachments": {},
   "cell_type": "markdown",
   "metadata": {},
   "source": [
    "#  0x0E. SQL - More queries\n",
    "\n",
    "**Read or watch**:\n",
    "\n",
    "- [How To Create a New User and Grant Permissions in MySQL](https://intranet.alxswe.com/rltoken/RniBKj48bnIN8xpXhGl1yA)\n",
    "- [How To Use MySQL GRANT Statement To Grant Privileges To a User](https://intranet.alxswe.com/rltoken/FIiEIvA6IN_hSKM5TvgyxQ)\n",
    "- [MySQL constraints](https://intranet.alxswe.com/rltoken/LrovGa6N-OE2ID_tpWZRaQ)\n",
    "- [SQL technique: subqueries](https://intranet.alxswe.com/rltoken/kR71h5zjkPtx4kBoVf7q0g)\n",
    "- [Basic query operation: the join](https://intranet.alxswe.com/rltoken/rNMJeQ1jbNTCljbvCSjf6w)\n",
    "- [SQL technique: multiple joins and the distinct keyword](https://intranet.alxswe.com/rltoken/HhZ6TJ1q5S0aR4lhfpKdOQ)\n",
    "- [SQL technique: join types](https://intranet.alxswe.com/rltoken/T6FZUQdsMzr8hgNInBzudA)\n",
    "- [SQL technique: union and minus](https://intranet.alxswe.com/rltoken/Nd-sdM8QUpf0YKIlXzVv4w)\n",
    "- [MySQL Cheat Sheet](https://intranet.alxswe.com/rltoken/iSNyinU6SPWTGDUWMmcRkg)\n",
    "- [The Seven Types of SQL Joins](https://intranet.alxswe.com/rltoken/-plhBsra0N7BOuFoEg--zg)\n",
    "- [MySQL Tutorial](https://intranet.alxswe.com/rltoken/I4Lws_eQrIrNTbkZvvk-oQ)\n",
    "- [SQL Style Guide](https://intranet.alxswe.com/rltoken/051eAEP_rePBU7jeh879GA)\n",
    "- [MySQL 8.0 SQL Statement Syntax](https://intranet.alxswe.com/rltoken/YavbYiraYFr8oTukT_N6eQ)\n",
    "\n",
    "Extra resources around relational database model design:\n",
    "\n",
    "- [Design](https://intranet.alxswe.com/rltoken/EWLRPeqr5sQ9AqfoG_KXxw)\n",
    "- [Normalization](https://intranet.alxswe.com/rltoken/mqBhYoSYbhH5ZZrhDcY0kA)\n",
    "- [ER Modeling](https://intranet.alxswe.com/rltoken/R0exkJmf-2ddKjGfa8D0dA)"
   ]
  },
  {
   "attachments": {},
   "cell_type": "markdown",
   "metadata": {},
   "source": [
    "## command lines\n",
    "\n",
    "Upon installation, MySQL creates a root user account which you can use to manage your database. This user has full privileges over the MySQL server, meaning it has complete control over every database, table, user, and so on. Because of this, it’s best to avoid using this account outside of administrative functions.\n",
    "\n",
    "- Use this `sudo mysql` if you don't need a password to login, and this if password is required to login or this `mysql -u root -p`\n",
    "- Show all my current users `SELECT User, Host FROM mysql.user;` or `SELECT User, Host, Password, password_expired FROM mysql.user;`\n",
    "- `SELECT * FROM mysql.db WHERE Db = 'db_name'\\G;` get a list of all users that have some level access to the database named db_name you would use the following query:\n",
    "- `SELECT db, host, user FROM mysql.db;` show you information about all databases and associated users:\n",
    "- create a user with `CREATE USER 'sammy'@'localhost' IDENTIFIED WITH mysql_native_password BY 'StrongPassword!123';`. Here, 'sammy' is the username you want to create, 'localhost' is the host from which the user is allowed to connect, and 'StrongPassword!123' is a password that meets the policy requirements.\n",
    "- `GRANT ALL PRIVILEGES ON *.* TO 'sammy'@'localhost' WITH GRANT OPTION;` to create a user\n",
    "- `DROP USER 'username'@'localhost';` to drop a user\n",
    "\n",
    "\n",
    "## Create a user name sammy and granting him persmissions\n",
    "[Link](https://www.digitalocean.com/community/tutorials/how-to-create-a-new-user-and-grant-permissions-in-mysql)\n",
    "\n",
    "CREATE USER 'sammy'@'localhost' IDENTIFIED WITH mysql_native_password BY 'StrongPassword!123*';\n",
    "\n",
    "\n",
    "- Grant permission\n",
    "`GRANT PRIVILEGE ON database.table TO 'username'@'host';`\n",
    "The PRIVILEGE value in this example syntax defines what actions the user is allowed to perform on the specified database and table. You can grant multiple privileges to the same user in one command by separating each with a comma\n",
    "\n",
    "- To grant a superuser priviledge\n",
    "`GRANT ALL PRIVILEGES ON *.* TO 'sammy'@'localhost' WITH GRANT OPTION;`\n",
    "- show a users priviledges `SHOW GRANTS FOR 'username'@'host';`\n",
    "\n",
    "- To revoke priviledges, `REVOKE type_of_permission ON database_name.table_name FROM 'username'@'host';`\n",
    "\n",
    "- Delete user `DROP USER 'username'@'localhost';`"
   ]
  },
  {
   "attachments": {},
   "cell_type": "markdown",
   "metadata": {},
   "source": []
  },
  {
   "attachments": {},
   "cell_type": "markdown",
   "metadata": {},
   "source": [
    "## ?MySQL constraints\n",
    "[link](https://zetcode.com/mysql/constraints/)\n",
    "\n",
    "*Constraints* are placed on columns or tables. They limit the data that can be inserted into tables.\n",
    "\n",
    "We have the following constraints:\n",
    "\n",
    "- NOT NULL: A column with a NOT NULL constraint, cannot have NULL values.\n",
    "- UNIQUE: The UNIQUE constraint ensures that all data are unique in a column\n",
    "- PRIMARY KEY: The PRIMARY KEY constraint uniquely identifies each record in a database table\n",
    "- FOREIGN KEY: A FOREIGN KEY in one table points to a PRIMARY KEY in another table\n",
    "- ENUM: An ENUM is a string object with a value chosen from a list of permitted values.\n",
    "- SET: A SET can have zero or more values.\n",
    "\n",
    "Example\n",
    "\n",
    "```\n",
    "CREATE TABLE my_table (\n",
    "  id INT NOT NULL AUTO_INCREMENT PRIMARY KEY,\n",
    "  column1 VARCHAR(255) NOT NULL UNIQUE,\n",
    "  column2 ENUM('value1', 'value2', 'value3') NOT NULL,\n",
    "  column3 SET('option1', 'option2', 'option3') NOT NULL,\n",
    "  foreign_key_column INT NOT NULL,\n",
    "  FOREIGN KEY (foreign_key_column) REFERENCES other_table(id)\n",
    ");\n",
    "\n",
    "```\n",
    "\n",
    "The example above creates a table called **`my_table`** with the following constraints:\n",
    "\n",
    "- **`id`** column: this is the primary key column with an **`AUTO_INCREMENT`** attribute, which means that it will automatically generate a unique ID for each new row that is inserted.\n",
    "- **`column1`** column: this has a **`NOT NULL`** and **`UNIQUE`** constraint, which means that it cannot contain null values and must contain unique values across all rows in the table.\n",
    "- **`column2`** column: this has an **`ENUM`** data type, which restricts its values to a predefined set of options. It also has a **`NOT NULL`** constraint, which means that it cannot contain null values.\n",
    "- **`column3`** column: this has a **`SET`** data type, which allows it to contain a set of options selected from a predefined set of values. It also has a **`NOT NULL`** constraint, which means that it cannot contain null values.\n",
    "- **`foreign_key_column`** column: this has a **`FOREIGN KEY`** constraint, which links it to a column in another table (**`other_table`** in this example). The constraint ensures that the value in **`foreign_key_column`** must exist in the referenced column in **`other_table`**"
   ]
  },
  {
   "attachments": {},
   "cell_type": "markdown",
   "metadata": {},
   "source": [
    "## ?General Quaries\n",
    "\n",
    "- [Basic query operation: the join](https://intranet.alxswe.com/rltoken/rNMJeQ1jbNTCljbvCSjf6w)\n",
    "- [SQL technique: multiple joins and the distinct keyword](https://intranet.alxswe.com/rltoken/HhZ6TJ1q5S0aR4lhfpKdOQ)\n",
    "- [SQL technique: join types](https://intranet.alxswe.com/rltoken/T6FZUQdsMzr8hgNInBzudA)\n",
    "- [SQL technique: union and minus](https://intranet.alxswe.com/rltoken/Nd-sdM8QUpf0YKIlXzVv4w)\n",
    "- [The Seven Types of SQL Joins](https://intranet.alxswe.com/rltoken/-plhBsra0N7BOuFoEg--zg)\n",
    "- [SQL Style Guide](https://intranet.alxswe.com/rltoken/051eAEP_rePBU7jeh879GA)\n",
    "- [MySQL 8.0 SQL Statement Syntax](https://intranet.alxswe.com/rltoken/YavbYiraYFr8oTukT_N6eQ)"
   ]
  },
  {
   "attachments": {},
   "cell_type": "markdown",
   "metadata": {},
   "source": [
    "## ?Design, Normalization and Modeling\n",
    "- [Design](https://intranet.alxswe.com/rltoken/EWLRPeqr5sQ9AqfoG_KXxw)\n",
    "- [Normalization](https://intranet.alxswe.com/rltoken/mqBhYoSYbhH5ZZrhDcY0kA)\n",
    "- [ER Modeling](https://intranet.alxswe.com/rltoken/R0exkJmf-2ddKjGfa8D0dA)"
   ]
  }
 ],
 "metadata": {
  "kernelspec": {
   "display_name": "Python 3",
   "language": "python",
   "name": "python3"
  },
  "language_info": {
   "codemirror_mode": {
    "name": "ipython",
    "version": 3
   },
   "file_extension": ".py",
   "mimetype": "text/x-python",
   "name": "python",
   "nbconvert_exporter": "python",
   "pygments_lexer": "ipython3",
   "version": "3.11.1"
  },
  "orig_nbformat": 4,
  "vscode": {
   "interpreter": {
    "hash": "d8b3b4e871d7619eccb36f657c81b8358b8c67e5d821a2a1d625fcc2f39d1588"
   }
  }
 },
 "nbformat": 4,
 "nbformat_minor": 2
}

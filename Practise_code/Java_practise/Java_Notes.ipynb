{
 "cells": [
  {
   "attachments": {},
   "cell_type": "markdown",
   "metadata": {},
   "source": [
    "\n",
    "Resources:\n",
    "- https://javascript.info/intro?map\n",
    "- https://www.w3schools.com/js/js_events.asp\n",
    "- https://developer.mozilla.org/en-US/docs/Web/JavaScript\n",
    "- https://www.youtube.com/watch?v=W6NZfCO5SIk"
   ]
  },
  {
   "attachments": {},
   "cell_type": "markdown",
   "metadata": {},
   "source": [
    "<a href=\"../intro.md\">Go Home HTML!</a>\n",
    "\n",
    "[Go Home Markdown!](../intro.md)"
   ]
  },
  {
   "attachments": {},
   "cell_type": "markdown",
   "metadata": {},
   "source": [
    "### **Install Node 14**\n",
    "\n",
    "```\n",
    "$ curl -sL https://deb.nodesource.com/setup_14.x | sudo -E bash -\n",
    "$ sudo apt-get install -y nodejs\n",
    "\n",
    "```\n",
    "\n",
    "### **Install semi-standard**\n",
    "\n",
    "[Documentation](https://intranet.alxswe.com/rltoken/35q5Pc6A6KWPyd3kGeRQFg)\n",
    "\n",
    "```\n",
    "$ sudo npm install semistandard --global\n",
    "```"
   ]
  },
  {
   "attachments": {},
   "cell_type": "markdown",
   "metadata": {},
   "source": [
    "### **process.argv**\n",
    "\n",
    "In Node.js, the **`process.argv`** property is an array that contains the command-line arguments passed to the Node.js process when it was started. The first element of the array is the path to the **`node`** executable, and the second element is the path to the JavaScript file that is being executed. The remaining elements of the array are any command-line arguments that were passed to the script.\n",
    "\n",
    "Here's an example of how you can use **`process.argv`** to access command-line arguments:\n",
    "\n",
    "```\n",
    "javascriptCopy code\n",
    "// script.js\n",
    "console.log(process.argv);\n",
    "\n",
    "```\n",
    "\n",
    "If you run the script above with the following command:\n",
    "\n",
    "```\n",
    "Copy code\n",
    "node script.js hello world\n",
    "\n",
    "```\n",
    "\n",
    "You will get the following output:\n",
    "\n",
    "```\n",
    "css\n",
    "[  '/usr/local/bin/node',  '/path/to/script.js',  'hello',  'world']\n",
    "\n",
    "```\n",
    "\n",
    "The first two elements of the array are the paths to the **`node`** executable and the script file. The remaining elements are the command-line arguments **`hello`** and **`world`**.\n",
    "\n",
    "You can also access specific command-line arguments by indexing into the **`process.argv`** array. For example:\n",
    "\n",
    "```\n",
    "javascript\n",
    "// script.js\n",
    "const arg1 = process.argv[2];\n",
    "const arg2 = process.argv[3];\n",
    "\n",
    "console.log(arg1, arg2);\n",
    "\n",
    "```\n",
    "\n",
    "If you run the script with the following command:\n",
    "\n",
    "```\n",
    "Copy code\n",
    "node script.js foo bar\n",
    "\n",
    "```\n",
    "\n",
    "You will get the following output:\n",
    "\n",
    "```\n",
    "Copy code\n",
    "foo bar\n",
    "\n",
    "```"
   ]
  },
  {
   "attachments": {},
   "cell_type": "markdown",
   "metadata": {},
   "source": [
    "## Tasks 1"
   ]
  },
  {
   "attachments": {},
   "cell_type": "markdown",
   "metadata": {},
   "source": [
    "Write a script that prints the first argument passed to it:\n",
    "\n",
    "- If no arguments are passed to the script, print “No argument”\n",
    "- You must use `console.log(...)` to print all output\n",
    "- You are not allowed to use `var`\n",
    "- You are not allowed to use `length`"
   ]
  },
  {
   "attachments": {},
   "cell_type": "markdown",
   "metadata": {},
   "source": [
    "Write a script that prints two arguments passed to it, in the following format: “ is ”\n",
    "\n",
    "- You must use `console.log(...)` to print all output\n",
    "- You are not allowed to use `var`"
   ]
  },
  {
   "attachments": {},
   "cell_type": "markdown",
   "metadata": {},
   "source": [
    "Write a script that prints `My number: <first argument converted in integer>` if the first argument can be converted to an integer:\n",
    "\n",
    "- If the argument can’t be converted to an integer, print “Not a number”\n",
    "- You must use `console.log(...)` to print all output\n",
    "- You are not allowed to use `var`\n",
    "- You are not allowed to use `try/catch`"
   ]
  },
  {
   "attachments": {},
   "cell_type": "markdown",
   "metadata": {},
   "source": [
    "Write a script that prints 3 lines: (like `1-multi_languages.js`) but by using an array of string and a loop\n",
    "\n",
    "- The first line: “C is fun”\n",
    "- The second line: “Python is cool”\n",
    "- The third line: “JavaScript is amazing”\n",
    "- You must use `console.log(...)` to print all output\n",
    "- You are not allowed to use `var`\n",
    "- You are not allowed to use any `if/else` statement\n",
    "- You can use only one `console.log`\n",
    "- You must use a loop (`while`, `for`, etc.)"
   ]
  },
  {
   "attachments": {},
   "cell_type": "markdown",
   "metadata": {},
   "source": [
    "Write a script that prints `x` times “C is fun”\n",
    "\n",
    "- Where `x` is the first argument of the script\n",
    "- If the first argument can’t be converted to an integer, print “Missing number of occurrences”\n",
    "- You must use `console.log(...)` to print all output\n",
    "- You are not allowed to use `var`\n",
    "- You can use only two `console.log`\n",
    "- You must use a loop (`while`, `for`, etc.)"
   ]
  },
  {
   "attachments": {},
   "cell_type": "markdown",
   "metadata": {},
   "source": [
    "Write a script that prints a square\n",
    "\n",
    "- The first argument is the size of the square\n",
    "- If the first argument can’t be converted to an integer, print “Missing size”\n",
    "- You must use the character `X` to print the square\n",
    "- You must use `console.log(...)` to print all output\n",
    "- You are not allowed to use `var`\n",
    "- You must use a loop (`while`, `for`, etc.)"
   ]
  },
  {
   "attachments": {},
   "cell_type": "markdown",
   "metadata": {},
   "source": [
    "Write a script that computes and prints a factorial\n",
    "\n",
    "- The first argument is integer (argument can be cast as integer) used for computing the factorial\n",
    "- Factorial of `NaN` is `1`\n",
    "- You must do it recursively\n",
    "- You must use a function\n",
    "- You must use `console.log(...)` to print all output\n",
    "- You are not allowed to use `var`\n",
    "\n",
    "```\n",
    "guillaume@ubuntu:~/0x12$ ./10-factorial.js\n",
    "1\n",
    "guillaume@ubuntu:~/0x12$ ./10-factorial.js 3\n",
    "6\n",
    "guillaume@ubuntu:~/0x12$ ./10-factorial.js 89\n",
    "1.6507955160908452e+136\n",
    "guillaume@ubuntu:~/0x12$ ./10-factorial.js 333\n",
    "Infinity\n",
    "guillaume@ubuntu:~/0x12$\n",
    "```"
   ]
  },
  {
   "attachments": {},
   "cell_type": "markdown",
   "metadata": {},
   "source": [
    "Write a script that searches the second biggest integer in the list of arguments.\n",
    "\n",
    "- You can assume all arguments can be converted to integer\n",
    "- If no argument passed, print `0`\n",
    "- If the number of arguments is 1, print `0`\n",
    "- You must use `console.log(...)` to print all output\n",
    "- You are not allowed to use `var`\n",
    "\n",
    "```\n",
    "guillaume@ubuntu:~/0x12$ ./11-second_biggest.js\n",
    "0\n",
    "guillaume@ubuntu:~/0x12$ ./11-second_biggest.js 1\n",
    "0\n",
    "guillaume@ubuntu:~/0x12$ ./11-second_biggest.js 4 2 5 3 0 -3\n",
    "4\n",
    "guillaume@ubuntu:~/0x12$\n",
    "```"
   ]
  }
 ],
 "metadata": {
  "kernelspec": {
   "display_name": "Python 3",
   "language": "python",
   "name": "python3"
  },
  "language_info": {
   "codemirror_mode": {
    "name": "ipython",
    "version": 3
   },
   "file_extension": ".py",
   "mimetype": "text/x-python",
   "name": "python",
   "nbconvert_exporter": "python",
   "pygments_lexer": "ipython3",
   "version": "3.11.1"
  },
  "orig_nbformat": 4,
  "vscode": {
   "interpreter": {
    "hash": "d8b3b4e871d7619eccb36f657c81b8358b8c67e5d821a2a1d625fcc2f39d1588"
   }
  }
 },
 "nbformat": 4,
 "nbformat_minor": 2
}

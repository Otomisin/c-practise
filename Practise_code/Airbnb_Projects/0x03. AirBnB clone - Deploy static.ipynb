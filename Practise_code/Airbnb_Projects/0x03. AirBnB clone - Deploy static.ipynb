{
 "cells": [
  {
   "attachments": {},
   "cell_type": "markdown",
   "metadata": {},
   "source": [
    "## 0x03. AirBnB clone - Deploy static\n",
    "\n",
    "- What is Fabric\n",
    "- How to deploy code to a server easily\n",
    "- What is a `tgz` archive\n",
    "- How to execute Fabric command locally\n",
    "- How to execute Fabric command remotely\n",
    "- How to transfer files with Fabric\n",
    "- How to manage Nginx configuration\n",
    "- What is the difference between `root` and `alias` in a Nginx configuration"
   ]
  }
 ],
 "metadata": {
  "language_info": {
   "name": "python"
  },
  "orig_nbformat": 4
 },
 "nbformat": 4,
 "nbformat_minor": 2
}

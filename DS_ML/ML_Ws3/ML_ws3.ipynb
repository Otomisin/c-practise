{
 "cells": [
  {
   "cell_type": "code",
   "execution_count": 13,
   "metadata": {},
   "outputs": [],
   "source": [
    "import os\n",
    "import folium\n",
    "import matplotlib\n",
    "import matplotlib.pyplot as plt\n",
    "import mapclassify\n",
    "from scipy import stats \n",
    "import geopandas as gpd\n",
    "import fiona\n",
    "from pyrosm import OSM, get_data\n",
    "import numpy as np\n",
    "# import leafmap\n",
    "import pandas as pd\n",
    "from shapely.geometry import Point, polygon"
   ]
  },
  {
   "cell_type": "markdown",
   "metadata": {},
   "source": [
    "## Mean, Median and Mode"
   ]
  },
  {
   "cell_type": "code",
   "execution_count": 26,
   "metadata": {},
   "outputs": [
    {
     "name": "stdout",
     "output_type": "stream",
     "text": [
      "The numbers: [99, 86, 87, 88, 111, 86, 103, 87, 94, 78, 77, 85, 86]\n",
      "The Average: 89.77\n",
      "The mode: ModeResult(mode=86, count=3)\n",
      "The standard deviation: 9.26\n"
     ]
    }
   ],
   "source": [
    "speed = [99,86,87,88,111,86,103,87,94,78,77,85,86]\n",
    "average = np.mean(speed)\n",
    "mode = np.median(speed)\n",
    "mode = stats.mode(speed)\n",
    "standDv = np.std(speed)\n",
    "\n",
    "\n",
    "print(f\"The numbers: {speed}\")\n",
    "print(f\"The Average: {average:.2f}\")\n",
    "print(f\"The mode: {mode}\")\n",
    "print(f\"The standard deviation: {standDv:.2f}\")"
   ]
  }
 ],
 "metadata": {
  "kernelspec": {
   "display_name": "dataenv",
   "language": "python",
   "name": "python3"
  },
  "language_info": {
   "codemirror_mode": {
    "name": "ipython",
    "version": 3
   },
   "file_extension": ".py",
   "mimetype": "text/x-python",
   "name": "python",
   "nbconvert_exporter": "python",
   "pygments_lexer": "ipython3",
   "version": "3.10.12"
  }
 },
 "nbformat": 4,
 "nbformat_minor": 2
}

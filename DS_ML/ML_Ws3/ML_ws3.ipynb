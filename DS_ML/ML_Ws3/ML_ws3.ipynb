{
 "cells": [
  {
   "cell_type": "code",
   "execution_count": 13,
   "metadata": {},
   "outputs": [],
   "source": [
    "import os\n",
    "import folium\n",
    "import matplotlib\n",
    "import matplotlib.pyplot as plt\n",
    "import mapclassify\n",
    "from scipy import stats \n",
    "import geopandas as gpd\n",
    "import fiona\n",
    "from pyrosm import OSM, get_data\n",
    "import numpy as np\n",
    "# import leafmap\n",
    "import pandas as pd\n",
    "from shapely.geometry import Point, polygon"
   ]
  },
  {
   "cell_type": "code",
   "execution_count": 1,
   "metadata": {},
   "outputs": [
    {
     "ename": "NameError",
     "evalue": "name 'np' is not defined",
     "output_type": "error",
     "traceback": [
      "\u001b[1;31m---------------------------------------------------------------------------\u001b[0m",
      "\u001b[1;31mNameError\u001b[0m                                 Traceback (most recent call last)",
      "\u001b[1;32mc:\\Users\\orena\\OneDrive\\01_ORENAIKE\\02_CAREER_AND_DEVELOPMENTS\\01_Schools\\ALX\\Codes\\c-practise\\DS_ML\\ML_Ws3\\ML_ws3.ipynb Cell 2\u001b[0m line \u001b[0;36m3\n\u001b[0;32m      <a href='vscode-notebook-cell:/c%3A/Users/orena/OneDrive/01_ORENAIKE/02_CAREER_AND_DEVELOPMENTS/01_Schools/ALX/Codes/c-practise/DS_ML/ML_Ws3/ML_ws3.ipynb#W4sZmlsZQ%3D%3D?line=0'>1</a>\u001b[0m \u001b[39m## Mean, Median and Mode\u001b[39;00m\n\u001b[0;32m      <a href='vscode-notebook-cell:/c%3A/Users/orena/OneDrive/01_ORENAIKE/02_CAREER_AND_DEVELOPMENTS/01_Schools/ALX/Codes/c-practise/DS_ML/ML_Ws3/ML_ws3.ipynb#W4sZmlsZQ%3D%3D?line=1'>2</a>\u001b[0m speed \u001b[39m=\u001b[39m [\u001b[39m99\u001b[39m,\u001b[39m86\u001b[39m,\u001b[39m87\u001b[39m,\u001b[39m88\u001b[39m,\u001b[39m111\u001b[39m,\u001b[39m86\u001b[39m,\u001b[39m103\u001b[39m,\u001b[39m87\u001b[39m,\u001b[39m94\u001b[39m,\u001b[39m78\u001b[39m,\u001b[39m77\u001b[39m,\u001b[39m85\u001b[39m,\u001b[39m86\u001b[39m]\n\u001b[1;32m----> <a href='vscode-notebook-cell:/c%3A/Users/orena/OneDrive/01_ORENAIKE/02_CAREER_AND_DEVELOPMENTS/01_Schools/ALX/Codes/c-practise/DS_ML/ML_Ws3/ML_ws3.ipynb#W4sZmlsZQ%3D%3D?line=2'>3</a>\u001b[0m average \u001b[39m=\u001b[39m np\u001b[39m.\u001b[39mmean(speed)\n\u001b[0;32m      <a href='vscode-notebook-cell:/c%3A/Users/orena/OneDrive/01_ORENAIKE/02_CAREER_AND_DEVELOPMENTS/01_Schools/ALX/Codes/c-practise/DS_ML/ML_Ws3/ML_ws3.ipynb#W4sZmlsZQ%3D%3D?line=3'>4</a>\u001b[0m mode \u001b[39m=\u001b[39m np\u001b[39m.\u001b[39mmedian(speed)\n\u001b[0;32m      <a href='vscode-notebook-cell:/c%3A/Users/orena/OneDrive/01_ORENAIKE/02_CAREER_AND_DEVELOPMENTS/01_Schools/ALX/Codes/c-practise/DS_ML/ML_Ws3/ML_ws3.ipynb#W4sZmlsZQ%3D%3D?line=4'>5</a>\u001b[0m mode \u001b[39m=\u001b[39m stats\u001b[39m.\u001b[39mmode(speed)\n",
      "\u001b[1;31mNameError\u001b[0m: name 'np' is not defined"
     ]
    }
   ],
   "source": [
    "## Mean, Median and Mode\n",
    "speed = [99,86,87,88,111,86,103,87,94,78,77,85,86]\n",
    "average = np.mean(speed)\n",
    "mode = np.median(speed)\n",
    "mode = stats.mode(speed)\n",
    "standDv = np.std(speed)\n",
    "\n",
    "print(f\"The numbers: {speed}\")\n",
    "print(f\"The Average: {average:.2f}\")\n",
    "print(f\"The mode: {mode}\")\n",
    "print(f\"The standard deviation: {standDv:.2f}\")"
   ]
  }
 ],
 "metadata": {
  "kernelspec": {
   "display_name": "dataenv",
   "language": "python",
   "name": "python3"
  },
  "language_info": {
   "codemirror_mode": {
    "name": "ipython",
    "version": 3
   },
   "file_extension": ".py",
   "mimetype": "text/x-python",
   "name": "python",
   "nbconvert_exporter": "python",
   "pygments_lexer": "ipython3",
   "version": "3.10.12"
  }
 },
 "nbformat": 4,
 "nbformat_minor": 2
}

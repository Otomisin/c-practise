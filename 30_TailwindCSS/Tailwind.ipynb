{
 "cells": [
  {
   "attachments": {},
   "cell_type": "markdown",
   "metadata": {},
   "source": [
    "https://www.youtube.com/watch?v=k-Pi5ZMxHWY\n",
    "https://github.com/developedbyed/react-portofolio-with-tailwind\n",
    "\n",
    "freeCodeCamp:\n",
    "\n",
    "https://www.youtube.com/watch?v=ft30zcMlFao"
   ]
  }
 ],
 "metadata": {
  "language_info": {
   "name": "python"
  },
  "orig_nbformat": 4
 },
 "nbformat": 4,
 "nbformat_minor": 2
}
